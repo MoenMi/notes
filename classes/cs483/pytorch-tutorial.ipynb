{
 "cells": [
  {
   "cell_type": "markdown",
   "id": "496ea6aa",
   "metadata": {},
   "source": [
    "# Advanced Python: ML with PyTorch"
   ]
  },
  {
   "cell_type": "markdown",
   "id": "d833e419",
   "metadata": {},
   "source": [
    "## Setup"
   ]
  },
  {
   "cell_type": "code",
   "execution_count": null,
   "id": "9f8bc8c2",
   "metadata": {
    "vscode": {
     "languageId": "plaintext"
    }
   },
   "outputs": [],
   "source": []
  },
  {
   "cell_type": "markdown",
   "id": "12dd1037",
   "metadata": {},
   "source": [
    "## 1. Classification with Neural Networks"
   ]
  },
  {
   "cell_type": "code",
   "execution_count": null,
   "id": "691d856d",
   "metadata": {
    "vscode": {
     "languageId": "plaintext"
    }
   },
   "outputs": [],
   "source": [
    "# Classify digits from MNIST"
   ]
  },
  {
   "cell_type": "markdown",
   "id": "259b1c38",
   "metadata": {},
   "source": [
    "## 2. Custom Dataset and Dataloader"
   ]
  },
  {
   "cell_type": "code",
   "execution_count": null,
   "id": "15c0d1bb",
   "metadata": {
    "vscode": {
     "languageId": "plaintext"
    }
   },
   "outputs": [],
   "source": []
  },
  {
   "cell_type": "markdown",
   "id": "00cdf1ba",
   "metadata": {},
   "source": [
    "## 3. Image Classification with CNNs"
   ]
  },
  {
   "cell_type": "code",
   "execution_count": null,
   "id": "0fdd4cfe",
   "metadata": {
    "vscode": {
     "languageId": "plaintext"
    }
   },
   "outputs": [],
   "source": []
  },
  {
   "cell_type": "markdown",
   "id": "f2702c26",
   "metadata": {},
   "source": [
    "## 4. Transfer Learning"
   ]
  },
  {
   "cell_type": "code",
   "execution_count": null,
   "id": "a234f6f8",
   "metadata": {
    "vscode": {
     "languageId": "plaintext"
    }
   },
   "outputs": [],
   "source": []
  }
 ],
 "metadata": {
  "language_info": {
   "name": "python"
  }
 },
 "nbformat": 4,
 "nbformat_minor": 5
}
