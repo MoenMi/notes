{
 "cells": [
  {
   "cell_type": "markdown",
   "id": "b7e14b03",
   "metadata": {},
   "source": [
    "# Python Advanced: ML with Tensorflow"
   ]
  }
 ],
 "metadata": {
  "language_info": {
   "name": "python"
  }
 },
 "nbformat": 4,
 "nbformat_minor": 5
}
