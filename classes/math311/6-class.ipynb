{
 "cells": [
  {
   "cell_type": "markdown",
   "metadata": {},
   "source": [
    "# 6 - Functions, Branching, and Root Finding"
   ]
  },
  {
   "cell_type": "markdown",
   "metadata": {},
   "source": [
    "## 6.1 - The Bisection Method\n",
    "\n",
    "The bisection method is based on the Intermediate Value Theorem and is similar to binary search."
   ]
  },
  {
   "cell_type": "code",
   "execution_count": null,
   "metadata": {},
   "outputs": [],
   "source": [
    "def fx(x: float) -> float:\n",
    "    return x**3 + x - 1"
   ]
  },
  {
   "cell_type": "code",
   "execution_count": null,
   "metadata": {},
   "outputs": [],
   "source": [
    "def bisection_method(fx, a: float, b: float, n: int):\n",
    "    for i in range(n):\n",
    "        c = (a + b) / 2\n",
    "        if (fx(c) * fx(a) < 0):\n",
    "            b = c\n",
    "        else:\n",
    "            a = c\n",
    "    return c"
   ]
  },
  {
   "cell_type": "code",
   "execution_count": null,
   "metadata": {},
   "outputs": [
    {
     "data": {
      "text/plain": [
       "0.6823277771472931"
      ]
     },
     "execution_count": 4,
     "metadata": {},
     "output_type": "execute_result"
    }
   ],
   "source": [
    "bisection_method(fx, 0, 1, 25)"
   ]
  },
  {
   "cell_type": "markdown",
   "metadata": {},
   "source": [
    "### Convergence Analysis\n",
    "\n",
    "Suppose the initial interval is $[a,b]$. Let $[a_n,b_n]$ be the $n$-th interval after $n$ iterations. Then\n",
    "\n",
    "$$ \\left| c_n - x^* \\right| \\leq \\frac{b-a}{2^n} $$\n",
    "\n",
    "where $c_n$ is the approximation of the root, and $x^*$ is the actual root."
   ]
  }
 ],
 "metadata": {
  "kernelspec": {
   "display_name": "math311",
   "language": "python",
   "name": "python3"
  },
  "language_info": {
   "codemirror_mode": {
    "name": "ipython",
    "version": 3
   },
   "file_extension": ".py",
   "mimetype": "text/x-python",
   "name": "python",
   "nbconvert_exporter": "python",
   "pygments_lexer": "ipython3",
   "version": "3.10.13"
  }
 },
 "nbformat": 4,
 "nbformat_minor": 2
}