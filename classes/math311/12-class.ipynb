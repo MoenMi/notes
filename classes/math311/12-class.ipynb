{
 "cells": [
  {
   "cell_type": "markdown",
   "metadata": {},
   "source": [
    "# 12 - Systems of Linear Equations\n",
    "\n",
    "A **system of linear equations** is a collection of two or more linear relationships involving the same set of variables. Each equation in the system represents a linear relationship between the variables. The general form of a system of linear equations with $m$ equations and $n$ variables is:\n",
    "\n",
    "$$\n",
    "\\begin{align*}\n",
    "    a_{11}x_1 + a_{12}x_2 + \\dots + a_{1n}x_n &= b_1 \\\\\n",
    "    a_{21}x_1 + a_{22}x_2 + \\dots + a_{2n}x_n &= b_2 \\\\\n",
    "    & \\ \\ \\vdots \\\\\n",
    "    a_{m1}x_1 + a_{m2}x_2 + \\dots + a_{mn}x_n &= b_m \\\\\n",
    "\\end{align*}\n",
    "$$\n",
    "\n",
    "where $x_1, x_2, \\dots, x_n$ are the variables $a_{ij}$ are the coefficients and $b_i$ are the constants."
   ]
  },
  {
   "cell_type": "markdown",
   "metadata": {},
   "source": [
    "## 12.1 - Motivation\n",
    "\n",
    "Given the data $x$ and the linear operator $A$, we can encode $x$ into a new data $y = Ax$. Now, suppose we have the encoded data $y$ and the operator $A$. The question arises: how can we recover the original data $x$?\n",
    "\n",
    "Consider the following example: If $x$ represents the data for an image, then applying a blur operator $A$ would result in a distorted image with data $y$."
   ]
  },
  {
   "cell_type": "markdown",
   "metadata": {},
   "source": [
    "## 12.2 - Methods for Solving Systems of Equations\n",
    "\n",
    "1. **Cramer's Rule**\n",
    "    - Suitable for systems with the same number of equations and variables.\n",
    "    - Express each variable as a ratio of determinants involving the coefficient matrix and constant vector.\n",
    "2. **Substitution Method**\n",
    "    - Solve one equation for one variable and substitute it into the other equations.\n",
    "    - Repeat the process until all variables are found.\n",
    "3. **Elimination Method (or Addition Method)**\n",
    "    - Add or subtract multiples of equations to eliminate one variable.\n",
    "    - Repeat the process until all variables are found.\n",
    "4. **Matrix Method (or Gaussian Elimination)**\n",
    "    - Represent the system of equations as matrix equation $Ax = b$.\n",
    "    - Use row operations to transform the augmented matrix $[A|b]$ to row-echelon form or reduced row-echelon form.\n",
    "    - Solve the resulting system of equations by back-substitution.\n",
    "5. **Inverse Matrix Method**\n",
    "    - If the coefficient matrix $A$ is invertible, solve the system using $x = A^{-1}b$.\n",
    "    - Compute the inverse of $A$ and multiply it by the constant vector $b$ to find the solution vector $x$."
   ]
  },
  {
   "cell_type": "markdown",
   "metadata": {},
   "source": [
    "## 12.3 - Cramer's Rule\n",
    "\n",
    "To solve a linear system $A\\vec{x} = \\vec{v}$ using Cramer's Rule, we first need to ensure that $A$ is a square matrix and that its determinant is not zero. Cramer's Rule provides a method to solve for each variable in the system directly, using determinants. The rule states that for a linear system $A\\vec{x} = \\vec{v}$, where $A$ is an $n \\times n$ matrix and $\\vec{v}$ is a vector, the solution for each variable $x_i$ is given by:\n",
    "\n",
    "$$ x_i = \\frac{\\det(A_i)}{\\det(A)} $$\n",
    "\n",
    "where $A_i$ is the matrix formed by replacing the $i$-th column of $A$ with the vector $\\vec{v}$.\n",
    "\n",
    "**Example:** Solve the equation $A\\vec{x} = \\vec{v}$, where\n",
    "\n",
    "$$\n",
    "\\begin{bmatrix}\n",
    "    2 & 1 & 4 & 0 \\\\\n",
    "    1 & 3 & 2 & 3 \\\\\n",
    "    3 & 4 & 0 & 0 \\\\\n",
    "    4 & 2 & 3 & 1\n",
    "\\end{bmatrix}\n",
    "$$\n",
    "\n",
    "and $\\vec{v} = [1, 2, 3, 4]$."
   ]
  },
  {
   "cell_type": "code",
   "execution_count": 1,
   "metadata": {},
   "outputs": [],
   "source": [
    "from PIL import Image, ImageDraw, ImageFont\n",
    "import numpy as np\n",
    "import matplotlib.pyplot as plt\n",
    "\n",
    "a = np.array([[2, 1, 4, 0], [1, 3, 2 , 3], [3, 4, 0, 0], [4, 2, 3, 1]])\n",
    "v = np.array([1, 2, 3, 4])"
   ]
  },
  {
   "cell_type": "markdown",
   "metadata": {},
   "source": [
    "## 12.4 - How to Solve Systems of Equations in NumPy\n",
    "\n",
    "For the linear system of equations $A\\vec{x} = \\vec{b}$:\n",
    "1. Define the coefficients matrix $A$ and the constants vector $b$.\n",
    "2. Use NumPy's `np.linalg.solve()` function to solve the system of equations: `x = np.linalg.solve(A, b)`.\n",
    "3. Print or use the solution vector $x$ to obtain the values of the variables.\n",
    "\n",
    "**Example:** Solve the equation $A\\vec{x} = \\vec{v}$, where $A$ and $\\vec{v}$ are given in the previous example."
   ]
  },
  {
   "cell_type": "code",
   "execution_count": 2,
   "metadata": {},
   "outputs": [
    {
     "data": {
      "text/plain": [
       "array([ 1.11428571, -0.08571429, -0.28571429,  0.57142857])"
      ]
     },
     "execution_count": 2,
     "metadata": {},
     "output_type": "execute_result"
    }
   ],
   "source": [
    "x = np.linalg.solve(a, v)\n",
    "x"
   ]
  },
  {
   "cell_type": "markdown",
   "metadata": {},
   "source": [
    "## 12.5 - Recovering a Blurred Image\n",
    "\n",
    "To recover a distorted image, we employ the method of solving a system of linear equations. First, we utilize the `Pillow` package to generate an image. Then, we apply a Toeplitz matrix to introduce distortion to the image."
   ]
  },
  {
   "cell_type": "code",
   "execution_count": 3,
   "metadata": {},
   "outputs": [
    {
     "name": "stdout",
     "output_type": "stream",
     "text": [
      "Shape of the image array: (20, 120)\n"
     ]
    },
    {
     "data": {
      "image/png": "[encoded data removed]",
      "text/plain": [
       "<Figure size 640x480 with 1 Axes>"
      ]
     },
     "metadata": {},
     "output_type": "display_data"
    }
   ],
   "source": [
    "numbers = '123-456-7890'\n",
    "w = 120\n",
    "h = 20\n",
    "\n",
    "# 'L' mode for grayscale image\n",
    "image = Image.new('L', (w, h), color=255)\n",
    "draw = ImageDraw.Draw(image)\n",
    "font = ImageFont.load_default(size=20)\n",
    "draw_point = (0, 0)\n",
    "draw.text(draw_point, numbers, fill=0, font=font)\n",
    "image_array = np.array(image)\n",
    "print('Shape of the image array:', image_array.shape)\n",
    "plt.imshow(image_array, cmap='gray')\n",
    "plt.show()"
   ]
  },
  {
   "cell_type": "markdown",
   "metadata": {},
   "source": [
    "Now, we can flatten the image to create a vector `x_array`."
   ]
  },
  {
   "cell_type": "code",
   "execution_count": 4,
   "metadata": {},
   "outputs": [
    {
     "data": {
      "text/plain": [
       "(2400,)"
      ]
     },
     "execution_count": 4,
     "metadata": {},
     "output_type": "execute_result"
    }
   ],
   "source": [
    "x_array = image_array.flatten()\n",
    "x_array.shape"
   ]
  },
  {
   "cell_type": "markdown",
   "metadata": {},
   "source": [
    "Toeplitz matrix and distort the image by using matrix multiplication."
   ]
  },
  {
   "cell_type": "code",
   "execution_count": 5,
   "metadata": {},
   "outputs": [
    {
     "data": {
      "text/plain": [
       "(2400,)"
      ]
     },
     "execution_count": 5,
     "metadata": {},
     "output_type": "execute_result"
    }
   ],
   "source": [
    "n = w * h\n",
    "toeplitz_mat = np.zeros((n, n))\n",
    "diag_vals = [1, 0.9, 0.8, 0.7, 0.6, 0.5, 0.4, 0.3]\n",
    "for i, x in enumerate(diag_vals):\n",
    "    toeplitz_mat += np.diag(x * np.ones(n - i), i)\n",
    "    if i > 0:\n",
    "        toeplitz_mat += np.diag(0.4 * np.ones(n - i), -i)\n",
    "\n",
    "y = toeplitz_mat @ x_array\n",
    "y.shape"
   ]
  },
  {
   "cell_type": "code",
   "execution_count": 6,
   "metadata": {},
   "outputs": [
    {
     "data": {
      "image/png": "[encoded data removed]",
      "text/plain": [
       "<Figure size 640x480 with 1 Axes>"
      ]
     },
     "metadata": {},
     "output_type": "display_data"
    }
   ],
   "source": [
    "blurred_image = y.reshape(h, w)\n",
    "plt.imshow(blurred_image, cmap='gray')\n",
    "plt.show()"
   ]
  },
  {
   "cell_type": "markdown",
   "metadata": {},
   "source": [
    "With the distorted data $y$ and Toeplitz matrix, we can solve the equation to get back to $x$."
   ]
  },
  {
   "cell_type": "code",
   "execution_count": 7,
   "metadata": {},
   "outputs": [
    {
     "data": {
      "image/png": "[encoded data removed]",
      "text/plain": [
       "<Figure size 640x480 with 1 Axes>"
      ]
     },
     "metadata": {},
     "output_type": "display_data"
    }
   ],
   "source": [
    "x = np.linalg.solve(toeplitz_mat, y)\n",
    "x_rec = x.reshape(h, w)\n",
    "plt.imshow(x_rec, cmap='gray')\n",
    "plt.show()"
   ]
  },
  {
   "cell_type": "markdown",
   "metadata": {},
   "source": [
    "## 12.6 - Complexity of Solving a System of Linear Equations\n",
    "\n",
    "The complexity of solving a system of linear equations refer to the computational effort required to find the solution, typically measured in terms of the number of arithmetic operations (e.g., additions, multiplications) or the time taken to solve the system. Complexity analysis helps us to understand how the computational cost scales with the size of the system.\n",
    "\n",
    "Here are some factors to be considered:\n",
    "1. Identify the algorithm used to solve the system of linear equations.\n",
    "2. Count the number of elementary arithmetic operations (additions, multiplications) or the number of iterations required by the algorithm as a function of the problem size $n$.\n",
    "3. Express the computational complexity using Big O notation.\n",
    "4. Analyze how the complexity scales with the size of the system $n$.\n",
    "\n",
    "### Forward Substitution for Lower Triangular Systems\n",
    "\n",
    "**Forward substitution** is an algorithm used to solve systems of linear equations where the coefficient matrix is lower triangular. Given a lower triangular matrix $L$ and a vector $\\vec{b}$, the goal is to find a vector $\\vec{x}$ such that $L\\vec{x} = \\vec{b}$.\n",
    "\n",
    "A lower triangular matrix $L$ is defined as a matrix where all the entries above the main diagonal are zero, i.e. $L_{ij} = 0$ for $i < j$. The general form of a lower triangular matrix is:\n",
    "\n",
    "$$\n",
    "L =\n",
    "\\begin{bmatrix}\n",
    "    l_{11} & 0 & 0 & \\dots & 0 \\\\\n",
    "    l_{21} & l_{22} & 0 & \\dots & 0 \\\\\n",
    "    l_{31} & l_{32} & l_{33} & \\dots & 0 \\\\\n",
    "    \\vdots & \\vdots & \\vdots & \\ddots & \\vdots \\\\\n",
    "    l_{n1} & l_{n2} & l_{n3} & \\dots & l_{nn}\n",
    "\\end{bmatrix}\n",
    "$$\n",
    "\n",
    "In forward substitution, we solve the equation system starting from the first equation, solving for $x_1$, then using $x_1$ to solve for $x_2$, and so on, until $x_i$ are solved.\n",
    "\n",
    "If we already knew the values of $x_1, x_2, \\dots, x_{i-1}$. Then we can solve for $x_i$ as:\n",
    "\n",
    "$$ x_i = \\frac{b_i - (l_{i1}x_1 + l_{i2}x_2 + \\dots + l_{i, i - 1}x_{i - 1})}{l_{ii}} $$\n",
    "\n",
    "assuming $l_{ii} \\neq 0$.\n",
    "\n",
    "**Example:** Solve the following system of equations using the forward substitutions.\n",
    "\n",
    "$$\n",
    "\\begin{align*}\n",
    "    y_1 & & & &= 28, \\\\\n",
    "    y_1 &+ y_2 & & &= 36, \\\\\n",
    "    y_1 &+ y_2 &+ y_3 & &= 43, \\\\\n",
    "    y_1 &+ y_2 &+ y_3 &+ y_4 &= 51\n",
    "\\end{align*}\n",
    "$$\n",
    "\n",
    "### Backward Substitution for Upper Triangular Systems\n",
    "\n",
    "**Backward substitution** is used to solve systems of linear equations where the coefficient matrix is upper triangular. Given an upper triangular matrix $U$ and a vector $\\vec{b}$, the aim is to find a vector $\\vec{x}$ such that $U\\vec{x} = \\vec{b}$.\n",
    "\n",
    "An upper triangular matrix $U$ is defined as a matrix where all the entries below the main diagonal are zero, i.e. $U_{ij} = 0$ for $i > j$. The general form of an upper triangular matrix is:\n",
    "\n",
    "$$\n",
    "U =\n",
    "\\begin{bmatrix}\n",
    "    u_{11} & u_{12} & u_{13} & \\dots & u_{1n} \\\\\n",
    "    0 & u_{22} & u_{23} & \\dots & u_{2n} \\\\\n",
    "    0 & 0 & u_{33} & \\dots & u_{3n} \\\\\n",
    "    \\vdots & \\vdots & \\vdots & \\ddots & \\vdots \\\\\n",
    "    0 & 0 & 0 & \\dots & u_{nn}\n",
    "\\end{bmatrix}\n",
    "$$\n",
    "\n",
    "In backward substitution, we start solving the system from the last equation (which involves only $x_n$), then proceed upwards, using the previously solved values to find the remaining unknowns.\n",
    "\n",
    "**Example:** Solve the following system of equations using backward substitutions.\n",
    "\n",
    "$$\n",
    "\\begin{align*}\n",
    "    2x_1 + 3x_2 + 4x_3 + 5x_4 &= 28, \\\\\n",
    "    x_2 + 2x_3 + x_4 &= 8, \\\\\n",
    "    3x_3 + x_4 &= 7, \\\\\n",
    "    2x_4 &= 8\n",
    "\\end{align*}\n",
    "$$"
   ]
  },
  {
   "cell_type": "markdown",
   "metadata": {},
   "source": [
    "## 12.7 - Triangular Systems Complexity\n",
    "\n",
    "### Forward Substitution\n",
    "\n",
    "For a system of linear equations represented by a lower triangular matrix $L$ and vector $\\vec{b}$, the forward substitution algorithm is given by:\n",
    "\n",
    "$$ x_i = \\frac{b_i - \\sum^{i-1}_{j=1} l_{ij} x_j}{l_{ii}}, \\ \\ \\  i = 1, 2, \\dots, n. $$\n",
    "\n",
    "This involves:\n",
    "- $n$ divisions\n",
    "- $\\frac{n(n-1)}{2}$ subtractions/additions\n",
    "- $\\frac{n(n-1)}{2}$ multiplications\n",
    "\n",
    "The computational complexity is $O(n^2)$, considering both the multiplications and the additions/subtractions.\n",
    "\n",
    "### Backward Substitution\n",
    "\n",
    "For a system of linear equations represented by an upper triangular matrix $U$ and vector $\\vec{b}$, the forward substitution algorithm is given by:\n",
    "\n",
    "$$ x_i = \\frac{b_i - \\sum^n_{j=i+1} u_{ij} x_j}{u_{ii}}, \\ \\ \\  i = n, n - 1, \\dots, 1. $$\n",
    "\n",
    "This also involves:\n",
    "- $n$ divisions\n",
    "- $\\frac{n(n-1)}{2}$ subtractions/additions\n",
    "- $\\frac{n(n-1)}{2}$ multiplications\n",
    "\n",
    "The computational complexity is $O(n^2)$, considering both the multiplications and the additions/subtractions.\n",
    "\n",
    "In both cases, the quadratic complexity arises from the nested summation term, which implies a double iteration over the elements of the matrix for each element of $x$ being solved."
   ]
  },
  {
   "cell_type": "markdown",
   "metadata": {},
   "source": [
    "## 12.8 - LU Decomposition\n",
    "\n",
    "**LU Decomposition**, or **LU factorization**, is a matrix decomposition method that factors a matrix $A$ into the product of a lower triangular matrix $U: A = LU$. The LU decomposition is widely used in numerical linear algebra for solving systems of linear equations, matrix inversion, and other matrix-related computations.\n",
    "\n",
    "To solve a system of linear equations $Ax = b$ using LU decompostion:\n",
    "1. **Decompose the Matrix:** Decompose the coefficient matrix $A$ into its LU factors using LU decomposition.\n",
    "2. **Forward Substitution:** Solve the equation $Ly = b$ for $y$ using forward substitution, where $L$ is the lower triangular matrix obtained from the decomposition.\n",
    "3. **Backward Substitution:** Solve the equation $Ux = y$ for $x$ using backward substitution, where $U$ is the upper triangular matrix obtained from the decomposition.\n",
    "4. **Solution:** The vector $x$ obtained from the backward substitution is the solution to the system of equations $Ax = b$.\n",
    "\n",
    "**Example:** Solve the following system of equations using LU decomposition, forward and backward substitutions.\n",
    "\n",
    "$$\n",
    "\\begin{align*}\n",
    "    2x_1 + 3x_2 + 4x_3 + 5x_4 &= 28, \\\\\n",
    "    2x_1 + 4x_2 + 6x_3 + 6x_4 &= 36, \\\\\n",
    "    2x_1 + 4x_2 + 9x_3 + 7x_4 &= 43, \\\\\n",
    "    2x_1 + 4x_2 + 9x_3 + 9x_4 &= 51\n",
    "\\end{align*}\n",
    "$$"
   ]
  },
  {
   "cell_type": "code",
   "execution_count": 8,
   "metadata": {},
   "outputs": [],
   "source": [
    "# Define the coefficient matrix\n",
    "A = np.array([[2, 3, 4, 5], [2, 4, 6, 6], [2, 4, 9, 7], [2, 4, 9, 9]])\n",
    "\n",
    "# Define the constant vector\n",
    "b = np.array([28, 36, 43, 51])"
   ]
  },
  {
   "cell_type": "markdown",
   "metadata": {},
   "source": [
    "Now we can use the `scipy` package to decompose the matrix."
   ]
  },
  {
   "cell_type": "code",
   "execution_count": 10,
   "metadata": {},
   "outputs": [
    {
     "name": "stdout",
     "output_type": "stream",
     "text": [
      "[[1. 0. 0. 0.]\n",
      " [0. 1. 0. 0.]\n",
      " [0. 0. 1. 0.]\n",
      " [0. 0. 0. 1.]]\n"
     ]
    }
   ],
   "source": [
    "from scipy.linalg import lu\n",
    "\n",
    "P, L, U = lu(A)\n",
    "print(P)"
   ]
  },
  {
   "cell_type": "code",
   "execution_count": 11,
   "metadata": {},
   "outputs": [
    {
     "name": "stdout",
     "output_type": "stream",
     "text": [
      "[[1. 0. 0. 0.]\n",
      " [1. 1. 0. 0.]\n",
      " [1. 1. 1. 0.]\n",
      " [1. 1. 1. 1.]]\n"
     ]
    }
   ],
   "source": [
    "print(L)"
   ]
  },
  {
   "cell_type": "code",
   "execution_count": 12,
   "metadata": {},
   "outputs": [
    {
     "name": "stdout",
     "output_type": "stream",
     "text": [
      "[[2. 3. 4. 5.]\n",
      " [0. 1. 2. 1.]\n",
      " [0. 0. 3. 1.]\n",
      " [0. 0. 0. 2.]]\n"
     ]
    }
   ],
   "source": [
    "print(U)"
   ]
  },
  {
   "cell_type": "markdown",
   "metadata": {},
   "source": [
    "## 12.9 - LU Factorization Complexity\n",
    "\n",
    "This section seems to be missing :("
   ]
  },
  {
   "cell_type": "markdown",
   "metadata": {},
   "source": [
    "## 12.10 - Special Case: $2 \\times 2$ Matrix\n",
    "\n",
    "Consider a $2 \\times 2$ matrix $A$ given by:\n",
    "\n",
    "$$\n",
    "A = \n",
    "\\begin{pmatrix}\n",
    "    a & b \\\\\n",
    "    c & d\n",
    "\\end{pmatrix}\n",
    "$$\n",
    "\n",
    "Our goal is to factorize $A$ into the product of a lower triangular matrix $L$ and an upper triangular matrix $U$:\n",
    "\n",
    "$$\n",
    "\\begin{pmatrix}\n",
    "    a & b \\\\\n",
    "    c & d\n",
    "\\end{pmatrix}\n",
    "=\n",
    "\\begin{pmatrix}\n",
    "    1 & 0 \\\\\n",
    "    l_{21} & 1\n",
    "\\end{pmatrix}\n",
    "\\begin{pmatrix}\n",
    "    u_{11} & u_{12} \\\\\n",
    "    0 & u_{22}\n",
    "\\end{pmatrix}\n",
    "$$\n",
    "\n",
    "From this, we derive the components of $L$ and $U$:\n",
    "- For the first row, $a = u_{11}$ and $b = u_{12}$.\n",
    "- For the second row, $c = l_{21} u_{11}$, so $l_{21} = \\frac{c}{u_{11}} = \\frac{c}{a}$.\n",
    "- Finally, $d = l_{21}u_{12} + u_{22}$. Since we already have $u_{12} = b$, it follows that $u_{22} = d - l_{21}b = d - \\frac{c}{a}b$.\n",
    "\n",
    "Therefore, the LU decomposition of matrix $A$ is:\n",
    "\n",
    "$$\n",
    "L =\n",
    "\\begin{pmatrix}\n",
    "    1 & 0 \\\\\n",
    "    \\frac{c}{a} & 1\n",
    "\\end{pmatrix}\n",
    ", U =\n",
    "\\begin{pmatrix}\n",
    "    a & b \\\\\n",
    "    0 & d - \\frac{c}{a}b\n",
    "\\end{pmatrix}\n",
    "$$"
   ]
  },
  {
   "cell_type": "markdown",
   "metadata": {},
   "source": [
    "## 12.11 - General $n \\times n$ Matrix\n",
    "\n",
    "Consider a general $n \\times n$ matrix $A$. The decomposition can be represented as:\n",
    "\n",
    "$$\n",
    "A = LU =\n",
    "\\begin{pmatrix}\n",
    "    1 & \\vec{0} \\\\\n",
    "    \\vec{l}_{21} & L_{22}\n",
    "\\end{pmatrix}\n",
    "\\begin{pmatrix}\n",
    "    u_{11} & \\vec{u}_{12} \\\\\n",
    "    \\vec{0} & U_{22}\n",
    "\\end{pmatrix}\n",
    "=\n",
    "\\begin{pmatrix}\n",
    "    u_{11} & \\vec{u}_{12} \\\\\n",
    "    u_{11} \\vec{u}_{21} & L_{22}U_{22} + \\vec{u}_{12} \\vec{l}_{21}\n",
    "\\end{pmatrix}\n",
    "$$\n",
    "\n",
    "where $\\vec{l}_{21}$ is a column vector, $\\vec{u}_{12}$ is a row vector, and $L_{22}, U_{22}$ are $(n - 1) \\times (n - 1)$ matrices.\n",
    "\n",
    "Matching the elements in the product of $L$ and $U$ with those in $A$, we have:\n",
    "\n",
    "$$\n",
    "\\begin{align*}\n",
    "    a_{11} &= u_{11} \\\\\n",
    "    \\vec{a}_{12} &= \\vec{u}_{12} \\\\\n",
    "    \\vec{a}_{21} = \\vec{l}_{21} u_{11} \\rightarrow \\vec{l}_{21} &= \\frac{\\vec{a}_{21}}{u_{11}} \\\\\n",
    "    A_{22} = \\vec{l}_{21} \\vec{u}_{12} + & L_{22} U_{22}\n",
    "\\end{align*}\n",
    "$$\n",
    "\n",
    "Below are the steps to perform the LU decomposition:\n",
    "1. The first row of $U$ matches the first row of $A$.\n",
    "2. The first column of $L$ matches the first column of $A$ divided by $a_{11}: \\vec{l}_{21} = \\frac{\\vec{a}_{21}}{a_{11}}$.\n",
    "3. $L_{22} U_{22} = A_{22} - \\vec{l}_{21} \\vec{u}_{12}$, where $L_{22}$ and $U_{22}$ are $(n - 1) \\times (n - 1)$ matrices, obtained by induction.\n",
    "\n",
    "### Computational Steps\n",
    "\n",
    "1. **Number of Divisions:** The total number of divisions required for LU factorization is the sum of the first $n - 1$ positive integers, which is $\\frac{n(n-1)}{2}$.\n",
    "2. **Number of Multiplications and Subtractions:** For each element outside the diagonal in $L$ and $U$, a multiplication followed by a subtraction is required to update elements in $A$. The total number for each is given by summing up the series from $1$ to $n - 1$ for each row, excluding the diagonal for the current column, leading to the formula $\\frac{n^3 - n}{3}$ for multiplications and an identical count for subtractions.\n",
    "\n",
    "### Computational Complexity\n",
    "\n",
    "- **Number of Divisions:** $\\frac{n(n-1)}{2}$\n",
    "- **Number of Multiplications:** $\\sum^{n-1}_{i=1} i(i+1) = \\frac{n(n-1)(2n-1)}{6} + \\frac{n(n-1)}{2}$\n",
    "- **Number of Subtractions:** Identical to the number of multiplications, since for each multiplication in the update process, a corresponding subtraction is made.\n",
    "\n",
    "The dominating term in the computational cost is due to the multiplications (and subtractions), leading to a computational complexity of $O(n^3)$ for LU factorization. The cubic complexity reflects the intensive computation involved, especially as the size of the matrix $A$ increases.\n",
    "\n",
    "### Remarks\n",
    "\n",
    "The cost analysis highlights the efficiency of LU factorization for solving systems of linear equations, especially when dealing with multiple right-hand sides. By investing in an $O(n^3)$ operation upfront, subsequent solutions for different vectors $b$ in $Ax = b$ can be obtained with only $O(n^2)$ operations, leveraging the already factored matrices $L$ and $U$."
   ]
  }
 ],
 "metadata": {
  "kernelspec": {
   "display_name": "math311",
   "language": "python",
   "name": "python3"
  },
  "language_info": {
   "codemirror_mode": {
    "name": "ipython",
    "version": 3
   },
   "file_extension": ".py",
   "mimetype": "text/x-python",
   "name": "python",
   "nbconvert_exporter": "python",
   "pygments_lexer": "ipython3",
   "version": "3.10.13"
  }
 },
 "nbformat": 4,
 "nbformat_minor": 2
}
