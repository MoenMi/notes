{
 "cells": [
  {
   "cell_type": "markdown",
   "metadata": {},
   "source": [
    "# 7 - Newton-Raphson Method\n",
    "\n",
    "Let $N(x) = x - \\frac{f(x)}{f'(x)}$ be the Newton iteration function associated to $f(x)$. Suppose the equation $f(x) = 0$ has a root $x^*$ such that $f'(x^*) \\neq 0$. We pick an initial value $x_0$ and define\n",
    "\n",
    "$$ x_{n+1} = x_n - \\frac{f(x_n)}{f'(x_n)} $$"
   ]
  },
  {
   "cell_type": "code",
   "execution_count": 1,
   "metadata": {},
   "outputs": [],
   "source": [
    "from sympy import diff, symbols\n",
    "x = symbols('x')\n",
    "fx = x**3 - x - 1\n",
    "\n",
    "def newtons_method(fx, xn, tol, max_iter=1000):\n",
    "    dfx = diff(fx)\n",
    "    for _ in range(max_iter):\n",
    "        if xn < tol:\n",
    "            return xn\n",
    "        # Don't use sympy to evaluate the function and its derivative since it's slow\n",
    "        # xn = xn - fx.subs(x, xn)/dfx.subs(x, xn)\n",
    "    return x"
   ]
  },
  {
   "cell_type": "code",
   "execution_count": null,
   "metadata": {},
   "outputs": [],
   "source": [
    "newtons_method(fx, 1, 1e-10)"
   ]
  },
  {
   "cell_type": "markdown",
   "metadata": {},
   "source": [
    "Newton's method fails when the initial guess is a critical point of $f(x)$."
   ]
  }
 ],
 "metadata": {
  "kernelspec": {
   "display_name": "math311",
   "language": "python",
   "name": "python3"
  },
  "language_info": {
   "codemirror_mode": {
    "name": "ipython",
    "version": 3
   },
   "file_extension": ".py",
   "mimetype": "text/x-python",
   "name": "python",
   "nbconvert_exporter": "python",
   "pygments_lexer": "ipython3",
   "version": "3.10.13"
  }
 },
 "nbformat": 4,
 "nbformat_minor": 2
}
