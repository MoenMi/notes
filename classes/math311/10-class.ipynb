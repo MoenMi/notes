{
 "cells": [
  {
   "cell_type": "markdown",
   "metadata": {},
   "source": [
    "# 10 - Numpy: Vectors, Arrays, and Plotting"
   ]
  },
  {
   "cell_type": "markdown",
   "metadata": {},
   "source": [
    "## 1 - Introduction to NumPy\n",
    "\n",
    "NumPy, which stands for Numerical Python, is a fundamental package for scientific computing in Python. It is a library that provides support for large, multi-dimensional arrays and matrices, along with a collection of mathematical functions to operate on these arrays. NumPy is open-souce software and has become a cornerstone in the ecosystem of data science and scientific computing due to its efficiency and versatility.\n",
    "\n",
    "### 1.1 - Features of NumPy\n",
    "\n",
    "- **Efficient Storage and Operations**: NumPy arrays are more efficient in terms of storage and operations compared to Python lists, especially for large data sets. This efficiency comes from NumPy's ability to store data in contiguous blocks of memory, facilitating fast array operations.\n",
    "- **Broadcasting**: NumPy can perform operations on arrays of different shapes during arithmetic operations. This feature, known as broadcasting, makes it possible to perform vectorized operations, leading to more concise and readable code.\n",
    "- **Universal Functions**: These are high-performance, element-wise operations over NumPy arrays. They are the key to the package's high performance, providing a flexible interface for optimized array operations.\n",
    "- **Slicing and Indexing**: NumPy offers comprehensive tools for indexing and slicing, allowing for the manipulation and extraction of data from arrays.\n",
    "- **Linear Algebra, Fourier Transform, and Random Number Capabilities**: Beyond basic array manipulation, NumPy provides a host of functions for more complex mathematical operations, including matrix operations, Fourier transforms, and sophisticated random number generation."
   ]
  },
  {
   "cell_type": "markdown",
   "metadata": {},
   "source": [
    "### 1.2 - How to Use NumPy?\n",
    "\n",
    "#### Creating Arrays\n",
    "\n",
    "An array is the collection of elements that have the same data type, the length of an array must be known when created. We can use NumPy to create an array."
   ]
  },
  {
   "cell_type": "code",
   "execution_count": 2,
   "metadata": {},
   "outputs": [
    {
     "data": {
      "text/plain": [
       "array([1, 2, 3, 4])"
      ]
     },
     "execution_count": 2,
     "metadata": {},
     "output_type": "execute_result"
    }
   ],
   "source": [
    "import numpy as np\n",
    "\n",
    "arr = np.array([1, 2, 3, 4])\n",
    "arr"
   ]
  },
  {
   "cell_type": "markdown",
   "metadata": {},
   "source": [
    "Any array in NumPy must have the type `ndarray`:"
   ]
  },
  {
   "cell_type": "code",
   "execution_count": 3,
   "metadata": {},
   "outputs": [
    {
     "data": {
      "text/plain": [
       "numpy.ndarray"
      ]
     },
     "execution_count": 3,
     "metadata": {},
     "output_type": "execute_result"
    }
   ],
   "source": [
    "type(arr)"
   ]
  },
  {
   "cell_type": "markdown",
   "metadata": {},
   "source": [
    "#### Special Arrays\n",
    "\n",
    "In some calculations, we need to initialize an array with all zeros or ones:"
   ]
  },
  {
   "cell_type": "code",
   "execution_count": 4,
   "metadata": {},
   "outputs": [
    {
     "data": {
      "text/plain": [
       "array([0., 0., 0., 0., 0., 0., 0., 0., 0., 0.])"
      ]
     },
     "execution_count": 4,
     "metadata": {},
     "output_type": "execute_result"
    }
   ],
   "source": [
    "zero_arr = np.zeros(10)\n",
    "zero_arr"
   ]
  },
  {
   "cell_type": "code",
   "execution_count": 5,
   "metadata": {},
   "outputs": [
    {
     "data": {
      "text/plain": [
       "array([1., 1., 1., 1., 1., 1., 1., 1., 1., 1.])"
      ]
     },
     "execution_count": 5,
     "metadata": {},
     "output_type": "execute_result"
    }
   ],
   "source": [
    "one_arr = np.ones(10)\n",
    "one_arr"
   ]
  },
  {
   "cell_type": "markdown",
   "metadata": {},
   "source": [
    "We can also use NumPy to create 2D array/matrix:"
   ]
  },
  {
   "cell_type": "code",
   "execution_count": 6,
   "metadata": {},
   "outputs": [
    {
     "data": {
      "text/plain": [
       "array([[1, 2, 3],\n",
       "       [4, 5, 6]])"
      ]
     },
     "execution_count": 6,
     "metadata": {},
     "output_type": "execute_result"
    }
   ],
   "source": [
    "matrix = np.array([[1, 2, 3], [4, 5, 6]])\n",
    "matrix"
   ]
  },
  {
   "cell_type": "markdown",
   "metadata": {},
   "source": [
    "We can also create arrays with a defined data type:"
   ]
  },
  {
   "cell_type": "code",
   "execution_count": 17,
   "metadata": {},
   "outputs": [
    {
     "data": {
      "text/plain": [
       "dtype('int32')"
      ]
     },
     "execution_count": 17,
     "metadata": {},
     "output_type": "execute_result"
    }
   ],
   "source": [
    "int_arr = np.array([2, 3, 4], dtype=int)\n",
    "int_arr.dtype"
   ]
  },
  {
   "cell_type": "code",
   "execution_count": 18,
   "metadata": {},
   "outputs": [
    {
     "data": {
      "text/plain": [
       "dtype('float64')"
      ]
     },
     "execution_count": 18,
     "metadata": {},
     "output_type": "execute_result"
    }
   ],
   "source": [
    "float_arr = np.array([2, 3, 4], dtype=float)\n",
    "float_arr.dtype"
   ]
  },
  {
   "cell_type": "code",
   "execution_count": 19,
   "metadata": {},
   "outputs": [
    {
     "data": {
      "text/plain": [
       "dtype('bool')"
      ]
     },
     "execution_count": 19,
     "metadata": {},
     "output_type": "execute_result"
    }
   ],
   "source": [
    "bool_arr = np.array([0, 1, 1], dtype=bool)\n",
    "bool_arr.dtype"
   ]
  },
  {
   "cell_type": "markdown",
   "metadata": {},
   "source": [
    "NumPy can create an array of $n$ uniformly spaced values from $a$ to $b$:"
   ]
  },
  {
   "cell_type": "code",
   "execution_count": 21,
   "metadata": {},
   "outputs": [
    {
     "data": {
      "text/plain": [
       "array([1.        , 1.44444444, 1.88888889, 2.33333333, 2.77777778,\n",
       "       3.22222222, 3.66666667, 4.11111111, 4.55555556, 5.        ])"
      ]
     },
     "execution_count": 21,
     "metadata": {},
     "output_type": "execute_result"
    }
   ],
   "source": [
    "a = 1\n",
    "b = 5\n",
    "n = 10\n",
    "arr = np.linspace(a, b, n)\n",
    "arr"
   ]
  },
  {
   "cell_type": "markdown",
   "metadata": {},
   "source": [
    "Create an array with random numbers:"
   ]
  },
  {
   "cell_type": "code",
   "execution_count": 24,
   "metadata": {},
   "outputs": [
    {
     "data": {
      "text/plain": [
       "array([39, 32, 45, 10])"
      ]
     },
     "execution_count": 24,
     "metadata": {},
     "output_type": "execute_result"
    }
   ],
   "source": [
    "a = 10\n",
    "b = 50\n",
    "n = 4\n",
    "rd_int_arr = np.random.randint(a, b, n)\n",
    "rd_int_arr"
   ]
  },
  {
   "cell_type": "code",
   "execution_count": 30,
   "metadata": {},
   "outputs": [
    {
     "data": {
      "text/plain": [
       "array([47.53384627, 12.20116381, 31.28464847, 32.54825994])"
      ]
     },
     "execution_count": 30,
     "metadata": {},
     "output_type": "execute_result"
    }
   ],
   "source": [
    "# For random floats, use a Uniform(a,b) distribution\n",
    "rd_float_arr = np.random.uniform(a, b, n)\n",
    "rd_float_arr"
   ]
  },
  {
   "cell_type": "code",
   "execution_count": 31,
   "metadata": {},
   "outputs": [
    {
     "data": {
      "text/plain": [
       "array([7.65143805, 1.61665877, 6.65579479, 3.95870947, 6.0919045 ,\n",
       "       2.40302267, 4.57518371, 4.25373789, 2.56358796, 4.8299748 ])"
      ]
     },
     "execution_count": 31,
     "metadata": {},
     "output_type": "execute_result"
    }
   ],
   "source": [
    "# The random.normal() function takes mean and standard deviation as arguments\n",
    "mu = 5\n",
    "s = 2\n",
    "n = 10\n",
    "rd_float_arr = np.random.normal(mu, s, n)\n",
    "rd_float_arr"
   ]
  },
  {
   "cell_type": "markdown",
   "metadata": {},
   "source": [
    "#### Basic Operations\n",
    "\n",
    "NumPy arrays facilitate operations that can be performed element-wise or on the whole array."
   ]
  },
  {
   "cell_type": "code",
   "execution_count": 35,
   "metadata": {},
   "outputs": [
    {
     "name": "stdout",
     "output_type": "stream",
     "text": [
      "[5 7 8 7 9 9 8 9 9 7]\n",
      "[4 8 4 6 4 8 3 3 6 5]\n",
      "[ 9 15 12 13 13 17 11 12 15 12]\n"
     ]
    }
   ],
   "source": [
    "arr1 = np.random.randint(low=5, high=10, size=10)\n",
    "arr2 = np.random.randint(low=3, high=9, size=10)\n",
    "\n",
    "# Element-wise addition\n",
    "arr = arr1 + arr2\n",
    "\n",
    "print(arr1)\n",
    "print(arr2)\n",
    "print(arr)"
   ]
  },
  {
   "cell_type": "code",
   "execution_count": 37,
   "metadata": {},
   "outputs": [
    {
     "data": {
      "text/plain": [
       "array([ 90, 150, 120, 130, 130, 170, 110, 120, 150, 120])"
      ]
     },
     "execution_count": 37,
     "metadata": {},
     "output_type": "execute_result"
    }
   ],
   "source": [
    "# Scalar Multiplication\n",
    "10 * arr"
   ]
  },
  {
   "cell_type": "code",
   "execution_count": 38,
   "metadata": {},
   "outputs": [
    {
     "data": {
      "text/plain": [
       "129"
      ]
     },
     "execution_count": 38,
     "metadata": {},
     "output_type": "execute_result"
    }
   ],
   "source": [
    "# Summing elements of an array\n",
    "np.sum(arr)"
   ]
  },
  {
   "cell_type": "code",
   "execution_count": 39,
   "metadata": {},
   "outputs": [
    {
     "data": {
      "text/plain": [
       "12.9"
      ]
     },
     "execution_count": 39,
     "metadata": {},
     "output_type": "execute_result"
    }
   ],
   "source": [
    "# Find mean\n",
    "np.mean(arr)"
   ]
  },
  {
   "cell_type": "markdown",
   "metadata": {},
   "source": [
    "#### Reshaping and Manipulating Arrays\n",
    "\n",
    "NumPy arrays can be reshaped, allowing for flexible data manipulation."
   ]
  },
  {
   "cell_type": "code",
   "execution_count": 40,
   "metadata": {},
   "outputs": [
    {
     "data": {
      "text/plain": [
       "array([0, 3, 4, 3, 3, 2, 2, 3, 3, 0])"
      ]
     },
     "execution_count": 40,
     "metadata": {},
     "output_type": "execute_result"
    }
   ],
   "source": [
    "arr = np.random.randint(0, 5, 10)\n",
    "arr"
   ]
  },
  {
   "cell_type": "code",
   "execution_count": 43,
   "metadata": {},
   "outputs": [
    {
     "data": {
      "text/plain": [
       "array([[0, 3, 4, 3, 3],\n",
       "       [2, 2, 3, 3, 0]])"
      ]
     },
     "execution_count": 43,
     "metadata": {},
     "output_type": "execute_result"
    }
   ],
   "source": [
    "# Reshape 1D array to 2D array\n",
    "reshapened_arr = arr.reshape((2, 5))\n",
    "reshapened_arr"
   ]
  },
  {
   "cell_type": "code",
   "execution_count": 44,
   "metadata": {},
   "outputs": [
    {
     "data": {
      "text/plain": [
       "array([0, 3, 4, 3, 3, 2, 2, 3, 3, 0])"
      ]
     },
     "execution_count": 44,
     "metadata": {},
     "output_type": "execute_result"
    }
   ],
   "source": [
    "flattened_arr = reshapened_arr.flatten()\n",
    "flattened_arr"
   ]
  },
  {
   "cell_type": "code",
   "execution_count": 45,
   "metadata": {},
   "outputs": [
    {
     "data": {
      "text/plain": [
       "array([0, 3, 4, 3, 3, 2, 2, 3, 3, 0])"
      ]
     },
     "execution_count": 45,
     "metadata": {},
     "output_type": "execute_result"
    }
   ],
   "source": [
    "reshapened_arr.ravel()"
   ]
  },
  {
   "cell_type": "markdown",
   "metadata": {},
   "source": [
    "Note:\n",
    "- `flatten()` returns a new array and does not modify the original array. It always returns a copy of the original array.\n",
    "- `ravel()` returns a flattened array but tries to return a view of the original array whenever possible. This makes `ravel()` potentially more memory efficient since it doesn't guarantee a copy unless necessary."
   ]
  },
  {
   "cell_type": "markdown",
   "metadata": {},
   "source": [
    "### 1.3 - Vector-Valued Functions\n",
    "\n",
    "We can associate a vector-valued function $g: \\mathbb{R}^n \\rightarrow \\mathbb{R}^n$ with any scalar function $f: \\mathbb{R} \\rightarrow \\mathbb{R}$ by\n",
    "\n",
    "$$\n",
    "\\begin{pmatrix}\n",
    "    f(\\nu_0) \\\\\n",
    "    f(\\nu_1) \\\\\n",
    "    \\vdots \\\\\n",
    "    f(\\nu_{n-1})\n",
    "\\end{pmatrix}\n",
    "$$\n",
    "\n",
    "For example, if $f(x) = \\sin(x)$ then $g(\\vec{\\nu}) = [\\sin(\\nu_0), \\dots, \\sin(\\nu_{n-1})]$, where $\\vec{\\nu} = [\\nu_0, \\dots, \\nu_{n-1}]$."
   ]
  },
  {
   "cell_type": "markdown",
   "metadata": {},
   "source": [
    "### 1.4 - Vectorization\n",
    "\n",
    "Vectorization, in the context of data analysis and scientific computing, refers to the process of operating on entire arrays of data without explicitly writing loop constructs in the code. This technique is not only syntactically cleaner but also significantly faster due to several underlying optimizations. Vectorization exploits the capabilities of modern CPUs and computing architectures, which are designed to perform operations on multiple data points simultaneously, a feature known as Single Instruction, Multiple Data (SIMD).\n",
    "\n",
    "Advantages of vectorization:\n",
    "- **Performance Improvement**: Vectorized operations are typically executed by optimized, compiled code behind the scenes, taking advantage of low-level optimizations and parallel execution capabilities of the CPU. This makes vectorized operations much faster than their non-vectorized counterparts, particularly for large datasets.\n",
    "- **Simpler, More Readable Code**: By eliminating explicit loops, vectorized code is often more concise and easier to read, making it easier to understand and maintain.\n",
    "- **Efficient Use of Memory**: Vectorized operations can also lead to more efficient use of memory by reducing the need for temporary variables and leveraging in-place computations."
   ]
  },
  {
   "cell_type": "markdown",
   "metadata": {},
   "source": [
    "### 1.5 - Vectorization Performance\n",
    "\n",
    "Given a vector $\\vec{\\nu}$ of length $10000$, we can compute $\\sin(\\vec{\\nu}) = [\\sin(\\nu_0), \\dots, \\sin(\\nu_{n-1})]$."
   ]
  },
  {
   "cell_type": "code",
   "execution_count": 46,
   "metadata": {},
   "outputs": [],
   "source": [
    "import math\n",
    "import time\n",
    "\n",
    "ARR_SIZE = 10000\n",
    "data = np.random.uniform(-3, 3, ARR_SIZE)"
   ]
  },
  {
   "cell_type": "code",
   "execution_count": 49,
   "metadata": {},
   "outputs": [
    {
     "data": {
      "text/plain": [
       "0.0032558441162109375"
      ]
     },
     "execution_count": 49,
     "metadata": {},
     "output_type": "execute_result"
    }
   ],
   "source": [
    "# Using a normal Python loop\n",
    "start_time = time.time()\n",
    "sin_values_py = [math.sin(val) for val in data]\n",
    "end_time = time.time()\n",
    "\n",
    "# Display time taken in seconds\n",
    "python_time = end_time - start_time\n",
    "python_time"
   ]
  },
  {
   "cell_type": "code",
   "execution_count": 50,
   "metadata": {},
   "outputs": [
    {
     "data": {
      "text/plain": [
       "0.00029087066650390625"
      ]
     },
     "execution_count": 50,
     "metadata": {},
     "output_type": "execute_result"
    }
   ],
   "source": [
    "# Using NumPy vectorization\n",
    "start_time = time.time()\n",
    "sin_values_np = np.sin(data)\n",
    "end_time = time.time()\n",
    "\n",
    "# Display time taken in seconds\n",
    "numpy_time = end_time - start_time\n",
    "numpy_time"
   ]
  },
  {
   "cell_type": "code",
   "execution_count": 51,
   "metadata": {},
   "outputs": [
    {
     "data": {
      "text/plain": [
       "11.193442622950819"
      ]
     },
     "execution_count": 51,
     "metadata": {},
     "output_type": "execute_result"
    }
   ],
   "source": [
    "python_time / numpy_time"
   ]
  },
  {
   "cell_type": "markdown",
   "metadata": {},
   "source": [
    "## 2 - Curve Plotting"
   ]
  },
  {
   "cell_type": "markdown",
   "metadata": {},
   "source": [
    "### 2.1 - Features of Matplotlib\n",
    "\n",
    "- **Versatile Plotting**: "
   ]
  },
  {
   "cell_type": "markdown",
   "metadata": {},
   "source": [
    "### 2.2 - Augmenting the Figure"
   ]
  },
  {
   "cell_type": "markdown",
   "metadata": {},
   "source": [
    "### 2.3 - Plot Multiple Curves"
   ]
  },
  {
   "cell_type": "markdown",
   "metadata": {},
   "source": [
    "#### Customizing Markers"
   ]
  },
  {
   "cell_type": "markdown",
   "metadata": {},
   "source": [
    "### 2.4 - Combine Plot with Subplots"
   ]
  },
  {
   "cell_type": "markdown",
   "metadata": {},
   "source": [
    "### 2.5 - Polar Coordinate Plotting"
   ]
  },
  {
   "cell_type": "markdown",
   "metadata": {},
   "source": [
    "#### All Polar Curves"
   ]
  },
  {
   "cell_type": "markdown",
   "metadata": {},
   "source": [
    "#### Plot Polar and Cartesian Curves"
   ]
  }
 ],
 "metadata": {
  "kernelspec": {
   "display_name": "math311",
   "language": "python",
   "name": "python3"
  },
  "language_info": {
   "codemirror_mode": {
    "name": "ipython",
    "version": 3
   },
   "file_extension": ".py",
   "mimetype": "text/x-python",
   "name": "python",
   "nbconvert_exporter": "python",
   "pygments_lexer": "ipython3",
   "version": "3.10.13"
  }
 },
 "nbformat": 4,
 "nbformat_minor": 2
}
