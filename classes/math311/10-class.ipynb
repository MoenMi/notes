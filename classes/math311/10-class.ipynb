{
 "cells": [
  {
   "cell_type": "markdown",
   "metadata": {},
   "source": [
    "# 10 - Numpy: Vectors, Arrays, and Plotting"
   ]
  },
  {
   "cell_type": "markdown",
   "metadata": {},
   "source": [
    "## 1 - Introduction to NumPy\n",
    "\n",
    "NumPy, which stands for Numerical Python, is a fundamental package for scientific computing in Python. It is a library that provides support for large, multi-dimensional arrays and matrices, along with a collection of mathematical functions to operate on these arrays. NumPy is open-souce software and has become a cornerstone in the ecosystem of data science and scientific computing due to its efficiency and versatility.\n",
    "\n",
    "### 1.1.1 - Features of NumPy\n",
    "\n",
    "- **Efficient Storage and Operations**: NumPy arrays are more efficient in terms of storage and operations compared to Python lists, especially for large data sets. This efficiency comes from NumPy's ability to store data in contiguous blocks of memory, facilitating fast array operations.\n",
    "- **Broadcasting**: NumPy can perform operations on arrays of different shapes during arithmetic operations. This feature, known as broadcasting, makes it possible "
   ]
  }
 ],
 "metadata": {
  "kernelspec": {
   "display_name": "math311",
   "language": "python",
   "name": "python3"
  },
  "language_info": {
   "name": "python",
   "version": "3.10.13"
  }
 },
 "nbformat": 4,
 "nbformat_minor": 2
}
