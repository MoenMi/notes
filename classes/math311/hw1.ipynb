{
 "cells": [
  {
   "cell_type": "markdown",
   "metadata": {},
   "source": [
    "# Homework 1\n",
    "\n",
    "MATH 311-001\n",
    "\n",
    "by Michael Moen\n",
    "\n",
    "## Exercise 1\n",
    "\n",
    "A car braked with a constant deceleration of $a_0$ (ft/sec^2) and it produced skid marks measuring $s$ (ft) before coming to a full stop. How fast was the car traveling when the brakes were first applied?\n",
    "\n",
    "### Part 1\n",
    "\n",
    "Let $v_0$ be the velocity of the car when the brakes were first applied. Use Calculus 1 to show that\n",
    "\n",
    "$$ v_0^2 = 2a_0s $$\n",
    "\n",
    "#### Solution\n",
    "\n",
    "Since this scenario involves constant deceleration, we can model it with the following equation:\n",
    "\n",
    "$$ a(t) = -a_0 $$\n",
    "\n",
    "where\n",
    "- $t$ is time\n",
    "- $a(t)$ is the acceleration of the vehicle as a function of $t$\n",
    "\n",
    "By integrating over this function, we get the following:\n",
    "\n",
    "$$\n",
    "\\begin{align*}\n",
    "\\int a(t) dt &= \\int -a_0 dt \\\\\n",
    "v(t) &= -a_0t + v_0 \\\\\n",
    "\\end{align*}\n",
    "$$\n",
    "\n",
    "Which can be derived to find:\n",
    "\n",
    "$$\n",
    "\\begin{align*}\n",
    "\\int v(t) dt &= \\int -a_0t + v_0 dt \\\\\n",
    "x(t) &= -\\frac{1}{2} a_0t^2 + v_0t \\\\\n",
    "\\end{align*}\n",
    "$$\n",
    "\n",
    "where\n",
    "- $v(t)$ is the velocity of the vehicle as a function of $t$\n",
    "- $x(t)$ is the position of the vehicle as a function of $t$\n",
    "- The initial position of the car before the brakes are applied is considered as $0$\n",
    "\n",
    "Recognizing that car stops when $v(t)=0$, we see that:\n",
    "\n",
    "$$\n",
    "\\begin{align*}\n",
    "v(t) &= -a_0t + v_0 \\\\\n",
    "0 &= -a_0t + v_0 \\\\\n",
    "t &= \\frac{v_0}{a_0}\n",
    "\\end{align*}\n",
    "$$\n",
    "\n",
    "Plugging this into the other equation, we can solve for $x(t) = s$, which will yield the desired equation:\n",
    "\n",
    "$$\n",
    "\\begin{align*}\n",
    "x(t) &= -\\frac{1}{2} a_0t^2 + v_0t \\\\\n",
    "s &= -\\frac{1}{2} a_0 \\left( \\frac{v_0}{a_0} \\right)^2 + v_0 \\frac{v_0}{a_0} \\\\\n",
    "s &= -\\frac{v_0^2}{2a_0} + \\frac{v_0^2}{a_0} \\\\\n",
    "s &= \\frac{v_0^2}{2a_0} \\\\\n",
    "v_0^2 &= 2a_0s\n",
    "\\end{align*}\n",
    "$$\n",
    "\n",
    "### Part 2\n",
    "\n",
    "Write a pseudocode algorithm to compute the velocity as a formula of the acceleration $a_0$ and distance $s$.\n",
    "\n",
    "#### Solution\n",
    "\n",
    "```\n",
    "BEGIN\n",
    "    READ acceleration (a_0)\n",
    "    READ distance (s)\n",
    "\n",
    "    COMPUTE velocity as (2 * a_0 * s)^0.5\n",
    "\n",
    "    DISPLAY velocity\n",
    "END\n",
    "```\n",
    "\n",
    "\n",
    "### Part 3\n",
    "\n",
    "Write a function in Python to implement the above pseudocode:\n",
    "\n",
    "#### Solution"
   ]
  },
  {
   "cell_type": "code",
   "execution_count": 1,
   "metadata": {},
   "outputs": [],
   "source": [
    "def compute_velocity(a0: float, s: float) -> float:\n",
    "    \"\"\"Calculate the velocity of the car\n",
    "\n",
    "    Parameters\n",
    "    ----------\n",
    "    a0 : float\n",
    "        the acceleration of the car (ft/sec^2)\n",
    "    s : float\n",
    "        the length of the skid marks (ft)\n",
    "    \n",
    "    Returns\n",
    "    -------\n",
    "    float\n",
    "        the velocity of the car when the brakes are slammed\n",
    "    \n",
    "    \"\"\"\n",
    "    \n",
    "    return (2 * a0 * s)**0.5"
   ]
  },
  {
   "cell_type": "code",
   "execution_count": 6,
   "metadata": {},
   "outputs": [
    {
     "data": {
      "text/plain": [
       "9.055385138137417"
      ]
     },
     "execution_count": 6,
     "metadata": {},
     "output_type": "execute_result"
    }
   ],
   "source": [
    "compute_velocity(5, 8.2)"
   ]
  },
  {
   "cell_type": "markdown",
   "metadata": {},
   "source": [
    "## Exercise 2\n",
    "\n",
    "Read the PEP8 for Python from the link: https://peps.python.org/pep-0008/\n",
    "\n",
    "Give 10 bad examples about coding style and fix them correctly.\n",
    "\n",
    "### Example 1"
   ]
  },
  {
   "cell_type": "code",
   "execution_count": null,
   "metadata": {},
   "outputs": [],
   "source": [
    "# Wrong example\n",
    "def long_function_name(argument1, argument2,\n",
    "argument3, argument4):\n",
    "    if argument4:\n",
    "        return argument1 + argument2 * argument3\n",
    "    else:\n",
    "        return argument1 - argument2 * argument3"
   ]
  },
  {
   "cell_type": "markdown",
   "metadata": {},
   "source": [
    "The indentation of the second line of arguments is added to clearly denote that `argument3` and `argument4` are arguments of `long_function_name`."
   ]
  },
  {
   "cell_type": "code",
   "execution_count": null,
   "metadata": {},
   "outputs": [],
   "source": [
    "# Corrected example\n",
    "def long_function_name(argument1, argument2,\n",
    "                       argument3, argument4):\n",
    "    if argument4:\n",
    "        return argument1 + argument2 * argument3\n",
    "    else:\n",
    "        return argument1 - argument2 * argument3"
   ]
  },
  {
   "cell_type": "markdown",
   "metadata": {},
   "source": [
    "### Example 2"
   ]
  },
  {
   "cell_type": "code",
   "execution_count": null,
   "metadata": {},
   "outputs": [],
   "source": [
    "# Wrong example\n",
    "print('How\\'s Spencer\\'s day going?')"
   ]
  },
  {
   "cell_type": "markdown",
   "metadata": {},
   "source": [
    "Double quotes are used to avoid the need for backslashes, thus improving the readability of the string."
   ]
  },
  {
   "cell_type": "code",
   "execution_count": null,
   "metadata": {},
   "outputs": [],
   "source": [
    "# Corrected example\n",
    "print(\"How's Spencer's day going?\")"
   ]
  },
  {
   "cell_type": "markdown",
   "metadata": {},
   "source": [
    "### Example 3"
   ]
  },
  {
   "cell_type": "code",
   "execution_count": null,
   "metadata": {},
   "outputs": [],
   "source": [
    "# Wrong example\n",
    "first_name = 'Michael'\n",
    "middle_name = 'Thomas'\n",
    "last_name = \"Moen\"\n",
    "occupation = 'student'"
   ]
  },
  {
   "cell_type": "markdown",
   "metadata": {},
   "source": [
    "In this example, inconsistent usage of single- and double-quoted strings is present."
   ]
  },
  {
   "cell_type": "code",
   "execution_count": null,
   "metadata": {},
   "outputs": [],
   "source": [
    "# Corrected example\n",
    "first_name = 'Michael'\n",
    "middle_name = 'Thomas'\n",
    "last_name = 'Moen'\n",
    "occupation = 'student'"
   ]
  },
  {
   "cell_type": "markdown",
   "metadata": {},
   "source": [
    "### Example 4"
   ]
  },
  {
   "cell_type": "code",
   "execution_count": null,
   "metadata": {},
   "outputs": [],
   "source": [
    "# Wrong example\n",
    "first_name = 'Michael'\n",
    "MiddleName = 'Thomas'\n",
    "lastname = 'Moen'\n",
    "OCCUPATION = 'student'"
   ]
  },
  {
   "cell_type": "markdown",
   "metadata": {},
   "source": [
    "In this example, the inconsistent variable naming conventions are standardized into a single style:"
   ]
  },
  {
   "cell_type": "code",
   "execution_count": null,
   "metadata": {},
   "outputs": [],
   "source": [
    "# Corrected example\n",
    "first_name = 'Michael'\n",
    "middle_name = 'Thomas'\n",
    "last_name = 'Moen'\n",
    "occupation = 'student'"
   ]
  },
  {
   "cell_type": "markdown",
   "metadata": {},
   "source": [
    "### Example 5"
   ]
  },
  {
   "cell_type": "code",
   "execution_count": null,
   "metadata": {},
   "outputs": [],
   "source": [
    "# Wrong example\n",
    "occupation = 'student'\n",
    "if not occupation is 'teacher':\n",
    "    print('User is not a teacher')"
   ]
  },
  {
   "cell_type": "markdown",
   "metadata": {},
   "source": [
    "In this example, the `not . . . is` construction is used. This is replaced with the `is not` construction, which is more readable."
   ]
  },
  {
   "cell_type": "code",
   "execution_count": null,
   "metadata": {},
   "outputs": [],
   "source": [
    "# Corrected example\n",
    "occupation = 'student'\n",
    "if occupation is not 'teacher':\n",
    "    print('User is not a teacher')"
   ]
  },
  {
   "cell_type": "markdown",
   "metadata": {},
   "source": [
    "### Example 6"
   ]
  },
  {
   "cell_type": "code",
   "execution_count": null,
   "metadata": {},
   "outputs": [],
   "source": [
    "# Wrong example\n",
    "num = 7 -2"
   ]
  },
  {
   "cell_type": "markdown",
   "metadata": {},
   "source": [
    "In this example, proper spacing is added for the `-` operator."
   ]
  },
  {
   "cell_type": "code",
   "execution_count": null,
   "metadata": {},
   "outputs": [],
   "source": [
    "# Corrected example\n",
    "num = 7 - 2"
   ]
  },
  {
   "cell_type": "markdown",
   "metadata": {},
   "source": [
    "### Example 7"
   ]
  },
  {
   "cell_type": "code",
   "execution_count": null,
   "metadata": {},
   "outputs": [],
   "source": [
    "# Wrong example\n",
    "num1 = num2 = num3 = num4 = num5 = 5\n",
    "sum = (num1 +\n",
    "       num2 +\n",
    "       num3 +\n",
    "       num4 +\n",
    "       num5)"
   ]
  },
  {
   "cell_type": "markdown",
   "metadata": {},
   "source": [
    "When operations span across multiple lines, the operator should be placed at the beginning of the line, rather than the end of it."
   ]
  },
  {
   "cell_type": "code",
   "execution_count": null,
   "metadata": {},
   "outputs": [],
   "source": [
    "# Corrected example\n",
    "num1 = num2 = num3 = num4 = num5 = 5\n",
    "sum = (num1\n",
    "       + num2\n",
    "       + num3\n",
    "       + num4\n",
    "       + num5)"
   ]
  },
  {
   "cell_type": "markdown",
   "metadata": {},
   "source": [
    "### Example 8"
   ]
  },
  {
   "cell_type": "code",
   "execution_count": null,
   "metadata": {},
   "outputs": [],
   "source": [
    "# Wrong example\n",
    "def find_circumference(RADIUS):\n",
    "    pi = 3.14\n",
    "    return 2 * RADIUS * pi"
   ]
  },
  {
   "cell_type": "markdown",
   "metadata": {},
   "source": [
    "The code block below makes proper usage of the convention that all caps in variable names is reserved for constants."
   ]
  },
  {
   "cell_type": "code",
   "execution_count": null,
   "metadata": {},
   "outputs": [],
   "source": [
    "# Corrected example\n",
    "def find_circumference(radius):\n",
    "    PI = 3.14\n",
    "    return 2 * radius * PI"
   ]
  },
  {
   "cell_type": "markdown",
   "metadata": {},
   "source": [
    "### Example 9"
   ]
  },
  {
   "cell_type": "code",
   "execution_count": null,
   "metadata": {},
   "outputs": [],
   "source": [
    "# Wrong example\n",
    "valid_id = True\n",
    "if valid_id == True:\n",
    "    print('success')"
   ]
  },
  {
   "cell_type": "markdown",
   "metadata": {},
   "source": [
    "The corrected code removes the redundancy of comparing a boolean value to a truth value."
   ]
  },
  {
   "cell_type": "code",
   "execution_count": null,
   "metadata": {},
   "outputs": [],
   "source": [
    "# Corrected example\n",
    "valid_id = True\n",
    "if valid_id:\n",
    "    print('success')"
   ]
  },
  {
   "cell_type": "markdown",
   "metadata": {},
   "source": [
    "### Example 10"
   ]
  },
  {
   "cell_type": "code",
   "execution_count": null,
   "metadata": {},
   "outputs": [],
   "source": [
    "# Wrong example\n",
    "import requests, math"
   ]
  },
  {
   "cell_type": "markdown",
   "metadata": {},
   "source": [
    "This example puts each import statement on its own line, consistent with the PEP8 recommendation."
   ]
  },
  {
   "cell_type": "code",
   "execution_count": null,
   "metadata": {},
   "outputs": [],
   "source": [
    "# Corrected example\n",
    "import requests\n",
    "import math"
   ]
  }
 ],
 "metadata": {
  "kernelspec": {
   "display_name": "notes_env",
   "language": "python",
   "name": "python3"
  },
  "language_info": {
   "codemirror_mode": {
    "name": "ipython",
    "version": 3
   },
   "file_extension": ".py",
   "mimetype": "text/x-python",
   "name": "python",
   "nbconvert_exporter": "python",
   "pygments_lexer": "ipython3",
   "version": "3.12.0"
  }
 },
 "nbformat": 4,
 "nbformat_minor": 2
}
