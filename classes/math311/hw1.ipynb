{
 "cells": [
  {
   "cell_type": "markdown",
   "metadata": {},
   "source": [
    "# Homework 1\n",
    "\n",
    "by Michael Moen\n",
    "\n",
    "## Exercise 1\n",
    "\n",
    "A car braked with a constant deceleration of $a_0$ (ft/sec) and it produced skid marks measuring $s$ (ft) before coming to a full stop. How fast was the car traveling when the brakes were first applied?\n",
    "\n",
    "### Part 1\n",
    "\n",
    "Let $v_0$ be the velocity of the car when the brakes were first applied. Use Calculus 1 to show that\n",
    "\n",
    "$$ v_0^2 = 2a_0s $$\n",
    "\n",
    "#### Solution\n",
    "\n",
    "$$\n",
    "\n",
    "\\begin{align*}\n",
    "\n",
    "\\end{align*}\n",
    "\n",
    "$$\n",
    "\n",
    "### Part 2\n",
    "\n",
    "Write a pseudocode algorithm to compute the velocity as a formula of the acceleration $a_0$ and distance $s$.\n",
    "\n",
    "#### Solution\n",
    "\n",
    "```\n",
    "BEGIN\n",
    "    \n",
    "END\n",
    "```\n",
    "\n",
    "### Part 3\n",
    "\n",
    "Write a function in Python to implement the above pseudocode:\n",
    "\n",
    "#### Solution"
   ]
  },
  {
   "cell_type": "code",
   "execution_count": null,
   "metadata": {},
   "outputs": [],
   "source": [
    "def compute_velocity(a0, s):\n",
    "    \n",
    "    return (2 * a0 * s) ** 0.5"
   ]
  },
  {
   "cell_type": "markdown",
   "metadata": {},
   "source": [
    "## Exercise 2\n",
    "\n",
    "Read the PEP8 for Python from the link: https://peps.python.org/pep-0008/\n",
    "\n",
    "Give 10 bad examples about coding style and fix them correctly.\n",
    "\n",
    "### Example 1"
   ]
  },
  {
   "cell_type": "code",
   "execution_count": null,
   "metadata": {},
   "outputs": [],
   "source": [
    "# Wrong example\n",
    "def long_function_name(argument1, argument2,\n",
    "argument3, argument4):\n",
    "    if argument4:\n",
    "        return argument1 + argument2 * argument3\n",
    "    else:\n",
    "        return argument1 - argument2 * argument3"
   ]
  },
  {
   "cell_type": "markdown",
   "metadata": {},
   "source": [
    "The indentation of the second line of arguments is added to clearly denote that `argument3` and `argument4` are arguments of `long_function_name`."
   ]
  },
  {
   "cell_type": "code",
   "execution_count": null,
   "metadata": {},
   "outputs": [],
   "source": [
    "# Corrected example\n",
    "def long_function_name(argument1, argument2,\n",
    "                       argument3, argument4):\n",
    "    if argument4:\n",
    "        return argument1 + argument2 * argument3\n",
    "    else:\n",
    "        return argument1 - argument2 * argument3"
   ]
  },
  {
   "cell_type": "markdown",
   "metadata": {},
   "source": [
    "### Example 2"
   ]
  },
  {
   "cell_type": "code",
   "execution_count": null,
   "metadata": {},
   "outputs": [],
   "source": [
    "# Wrong example\n",
    "print('How\\'s Spencer\\'s day going?')"
   ]
  },
  {
   "cell_type": "markdown",
   "metadata": {},
   "source": [
    "Double quotes are used to avoid the need for backslashes, thus improving the readability of the string."
   ]
  },
  {
   "cell_type": "code",
   "execution_count": null,
   "metadata": {},
   "outputs": [],
   "source": [
    "# Corrected example\n",
    "print(\"How's Spencer's day going?\")"
   ]
  },
  {
   "cell_type": "markdown",
   "metadata": {},
   "source": [
    "### Example 3"
   ]
  },
  {
   "cell_type": "code",
   "execution_count": null,
   "metadata": {},
   "outputs": [],
   "source": [
    "# Wrong example\n",
    "first_name = 'Michael'\n",
    "middle_name = 'Thomas'\n",
    "last_name = \"Moen\"\n",
    "occupation = 'student'"
   ]
  },
  {
   "cell_type": "markdown",
   "metadata": {},
   "source": [
    "In this example, inconsistent usage of single- and double-quoted strings is present."
   ]
  },
  {
   "cell_type": "code",
   "execution_count": null,
   "metadata": {},
   "outputs": [],
   "source": [
    "# Corrected example\n",
    "first_name = 'Michael'\n",
    "middle_name = 'Thomas'\n",
    "last_name = 'Moen'\n",
    "occupation = 'student'"
   ]
  },
  {
   "cell_type": "markdown",
   "metadata": {},
   "source": [
    "### Example 4"
   ]
  },
  {
   "cell_type": "code",
   "execution_count": null,
   "metadata": {},
   "outputs": [],
   "source": [
    "# Wrong example\n",
    "first_name = 'Michael'\n",
    "MiddleName = 'Thomas'\n",
    "lastname = 'Moen'\n",
    "OCCUPATION = 'student'"
   ]
  },
  {
   "cell_type": "markdown",
   "metadata": {},
   "source": [
    "In this example, the inconsistent variable naming conventions are standardized into a single style:"
   ]
  },
  {
   "cell_type": "code",
   "execution_count": null,
   "metadata": {},
   "outputs": [],
   "source": [
    "# Corrected example\n",
    "first_name = 'Michael'\n",
    "middle_name = 'Thomas'\n",
    "last_name = 'Moen'\n",
    "occupation = 'student'"
   ]
  },
  {
   "cell_type": "markdown",
   "metadata": {},
   "source": [
    "### Example 5"
   ]
  },
  {
   "cell_type": "code",
   "execution_count": null,
   "metadata": {},
   "outputs": [],
   "source": [
    "# Wrong example\n",
    "occupation = 'student'\n",
    "if not occupation is 'teacher':\n",
    "    print('User is not a teacher')"
   ]
  },
  {
   "cell_type": "markdown",
   "metadata": {},
   "source": [
    "In this example, the `not . . . is` construction is used. This is replaced with the `is not` construction, which is more readable."
   ]
  },
  {
   "cell_type": "code",
   "execution_count": null,
   "metadata": {},
   "outputs": [],
   "source": [
    "# Corrected example\n",
    "occupation = 'student'\n",
    "if occupation is not 'teacher':\n",
    "    print('User is not a teacher')"
   ]
  },
  {
   "cell_type": "markdown",
   "metadata": {},
   "source": [
    "### Example 6"
   ]
  },
  {
   "cell_type": "code",
   "execution_count": null,
   "metadata": {},
   "outputs": [],
   "source": [
    "# Wrong example\n",
    "num = 7 -2"
   ]
  },
  {
   "cell_type": "markdown",
   "metadata": {},
   "source": [
    "In this example, proper spacing is added for the `-` operator."
   ]
  },
  {
   "cell_type": "code",
   "execution_count": null,
   "metadata": {},
   "outputs": [],
   "source": [
    "# Corrected example\n",
    "num = 7 - 2"
   ]
  },
  {
   "cell_type": "markdown",
   "metadata": {},
   "source": [
    "### Example 7"
   ]
  },
  {
   "cell_type": "code",
   "execution_count": null,
   "metadata": {},
   "outputs": [],
   "source": [
    "# Wrong example\n",
    "num1 = num2 = num3 = num4 = num5 = 5\n",
    "sum = (num1 +\n",
    "       num2 +\n",
    "       num3 +\n",
    "       num4 +\n",
    "       num5)"
   ]
  },
  {
   "cell_type": "markdown",
   "metadata": {},
   "source": [
    "When operations span across multiple lines, the operator should be placed at the beginning of the line, rather than the end of it."
   ]
  },
  {
   "cell_type": "code",
   "execution_count": null,
   "metadata": {},
   "outputs": [],
   "source": [
    "# Corrected example\n",
    "num1 = num2 = num3 = num4 = num5 = 5\n",
    "sum = (num1\n",
    "       + num2\n",
    "       + num3\n",
    "       + num4\n",
    "       + num5)"
   ]
  },
  {
   "cell_type": "markdown",
   "metadata": {},
   "source": [
    "### Example 8"
   ]
  },
  {
   "cell_type": "code",
   "execution_count": null,
   "metadata": {},
   "outputs": [],
   "source": [
    "# Wrong example\n",
    "def find_circumference(RADIUS):\n",
    "    pi = 3.14\n",
    "    return 2 * RADIUS * pi"
   ]
  },
  {
   "cell_type": "markdown",
   "metadata": {},
   "source": [
    "The code block below makes proper usage of the convention that all caps in variable names is reserved for constants."
   ]
  },
  {
   "cell_type": "code",
   "execution_count": null,
   "metadata": {},
   "outputs": [],
   "source": [
    "# Corrected example\n",
    "def find_circumference(radius):\n",
    "    PI = 3.14\n",
    "    return 2 * radius * PI"
   ]
  },
  {
   "cell_type": "markdown",
   "metadata": {},
   "source": [
    "### Example 9"
   ]
  },
  {
   "cell_type": "code",
   "execution_count": null,
   "metadata": {},
   "outputs": [],
   "source": [
    "# Wrong example\n",
    "valid_id = True\n",
    "if valid_id == True:\n",
    "    print('success')"
   ]
  },
  {
   "cell_type": "markdown",
   "metadata": {},
   "source": [
    "The corrected code removes the redundancy of comparing a boolean value to a truth value."
   ]
  },
  {
   "cell_type": "code",
   "execution_count": null,
   "metadata": {},
   "outputs": [],
   "source": [
    "# Corrected example\n",
    "valid_id = True\n",
    "if valid_id:\n",
    "    print('success')"
   ]
  },
  {
   "cell_type": "markdown",
   "metadata": {},
   "source": [
    "### Example 10"
   ]
  },
  {
   "cell_type": "code",
   "execution_count": null,
   "metadata": {},
   "outputs": [],
   "source": [
    "# Wrong example\n",
    "import requests, math"
   ]
  },
  {
   "cell_type": "markdown",
   "metadata": {},
   "source": [
    "This example puts each import statement on its own line, consistent with the PEP8 recommendation."
   ]
  },
  {
   "cell_type": "code",
   "execution_count": null,
   "metadata": {},
   "outputs": [],
   "source": [
    "# Corrected example\n",
    "import requests\n",
    "import math"
   ]
  }
 ],
 "metadata": {
  "language_info": {
   "name": "python"
  }
 },
 "nbformat": 4,
 "nbformat_minor": 2
}
