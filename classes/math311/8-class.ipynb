{
 "cells": [
  {
   "cell_type": "markdown",
   "metadata": {},
   "source": [
    "# 8 - Secant Method"
   ]
  },
  {
   "cell_type": "markdown",
   "metadata": {},
   "source": [
    "The secant method is a variation of Newton's method, but we replace the tangent line at a point with the a secant line through two points.\n",
    "\n",
    "Let $x^*$ be the root of the equation $f(x)=0$ and suppose that $f(x)$ is nearly linear near $x^*$.\n",
    "\n",
    "Take two points $x_0$ and $x_1$ near $x^*$. By the definition of the derivative,\n",
    "\n",
    "$$ f'(x_1) = \\lim_{x \\to x_1} \\frac{f(x) - f(x_1)}{x - x_1} $$\n",
    "\n",
    "If we plug in $x_0$ for $x$:\n",
    "\n",
    "$$ f'(x_1) \\approx \\lim_{x_0 \\to x_1} \\frac{f(x_0) - f(x_1)}{x_0 - x_1} $$\n",
    "\n",
    "Now, we can consider the Taylor polynomial for $f(x)$, centered at $x_1:\n",
    "\n",
    "$$ f(x) = f(x_1) + (x - x_1)f'(x) + \\frac{(x-x_1)^2}{2}f''(\\xi_x) $$\n",
    "\n",
    "where $\\xi_x$ lies between $x$ and $x_1$. Since $f(x)$ is nearly linear about $x^*$, we know that $f''(x)=0$ near $x^*$.\n",
    "\n",
    "$$ 0 \\approx f(x_1) + (x^* - x_1) \\frac{f(x_1) - f(x_0)}{x_1 - x_0}, $$\n",
    "\n",
    "or\n",
    "\n",
    "$$ x^* \\approx x_1 - \\frac{f(x_1)}{\\frac{f(x_1) - f(x_0)}{x_1 - x_0}} $$"
   ]
  }
 ],
 "metadata": {
  "language_info": {
   "name": "python"
  }
 },
 "nbformat": 4,
 "nbformat_minor": 2
}