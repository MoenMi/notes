{
 "cells": [
  {
   "cell_type": "markdown",
   "metadata": {},
   "source": [
    "# Final Review"
   ]
  },
  {
   "cell_type": "markdown",
   "metadata": {},
   "source": [
    "## 1 - Numerical Integrations\n",
    "\n",
    "Use trapezoidal of Simpson's rules to compute the definite integral numerically."
   ]
  },
  {
   "cell_type": "markdown",
   "metadata": {},
   "source": [
    "### Exercise 1: Trapezoidal Rules\n",
    "\n",
    "Consider the integral\n",
    "\n",
    "$$ \\int_a^b e^{-5x^2} dx $$\n",
    "\n",
    "1. Write the formula to approximate the above integral using the trapezoidal rules with $n$ subintervals.\n",
    "\n",
    "    $$ \\int_a^b e^{-5x^2} dx \\approx ? $$"
   ]
  },
  {
   "cell_type": "markdown",
   "metadata": {},
   "source": [
    "$$\n",
    "\\begin{align*}\n",
    "    \\int_a^b e^{-5x^2} dx &\\approx \\frac{b - a}{2n} \\sum^{n-1}_{i = 0} e^{-5x_i^2} + e^{-5x_{i+1}^2}, & x_i = \\frac{b-a}{n} i\n",
    "\\end{align*}\n",
    "$$"
   ]
  },
  {
   "cell_type": "markdown",
   "metadata": {},
   "source": [
    "2. Write a function in Python to calculate this approximation with $n$ iterations."
   ]
  },
  {
   "cell_type": "code",
   "execution_count": 2,
   "metadata": {},
   "outputs": [],
   "source": [
    "import math\n",
    "\n",
    "def trapezoid_approx(fx, a : float, b : float, n : int) -> float:\n",
    "    total = 0\n",
    "    width = b - a\n",
    "    for i in range(n):\n",
    "        x_i = width * i / n\n",
    "        x_next = width * (i + 1) / n\n",
    "        total += fx(x_i) + fx(x_next)\n",
    "    return total * width / (2 * n)"
   ]
  },
  {
   "cell_type": "code",
   "execution_count": 3,
   "metadata": {},
   "outputs": [
    {
     "data": {
      "text/plain": [
       "0.39571174818043486"
      ]
     },
     "execution_count": 3,
     "metadata": {},
     "output_type": "execute_result"
    }
   ],
   "source": [
    "def fx(x : float) -> float:\n",
    "    return math.exp(-5 * x**2)\n",
    "\n",
    "a = 0\n",
    "b = 1\n",
    "n = 100\n",
    "trapezoid_approx(fx, a, b, n)"
   ]
  },
  {
   "cell_type": "markdown",
   "metadata": {},
   "source": [
    "3. Use the trapezoidal rules and determine the number of iterations to obtain the accuracy of the approximation up to 5 significant digits. Notice that the error can be estimated by\n",
    "\n",
    "    $$ E_n \\leq \\frac{M(b-a)^3}{12n^2} $$\n",
    "\n",
    "    where $M$ is the maximum of the absolute value of the second derivative $f''(x)$ on $[a, b]$. Once you obtain $n$, run your function again to get the new approximation for the integral."
   ]
  },
  {
   "cell_type": "markdown",
   "metadata": {},
   "source": [
    "$$\n",
    "\\begin{align*}\n",
    "    E_n & \\leq \\frac{M(b - a)^3}{12n^2} \\\\\n",
    "    10^{-5} &= \\frac{M(b - a)^3}{12n^2} \\\\\n",
    "    12n^2 * 10^{-5} &= M(b - a)^3 \\\\\n",
    "    n^2 &= \\frac{M(b - a)^3}{12 \\times 10^{-5}} \\\\\n",
    "    n &= \\sqrt{\\frac{M(b - a)^3}{12 \\times 10^{-5}}}\n",
    "\\end{align*}\n",
    "$$"
   ]
  },
  {
   "cell_type": "code",
   "execution_count": 4,
   "metadata": {},
   "outputs": [
    {
     "data": {
      "text/latex": [
       "$\\displaystyle - 10 x e^{- 5 x^{2}}$"
      ],
      "text/plain": [
       "-10*x*exp(-5*x**2)"
      ]
     },
     "execution_count": 4,
     "metadata": {},
     "output_type": "execute_result"
    }
   ],
   "source": [
    "import sympy as sp\n",
    "\n",
    "x = sp.symbols(\"x\")\n",
    "fx_sp = sp.exp(-5 * x**2)\n",
    "\n",
    "sp.diff(fx_sp, x, 1)"
   ]
  },
  {
   "cell_type": "code",
   "execution_count": 5,
   "metadata": {},
   "outputs": [
    {
     "data": {
      "text/latex": [
       "$\\displaystyle 10 \\cdot \\left(10 x^{2} - 1\\right) e^{- 5 x^{2}}$"
      ],
      "text/plain": [
       "10*(10*x**2 - 1)*exp(-5*x**2)"
      ]
     },
     "execution_count": 5,
     "metadata": {},
     "output_type": "execute_result"
    }
   ],
   "source": [
    "sp.diff(fx_sp, x, 2)"
   ]
  },
  {
   "cell_type": "code",
   "execution_count": 6,
   "metadata": {},
   "outputs": [
    {
     "data": {
      "text/latex": [
       "$\\displaystyle 100 x \\left(3 - 10 x^{2}\\right) e^{- 5 x^{2}}$"
      ],
      "text/plain": [
       "100*x*(3 - 10*x**2)*exp(-5*x**2)"
      ]
     },
     "execution_count": 6,
     "metadata": {},
     "output_type": "execute_result"
    }
   ],
   "source": [
    "sp.diff(fx_sp, x, 3)"
   ]
  },
  {
   "cell_type": "code",
   "execution_count": 7,
   "metadata": {},
   "outputs": [
    {
     "data": {
      "text/latex": [
       "$\\displaystyle 100 \\cdot \\left(100 x^{4} - 60 x^{2} + 3\\right) e^{- 5 x^{2}}$"
      ],
      "text/plain": [
       "100*(100*x**4 - 60*x**2 + 3)*exp(-5*x**2)"
      ]
     },
     "execution_count": 7,
     "metadata": {},
     "output_type": "execute_result"
    }
   ],
   "source": [
    "sp.diff(fx_sp, x, 4)"
   ]
  },
  {
   "cell_type": "markdown",
   "metadata": {},
   "source": [
    "$$\n",
    "\\begin{align*}\n",
    "    f(x) &= e^{-5x^2} \\\\\n",
    "    f'(x) &= -10xe^{-5x^2} \\\\\n",
    "    f''(x) &= 100x^2e^{-5x^2} - 10e^{-5x^2} \\\\\n",
    "    f'''(x) &= 300xe^{-5x^2} - 1000x^3e^{-5x^2} \\\\\n",
    "    f^{(4)}(x) &= 10000x^4e^{-5x^2} - 6000x^2e^{-5x^2} + 300e^{-5x^2}\n",
    "\\end{align*}\n",
    "$$"
   ]
  },
  {
   "cell_type": "markdown",
   "metadata": {},
   "source": [
    "$$\n",
    "\\begin{align*}\n",
    "    f'''(x) = 0 &= 300xe^{-5x^2} - 1000x^3e^{-5x^2} \\\\\n",
    "    1000x^3e^{-5x^2} &= 300xe^{-5x^2} \\\\\n",
    "    \\frac{10}{3}x^2 &= 1 \\\\\n",
    "    x &= \\pm \\sqrt{\\frac{3}{10}}\n",
    "\\end{align*}\n",
    "$$"
   ]
  },
  {
   "cell_type": "markdown",
   "metadata": {},
   "source": [
    "$$\n",
    "\\begin{align*}\n",
    "    f^{(4)}(x) &= 10000x^4e^{-5x^2} - 6000x^2e^{-5x^2} + 300e^{-5x^2} \\\\\n",
    "    &= 10000\\left(\\frac{9}{100}\\right)e^{-\\frac{3}{2}} - 6000\\left(\\frac{3}{10}\\right)e^{-\\frac{3}{2}} + 300e^{-\\frac{3}{2}} \\\\\n",
    "    &= 900e^{-\\frac{3}{2}} - 1800e^{-\\frac{3}{2}} + 300e^{-\\frac{3}{2}} \\\\\n",
    "    &= -1200e^{-\\frac{3}{2}}\n",
    "\\end{align*}\n",
    "$$\n",
    "\n",
    "This is positive, so $\\sqrt{\\frac{3}{10}}$ is a maximum of the second derivative."
   ]
  },
  {
   "cell_type": "code",
   "execution_count": 8,
   "metadata": {},
   "outputs": [
    {
     "data": {
      "text/plain": [
       "0.3957007363966643"
      ]
     },
     "execution_count": 8,
     "metadata": {},
     "output_type": "execute_result"
    }
   ],
   "source": [
    "a = 0\n",
    "b = 1\n",
    "M = 0.3**0.5\n",
    "n = math.ceil((M * (b - a)**3 / (12 * 10e-5))**0.5)\n",
    "trapezoid_approx(fx, a, b, n)"
   ]
  },
  {
   "cell_type": "markdown",
   "metadata": {},
   "source": [
    "### Exercise 2: Simpson's Rules\n",
    "\n",
    "Consider the integral\n",
    "\n",
    "$$ \\int_0^{\\pi} \\sin(e^x) dx $$\n",
    "\n",
    "Determine the number of iterations $n$ to obtain the accuracy of the Simpson's approximation up to 5 significant digits. Notice that the error can be estimated by\n",
    "\n",
    "$$ E_n \\leq \\frac{M(b - a)^5}{180n^4} $$\n",
    "\n",
    "where $M$ is the maximum of the absolute value of the 4th derivative of $f^{(4)}(x)$ on $[a, b]$."
   ]
  },
  {
   "cell_type": "markdown",
   "metadata": {},
   "source": [
    "### Exercise 3: Computing an Integral Using Two Approaches\n",
    "\n",
    "In this exercise, you will compute the integral of a function using two distinct approaches: a pure Python loop and NumPy’s vectorized operations. The objective is to compare the efficiency of both methods in terms of execution time. You will integrate the function $f(x) = \\sin(x^2)$ over the interval\n",
    "$[0, 2]$. We will only use the trapezoidal rule for the numerical integral in this problem.\n",
    "\n",
    "#### Task 1: Pure Python Loop\n",
    "\n",
    "Write a function using pure Python loops to compute the integral:\n",
    "\n",
    "$$ \\int_0^2 \\sin(x^2) dx $$"
   ]
  },
  {
   "cell_type": "code",
   "execution_count": 9,
   "metadata": {},
   "outputs": [],
   "source": [
    "import time\n",
    "\n",
    "def loop_trapz_int(f, a, b, n):\n",
    "    start_time = time.time()\n",
    "    int_val = 0\n",
    "\n",
    "    width = b - a\n",
    "    for i in range(n):\n",
    "        xi = a + width * i / n\n",
    "        x_next = a + width * (i + 1) / n\n",
    "        int_val += f(xi) + f(x_next)\n",
    "    int_val *= width / (2 * n)\n",
    "\n",
    "    end_time = time.time()\n",
    "    computed_time = end_time - start_time\n",
    "    return int_val, computed_time"
   ]
  },
  {
   "cell_type": "code",
   "execution_count": 10,
   "metadata": {},
   "outputs": [
    {
     "name": "stdout",
     "output_type": "stream",
     "text": [
      "Integral approximation: 0.8047756178175947, computed time: 0.003964900970458984 seconds\n"
     ]
    }
   ],
   "source": [
    "import math\n",
    "\n",
    "def f_loop(x):\n",
    "    return math.sin(x**2)\n",
    "\n",
    "a = 0\n",
    "b = 2\n",
    "n = 1000\n",
    "\n",
    "int_val, computed_time = loop_trapz_int(f_loop, a, b, n)\n",
    "print(f'Integral approximation: {int_val}, computed time: {computed_time} seconds')"
   ]
  },
  {
   "cell_type": "markdown",
   "metadata": {},
   "source": [
    "#### Task 2: NumPy Vectorization"
   ]
  },
  {
   "cell_type": "code",
   "execution_count": 11,
   "metadata": {},
   "outputs": [],
   "source": [
    "import numpy as np\n",
    "import time\n",
    "\n",
    "def np_trapz_int(f, a, b, n):\n",
    "    start_time = time.time()\n",
    "\n",
    "    x = np.linspace(a, b, n+1)\n",
    "    areas = (f(x[:-1]) + f(x[1:])) / 2\n",
    "    int_val = areas.sum() * (b - a) / n\n",
    "\n",
    "    end_time = time.time()\n",
    "    computed_time = end_time - start_time\n",
    "    return int_val, computed_time"
   ]
  },
  {
   "cell_type": "code",
   "execution_count": 12,
   "metadata": {},
   "outputs": [
    {
     "name": "stdout",
     "output_type": "stream",
     "text": [
      "Integral approximation: 0.8047756178175949, computed time: 0.0 seconds\n"
     ]
    }
   ],
   "source": [
    "def f_np(x):\n",
    "    return np.sin(x**2)\n",
    "\n",
    "a = 0\n",
    "b = 2\n",
    "n = 1000\n",
    "\n",
    "int_val, computed_time = np_trapz_int(f_np, a, b, n)\n",
    "print(f'Integral approximation: {int_val}, computed time: {computed_time} seconds')"
   ]
  },
  {
   "cell_type": "code",
   "execution_count": 13,
   "metadata": {},
   "outputs": [
    {
     "data": {
      "image/png": "[encoded data removed]",
      "text/plain": [
       "<Figure size 640x480 with 1 Axes>"
      ]
     },
     "metadata": {},
     "output_type": "display_data"
    }
   ],
   "source": [
    "import matplotlib.pyplot as plt\n",
    "\n",
    "n_values = np.linspace(100, 5000, 100, dtype=int)\n",
    "loop_values = [loop_trapz_int(f_loop, a, b, n)[1] for n in n_values]\n",
    "np_values = [np_trapz_int(f_np, a, b, n)[1] for n in n_values]\n",
    "\n",
    "plt.plot(n_values, loop_values, label=\"Loop Times\", color='blue')\n",
    "plt.plot(n_values, np_values, label=\"NumPy Times\", color='green')\n",
    "plt.title(\"Loop vs. NumPy Time\")\n",
    "plt.xlabel(\"n\")\n",
    "plt.ylabel(\"Time (sec)\")\n",
    "plt.show()"
   ]
  },
  {
   "cell_type": "markdown",
   "metadata": {},
   "source": [
    "## 2 - Finding Roots\n",
    "\n",
    "Find the roots of a function using the Newton-Raphson method.\n",
    "\n",
    "Consider the equation\n",
    "\n",
    "$$ x^3 + x - \\lambda = 0 $$\n",
    "\n",
    "where $\\lambda$ is a positive real number.\n",
    "\n",
    "1. Determine the Newton iteration function and the iterative formula to compute $x_{n+1}$ in terms of $x_n$. For instance\n",
    "\n",
    "    $$ x_{n+1} = \\frac{x_n}{2} + \\frac{5}{2x_n} $$\n",
    "\n",
    "    is the iterative formula for Newton method to compute the square root of 5."
   ]
  },
  {
   "cell_type": "markdown",
   "metadata": {},
   "source": [
    "$$ x_{n+1} = x_n - \\frac{f(x_n)}{f'(x_n)} $$\n",
    "\n",
    "$$ f(x) = x^3 + x - \\lambda $$\n",
    "\n",
    "$$ f'(x) = 3x^2 + 1 $$\n",
    "\n",
    "$$ x_{n+1} = x_n - \\frac{x_n^3 + x_n - \\lambda}{3x_n^2 + 1} $$"
   ]
  },
  {
   "cell_type": "markdown",
   "metadata": {},
   "source": [
    "2. Write a function in Python to find the root of the equation with random $\\lambda \\in (1, 15)$."
   ]
  },
  {
   "cell_type": "code",
   "execution_count": 14,
   "metadata": {},
   "outputs": [],
   "source": [
    "def newton_raphson(f, df, lamb, n, initial_guess):\n",
    "    xn = initial_guess\n",
    "    for _ in range(n):\n",
    "        xn = xn - f(xn, lamb) / df(xn)\n",
    "    return xn"
   ]
  },
  {
   "cell_type": "code",
   "execution_count": 15,
   "metadata": {},
   "outputs": [
    {
     "data": {
      "text/plain": [
       "(1.7941293443971023, 0.9464174813819888)"
      ]
     },
     "execution_count": 15,
     "metadata": {},
     "output_type": "execute_result"
    }
   ],
   "source": [
    "import random\n",
    "\n",
    "def fx(x, lamb):\n",
    "    return x**3 + x - lamb\n",
    "\n",
    "def dfx(x):\n",
    "    return 3 * x**2 + 1\n",
    "\n",
    "initial_guess = 2\n",
    "a = 1\n",
    "b = 15\n",
    "lamb = random.uniform(a, b)\n",
    "n = 100\n",
    "\n",
    "lamb, newton_raphson(fx, dfx, lamb, n, initial_guess)"
   ]
  },
  {
   "cell_type": "markdown",
   "metadata": {},
   "source": [
    "## 3 - Polynomial Interpolations\n",
    "\n",
    "Utilize the Vandermonde matrix and polynomial interpolation to find the interpolating polynomial that passes through the given points. Additionally, plot the resulting polynomial and points for visualization.\n",
    "\n",
    "Consider the points (-2, 5), (-1, -2), (0, 1), (2, 3), (3, 0).\n",
    "- Use the Vandermonde matrix method to find the coefficients of the interpolating polynomial $p(x)$ that passes through the given points.\n",
    "- Plot the resulting polynomial and given points."
   ]
  },
  {
   "cell_type": "code",
   "execution_count": 16,
   "metadata": {},
   "outputs": [],
   "source": [
    "x_values = [-2, -1, 0, 2, 3]\n",
    "y_values = [5, -2, 1, 3, 0]\n",
    "vandermonde_matrix = np.vander(x_values)\n",
    "a, b, c, d, e = np.linalg.solve(vandermonde_matrix, y_values)"
   ]
  },
  {
   "cell_type": "code",
   "execution_count": 17,
   "metadata": {},
   "outputs": [
    {
     "data": {
      "image/png": "[encoded data removed]",
      "text/plain": [
       "<Figure size 640x480 with 1 Axes>"
      ]
     },
     "metadata": {},
     "output_type": "display_data"
    }
   ],
   "source": [
    "def p(x, a, b, c, d, e):\n",
    "    return a*x**4 + b*x**3 + c*x**2 + d*x + e\n",
    "\n",
    "px_values = np.linspace(-3, 4, 100)\n",
    "py_values = p(px_values, a, b, c, d, e)\n",
    "\n",
    "plt.plot(px_values, py_values, 'b-')\n",
    "plt.plot(x_values, y_values, 'r.')\n",
    "plt.grid(True)\n",
    "plt.show()"
   ]
  },
  {
   "cell_type": "markdown",
   "metadata": {},
   "source": [
    "## 4 - Singular Value Decomposition\n",
    "\n",
    "### Exercise 1: Manual SVD\n",
    "\n",
    "- Generate a random $4 \\times 6$ matrix $A$ of integers.\n",
    "- Compute $AA^T$ to find the left singular vectors and singular values.\n",
    "- Construct the matrix $U$ and $\\Sigma$ from the eigenvectors and eigenvalues, respectively.\n",
    "- Determine the right singular vectors to form the matrix $V^T$.\n",
    "- Implement a Python function that performs these steps and returns $U$, $\\Sigma$, and $V^T$."
   ]
  },
  {
   "cell_type": "code",
   "execution_count": 38,
   "metadata": {},
   "outputs": [],
   "source": [
    "def manual_svd(A):\n",
    "    \n",
    "    # Find U\n",
    "    AAT = A @ A.T\n",
    "    left_eigenvalues, left_eigenvectors = np.linalg.eig(AAT)\n",
    "    sorted_idx = left_eigenvalues.argsort()[::-1]\n",
    "    left_eigenvalues = left_eigenvalues[sorted_idx]\n",
    "    U = left_eigenvectors[:, sorted_idx]\n",
    "\n",
    "    # Find Sigma\n",
    "    Sigma = np.zeros(A.shape)\n",
    "    for i in range(min(A.shape)):\n",
    "        Sigma[i, i] = np.sqrt(left_eigenvalues[i])\n",
    "\n",
    "    # Find VT\n",
    "    ATA = A.T @ A\n",
    "    right_eigenvalues, right_eigenvectors = np.linalg.eig(ATA)\n",
    "    sorted_idx = right_eigenvalues.argsort()[::-1]\n",
    "    VT = right_eigenvectors[:, sorted_idx]\n",
    "\n",
    "    return U, Sigma, VT"
   ]
  },
  {
   "cell_type": "code",
   "execution_count": 39,
   "metadata": {},
   "outputs": [
    {
     "data": {
      "text/plain": [
       "(array([[ 0.54370726, -0.30360853,  0.16199804, -0.76548083],\n",
       "        [-0.55699095,  0.56662191,  0.10722147, -0.59766566],\n",
       "        [-0.46709267, -0.55394987,  0.68835584,  0.03361877],\n",
       "        [ 0.41948532,  0.52905672,  0.69887512,  0.23601829]]),\n",
       " array([[20.75500115,  0.        ,  0.        ,  0.        ,  0.        ,\n",
       "          0.        ],\n",
       "        [ 0.        , 16.37225388,  0.        ,  0.        ,  0.        ,\n",
       "          0.        ],\n",
       "        [ 0.        ,  0.        , 11.95620695,  0.        ,  0.        ,\n",
       "          0.        ],\n",
       "        [ 0.        ,  0.        ,  0.        ,  4.92222972,  0.        ,\n",
       "          0.        ]]),\n",
       " array([[ 0.03800108,  0.22214106, -0.30586555, -0.60187966, -0.66950065,\n",
       "          0.34717419],\n",
       "        [ 0.23676044, -0.7527406 , -0.18638099,  0.01392015, -0.31933239,\n",
       "         -0.41315208],\n",
       "        [-0.1357771 ,  0.08711393, -0.91586425,  0.06923285,  0.35239424,\n",
       "         -0.15029991],\n",
       "        [ 0.40865414,  0.32612807, -0.14573869,  0.71874382, -0.43123976,\n",
       "          0.14187348],\n",
       "        [ 0.63457555, -0.31301634, -0.08112151, -0.11683921,  0.27578351,\n",
       "          0.56358143],\n",
       "        [-0.5952988 , -0.41485823, -0.07127835,  0.32017158, -0.25217005,\n",
       "          0.59028237]]))"
      ]
     },
     "execution_count": 39,
     "metadata": {},
     "output_type": "execute_result"
    }
   ],
   "source": [
    "A = np.random.randint(-10, 10, size=(4, 6))\n",
    "\n",
    "manual_svd(A)"
   ]
  },
  {
   "cell_type": "markdown",
   "metadata": {},
   "source": [
    "### Exercise 2: Numerical Solution of Differential Equations"
   ]
  },
  {
   "cell_type": "code",
   "execution_count": 65,
   "metadata": {},
   "outputs": [],
   "source": [
    "def rk4(fx, t0, y0, t_end, h, a, b):\n",
    "    t_values = [t0]\n",
    "    y_values = [y0]\n",
    "    t = t0\n",
    "    y = y0\n",
    "    while t < t_end:\n",
    "        k1 = fx(y, a, b)\n",
    "        k2 = fx(y + h*k1/2, a, b)\n",
    "        k3 = fx(y + h*k2/2, a, b)\n",
    "        k4 = fx(y + h*k3, a, b)\n",
    "        t += h\n",
    "        y = y + (k1 + 2*k2 + 2*k3 + k4) * h/6\n",
    "        t_values.append(t)\n",
    "        y_values.append(y)\n",
    "    return np.array(t_values), np.array(y_values)"
   ]
  },
  {
   "cell_type": "code",
   "execution_count": 66,
   "metadata": {},
   "outputs": [],
   "source": [
    "def f(y, a, b):\n",
    "    A = np.array([[a, -b], [a, b]])\n",
    "    return A @ y\n",
    "\n",
    "t0 = 0\n",
    "y0 = np.array([0.5, 0.8])\n",
    "t_end = 10\n",
    "h = 0.1\n",
    "\n",
    "a, b = -5, 3\n",
    "\n",
    "t_values, y_values = rk4(f, t0, y0, t_end, h, a, b)"
   ]
  },
  {
   "cell_type": "code",
   "execution_count": 69,
   "metadata": {},
   "outputs": [
    {
     "data": {
      "image/png": "[encoded data removed]",
      "text/plain": [
       "<Figure size 1200x600 with 2 Axes>"
      ]
     },
     "metadata": {},
     "output_type": "display_data"
    }
   ],
   "source": [
    "# Create subplots\n",
    "fig, axs = plt.subplots(1, 2, figsize=(12, 6))\n",
    "\n",
    "# Plot x(t)\n",
    "axs[0].plot(t_values, y_values[:, 0], label=\"x(t)\", color=\"blue\")\n",
    "axs[0].set_xlabel(\"Time\")\n",
    "axs[0].set_ylabel(\"Value\")\n",
    "axs[0].set_title(\"x(t)\")\n",
    "axs[0].legend()\n",
    "axs[0].grid(True)\n",
    "\n",
    "# Plot y(t)\n",
    "axs[1].plot(t_values, y_values[:, 1], label=\"y(t)\", color=\"red\")\n",
    "axs[1].set_xlabel(\"Time\")\n",
    "axs[1].set_ylabel(\"Value\")\n",
    "axs[1].set_title(\"y(t)\")\n",
    "axs[1].legend()\n",
    "axs[1].grid(True)\n",
    "\n",
    "plt.tight_layout()\n",
    "plt.show()"
   ]
  },
  {
   "cell_type": "code",
   "execution_count": 71,
   "metadata": {},
   "outputs": [],
   "source": [
    "def manual_svd(A):\n",
    "\n",
    "    AAT = A @ A.T\n",
    "    left_eigenvalues, left_eigenvectors = np.linalg.eig(AAT)\n",
    "    sorted_idx = left_eigenvalues.argsort()[::-1]\n",
    "    left_eigenvectors = left_eigenvectors[:, sorted_idx]\n",
    "    U = left_eigenvectors\n",
    "\n",
    "    Sigma = np.zeros(A.shape)\n",
    "    left_eigenvalues = left_eigenvalues[sorted_idx]\n",
    "    for i in range(min(A.shape)):\n",
    "        Sigma[i, i] = np.sqrt(left_eigenvalues[i])   \n",
    "\n",
    "    ATA = A.T @ A\n",
    "    right_eigenvalues, right_eigenvectors = np.linalg.eig(ATA)\n",
    "    sorted_idx = right_eigenvalues.argsort()[::-1]\n",
    "    right_eigenvectors = right_eigenvectors[:, sorted_idx]\n",
    "    VT = right_eigenvectors\n",
    "\n",
    "    return U, Sigma, VT"
   ]
  },
  {
   "cell_type": "code",
   "execution_count": 72,
   "metadata": {},
   "outputs": [
    {
     "data": {
      "text/plain": [
       "(array([[-0.79119478, -0.3524494 , -0.37343641, -0.33216786],\n",
       "        [ 0.20730103, -0.75791054,  0.54170287, -0.29858986],\n",
       "        [ 0.34955566, -0.53088641, -0.63283269,  0.44214618],\n",
       "        [ 0.45699884,  0.13968057, -0.40819852, -0.77782733]]),\n",
       " array([[20.27842613,  0.        ,  0.        ,  0.        ,  0.        ,\n",
       "          0.        ],\n",
       "        [ 0.        , 18.78315667,  0.        ,  0.        ,  0.        ,\n",
       "          0.        ],\n",
       "        [ 0.        ,  0.        , 12.50738694,  0.        ,  0.        ,\n",
       "          0.        ],\n",
       "        [ 0.        ,  0.        ,  0.        ,  2.92296623,  0.        ,\n",
       "          0.        ]]),\n",
       " array([[-0.36876107+0.j        ,  0.25236454+0.j        ,\n",
       "          0.21072831+0.j        , -0.44143504+0.j        ,\n",
       "          0.11810287+0.17634207j,  0.11810287-0.17634207j],\n",
       "        [ 0.5022564 +0.j        ,  0.15523168+0.j        ,\n",
       "         -0.40542324+0.j        ,  0.07800957+0.j        ,\n",
       "         -0.56843723+0.13815502j, -0.56843723-0.13815502j],\n",
       "        [ 0.11701496+0.j        ,  0.41892385+0.j        ,\n",
       "         -0.13220107+0.j        , -0.74317504+0.j        ,\n",
       "         -0.15312229-0.10731256j, -0.15312229+0.10731256j],\n",
       "        [ 0.11535851+0.j        , -0.81821688+0.j        ,\n",
       "         -0.2571198 +0.j        , -0.48248666+0.j        ,\n",
       "          0.0778887 +0.02320985j,  0.0778887 -0.02320985j],\n",
       "        [-0.62859353+0.j        , -0.20562754+0.j        ,\n",
       "          0.06181596+0.j        ,  0.01309905+0.j        ,\n",
       "         -0.71235271+0.j        , -0.71235271-0.j        ],\n",
       "        [ 0.43545824+0.j        , -0.15797636+0.j        ,\n",
       "          0.83893781+0.j        , -0.11736911+0.j        ,\n",
       "         -0.25213635+0.01267301j, -0.25213635-0.01267301j]]))"
      ]
     },
     "execution_count": 72,
     "metadata": {},
     "output_type": "execute_result"
    }
   ],
   "source": [
    "A = np.random.randint(-10, 10, size=(4, 6))\n",
    "\n",
    "manual_svd(A)"
   ]
  }
 ],
 "metadata": {
  "kernelspec": {
   "display_name": "math311",
   "language": "python",
   "name": "python3"
  },
  "language_info": {
   "codemirror_mode": {
    "name": "ipython",
    "version": 3
   },
   "file_extension": ".py",
   "mimetype": "text/x-python",
   "name": "python",
   "nbconvert_exporter": "python",
   "pygments_lexer": "ipython3",
   "version": "3.10.13"
  }
 },
 "nbformat": 4,
 "nbformat_minor": 2
}
