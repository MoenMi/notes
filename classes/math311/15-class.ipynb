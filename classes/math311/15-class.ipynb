{
 "cells": [
  {
   "cell_type": "markdown",
   "metadata": {},
   "source": [
    "# 15 - Object Oriented Programming"
   ]
  },
  {
   "cell_type": "markdown",
   "metadata": {},
   "source": [
    "## 15.1 Object-Oriented Programming\n",
    "\n",
    "### OOP Concepts\n",
    "\n",
    "OOP revolves around 4 fundamental concepts:\n",
    "1. **Encapsulation** is the bundling of data (attributes) and methods (functions) that operate on the data into a single unit, or class. It restricts direct access to some of the object's components, which can prevent the accidental modification of data. To achieve encapsulation:\n",
    "    - Attributes and methods are defined within a class.\n",
    "    - Access modifiers (`public`, `private`, `protected`) control the accessibility of these attributes and methods outside the class.\n",
    "2. **Abstraction** involves hiding complex implementation details and showing only the essential features of the object. In other words, it focuses on what an object does instead of how it does it. Abstraction is achieved through:\n",
    "    - Abstract classes and interfaces.\n",
    "    - Providing simple user interfaces for complex systems.\n",
    "3. **Inheritance** is a mechanism for creating new classes from existing ones. The new class inherits attributes and methods of the existing class, allowing for the reuse of code and creation of hierarchical class structures. Inheritance enables:\n",
    "    - Code reusability by inheriting properties and behavior from existing classes.\n",
    "    - The creation of a class hierarchy that represents real-world relationships among objects.\n",
    "4. **Polymorphism** means many forms. It allows objects of different classes to be treated as objects of a common superclass. The most common use of polymorphism is when a parent class reference is used to refer to a child class object.\n",
    "\n",
    "### OOP in Python\n",
    "\n",
    "Python is an object-oriented language, and everything in Python is an object, with its properties and methods. A simple class definition looks like this:"
   ]
  },
  {
   "cell_type": "code",
   "execution_count": null,
   "metadata": {},
   "outputs": [],
   "source": [
    "class MyClass:\n",
    "    def __init__(self, attribute_value):\n",
    "        self.attribute = attribute_value\n",
    "    \n",
    "    def method(self):\n",
    "        return self.attribute"
   ]
  },
  {
   "cell_type": "markdown",
   "metadata": {},
   "source": [
    "This example includes:\n",
    "- The class `MyClass` with a constructor `__init__`, which initializes the object's attributes.\n",
    "- A method, named `method`, that acts on the data of the object."
   ]
  },
  {
   "cell_type": "markdown",
   "metadata": {},
   "source": [
    "## 15.2 - Dictionaries in Python\n",
    "\n",
    "In Python, dictionaries are both a data type and an instance of a class:\n",
    "- As built-in data types, dictionaries are highly optimized for a specific use case: mapping keys to values. Dictionaries are defined by curly braces `{}` with key-value pairs and separated by commas `,`. This data type is mutable, so you can change its data without changing its identity.\n",
    "- Python dictionaries are also implemented as instances of the `dict` class. This means that when you create a dictionary, you are essentially creating an object of the `dict` class. The `dict` class provides various methods that you can perform on a dictionary, such as `.get()`, `.items()`, `.keys()`, and `.values()`.\n",
    "\n",
    "### Example: Evaluate a Function\n",
    "\n",
    "Given a function $f(x) = ae^{-kx}$, implement a class in Python to compute the value of this function at any $x$. Notice that $a$ and $k$ are two attributes and write a method to evaluate `(self, x)` to compute the value of $f(x)$ at $x$."
   ]
  },
  {
   "cell_type": "code",
   "execution_count": 2,
   "metadata": {},
   "outputs": [],
   "source": [
    "import math\n",
    "\n",
    "class ExponentialFunction:\n",
    "    def __init__(self, a, k):\n",
    "        self.a = a\n",
    "        self.k = k\n",
    "        \n",
    "    def compute(self, x):\n",
    "        return self.a * math.exp(-1 * self.k * x)"
   ]
  },
  {
   "cell_type": "code",
   "execution_count": 3,
   "metadata": {},
   "outputs": [
    {
     "data": {
      "text/plain": [
       "2.718281828459045"
      ]
     },
     "execution_count": 3,
     "metadata": {},
     "output_type": "execute_result"
    }
   ],
   "source": [
    "f = ExponentialFunction(1, -1)\n",
    "f.compute(1)"
   ]
  },
  {
   "cell_type": "markdown",
   "metadata": {},
   "source": [
    "## 15.3: Modules in Python\n",
    "\n",
    "A module in Python is simply a file containing Python definitions, functions, and statements. The file name is the module name with the suffix .py added.\n",
    "\n",
    "Why use modules:\n",
    "- Reusability: Write once, use many times\n",
    "- Namespace separation: Avoid conflicts between identifiers\n",
    "- Organizational: Make the code structurally organized and more readable\n",
    "\n",
    "A typical module may look like this:"
   ]
  },
  {
   "cell_type": "code",
   "execution_count": 4,
   "metadata": {},
   "outputs": [
    {
     "name": "stdout",
     "output_type": "stream",
     "text": [
      "Hello World\n"
     ]
    }
   ],
   "source": [
    "# This is the content of a file, named my_module.py\n",
    "\n",
    "import os\n",
    "\n",
    "version = '1.0'\n",
    "\n",
    "def my_function():\n",
    "    print('Hello World')\n",
    "\n",
    "class MyClass:\n",
    "    def __init__(self, a):\n",
    "        self.a = a\n",
    "    \n",
    "    def a_simple_method(self):\n",
    "        return self.a\n",
    "\n",
    "# Test your function within the module\n",
    "if __name__ == '__main__':\n",
    "    my_function()"
   ]
  },
  {
   "cell_type": "markdown",
   "metadata": {},
   "source": [
    "Conventions to follow:\n",
    "- Naming: Use all lowercase and underscore for separating words if necessary. Avoid using special symbols and leading underscores.\n",
    "- Documentation: Use docstrings to describe the module and its functions/classes.\n",
    "- Executable section: Use `if __name__ == 'main':` to allow your module to be runable as a script as well as importable as a module."
   ]
  }
 ],
 "metadata": {
  "kernelspec": {
   "display_name": "math311",
   "language": "python",
   "name": "python3"
  },
  "language_info": {
   "codemirror_mode": {
    "name": "ipython",
    "version": 3
   },
   "file_extension": ".py",
   "mimetype": "text/x-python",
   "name": "python",
   "nbconvert_exporter": "python",
   "pygments_lexer": "ipython3",
   "version": "3.10.13"
  }
 },
 "nbformat": 4,
 "nbformat_minor": 2
}
