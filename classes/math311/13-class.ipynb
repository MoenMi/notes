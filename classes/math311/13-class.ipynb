{
 "cells": [
  {
   "cell_type": "markdown",
   "metadata": {},
   "source": [
    "# 13 - Polynomial Interpolations"
   ]
  },
  {
   "cell_type": "markdown",
   "metadata": {},
   "source": [
    "## 13.1 - Using Systems of Equations\n",
    "\n",
    "Given $n + 1$ distinct data points $(x_0, y_0), \\dots, (x_n, y_n)$, there exists a unique polynomial of degree at most $n$,\n",
    "\n",
    "$$ P_n(x) = a_0 + a_1 x + \\dots + a_n x^n, $$\n",
    "\n",
    "that exactly fits these points, meaning $P_n(x_k) = y_k$ for each $k = 0, \\dots, n$. The coefficients $a_k$ are to be determined, with each data point providing one equation in the system:\n",
    "\n",
    "$$\n",
    "\\begin{align*}\n",
    "    a_0 + a_1 x_0 + \\dots + a_n x_0^n &= y_0 \\\\\n",
    "    a_0 + a_1 x_1 + \\dots + a_n x_1^n &= y_1 \\\\\n",
    "    &\\vdots \\\\\n",
    "    a_0 + a_1 x_n + \\dots + a_n x_n^n &= y_n\n",
    "\\end{align*}\n",
    "$$\n",
    "\n",
    "This system of equations can be correctly written as $A\\textbf{a} = \\textbf{y}$, where $\\textbf{a} = [a_0, a_1, \\dots, a_n]^T$ is the vector of unknown coefficients, $\\textbf{y} = [y_0, y_1, \\dots, y_n]^T$ is the vector of given $y$ values, and the coefficient matrix $A$, known as a **Vandermonde matrix**, is defined by\n",
    "\n",
    "$$\n",
    "A =\n",
    "\\begin{bmatrix}\n",
    "    1 & x_0 & \\dots & x_0^n \\\\\n",
    "    1 & x_1 & \\dots & x_1^n \\\\\n",
    "    \\vdots & \\vdots & \\ddots & \\vdots \\\\\n",
    "    1 & x_n & \\dots & x_n^n\n",
    "\\end{bmatrix}\n",
    "$$\n",
    "\n",
    "The uniqueness of the polynomial is guaranteed provided that no two $x_k$ are the same, i.e., the $x_k$ are distinct. This theorem forms the basis of polynomial interpolation, a fundamental concept in numerical analysis and approximation theory.\n",
    "\n",
    "### Example 1\n",
    "\n",
    "To interpolate a polynomial through the data points $(-1, 1), (0, 1),$ and $(1, 3)$, we can use the Vandermonde matrix approach for polynomial interpolation. This method involves creating a Vandermonde matrix from the $x$ values of our data points and solving the linear system using `scipy.linalg.solve` to find the coefficients of the polynomial that fits these points."
   ]
  },
  {
   "cell_type": "code",
   "execution_count": 1,
   "metadata": {},
   "outputs": [
    {
     "data": {
      "text/plain": [
       "array([[ 1, -1,  1],\n",
       "       [ 1,  0,  0],\n",
       "       [ 1,  1,  1]])"
      ]
     },
     "execution_count": 1,
     "metadata": {},
     "output_type": "execute_result"
    }
   ],
   "source": [
    "import numpy as np\n",
    "\n",
    "x = np.array([-1, 0, 1])\n",
    "y = np.array([1, 1, 3])\n",
    "\n",
    "A = np.vander(x, increasing=True)\n",
    "A"
   ]
  },
  {
   "cell_type": "code",
   "execution_count": 2,
   "metadata": {},
   "outputs": [
    {
     "data": {
      "text/plain": [
       "array([1., 1., 1.])"
      ]
     },
     "execution_count": 2,
     "metadata": {},
     "output_type": "execute_result"
    }
   ],
   "source": [
    "a = np.linalg.solve(A, y)\n",
    "a"
   ]
  },
  {
   "cell_type": "markdown",
   "metadata": {},
   "source": [
    "The array above contains the polynomial coefficients of the polynomial.\n",
    "\n",
    "### Example 2\n",
    "\n",
    "Find a cubic polynomial that interpolates the points $(0, 2), (1, 1), (2, 4),$ and $(3, -1)$.\n",
    "\n",
    "The polynomial will be in the form\n",
    "\n",
    "$$ p(x) = a_0 + a_1 x + a_2 x^2 + a_3 x^3 $$\n",
    "\n",
    "where $a_0, a_1, a_2,$ and $a_3$ are the coefficients."
   ]
  },
  {
   "cell_type": "code",
   "execution_count": 3,
   "metadata": {},
   "outputs": [
    {
     "data": {
      "text/plain": [
       "array([ 2., -7.,  8., -2.])"
      ]
     },
     "execution_count": 3,
     "metadata": {},
     "output_type": "execute_result"
    }
   ],
   "source": [
    "x = np.array([0, 1, 2, 3])\n",
    "y = np.array([2, 1, 4, -1])\n",
    "\n",
    "A = np.vander(x, increasing=True)\n",
    "\n",
    "a = np.linalg.solve(A, y)\n",
    "\n",
    "a"
   ]
  },
  {
   "cell_type": "code",
   "execution_count": 6,
   "metadata": {},
   "outputs": [
    {
     "data": {
      "image/png": "[encoded data removed]",
      "text/plain": [
       "<Figure size 640x480 with 1 Axes>"
      ]
     },
     "metadata": {},
     "output_type": "display_data"
    }
   ],
   "source": [
    "import matplotlib.pyplot as plt\n",
    "\n",
    "x_vals = np.linspace(-1, 4, 100)\n",
    "y_vals = a[0] + a[1] * x_vals + a[2] * x_vals**2 + a[3] * x_vals**3\n",
    "\n",
    "plt.plot(x_vals, y_vals, 'b-')\n",
    "plt.plot(x, y, 'r.', markersize=15)\n",
    "plt.grid(True)\n",
    "plt.show()"
   ]
  },
  {
   "cell_type": "markdown",
   "metadata": {},
   "source": [
    "## 13.2 - Impact of Noise in Polynomial Interpolation\n",
    "\n",
    "Polynomial interpolation can provide an accurate approximation of the underlying function. It's important to consider the presence of noise in real-world data, as it can significantly affect the interpolation results. Let's consider the following scenarios:"
   ]
  },
  {
   "cell_type": "code",
   "execution_count": 10,
   "metadata": {},
   "outputs": [
    {
     "data": {
      "image/png": "[encoded data removed]",
      "text/plain": [
       "<Figure size 640x480 with 1 Axes>"
      ]
     },
     "metadata": {},
     "output_type": "display_data"
    }
   ],
   "source": [
    "n = 10\n",
    "x = np.linspace(0, 1, n + 1)\n",
    "y = np.sin(np.pi * x)\n",
    "plt.plot(x, y, 'r.', markersize=15)\n",
    "plt.grid(True)\n",
    "plt.show()"
   ]
  },
  {
   "cell_type": "markdown",
   "metadata": {},
   "source": [
    "Now, we can interpolate to obtain a polynomial."
   ]
  },
  {
   "cell_type": "code",
   "execution_count": 11,
   "metadata": {},
   "outputs": [
    {
     "data": {
      "image/png": "[encoded data removed]",
      "text/plain": [
       "<Figure size 640x480 with 1 Axes>"
      ]
     },
     "metadata": {},
     "output_type": "display_data"
    }
   ],
   "source": [
    "A = np.vander(x, increasing=True)\n",
    "a = np.linalg.solve(A, y)\n",
    "x_vals = np.linspace(0, 1, 100)\n",
    "y_vals = sum([a[k] * x_vals**k for k in range(0, len(a))])\n",
    "plt.plot(x_vals, y_vals, 'b-')\n",
    "plt.plot(x, y, 'r.', markersize=15)\n",
    "plt.grid(True)\n",
    "plt.show()"
   ]
  },
  {
   "cell_type": "markdown",
   "metadata": {},
   "source": [
    "Now, we introduce some noise, and the interpolated curve may not accurately approximate the original function."
   ]
  },
  {
   "cell_type": "code",
   "execution_count": 12,
   "metadata": {},
   "outputs": [
    {
     "data": {
      "image/png": "[encoded data removed]",
      "text/plain": [
       "<Figure size 640x480 with 1 Axes>"
      ]
     },
     "metadata": {},
     "output_type": "display_data"
    }
   ],
   "source": [
    "n = 10\n",
    "x = np.linspace(0, 1, n + 1)\n",
    "y = np.sin(np.pi * x) + 0.05 * np.random.randn(n + 1)\n",
    "A = np.vander(x, increasing=True)\n",
    "a = np.linalg.solve(A, y)\n",
    "x_vals = np.linspace(0, 1, 100)\n",
    "y_vals = sum([a[k] * x_vals**k for k in range(0, len(a))])\n",
    "plt.plot(x_vals, y_vals, 'b-')\n",
    "plt.plot(x, y, 'r.', markersize=15)\n",
    "plt.grid(True)\n",
    "plt.show()"
   ]
  },
  {
   "cell_type": "code",
   "execution_count": 13,
   "metadata": {},
   "outputs": [
    {
     "data": {
      "text/latex": [
       "$\\displaystyle 69884.3361094131 x^{10} - 342333.658640144 x^{9} + 716366.102605296 x^{8} - 836330.190202585 x^{7} + 596765.077522613 x^{6} - 267989.784468008 x^{5} + 75089.0217058981 x^{4} - 12525.2994605241 x^{3} + 1110.08508238036 x^{2} - 35.7374986216382 x + 0.0187108577173799$"
      ],
      "text/plain": [
       "69884.3361094131*x**10 - 342333.658640144*x**9 + 716366.102605296*x**8 - 836330.190202585*x**7 + 596765.077522613*x**6 - 267989.784468008*x**5 + 75089.0217058981*x**4 - 12525.2994605241*x**3 + 1110.08508238036*x**2 - 35.7374986216382*x + 0.0187108577173799"
      ]
     },
     "execution_count": 13,
     "metadata": {},
     "output_type": "execute_result"
    }
   ],
   "source": [
    "import sympy as sp\n",
    "\n",
    "x = sp.symbols('x')\n",
    "\n",
    "polynomial = sum(v * x**i for i, v in enumerate(a))\n",
    "polynomial"
   ]
  },
  {
   "cell_type": "markdown",
   "metadata": {},
   "source": [
    "## 13.3 - Sensitivity of Polynomial Interpolations\n",
    "\n",
    "Polynomial interpolation is sensitive to noise and small perturbations in the data. The condition number of the Vandermonde matrix (or other matrices involved in interpolation methods) can be high when the degree of the polynomial is large enough. High condition numbers indicate that the matrix is ill-conditioned, meaning that small changes in the input data can lead to large changes in the solution. As a result, even minor variations in the data can cause instability in the interpolation process, leading to inaccurate results.\n",
    "\n",
    "We can check the condition of the Vandermonde matrix above."
   ]
  },
  {
   "cell_type": "code",
   "execution_count": 14,
   "metadata": {},
   "outputs": [
    {
     "data": {
      "text/plain": [
       "115575244.52219748"
      ]
     },
     "execution_count": 14,
     "metadata": {},
     "output_type": "execute_result"
    }
   ],
   "source": [
    "np.linalg.cond(A)"
   ]
  },
  {
   "cell_type": "markdown",
   "metadata": {},
   "source": [
    "## 13.4 - Lagrange Interpolation\n",
    "\n",
    "The Lagrange interpolation is a method of polynomial interpolation that provides a polynomial of degree at most $n$ that passes through $n+1$ given points in the plane. These points are assumed to have distinct $x$ coordinates, $x_0, x_1, \\dots, x_n$, and corresponding $y$ coordinates, $y_0, y_1, \\dots, y_n$. The resulting polynomial fits the given points and can be used to estimate values between these points or to model the underlying function that these points may represent.\n",
    "\n",
    "The Lagrange interpolation polynomial is defined as:\n",
    "\n",
    "$$ p(x) = \\sum^n_{i=0} y_i * l_i(x), $$\n",
    "\n",
    "where $l_i(x)$ are the Lagrange basis polynomials for each $i$, defined by:\n",
    "\n",
    "$$ l_i(x) = \\prod^n_{\\substack{0 \\leq j \\leq n \\\\ j \\neq i}} \\frac{x - x_j}{x_i - x_j} $$\n",
    "\n",
    "Each $l_i(x)$ is a polynomial of degree $n$ that is $1$ at $x_i$ and $0$ at all other $x_j$ for $j \\neq i$. These polynomials $l_i(x)$ form a basis for the vector space of polynomials of degree at most $n$."
   ]
  },
  {
   "cell_type": "code",
   "execution_count": 7,
   "metadata": {},
   "outputs": [],
   "source": [
    "import sympy as sp\n",
    "\n",
    "def lagrange_basis(x_values, i, x_var=sp.symbols('x')):\n",
    "    l = 1\n",
    "    x_i = x_values[i]\n",
    "    for j, x_j in enumerate(x_values):\n",
    "        if j != i:\n",
    "            l *= (x_var - x_j) / (x_i - x_j)\n",
    "    return l"
   ]
  },
  {
   "cell_type": "code",
   "execution_count": 8,
   "metadata": {},
   "outputs": [],
   "source": [
    "def lagrange_interpolation(x_values, y_values):\n",
    "    px = 0\n",
    "    for i, y_i in enumerate(y_values):\n",
    "        px += y_i * lagrange_basis(x_values, i)\n",
    "    return px"
   ]
  },
  {
   "cell_type": "code",
   "execution_count": 9,
   "metadata": {},
   "outputs": [
    {
     "data": {
      "text/latex": [
       "$\\displaystyle x \\left(\\frac{3}{2} - \\frac{x}{2}\\right) \\left(2 - x\\right) + 2 x \\left(3 - x\\right) \\left(x - 1\\right) - \\frac{x \\left(\\frac{x}{2} - \\frac{1}{2}\\right) \\left(x - 2\\right)}{3} + 2 \\cdot \\left(1 - x\\right) \\left(1 - \\frac{x}{2}\\right) \\left(1 - \\frac{x}{3}\\right)$"
      ],
      "text/plain": [
       "x*(3/2 - x/2)*(2 - x) + 2*x*(3 - x)*(x - 1) - x*(x/2 - 1/2)*(x - 2)/3 + 2*(1 - x)*(1 - x/2)*(1 - x/3)"
      ]
     },
     "execution_count": 9,
     "metadata": {},
     "output_type": "execute_result"
    }
   ],
   "source": [
    "x_values = np.array([0, 1, 2, 3])\n",
    "y_values = np.array([2, 1, 4, -1])\n",
    "px = lagrange_interpolation(x_values, y_values)\n",
    "px"
   ]
  },
  {
   "cell_type": "markdown",
   "metadata": {},
   "source": [
    "## 13.5 - Newton Interpolations\n",
    "\n",
    "Newton's nested interpolation formula is a method similar to Lagrange interpolation for approximating a function or interpolating a set of data points.\n",
    "\n",
    "For $n = 1$, we have two data points $(x_0, y_0)$ and $(x_1, y_1)$. The interpolating polynomial $P(x)$ can be represented as:\n",
    "\n",
    "$$ P_1(x) = a_0 + a_1(x - x_0) $$\n",
    "\n",
    "Now, let's assume that the formula is determined for $P_k$. We add a new data point $(x_{k+1}, y_{k+1})$. The interpolating polynomial $P_k(x)$ can be written as\n",
    "\n",
    "$$ P_k(x) = P_{k-1}(x) + a_k(x - x_0) \\cdot (x - x_1) \\cdot \\dots \\cdot (x - x_{k-1}). $$\n",
    "\n",
    "Notice that $a_k$ can be determined by\n",
    "\n",
    "$$ a_k = \\frac{y_k - \\sum^{k-1}_{i=0} a_i \\prod^{i-1}_{j=0} (x_k - x_j)}{\\prod^{k-1}_{j=0} (x_k - x_j)}. $$"
   ]
  },
  {
   "cell_type": "markdown",
   "metadata": {},
   "source": [
    "## 13.6 - Divided Differences\n",
    "\n",
    "We can get a better performance by using the divided difference.\n",
    "\n",
    "### Initialize\n",
    "\n",
    "- Start by initializing an array to store the divided differences.\n",
    "- Set $f[x_0] = y_0,$ where $y_0$ is the function value at $x_0$.\n",
    "\n",
    "### Compute Higher-Order Divided Differences\n",
    "\n",
    "- For each higher-order divided difference $f[x_0, x_1, \\dots, x_k]$, use the formula:\n",
    "\n",
    "  $$ f[x_0, x_1, \\dots, x_k] = \\frac{f[x_1, x_2, \\dots, x_k] - f[x_0, x_1, \\dots, x_{k-1}]}{x_k - x_0} $$\n",
    "\n",
    "- Continue this process until all divided differences are computed."
   ]
  },
  {
   "cell_type": "code",
   "execution_count": 15,
   "metadata": {},
   "outputs": [],
   "source": [
    "def divided_differences(x_values, y_values):\n",
    "    n = len(x_values)\n",
    "    coefficients = np.copy(y_values)\n",
    "    for j in range(1, n):\n",
    "        for i in range(n - 1, j - 1, -1):\n",
    "            coefficients[i] = (coefficients[i] - coefficients[i - 1]) / (\n",
    "                x_values[i] - x_values[i - j]\n",
    "            )\n",
    "    return coefficients"
   ]
  },
  {
   "cell_type": "code",
   "execution_count": 17,
   "metadata": {},
   "outputs": [],
   "source": [
    "def newton_interpolation(x_values, y_values, x=sp.symbols('x')):\n",
    "    coefficients = divided_differences(x_values, y_values)\n",
    "    n = len(x_values)\n",
    "    px = coefficients[n - 1]\n",
    "    for i in range(n - 2, -1, -1):\n",
    "        px = px * (x - x_values[i]) + coefficients[i]\n",
    "    return px"
   ]
  },
  {
   "cell_type": "code",
   "execution_count": 18,
   "metadata": {},
   "outputs": [
    {
     "data": {
      "text/latex": [
       "$\\displaystyle x \\left(\\left(6 - 2 x\\right) \\left(x - 1\\right) - 1\\right) + 2$"
      ],
      "text/plain": [
       "x*((6 - 2*x)*(x - 1) - 1) + 2"
      ]
     },
     "execution_count": 18,
     "metadata": {},
     "output_type": "execute_result"
    }
   ],
   "source": [
    "x_values = np.array([0, 1, 2, 3])\n",
    "y_values = np.array([2, 1, 4, -1])\n",
    "px = newton_interpolation(x_values, y_values)\n",
    "px"
   ]
  }
 ],
 "metadata": {
  "kernelspec": {
   "display_name": "math311",
   "language": "python",
   "name": "python3"
  },
  "language_info": {
   "codemirror_mode": {
    "name": "ipython",
    "version": 3
   },
   "file_extension": ".py",
   "mimetype": "text/x-python",
   "name": "python",
   "nbconvert_exporter": "python",
   "pygments_lexer": "ipython3",
   "version": "3.10.13"
  }
 },
 "nbformat": 4,
 "nbformat_minor": 2
}
