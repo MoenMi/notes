{
 "cells": [
  {
   "cell_type": "markdown",
   "metadata": {},
   "source": [
    "# 13 - Polynomial Interpolations"
   ]
  },
  {
   "cell_type": "markdown",
   "metadata": {},
   "source": [
    "## 13.1 - Using Systems of Equations\n",
    "\n",
    "Given $n + 1$ distinct data points $(x_0, y_0), \\dots, (x_n, y_n)$, there exists a unique polynomial of degree at most $n$,\n",
    "\n",
    "$$ P_n(x) = a_0 + a_1 x + \\dots + a_n x^n, $$\n",
    "\n",
    "that exactly fits these points, meaning $P_n(x_k) = y_k$ for each $k = 0, \\dots, n$. The coefficients $a_k$ are to be determined, with each data point providing one equation in the system:\n",
    "\n",
    "$$\n",
    "\\begin{align*}\n",
    "    a_0 + a_1 x_0 + \\dots + a_n x_0^n &= y_0 \\\\\n",
    "    a_0 + a_1 x_1 + \\dots + a_n x_1^n &= y_1 \\\\\n",
    "    &\\vdots \\\\\n",
    "    a_0 + a_1 x_n + \\dots + a_n x_n^n &= y_n\n",
    "\\end{align*}\n",
    "$$\n",
    "\n",
    "This system of equations can be correctly written as $A\\textbf{a} = \\textbf{y}$, where $\\textbf{a} = [a_0, a_1, \\dots, a_n]^T$ is the vector of unknown coefficients, $\\textbf{y} = [y_0, y_1, \\dots, y_n]^T$ is the vector of given $y$ values, and the coefficient matrix $A$, known as a **Vandermonde matrix**, is defined by\n",
    "\n",
    "$$\n",
    "A =\n",
    "\\begin{bmatrix}\n",
    "    1 & x_0 & \\dots & x_0^n \\\\\n",
    "    1 & x_1 & \\dots & x_1^n \\\\\n",
    "    \\vdots & \\vdots & \\ddots & \\vdots \\\\\n",
    "    1 & x_n & \\dots & x_n^n\n",
    "\\end{bmatrix}\n",
    "$$\n",
    "\n",
    "The uniqueness of the polynomial is guaranteed provided that no two $x_k$ are the same, i.e., the $x_k$ are distinct. This theorem forms the basis of polynomial interpolation, a fundamental concept in numerical analysis and approximation theory.\n",
    "\n",
    "### Example 1\n",
    "\n",
    "To interpolate a polynomial through the data points $(-1, 1), (0, 1),$ and $(1, 3)$, we can use the Vandermonde matrix approach for polynomial interpolation. This method involves creating a Vandermonde matrix from the $x$ values of our data points and solving the linear system using `scipy.linalg.solve` to find the coefficients of the polynomial that fits these points."
   ]
  },
  {
   "cell_type": "code",
   "execution_count": 1,
   "metadata": {},
   "outputs": [
    {
     "data": {
      "text/plain": [
       "array([[ 1, -1,  1],\n",
       "       [ 1,  0,  0],\n",
       "       [ 1,  1,  1]])"
      ]
     },
     "execution_count": 1,
     "metadata": {},
     "output_type": "execute_result"
    }
   ],
   "source": [
    "import numpy as np\n",
    "\n",
    "x = np.array([-1, 0, 1])\n",
    "y = np.array([1, 1, 3])\n",
    "\n",
    "A = np.vander(x, increasing=True)\n",
    "A"
   ]
  },
  {
   "cell_type": "code",
   "execution_count": 2,
   "metadata": {},
   "outputs": [
    {
     "data": {
      "text/plain": [
       "array([1., 1., 1.])"
      ]
     },
     "execution_count": 2,
     "metadata": {},
     "output_type": "execute_result"
    }
   ],
   "source": [
    "a = np.linalg.solve(A, y)\n",
    "a"
   ]
  },
  {
   "cell_type": "markdown",
   "metadata": {},
   "source": [
    "The array above contains the polynomial coefficients of the polynomial.\n",
    "\n",
    "### Example 2\n",
    "\n",
    "Find a cubic polynomial that interpolates the points $(0, 2), (1, 1), (2, 4),$ and $(3, -1)$.64\""
   ]
  },
  {
   "cell_type": "markdown",
   "metadata": {},
   "source": [
    "## 13.2 - Impact of Noise in Polynomial Interpolation\n",
    "\n"
   ]
  },
  {
   "cell_type": "markdown",
   "metadata": {},
   "source": [
    "## 13.3 - Sensitivity of Polynomial Interpolations\n",
    "\n"
   ]
  },
  {
   "cell_type": "markdown",
   "metadata": {},
   "source": [
    "## 13.4 - Lagrange Interpolation\n",
    "\n"
   ]
  },
  {
   "cell_type": "markdown",
   "metadata": {},
   "source": [
    "## 13.5 - Newton Interpolations\n",
    "\n"
   ]
  },
  {
   "cell_type": "markdown",
   "metadata": {},
   "source": [
    "## 13.6 - Divided Differences\n",
    "\n"
   ]
  }
 ],
 "metadata": {
  "kernelspec": {
   "display_name": "math311",
   "language": "python",
   "name": "python3"
  },
  "language_info": {
   "codemirror_mode": {
    "name": "ipython",
    "version": 3
   },
   "file_extension": ".py",
   "mimetype": "text/x-python",
   "name": "python",
   "nbconvert_exporter": "python",
   "pygments_lexer": "ipython3",
   "version": "3.10.13"
  }
 },
 "nbformat": 4,
 "nbformat_minor": 2
}
