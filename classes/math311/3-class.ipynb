{
 "cells": [
  {
   "cell_type": "markdown",
   "metadata": {},
   "source": [
    "# 3 - While and For Loops"
   ]
  },
  {
   "cell_type": "code",
   "execution_count": null,
   "metadata": {},
   "outputs": [
    {
     "name": "stdout",
     "output_type": "stream",
     "text": [
      "The maximum value is: 75\n"
     ]
    }
   ],
   "source": [
    "def find_max_values(numbers: list):\n",
    "    # return max(numbers)\n",
    "    max = numbers[0]\n",
    "    for number in numbers:\n",
    "        if number > max:\n",
    "            max = number\n",
    "    return max\n",
    "\n",
    "numbers = [3, 65, 34, 75, 28]\n",
    "print(f'The maximum value is: {find_max_values(numbers)}')"
   ]
  },
  {
   "cell_type": "code",
   "execution_count": null,
   "metadata": {},
   "outputs": [
    {
     "name": "stdout",
     "output_type": "stream",
     "text": [
      "The target 3 is at index: 3\n"
     ]
    }
   ],
   "source": [
    "def linear_search(arr, target):\n",
    "    for idx, item in enumerate(arr):\n",
    "        if item == target:\n",
    "            return idx\n",
    "    return -1\n",
    "\n",
    "arr = [5, 8, 1, 3, 2]\n",
    "target = 3\n",
    "print(f'The target {target} is at index: {linear_search(arr, target)}')"
   ]
  },
  {
   "cell_type": "code",
   "execution_count": null,
   "metadata": {},
   "outputs": [
    {
     "data": {
      "text/plain": [
       "[-1, 0, 0.5, 1, 2, 3, 5, 8, 98, 999, 9012849834]"
      ]
     },
     "execution_count": 15,
     "metadata": {},
     "output_type": "execute_result"
    }
   ],
   "source": [
    "def bubble_sort(arr: list) -> list:\n",
    "    n = len(arr)\n",
    "    for i in range (0, n-1):\n",
    "        for j in range(0, n-i-1):\n",
    "            if arr[j] > arr[j+1]:\n",
    "                temp = arr[j+1]\n",
    "                arr[j+1] = arr[j]\n",
    "                arr[j] = temp\n",
    "    return arr\n",
    "\n",
    "arr = [5, 8, 1, 3, 2, 999, -1, 0, 98, 9012849834, 0.5]\n",
    "bubble_sort(arr)"
   ]
  },
  {
   "cell_type": "code",
   "execution_count": null,
   "metadata": {},
   "outputs": [
    {
     "data": {
      "text/plain": [
       "[2, 3, 5, 7, 11, 13, 17, 19, 23, 29, 31, 37, 41, 43, 47]"
      ]
     },
     "execution_count": 19,
     "metadata": {},
     "output_type": "execute_result"
    }
   ],
   "source": [
    "def find_primes(n):\n",
    "    arr = [True] * (n+1)\n",
    "    k = 2\n",
    "    while k * k <= n:\n",
    "        if arr[k]:\n",
    "            for i in range(k*k, n+1, k):\n",
    "                arr[i] = False\n",
    "        k += 1\n",
    "    numbers = [i for i in range(2, n) if arr[i]]\n",
    "    return numbers\n",
    "\n",
    "find_primes(50)"
   ]
  }
 ],
 "metadata": {
  "kernelspec": {
   "display_name": "Python 3",
   "language": "python",
   "name": "python3"
  },
  "language_info": {
   "codemirror_mode": {
    "name": "ipython",
    "version": 3
   },
   "file_extension": ".py",
   "mimetype": "text/x-python",
   "name": "python",
   "nbconvert_exporter": "python",
   "pygments_lexer": "ipython3",
   "version": "3.12.0"
  }
 },
 "nbformat": 4,
 "nbformat_minor": 2
}