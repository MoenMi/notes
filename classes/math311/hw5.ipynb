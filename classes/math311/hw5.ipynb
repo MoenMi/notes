{
 "cells": [
  {
   "cell_type": "markdown",
   "metadata": {},
   "source": [
    "# Homework 5 - Bisection Method\n",
    "\n",
    "by Michael Moen"
   ]
  },
  {
   "cell_type": "markdown",
   "metadata": {},
   "source": [
    "## Exercise 1: Solving Quadratic Equations\n",
    "\n",
    "Consider the equation\n",
    "\n",
    "$$ x^2 + bx + c = 0, $$\n",
    "\n",
    "where $b$ and $c$ are integers."
   ]
  },
  {
   "cell_type": "markdown",
   "metadata": {},
   "source": [
    "### Part 1\n",
    "\n",
    "Determine the condition of $b$ and $c$ for which the equation has two roots, and write the explicit formulas for the roots (you can use the quadratic formula)."
   ]
  },
  {
   "cell_type": "markdown",
   "metadata": {},
   "source": [
    "### Solution\n",
    "\n",
    "In order for the equation to have two roots, its discriminant must not be $0$. If this discriminant is positive, then the two roots are real. If it is negative, then the roots are complex. The discriminant can be calculated as follows:\n",
    "\n",
    "$$ D = b^2 - 4c $$\n",
    "\n",
    "With the discriminant, we can derive the formulas for the roots from the quadratic formula.\n",
    "\n",
    "If $D > 0$:\n",
    "\n",
    "$$ x = \\frac{-b \\pm \\sqrt{d}}{2} $$\n",
    "\n",
    "If $D = 0$:\n",
    "\n",
    "$$ x = -\\frac{b}{2} $$\n",
    "\n",
    "If $D < 0$:\n",
    "\n",
    "$$ x = \\frac{-b \\pm i\\sqrt{|d|}}{2} $$"
   ]
  },
  {
   "cell_type": "markdown",
   "metadata": {},
   "source": [
    "### Part 2\n",
    "\n",
    "Write a function in Python to solve the above equation. Make sure using branching to check the conditions, and the output must have the following form: If the roots are rational, the output symbol should give $p/q$; if the roots are irrational, we write $\\frac{m+n \\sqrt{p}}{q}$."
   ]
  },
  {
   "cell_type": "markdown",
   "metadata": {},
   "source": [
    "### Solution"
   ]
  },
  {
   "cell_type": "code",
   "execution_count": 1,
   "metadata": {},
   "outputs": [
    {
     "data": {
      "text/latex": [
       "$\\displaystyle \\frac{1}{2} + \\frac{\\sqrt{5}}{2}$"
      ],
      "text/plain": [
       "1/2 + sqrt(5)/2"
      ]
     },
     "execution_count": 1,
     "metadata": {},
     "output_type": "execute_result"
    }
   ],
   "source": [
    "from sympy import sqrt, simplify\n",
    "\n",
    "# We can use sympy to represent the square-root\n",
    "(1 + sqrt(5)) / 2"
   ]
  },
  {
   "cell_type": "code",
   "execution_count": 2,
   "metadata": {},
   "outputs": [
    {
     "data": {
      "text/latex": [
       "$\\displaystyle \\frac{3 \\sqrt{2}}{4} + \\frac{5}{4}$"
      ],
      "text/plain": [
       "3*sqrt(2)/4 + 5/4"
      ]
     },
     "execution_count": 2,
     "metadata": {},
     "output_type": "execute_result"
    }
   ],
   "source": [
    "simplify((5 + sqrt(18)) / 4)"
   ]
  },
  {
   "cell_type": "code",
   "execution_count": 4,
   "metadata": {},
   "outputs": [],
   "source": [
    "def quad_roots(b: int, c: int):\n",
    "    \"\"\"Compute the roots of a quadratic equation\n",
    "\n",
    "    Parameters\n",
    "    ----------\n",
    "    b : int\n",
    "        the coefficient of the linear term\n",
    "    c : int\n",
    "        the constant term\n",
    "    \n",
    "    Returns\n",
    "    -------\n",
    "    sympy expression\n",
    "        the roots of the quadratic equation\n",
    "    \"\"\"\n",
    "\n",
    "    # Calculate the discriminant\n",
    "    d = b**2 - 4*c\n",
    "\n",
    "    if d > 0:\n",
    "        # Two real roots\n",
    "        x1 = simplify((-b + sqrt(d)) / 2)\n",
    "        x2 = simplify((-b - sqrt(d)) / 2)\n",
    "        return x1, x2\n",
    "    elif d == 0:\n",
    "        # One real root\n",
    "        return simplify(-b / 2)\n",
    "    else:\n",
    "        # Two complex roots\n",
    "        x1 = simplify((-b + i * sqrt(d)) / 2)\n",
    "        x2 = simplify((-b - i * sqrt(d)) / 2)\n",
    "        return x1, x2"
   ]
  },
  {
   "cell_type": "code",
   "execution_count": 5,
   "metadata": {},
   "outputs": [],
   "source": [
    "x1, x2 = quad_roots(3, -3)"
   ]
  },
  {
   "cell_type": "code",
   "execution_count": 10,
   "metadata": {},
   "outputs": [
    {
     "data": {
      "text/latex": [
       "$\\displaystyle - \\frac{3}{2} + \\frac{\\sqrt{21}}{2}$"
      ],
      "text/plain": [
       "-3/2 + sqrt(21)/2"
      ]
     },
     "execution_count": 10,
     "metadata": {},
     "output_type": "execute_result"
    }
   ],
   "source": [
    "x1"
   ]
  },
  {
   "cell_type": "code",
   "execution_count": 8,
   "metadata": {},
   "outputs": [
    {
     "data": {
      "text/latex": [
       "$\\displaystyle - \\frac{\\sqrt{21}}{2} - \\frac{3}{2}$"
      ],
      "text/plain": [
       "-sqrt(21)/2 - 3/2"
      ]
     },
     "execution_count": 8,
     "metadata": {},
     "output_type": "execute_result"
    }
   ],
   "source": [
    "x2"
   ]
  },
  {
   "cell_type": "markdown",
   "metadata": {},
   "source": [
    "## Exercise 2: Bisection Method to Solve Cubic Equation\n",
    "\n",
    "Consider the equation\n",
    "\n",
    "$$ x^3 + x - \\lambda = 0, $$\n",
    "\n",
    "where $\\lambda$ is a positive real number."
   ]
  },
  {
   "cell_type": "markdown",
   "metadata": {},
   "source": [
    "### Part 1\n",
    "\n",
    "Show that the equation has exactly one root (use Calculus I and the intermediate value theorem), and find the interval $[a,b]$ on which the function has opposite signs $f(a)f(b) < 0$."
   ]
  },
  {
   "cell_type": "markdown",
   "metadata": {},
   "source": [
    "### Solution\n",
    "\n"
   ]
  },
  {
   "cell_type": "markdown",
   "metadata": {},
   "source": [
    "### Part 2\n",
    "\n",
    "Use the bisection method and determine the number of iterations $n$ to make sure the approximation of the root in the bisection method is accurate within the error of $10^{-5}$."
   ]
  },
  {
   "cell_type": "markdown",
   "metadata": {},
   "source": [
    "### Solution\n",
    "\n"
   ]
  },
  {
   "cell_type": "markdown",
   "metadata": {},
   "source": [
    "### Part 3\n",
    "\n",
    "Write a function to find the root of the equation.\n",
    "\n",
    "### Solution"
   ]
  },
  {
   "cell_type": "code",
   "execution_count": null,
   "metadata": {},
   "outputs": [],
   "source": [
    "def cubic_solve(a, b, lamb, n, tol=1e-5):\n",
    "    \"\"\"Compute the roots of a cubic equation\n",
    "\n",
    "    Parameters\n",
    "    ----------\n",
    "    a : float\n",
    "        the start of the interval\n",
    "    b : float\n",
    "        the end of the interval\n",
    "    lamb : float\n",
    "        the parameter\n",
    "    n : int\n",
    "        the number of iterations\n",
    "    tol : float\n",
    "        the tolerance\n",
    "    \n",
    "    Returns\n",
    "    -------\n",
    "    sympy expression\n",
    "        the roots of the quadratic equation\n",
    "    \"\"\"\n",
    "    return"
   ]
  },
  {
   "cell_type": "code",
   "execution_count": null,
   "metadata": {},
   "outputs": [],
   "source": [
    "lamb = 10\n",
    "a = 0   # Assign the value from part 1\n",
    "b = 0   # Assign the value from part 1\n",
    "n = 0   # Assign the value from part 2\n",
    "solve_cubic(a, b, lamb, n)"
   ]
  }
 ],
 "metadata": {
  "kernelspec": {
   "display_name": "math311",
   "language": "python",
   "name": "python3"
  },
  "language_info": {
   "codemirror_mode": {
    "name": "ipython",
    "version": 3
   },
   "file_extension": ".py",
   "mimetype": "text/x-python",
   "name": "python",
   "nbconvert_exporter": "python",
   "pygments_lexer": "ipython3",
   "version": "3.10.13"
  }
 },
 "nbformat": 4,
 "nbformat_minor": 2
}
