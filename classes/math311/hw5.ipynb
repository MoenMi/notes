{
 "cells": [
  {
   "cell_type": "markdown",
   "metadata": {},
   "source": [
    "# Homework 5 - Bisection Method\n",
    "\n",
    "by Michael Moen"
   ]
  },
  {
   "cell_type": "markdown",
   "metadata": {},
   "source": [
    "## Exercise 1: Solving Quadratic Equations\n",
    "\n",
    "Consider the equation\n",
    "\n",
    "$$ x^2 + bx + c = 0, $$\n",
    "\n",
    "where $b$ and $c$ are integers."
   ]
  },
  {
   "cell_type": "markdown",
   "metadata": {},
   "source": [
    "### Part 1\n",
    "\n",
    "Determine the condition of $b$ and $c$ for which the equation has two roots, and write the explicit formulas for the roots (you can use the quadratic formula)."
   ]
  },
  {
   "cell_type": "markdown",
   "metadata": {},
   "source": [
    "### Solution\n",
    "\n",
    "In order for the equation to have two roots, its discriminant must not be $0$. If this discriminant is positive, then the two roots are real. If it is negative, then the roots are complex. The discriminant can be calculated as follows:\n",
    "\n",
    "$$ D = b^2 - 4c $$\n",
    "\n",
    "With the discriminant, we can derive the formulas for the roots from the quadratic formula.\n",
    "\n",
    "If $D > 0$:\n",
    "\n",
    "$$ x = \\frac{-b \\pm \\sqrt{D}}{2} $$\n",
    "\n",
    "If $D = 0$:\n",
    "\n",
    "$$ x = -\\frac{b}{2} $$\n",
    "\n",
    "If $D < 0$:\n",
    "\n",
    "$$ x = \\frac{-b \\pm i\\sqrt{|D|}}{2} $$"
   ]
  },
  {
   "cell_type": "markdown",
   "metadata": {},
   "source": [
    "### Part 2\n",
    "\n",
    "Write a function in Python to solve the above equation. Make sure using branching to check the conditions, and the output must have the following form: If the roots are rational, the output symbol should give $p/q$; if the roots are irrational, we write $\\frac{m+n \\sqrt{p}}{q}$."
   ]
  },
  {
   "cell_type": "markdown",
   "metadata": {},
   "source": [
    "### Solution"
   ]
  },
  {
   "cell_type": "code",
   "execution_count": null,
   "metadata": {},
   "outputs": [
    {
     "data": {
      "text/latex": [
       "$\\displaystyle \\frac{1}{2} + \\frac{\\sqrt{5}}{2}$"
      ],
      "text/plain": [
       "1/2 + sqrt(5)/2"
      ]
     },
     "execution_count": 11,
     "metadata": {},
     "output_type": "execute_result"
    }
   ],
   "source": [
    "from sympy import sqrt, simplify, I\n",
    "\n",
    "# We can use sympy to represent the square-root\n",
    "(1 + sqrt(5)) / 2"
   ]
  },
  {
   "cell_type": "code",
   "execution_count": null,
   "metadata": {},
   "outputs": [
    {
     "data": {
      "text/latex": [
       "$\\displaystyle \\frac{3 \\sqrt{2}}{4} + \\frac{5}{4}$"
      ],
      "text/plain": [
       "3*sqrt(2)/4 + 5/4"
      ]
     },
     "execution_count": 2,
     "metadata": {},
     "output_type": "execute_result"
    }
   ],
   "source": [
    "simplify((5 + sqrt(18)) / 4)"
   ]
  },
  {
   "cell_type": "code",
   "execution_count": null,
   "metadata": {},
   "outputs": [],
   "source": [
    "def quad_roots(b: int, c: int):\n",
    "    \"\"\"Compute the roots of a quadratic equation\n",
    "\n",
    "    Parameters\n",
    "    ----------\n",
    "    b : int\n",
    "        the coefficient of the linear term\n",
    "    c : int\n",
    "        the constant term\n",
    "    \n",
    "    Returns\n",
    "    -------\n",
    "    sympy expression(s)\n",
    "        the root(s) of the quadratic equation, in a tuple if there are two roots\n",
    "    \"\"\"\n",
    "\n",
    "    # Calculate the discriminant\n",
    "    d = b**2 - 4 * c\n",
    "\n",
    "    if d > 0:\n",
    "        # Two real roots\n",
    "        x1 = simplify((-b + sqrt(d)) / 2)\n",
    "        x2 = simplify((-b - sqrt(d)) / 2)\n",
    "        return x1, x2\n",
    "    elif d == 0:\n",
    "        # One real root\n",
    "        return simplify(-b / 2)\n",
    "    else:\n",
    "        # Two complex roots\n",
    "        x1 = simplify((-b + I * sqrt(abs(d))) / 2)\n",
    "        x2 = simplify((-b - I * sqrt(abs(d))) / 2)\n",
    "        return x1, x2"
   ]
  },
  {
   "cell_type": "code",
   "execution_count": null,
   "metadata": {},
   "outputs": [],
   "source": [
    "# Example with 2 real roots\n",
    "x1, x2 = quad_roots(3, -3)"
   ]
  },
  {
   "cell_type": "code",
   "execution_count": null,
   "metadata": {},
   "outputs": [
    {
     "data": {
      "text/latex": [
       "$\\displaystyle - \\frac{3}{2} + \\frac{\\sqrt{21}}{2}$"
      ],
      "text/plain": [
       "-3/2 + sqrt(21)/2"
      ]
     },
     "execution_count": 29,
     "metadata": {},
     "output_type": "execute_result"
    }
   ],
   "source": [
    "x1"
   ]
  },
  {
   "cell_type": "code",
   "execution_count": null,
   "metadata": {},
   "outputs": [
    {
     "data": {
      "text/latex": [
       "$\\displaystyle - \\frac{\\sqrt{21}}{2} - \\frac{3}{2}$"
      ],
      "text/plain": [
       "-sqrt(21)/2 - 3/2"
      ]
     },
     "execution_count": 30,
     "metadata": {},
     "output_type": "execute_result"
    }
   ],
   "source": [
    "x2"
   ]
  },
  {
   "cell_type": "code",
   "execution_count": null,
   "metadata": {},
   "outputs": [],
   "source": [
    "# Example with 1 real root\n",
    "x = quad_roots(2, 1)"
   ]
  },
  {
   "cell_type": "code",
   "execution_count": null,
   "metadata": {},
   "outputs": [
    {
     "data": {
      "text/latex": [
       "$\\displaystyle -1.0$"
      ],
      "text/plain": [
       "-1.00000000000000"
      ]
     },
     "execution_count": 37,
     "metadata": {},
     "output_type": "execute_result"
    }
   ],
   "source": [
    "x"
   ]
  },
  {
   "cell_type": "code",
   "execution_count": null,
   "metadata": {},
   "outputs": [],
   "source": [
    "# Example with 2 complex roots\n",
    "x1, x2 = quad_roots(1, 1)"
   ]
  },
  {
   "cell_type": "code",
   "execution_count": null,
   "metadata": {},
   "outputs": [
    {
     "data": {
      "text/latex": [
       "$\\displaystyle - \\frac{1}{2} + \\frac{\\sqrt{3} i}{2}$"
      ],
      "text/plain": [
       "-1/2 + sqrt(3)*I/2"
      ]
     },
     "execution_count": 14,
     "metadata": {},
     "output_type": "execute_result"
    }
   ],
   "source": [
    "x1"
   ]
  },
  {
   "cell_type": "code",
   "execution_count": null,
   "metadata": {},
   "outputs": [
    {
     "data": {
      "text/latex": [
       "$\\displaystyle - \\frac{1}{2} - \\frac{\\sqrt{3} i}{2}$"
      ],
      "text/plain": [
       "-1/2 - sqrt(3)*I/2"
      ]
     },
     "execution_count": 15,
     "metadata": {},
     "output_type": "execute_result"
    }
   ],
   "source": [
    "x2"
   ]
  },
  {
   "cell_type": "markdown",
   "metadata": {},
   "source": [
    "## Exercise 2: Bisection Method to Solve Cubic Equation\n",
    "\n",
    "Consider the equation\n",
    "\n",
    "$$ x^3 + x - \\lambda = 0, $$\n",
    "\n",
    "where $\\lambda$ is a positive real number."
   ]
  },
  {
   "cell_type": "markdown",
   "metadata": {},
   "source": [
    "### Part 1\n",
    "\n",
    "Show that the equation has exactly one root (use Calculus I and the intermediate value theorem), and find the interval $[a,b]$ on which the function has opposite signs $f(a)f(b) < 0$."
   ]
  },
  {
   "cell_type": "markdown",
   "metadata": {},
   "source": [
    "### Solution\n",
    "\n",
    "$$\n",
    "\\begin{align*}\n",
    "    f(x) &= x^3 + x - \\lambda \\\\\n",
    "    f'(x) &= 3x^2 + 1\n",
    "\\end{align*}\n",
    "$$\n",
    "\n",
    "To find the critical points of this equation, we set $f'(x) = 0$ and solve for $x$:\n",
    "\n",
    "$$\n",
    "\\begin{align*}\n",
    "    3x^2 + 1 &= 0 \\\\\n",
    "    x^2 &= -\\frac{1}{3} \\\\\n",
    "    x &= \\pm i \\sqrt{\\frac{1}{3}}\n",
    "\\end{align*}\n",
    "$$\n",
    "\n",
    "Since there are no real critical points and $f(x)$ is increasing everywhere, the function has exactly one root when $f(x) = 0$.\n",
    "\n",
    "<br>\n",
    "\n",
    "The interval $[a,b]$ is based on $\\lambda$, so we must consider this when choosing $a$ and $b$. Considering this, we can set $a=0$. This gives us $f(a) < 0$:\n",
    "\n",
    "$$ f(0) = 0^3 + 0 - \\lambda = -\\lambda $$\n",
    "\n",
    "Similarly, we see that $f(\\sqrt[3]{\\lambda}) > 0$, so we can set $b = \\sqrt[3]{\\lambda}$.\n",
    "\n",
    "$$\n",
    "\\begin{align*}\n",
    "    f(\\sqrt[3]{\\lambda}) &= (\\sqrt[3]{\\lambda})^3 + \\sqrt[3]{\\lambda} - \\lambda \\\\\n",
    "    &= \\lambda + \\sqrt[3]{\\lambda} - \\lambda \\\\\n",
    "    &= \\sqrt[3]{\\lambda}\n",
    "\\end{align*}\n",
    "$$"
   ]
  },
  {
   "cell_type": "markdown",
   "metadata": {},
   "source": [
    "### Part 2\n",
    "\n",
    "Use the bisection method and determine the number of iterations $n$ to make sure the approximation of the root in the bisection method is accurate within the error of $10^{-5}$."
   ]
  },
  {
   "cell_type": "markdown",
   "metadata": {},
   "source": [
    "### Solution\n",
    "\n",
    "We can determine the number of iterations $n$ using the following:\n",
    "\n",
    "$$\n",
    "\\begin{align*}\n",
    "    E_n &\\leq \\frac{b-a}{2^n} \\\\\n",
    "    10^{-5} &= \\frac{\\sqrt[3]{\\lambda} - 0}{2^n} \\\\\n",
    "    2^n &= 10^{5} \\sqrt[3]{\\lambda} \\\\\n",
    "    n &= \\log_2(10^{5} \\sqrt[3]{\\lambda})\n",
    "\\end{align*}\n",
    "$$"
   ]
  },
  {
   "cell_type": "markdown",
   "metadata": {},
   "source": [
    "### Part 3\n",
    "\n",
    "Write a function to find the root of the equation.\n",
    "\n",
    "### Solution"
   ]
  },
  {
   "cell_type": "code",
   "execution_count": null,
   "metadata": {},
   "outputs": [],
   "source": [
    "def fx(x: float, lamb: float) -> float:\n",
    "    return x**3 + x - lamb"
   ]
  },
  {
   "cell_type": "code",
   "execution_count": null,
   "metadata": {},
   "outputs": [],
   "source": [
    "def cubic_solve(a: float, b: float, lamb: float, n: int, tol: float=1e-5):\n",
    "    \"\"\"Compute the root of the cubic equation\n",
    "\n",
    "    Parameters\n",
    "    ----------\n",
    "    a : float\n",
    "        the start of the interval\n",
    "    b : float\n",
    "        the end of the interval\n",
    "    lamb : float\n",
    "        the parameter lambda\n",
    "    n : int\n",
    "        the number of iterations\n",
    "    tol : float\n",
    "        the tolerance\n",
    "    \n",
    "    Returns\n",
    "    -------\n",
    "    sympy expression\n",
    "        the roots of the quadratic equation\n",
    "    \"\"\"\n",
    "    \n",
    "    for _ in range(n):\n",
    "        c = (a + b) / 2\n",
    "        if (fx(c, lamb) * fx(a, lamb)) < 0:\n",
    "            b = c\n",
    "        else:\n",
    "            a = c\n",
    "\n",
    "    return (a + b) / 2"
   ]
  },
  {
   "cell_type": "code",
   "execution_count": null,
   "metadata": {},
   "outputs": [
    {
     "name": "stdout",
     "output_type": "stream",
     "text": [
      "22 : 1.9999997831156808\n"
     ]
    }
   ],
   "source": [
    "from math import log2, ceil\n",
    "\n",
    "lamb = 10\n",
    "a = 0               # Assign the value from part 1\n",
    "b = lamb**(1/3)     # Assign the value from part 1\n",
    "n = ceil(log2(10e5 * b))   # Assign the value from part 2, rounding up to the nearest integer\n",
    "print(f'{n:<3}: {cubic_solve(a, b, lamb, n)}')"
   ]
  },
  {
   "cell_type": "code",
   "execution_count": null,
   "metadata": {},
   "outputs": [
    {
     "name": "stdout",
     "output_type": "stream",
     "text": [
      "1  : 3.4811916252095836\n",
      "2  : 4.061390229411181\n",
      "3  : 4.35148953151198\n",
      "4  : 4.49653918256238\n",
      "5  : 4.5690640080875795\n",
      "10 : 4.571330408885242\n",
      "20 : 4.5697788981829355\n",
      "100: 4.569780162932652\n",
      "23 : 4.569780281484205\n"
     ]
    }
   ],
   "source": [
    "lamb = 100\n",
    "a = 0\n",
    "b = lamb**(1/3)\n",
    "for n in [1, 2, 3, 4, 5, 10, 20, 100]:\n",
    "    print(f'{n:<3}: {cubic_solve(a, b, lamb, n)}')\n",
    "\n",
    "n = ceil(log2(10e5 * b))\n",
    "print(f'{n:<3}: {cubic_solve(a, b, lamb, n)}')"
   ]
  },
  {
   "cell_type": "code",
   "execution_count": null,
   "metadata": {},
   "outputs": [
    {
     "name": "stdout",
     "output_type": "stream",
     "text": [
      "lamb : n  : root\n",
      "1    : 20 : 0.6823277473449707\n",
      "10   : 22 : 1.9999997831156808\n",
      "100  : 23 : 4.569780281484205\n",
      "1000 : 24 : 9.966666996479033\n",
      "10000: 25 : 21.52887522268521\n"
     ]
    }
   ],
   "source": [
    "print('lamb : n  : root')\n",
    "for lamb in [1, 10, 100, 1000, 10000]:\n",
    "    a = 0\n",
    "    b = lamb**(1/3)\n",
    "    n = ceil(log2(10e5 * b))\n",
    "    print(f'{lamb:<5}: {n:<3}: {cubic_solve(a, b, lamb, n)}')"
   ]
  }
 ],
 "metadata": {
  "kernelspec": {
   "display_name": "math311",
   "language": "python",
   "name": "python3"
  },
  "language_info": {
   "codemirror_mode": {
    "name": "ipython",
    "version": 3
   },
   "file_extension": ".py",
   "mimetype": "text/x-python",
   "name": "python",
   "nbconvert_exporter": "python",
   "pygments_lexer": "ipython3",
   "version": "3.10.13"
  }
 },
 "nbformat": 4,
 "nbformat_minor": 2
}