{
 "cells": [
  {
   "cell_type": "markdown",
   "metadata": {},
   "source": [
    "# 9 - Golden Section Search Method"
   ]
  },
  {
   "cell_type": "markdown",
   "metadata": {},
   "source": [
    "Given a continuous function $f(x)$ on some interval $[a,b]$, we want to find the maximum value of a function on the interval."
   ]
  },
  {
   "cell_type": "code",
   "execution_count": 2,
   "metadata": {},
   "outputs": [],
   "source": [
    "PHI = (5**0.5 + 1) / 2\n",
    "\n",
    "def golden_search(fx, a: float, b: float, tol: float=1e-5):\n",
    "    while b - a > tol:\n",
    "        h = b - a\n",
    "        c = b - h / PHI\n",
    "        d = a + h / PHI\n",
    "        if fx(c) > fx(d):\n",
    "            b = d\n",
    "            d = c\n",
    "        else:\n",
    "            a = c\n",
    "            c = d\n",
    "    return (a + b) / 2"
   ]
  },
  {
   "cell_type": "code",
   "execution_count": 3,
   "metadata": {},
   "outputs": [],
   "source": [
    "def square_fx(x: float) -> float:\n",
    "    return -x**2 + 5"
   ]
  },
  {
   "cell_type": "code",
   "execution_count": 5,
   "metadata": {},
   "outputs": [
    {
     "data": {
      "text/plain": [
       "1.8575771346465708e-16"
      ]
     },
     "execution_count": 5,
     "metadata": {},
     "output_type": "execute_result"
    }
   ],
   "source": [
    "golden_search(square_fx, -2, 2)"
   ]
  },
  {
   "cell_type": "code",
   "execution_count": null,
   "metadata": {},
   "outputs": [],
   "source": [
    "def find_max(a, b, tol=1e-5, max_iter=1000):\n",
    "    \n",
    "    def fx(x):\n",
    "        return -x**2 + 5\n",
    "    \n",
    "    h = b - a\n",
    "    c = b - h / PHI\n",
    "    d = a + h / PHI\n",
    "    for _ in range(max_iter):\n",
    "        if fx(c) > fx(d):\n",
    "            b = d\n",
    "            d = c\n",
    "        else:\n",
    "            a = c\n",
    "            c = d"
   ]
  }
 ],
 "metadata": {
  "kernelspec": {
   "display_name": "math311",
   "language": "python",
   "name": "python3"
  },
  "language_info": {
   "codemirror_mode": {
    "name": "ipython",
    "version": 3
   },
   "file_extension": ".py",
   "mimetype": "text/x-python",
   "name": "python",
   "nbconvert_exporter": "python",
   "pygments_lexer": "ipython3",
   "version": "3.10.13"
  }
 },
 "nbformat": 4,
 "nbformat_minor": 2
}
