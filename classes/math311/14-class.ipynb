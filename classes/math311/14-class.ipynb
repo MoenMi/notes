{
 "cells": [
  {
   "cell_type": "markdown",
   "metadata": {},
   "source": [
    "# 14 - Singular Value Decomposition"
   ]
  },
  {
   "cell_type": "markdown",
   "metadata": {},
   "source": [
    "## 14.1 - Eigenvalues and Eigenvectors\n",
    "\n",
    "### 14.1.1 - Definition and Properties\n",
    "\n",
    "Let $A$ be an $n \\times n$ matrix. A non-zero vector $\\textbf{x}$ in $\\mathbb{R}^n$ is called an **eigenvector** of $A$ if there exists a scalar $\\lambda$ (which can be real or complex) such that\n",
    "\n",
    "$$ A\\textbf{x} = \\lambda\\textbf{x} $$\n",
    "\n",
    "Here, $\\lambda$ is known as an **eigenvalue** corresponding to the eigenvector $\\textbf{x}$.\n",
    "\n",
    "#### Remarks\n",
    "\n",
    "- **Non-zero requirement:** The vector $\\textbf{x}$ must be non-zero to qualify as an eigenvector because the zero vector would trivially satisfy the equation for any $\\lambda$, providing no useful information.\n",
    "- **Scalar multiples:** If $\\textbf{x}$ is an eigenvector associated with the eigenvalue $\\lambda$, then any scalar multiple $\\alpha\\textbf{x}$ (where $\\alpha$ is a non-zero scalar) is also an eigenvector associated with $\\lambda$. This property underscores the fact that eigenvectors are defined up to a scalar multiple.\n",
    "\n",
    "#### Normalization of Eigenvectors\n",
    "\n",
    "Given the scalar multiples property, eigenvectors are often normalized for convenience and standardization, particularly when dealing with eigenspaces or when the length of the vector is of interest. A normalized eigenvector $\\textbf{v}$ is obtained by dividing the original eigenvector $\\textbf{x}$ by its norm:\n",
    "\n",
    "$$ \\textbf{v} = \\frac{\\textbf{x}}{||\\textbf{x}||} $$\n",
    "\n",
    "where $||\\textbf{x}||$ denotes the norm (or length) of $\\textbf{x}$. This process ensures $||\\textbf{v}|| = 1$, making $\\textbf{v}$ a unit vector.\n",
    "\n",
    "#### Importance of Eigenvalues and Eigenvectors\n",
    "\n",
    "- **Determining system behavior:** In systems theory and applied mathematics, eigenvalues can reveal the stability and dynamic properties of linear systems.\n",
    "- **Diagonalization:** A matrix $A$ can be diagonalized if it has $n$ linearly independent eigenvectors, enabling easier computation of its powers and exponentials, which are crucial in solving differential equations.\n",
    "- **Spectral Theorem:** For symmetric matrices, the spectral theorem uses eigenvalues and eigenvectors to represent the matrix in a form that illustrates its geometric properties."
   ]
  },
  {
   "cell_type": "markdown",
   "metadata": {},
   "source": [
    "### 14.1.2 - Finding Eigenvalues\n",
    "\n",
    "In NumPy, we can use `numpy.linalg.eig` to determine the eigenvalues and eigenvectors of a matrix."
   ]
  },
  {
   "cell_type": "code",
   "execution_count": 2,
   "metadata": {},
   "outputs": [
    {
     "name": "stdout",
     "output_type": "stream",
     "text": [
      "[[1 1]\n",
      " [1 1]]\n"
     ]
    }
   ],
   "source": [
    "import numpy as np\n",
    "\n",
    "A = np.array([[1, 1], [1, 1]])\n",
    "print(A)"
   ]
  },
  {
   "cell_type": "code",
   "execution_count": 3,
   "metadata": {},
   "outputs": [
    {
     "name": "stdout",
     "output_type": "stream",
     "text": [
      "Eigenvalues: [2. 0.]\n",
      "Eigenvectors: [[ 0.70710678 -0.70710678]\n",
      " [ 0.70710678  0.70710678]]\n"
     ]
    }
   ],
   "source": [
    "eigenvalues, eigenvectors = np.linalg.eig(A)\n",
    "\n",
    "print('Eigenvalues:', eigenvalues)\n",
    "print('Eigenvectors:', eigenvectors)\n",
    "\n",
    "# Eigenvalues form the columns of the matrix\n",
    "# For example, v_1 = <0.707, 0.707>, and v_2 = <-0.707, 0.707>"
   ]
  },
  {
   "cell_type": "markdown",
   "metadata": {},
   "source": [
    "## 14.2 - Singular Value Decomposition\n",
    "\n",
    "The **Singular Value Decomposition (SVD)** is a factorization of an $m \\times n$ matrix into three constituent matrices:\n",
    "\n",
    "$$ A = U\\Sigma V^T $$\n",
    "\n",
    "where:\n",
    "- $U$ is an $m \\times m$ orthogonal matrix containing the left singular vectors.\n",
    "- $\\Sigma$ is an $m \\times n$ diagonal matrix containing the singular values.\n",
    "- $V^T$ is an $n \\times n$ orthogonal matrix containing the right singular vectors (transposed)."
   ]
  },
  {
   "cell_type": "markdown",
   "metadata": {},
   "source": [
    "### 14.2.1 - Case 1: Square Matrix $A$ (i.e. $m = n$)\n",
    "\n",
    "In the SVD decomposition, we have\n",
    "\n",
    "$$\n",
    "U =\n",
    "\\begin{pmatrix}\n",
    "    | & \\dots & | \\\\\n",
    "    u_1 & \\dots & u_n \\\\\n",
    "    | & \\dots & |\n",
    "\\end{pmatrix}_{n \\times n}\n",
    "$$\n",
    "\n",
    "$$\n",
    "\\Sigma =\n",
    "\\begin{pmatrix}\n",
    "    \\sigma_1 & 0 & \\dots & 0 \\\\\n",
    "    0 & \\sigma_2 & \\dots & 0 \\\\\n",
    "    \\vdots & \\vdots & \\ddots & \\vdots \\\\\n",
    "    0 & 0 & \\dots & \\sigma_n\n",
    "\\end{pmatrix}_{n \\times n}\n",
    "$$\n",
    "\n",
    "$$\n",
    "V^T =\n",
    "\\begin{pmatrix}\n",
    "    | & \\dots & | \\\\\n",
    "    v_1 & \\dots & v_n \\\\\n",
    "    | & \\dots & |\n",
    "\\end{pmatrix}^T_{n \\times n}\n",
    "$$"
   ]
  },
  {
   "cell_type": "markdown",
   "metadata": {},
   "source": [
    "#### How to Determine These Matrices Manually\n",
    "\n",
    "For $U$, we compute the eigenvectors of $AA^T$ and then normalize each eigenvector to obtain the corresponding column of $U$.\n",
    "\n",
    "For $V$, we compute the eigenvectors of $A^TA$ and then normalize each eigenvector to obtain the corresponding row of $V$.\n",
    "\n",
    "There is a relationship we need to check:\n",
    "\n",
    "$$ A^Tu_i = \\sigma_i v_i $$\n",
    "\n",
    "for all $1 \\leq i \\leq n$.\n",
    "\n",
    "For $\\Sigma$, suppose $\\lambda_1, \\dots, \\lambda_n$ are eigenvalues of $AA^T$, then we form\n",
    "\n",
    "$$\n",
    "\\Sigma =\n",
    "\\begin{pmatrix}\n",
    "    \\sqrt{\\lambda_1} & 0 & \\dots & 0 \\\\\n",
    "    0 & \\sqrt{\\lambda_2} & \\dots & 0 \\\\\n",
    "    \\vdots & \\vdots & \\ddots & \\vdots \\\\\n",
    "    0 & 0 & \\dots & \\sqrt{\\lambda_n}\n",
    "\\end{pmatrix}\n",
    "$$"
   ]
  },
  {
   "cell_type": "markdown",
   "metadata": {},
   "source": [
    "#### Example 1: Square Matrix $A$"
   ]
  },
  {
   "cell_type": "code",
   "execution_count": 4,
   "metadata": {},
   "outputs": [
    {
     "name": "stdout",
     "output_type": "stream",
     "text": [
      "[[ 1  2  3]\n",
      " [ 3 -4  6]\n",
      " [ 5 -7  4]]\n"
     ]
    }
   ],
   "source": [
    "import numpy as np\n",
    "\n",
    "A = np.array([[1, 2, 3], [3, -4, 6], [5, -7, 4]])\n",
    "print(A)"
   ]
  },
  {
   "cell_type": "markdown",
   "metadata": {},
   "source": [
    "To determine the SVD form of $A$, we need to compute $AA^T$ (left singular vectors) and $A^TA$ (right singular vectors)."
   ]
  },
  {
   "cell_type": "code",
   "execution_count": 5,
   "metadata": {},
   "outputs": [
    {
     "name": "stdout",
     "output_type": "stream",
     "text": [
      "[[14 13  3]\n",
      " [13 61 67]\n",
      " [ 3 67 90]]\n"
     ]
    }
   ],
   "source": [
    "AAT = np.dot(A, A.T)\n",
    "print(AAT)"
   ]
  },
  {
   "cell_type": "markdown",
   "metadata": {},
   "source": [
    "Find the left eigenvectors"
   ]
  },
  {
   "cell_type": "code",
   "execution_count": 6,
   "metadata": {},
   "outputs": [
    {
     "name": "stdout",
     "output_type": "stream",
     "text": [
      "[144.89610653  18.82790954   1.27598393]\n",
      "[[-0.0802384  -0.81991128  0.56683975]\n",
      " [-0.62958094 -0.39919367 -0.66653751]\n",
      " [-0.77278046  0.4103534   0.48416985]]\n"
     ]
    }
   ],
   "source": [
    "left_eigenvalues, left_eigenvectors = np.linalg.eig(AAT)\n",
    "print(left_eigenvalues)\n",
    "print(left_eigenvectors)"
   ]
  },
  {
   "cell_type": "markdown",
   "metadata": {},
   "source": [
    "Form the matrix $U$:"
   ]
  },
  {
   "cell_type": "code",
   "execution_count": 7,
   "metadata": {},
   "outputs": [],
   "source": [
    "U = left_eigenvectors"
   ]
  },
  {
   "cell_type": "markdown",
   "metadata": {},
   "source": [
    "Form the matrix $\\Sigma$. We have $\\lambda_1 > \\lambda_2 > \\lambda_3$. The matrix $\\Sigma$ is diagonal with entries on the diagonal $\\sigma_1 = \\sqrt{\\lambda_1}, \\sigma_2 = \\sqrt{\\lambda_2}, \\sigma_3 = \\sqrt{\\lambda_3}$."
   ]
  },
  {
   "cell_type": "code",
   "execution_count": 8,
   "metadata": {},
   "outputs": [
    {
     "name": "stdout",
     "output_type": "stream",
     "text": [
      "[[12.03727986  0.          0.        ]\n",
      " [ 0.          4.33911391  0.        ]\n",
      " [ 0.          0.          1.12959459]]\n"
     ]
    }
   ],
   "source": [
    "Sigma = np.zeros(A.shape)\n",
    "for i in range(3):\n",
    "    Sigma[i, i] = np.sqrt(left_eigenvalues[i])\n",
    "print(Sigma)"
   ]
  },
  {
   "cell_type": "code",
   "execution_count": 9,
   "metadata": {},
   "outputs": [
    {
     "name": "stdout",
     "output_type": "stream",
     "text": [
      "[[ 35 -45  41]\n",
      " [-45  69 -46]\n",
      " [ 41 -46  61]]\n"
     ]
    }
   ],
   "source": [
    "ATA = np.dot(A.T, A)\n",
    "print(ATA)"
   ]
  },
  {
   "cell_type": "code",
   "execution_count": 10,
   "metadata": {},
   "outputs": [
    {
     "name": "stdout",
     "output_type": "stream",
     "text": [
      "[144.89610653   1.27598393  18.82790954]\n",
      "[[ 0.48456824 -0.8747178  -0.00789902]\n",
      " [-0.64527121 -0.36352915  0.67191638]\n",
      " [ 0.59060874  0.32049233  0.74058489]]\n"
     ]
    }
   ],
   "source": [
    "right_eigenvalues, right_eigenvectors = np.linalg.eig(ATA)\n",
    "print(right_eigenvalues)\n",
    "print(right_eigenvectors)"
   ]
  },
  {
   "cell_type": "markdown",
   "metadata": {},
   "source": [
    "Rearrange the order to make sure the eigenvalues are decreasing."
   ]
  },
  {
   "cell_type": "code",
   "execution_count": 11,
   "metadata": {},
   "outputs": [
    {
     "name": "stdout",
     "output_type": "stream",
     "text": [
      "[0 2 1]\n"
     ]
    }
   ],
   "source": [
    "sorted_idx = right_eigenvalues.argsort()[::-1]\n",
    "print(sorted_idx)"
   ]
  },
  {
   "cell_type": "code",
   "execution_count": 12,
   "metadata": {},
   "outputs": [
    {
     "name": "stdout",
     "output_type": "stream",
     "text": [
      "[144.89610653  18.82790954   1.27598393]\n"
     ]
    }
   ],
   "source": [
    "right_eigenvalues = right_eigenvalues[sorted_idx]\n",
    "print(right_eigenvalues)"
   ]
  },
  {
   "cell_type": "code",
   "execution_count": 13,
   "metadata": {},
   "outputs": [
    {
     "name": "stdout",
     "output_type": "stream",
     "text": [
      "[[ 0.48456824 -0.00789902 -0.8747178 ]\n",
      " [-0.64527121  0.67191638 -0.36352915]\n",
      " [ 0.59060874  0.74058489  0.32049233]]\n"
     ]
    }
   ],
   "source": [
    "right_eigenvectors = right_eigenvectors[:, sorted_idx]\n",
    "print(right_eigenvectors)"
   ]
  },
  {
   "cell_type": "code",
   "execution_count": 14,
   "metadata": {},
   "outputs": [
    {
     "name": "stdout",
     "output_type": "stream",
     "text": [
      "[-5.83288351  7.76731019 -7.10932268]\n",
      "[ 5.83288351 -7.76731019  7.10932268]\n"
     ]
    }
   ],
   "source": [
    "u1 = U[:, 0]\n",
    "\n",
    "# Check A^T*u1 = sigma*v1, sigma1 = Sigma[0, 0]\n",
    "sigma1 = Sigma[0, 0]\n",
    "v1 = right_eigenvectors[:, 0]\n",
    "print(np.dot(A.T, u1))\n",
    "print(sigma1 * v1)"
   ]
  },
  {
   "cell_type": "code",
   "execution_count": 15,
   "metadata": {},
   "outputs": [],
   "source": [
    "v1 = -v1"
   ]
  },
  {
   "cell_type": "code",
   "execution_count": 16,
   "metadata": {},
   "outputs": [
    {
     "name": "stdout",
     "output_type": "stream",
     "text": [
      "[ 0.03427474 -2.91552171 -3.21348222]\n",
      "[-0.03427474  2.91552171  3.21348222]\n"
     ]
    }
   ],
   "source": [
    "u2 = U[:, 1]\n",
    "\n",
    "# Check A^T*u2 = sigma2*v2, sigma2 = Sigma[1, 1]\n",
    "sigma2 = Sigma[1, 1]\n",
    "v2 = right_eigenvectors[:, 1]\n",
    "print(np.dot(A.T, u2))\n",
    "print(sigma2 * v2)"
   ]
  },
  {
   "cell_type": "code",
   "execution_count": 17,
   "metadata": {},
   "outputs": [],
   "source": [
    "v2 = -v2"
   ]
  },
  {
   "cell_type": "code",
   "execution_count": 18,
   "metadata": {},
   "outputs": [
    {
     "name": "stdout",
     "output_type": "stream",
     "text": [
      "[ 0.98807649  0.41064056 -0.3620264 ]\n",
      "[-0.98807649 -0.41064056  0.3620264 ]\n"
     ]
    }
   ],
   "source": [
    "u3 = U[:, 2]\n",
    "\n",
    "# Check A^T*u3 = sigma3*v3, sigma3 = Sigma[2, 2]\n",
    "sigma3 = Sigma[2, 2]\n",
    "v3 = right_eigenvectors[:, 2]\n",
    "print(np.dot(A.T, u3))\n",
    "print(sigma3 * v3)"
   ]
  },
  {
   "cell_type": "code",
   "execution_count": 19,
   "metadata": {},
   "outputs": [],
   "source": [
    "v3 = -v3"
   ]
  },
  {
   "cell_type": "code",
   "execution_count": 20,
   "metadata": {},
   "outputs": [
    {
     "name": "stdout",
     "output_type": "stream",
     "text": [
      "[[-0.48456824  0.64527121 -0.59060874]\n",
      " [ 0.00789902 -0.67191638 -0.74058489]\n",
      " [ 0.8747178   0.36352915 -0.32049233]]\n"
     ]
    }
   ],
   "source": [
    "VT = np.array([v1, v2, v3])\n",
    "print(VT)"
   ]
  },
  {
   "cell_type": "markdown",
   "metadata": {},
   "source": [
    "Conclusion: The matrix $A$ is decomposed into"
   ]
  },
  {
   "cell_type": "code",
   "execution_count": 21,
   "metadata": {},
   "outputs": [
    {
     "name": "stdout",
     "output_type": "stream",
     "text": [
      "[[-0.0802384  -0.81991128  0.56683975]\n",
      " [-0.62958094 -0.39919367 -0.66653751]\n",
      " [-0.77278046  0.4103534   0.48416985]]\n",
      "[[12.03727986  0.          0.        ]\n",
      " [ 0.          4.33911391  0.        ]\n",
      " [ 0.          0.          1.12959459]]\n",
      "[[-0.48456824  0.64527121 -0.59060874]\n",
      " [ 0.00789902 -0.67191638 -0.74058489]\n",
      " [ 0.8747178   0.36352915 -0.32049233]]\n"
     ]
    }
   ],
   "source": [
    "print(U)\n",
    "print(Sigma)\n",
    "print(VT)"
   ]
  },
  {
   "cell_type": "code",
   "execution_count": 22,
   "metadata": {},
   "outputs": [
    {
     "data": {
      "text/plain": [
       "array([[ 1.,  2.,  3.],\n",
       "       [ 3., -4.,  6.],\n",
       "       [ 5., -7.,  4.]])"
      ]
     },
     "execution_count": 22,
     "metadata": {},
     "output_type": "execute_result"
    }
   ],
   "source": [
    "(U @ Sigma) @ VT"
   ]
  },
  {
   "cell_type": "markdown",
   "metadata": {},
   "source": [
    "### 14.2.2 - Case 2: Reduced SVD ($A$ Is Not a Square Matrix and $m > n$)\n",
    "\n",
    "In the reduced SVD, when $A$ is not a square matrix and $m > n$, we have:\n",
    "\n",
    "$$\n",
    "U =\n",
    "\\begin{pmatrix}\n",
    "    | & \\dots & | \\\\\n",
    "    u_1 & \\dots & u_n \\\\\n",
    "    | & \\dots & |\n",
    "\\end{pmatrix}_{m \\times m}\n",
    "$$\n",
    "\n",
    "$$\n",
    "\\Sigma =\n",
    "\\begin{pmatrix}\n",
    "    \\sigma_1 & 0 & \\dots & 0 \\\\\n",
    "    0 & \\sigma_2 & \\dots & 0 \\\\\n",
    "    \\vdots & \\vdots & \\ddots & \\vdots \\\\\n",
    "    0 & 0 & \\dots & \\sigma_n \\\\\n",
    "    0 & 0 & \\dots & 0 \\\\\n",
    "    \\vdots & \\vdots & \\ddots & \\vdots \\\\\n",
    "    0 & 0 & \\dots & 0\n",
    "\\end{pmatrix}_{m \\times n}\n",
    "$$\n",
    "\n",
    "$$\n",
    "V^T =\n",
    "\\begin{pmatrix}\n",
    "    | & \\dots & | \\\\\n",
    "    v_1 & \\dots & v_m \\\\\n",
    "    | & \\dots & |\n",
    "\\end{pmatrix}^T_{n \\times n}\n",
    "$$"
   ]
  },
  {
   "cell_type": "markdown",
   "metadata": {},
   "source": [
    "### 14.2.3 - Case 3: Reduced SVD ($A$ Is Not a Square Matrix and $m < n$)\n",
    "\n",
    "In the reduced SVD, when $A$ is not a square matrix and $m > n$, we have:\n",
    "\n",
    "$$\n",
    "U =\n",
    "\\begin{pmatrix}\n",
    "    | & \\dots & | \\\\\n",
    "    u_1 & \\dots & u_n \\\\\n",
    "    | & \\dots & |\n",
    "\\end{pmatrix}_{m \\times m}\n",
    "$$\n",
    "\n",
    "$$\n",
    "\\Sigma =\n",
    "\\begin{pmatrix}\n",
    "    \\sigma_1 & 0 & \\dots & 0 & 0 & \\dots & 0 \\\\\n",
    "    0 & \\sigma_2 & \\dots & 0 & 0 & \\dots & 0 \\\\\n",
    "    \\vdots & \\vdots & \\ddots & \\vdots & \\vdots & \\ddots & \\vdots \\\\\n",
    "    0 & 0 & \\dots & \\sigma_m & 0 & \\dots & 0\n",
    "\\end{pmatrix}_{m \\times n}\n",
    "$$\n",
    "\n",
    "$$\n",
    "V^T =\n",
    "\\begin{pmatrix}\n",
    "    | & \\dots & | \\\\\n",
    "    v_1 & \\dots & v_m \\\\\n",
    "    | & \\dots & |\n",
    "\\end{pmatrix}^T_{n \\times n}\n",
    "$$"
   ]
  },
  {
   "cell_type": "markdown",
   "metadata": {},
   "source": [
    "### 14.2.4 - How to Implement SVD with NumPy\n",
    "\n",
    "#### Example 2: Rectangular Matrix $A$"
   ]
  },
  {
   "cell_type": "code",
   "execution_count": 23,
   "metadata": {},
   "outputs": [
    {
     "name": "stdout",
     "output_type": "stream",
     "text": [
      "[[4 3 4 2 1]\n",
      " [1 2 3 4 2]\n",
      " [1 3 4 4 1]\n",
      " [2 4 1 1 2]]\n"
     ]
    }
   ],
   "source": [
    "A = np.random.randint(1, 5, size=(4, 5))\n",
    "print(A)"
   ]
  },
  {
   "cell_type": "markdown",
   "metadata": {},
   "source": [
    "Compute the left singular vectors"
   ]
  },
  {
   "cell_type": "code",
   "execution_count": 24,
   "metadata": {},
   "outputs": [
    {
     "name": "stdout",
     "output_type": "stream",
     "text": [
      "[[46 32 38 28]\n",
      " [32 34 37 21]\n",
      " [38 37 43 24]\n",
      " [28 21 24 26]]\n"
     ]
    }
   ],
   "source": [
    "AAT = np.dot(A, A.T)\n",
    "print(AAT)"
   ]
  },
  {
   "cell_type": "code",
   "execution_count": 25,
   "metadata": {},
   "outputs": [
    {
     "name": "stdout",
     "output_type": "stream",
     "text": [
      "[129.96442476  12.11731305   5.85577938   1.06248281]\n",
      "[[ 0.56149172  0.42142927  0.69793148  0.14147818]\n",
      " [ 0.48386663 -0.47281617 -0.24458293  0.69462014]\n",
      " [ 0.55530003 -0.44440817 -0.03609003 -0.70202619]\n",
      " [ 0.37714986  0.63351686 -0.67213715 -0.0681617 ]]\n"
     ]
    }
   ],
   "source": [
    "left_eigenvalues, left_eigenvectors = np.linalg.eig(AAT)\n",
    "print(left_eigenvalues)\n",
    "print(left_eigenvectors)"
   ]
  },
  {
   "cell_type": "code",
   "execution_count": 26,
   "metadata": {},
   "outputs": [
    {
     "name": "stdout",
     "output_type": "stream",
     "text": [
      "[0 1 2 3]\n"
     ]
    }
   ],
   "source": [
    "idx_left = left_eigenvalues.argsort()[::-1]\n",
    "print(idx_left)"
   ]
  },
  {
   "cell_type": "markdown",
   "metadata": {},
   "source": [
    "From the left singular vectors, we can normalize to obtain the matrix $U$. NumPy normalized all eigenvectors for us. So these vectors will form the matrix $U$."
   ]
  },
  {
   "cell_type": "code",
   "execution_count": 27,
   "metadata": {},
   "outputs": [
    {
     "name": "stdout",
     "output_type": "stream",
     "text": [
      "[129.96442476  12.11731305   5.85577938   1.06248281]\n",
      "[[ 0.56149172  0.42142927  0.69793148  0.14147818]\n",
      " [ 0.48386663 -0.47281617 -0.24458293  0.69462014]\n",
      " [ 0.55530003 -0.44440817 -0.03609003 -0.70202619]\n",
      " [ 0.37714986  0.63351686 -0.67213715 -0.0681617 ]]\n"
     ]
    }
   ],
   "source": [
    "U = left_eigenvectors[:, idx_left]\n",
    "left_eigenvalues = left_eigenvalues[idx_left]\n",
    "print(left_eigenvalues)\n",
    "print(U)"
   ]
  },
  {
   "cell_type": "markdown",
   "metadata": {},
   "source": [
    "Next $\\Sigma$ is a diagonal matrix with each entry is the square root of left eigenvalues."
   ]
  },
  {
   "cell_type": "code",
   "execution_count": 29,
   "metadata": {},
   "outputs": [
    {
     "name": "stdout",
     "output_type": "stream",
     "text": [
      "[[11.40019407  0.          0.          0.          0.        ]\n",
      " [ 0.          3.48099311  0.          0.          0.        ]\n",
      " [ 0.          0.          2.41987177  0.          0.        ]\n",
      " [ 0.          0.          0.          1.03076807  0.        ]]\n"
     ]
    }
   ],
   "source": [
    "Sigma = np.zeros(A.shape)\n",
    "k = min(A.shape)\n",
    "for i in range(k):\n",
    "    Sigma[i, i] = np.sqrt(left_eigenvalues[i])\n",
    "print(Sigma)"
   ]
  },
  {
   "cell_type": "markdown",
   "metadata": {},
   "source": [
    "Finally, we need to compute the right singular vectors."
   ]
  },
  {
   "cell_type": "code",
   "execution_count": 30,
   "metadata": {},
   "outputs": [
    {
     "name": "stdout",
     "output_type": "stream",
     "text": [
      "[0 1 2 4 3] [ 1.29964425e+02  1.21173131e+01  5.85577938e+00 -2.40490654e-16\n",
      "  1.06248281e+00]\n",
      "[[-0.35433022 -0.58475452 -0.48216548  0.40958126  0.36369203]\n",
      " [-0.51110603 -0.4365129   0.49266666 -0.54818397  0.07071789]\n",
      " [-0.552264    0.25189572 -0.51303539 -0.21973256 -0.56574316]\n",
      " [-0.49620207  0.62985531  0.16487074  0.1796432   0.54553804]\n",
      " [-0.24901547 -0.08572912  0.48415736  0.67170191 -0.49502526]]\n"
     ]
    }
   ],
   "source": [
    "ATA = np.dot(A.T, A)\n",
    "right_eigenvalues, right_eigenvectors = np.linalg.eig(ATA)\n",
    "idx_right = right_eigenvalues.argsort()[::-1]\n",
    "print(idx_right, right_eigenvalues)\n",
    "right_eigenvectors = right_eigenvectors[:, idx_right]\n",
    "print(right_eigenvectors)"
   ]
  },
  {
   "cell_type": "code",
   "execution_count": 31,
   "metadata": {},
   "outputs": [
    {
     "name": "stdout",
     "output_type": "stream",
     "text": [
      "[[ 0.35433022  0.51110603  0.552264    0.49620207  0.24901547]\n",
      " [ 0.58475452  0.4365129  -0.25189572 -0.62985531  0.08572912]\n",
      " [ 0.48216548 -0.49266666  0.51303539 -0.16487074 -0.48415736]\n",
      " [ 0.40958126 -0.54818397 -0.21973256  0.1796432   0.67170191]\n",
      " [ 0.36369203  0.07071789 -0.56574316  0.54553804 -0.49502526]]\n"
     ]
    }
   ],
   "source": [
    "m, n = A.shape\n",
    "VT = np.zeros((n, n))\n",
    "for i in range(n):\n",
    "    vi = right_eigenvectors[:, i]\n",
    "    if i < m:\n",
    "        ui = U[:, i]\n",
    "        # Check A^T**ui = sigma*vi, sigma = Sigma[i, i]\n",
    "        sigma = Sigma[i, i]\n",
    "        if np.dot(np.dot(A.T, ui), vi) < 0:\n",
    "            vi = -vi\n",
    "    VT[i, :] = vi\n",
    "print(VT)"
   ]
  },
  {
   "cell_type": "code",
   "execution_count": 32,
   "metadata": {},
   "outputs": [
    {
     "data": {
      "text/plain": [
       "array([[4., 3., 4., 2., 1.],\n",
       "       [1., 2., 3., 4., 2.],\n",
       "       [1., 3., 4., 4., 1.],\n",
       "       [2., 4., 1., 1., 2.]])"
      ]
     },
     "execution_count": 32,
     "metadata": {},
     "output_type": "execute_result"
    }
   ],
   "source": [
    "(U @ Sigma) @ VT"
   ]
  },
  {
   "cell_type": "markdown",
   "metadata": {},
   "source": [
    "## 14.3 - Applications of SVD\n",
    "\n",
    "### 14.3.1 - Computing the Moore-Penrose Pseudo-Inverse\n",
    "\n",
    "The Moore-Penrose pseudo-inverse is a generalization of the matrix inverse for non-square matrices and is widely used in solving linear least squares problems, system identification, and in the computation of solutions to systems of linear equations that do not have a unique solution or have no solution.\n",
    "\n",
    "The pseudo-inverse $A^+$ of any matrix $A$ can be computed using its SVD. Suppose that\n",
    "\n",
    "$$ A = U \\Sigma V^T $$\n",
    "\n",
    "is the SVD decomposition of the matrix $A$. Now we define\n",
    "\n",
    "$$\n",
    "\\Sigma =\n",
    "\\begin{pmatrix}\n",
    "    \\sigma_1^+ & 0 & \\dots & 0 \\\\\n",
    "    0 & \\sigma_2^+ & \\dots & 0 \\\\\n",
    "    \\vdots & \\vdots & \\ddots & \\vdots \\\\\n",
    "    0 & 0 & \\dots & \\sigma_n^+ \\\\\n",
    "    0 & 0 & \\dots & 0 \\\\\n",
    "    \\vdots & \\vdots & \\ddots & \\vdots \\\\\n",
    "    0 & 0 & \\dots & 0\n",
    "\\end{pmatrix}_{m \\times n}\n",
    "$$\n",
    "\n",
    "where $\\sigma_i^+ = \\frac{1}{\\sigma_i}$ if $\\sigma_i \\neq 0$; otherwise $\\sigma_i^+ = 0$.\n",
    "\n",
    "Now the pseudo-inverse is determined by\n",
    "\n",
    "$$ A^+ = U \\Sigma^+ V^T $$"
   ]
  }
 ],
 "metadata": {
  "kernelspec": {
   "display_name": "math311",
   "language": "python",
   "name": "python3"
  },
  "language_info": {
   "codemirror_mode": {
    "name": "ipython",
    "version": 3
   },
   "file_extension": ".py",
   "mimetype": "text/x-python",
   "name": "python",
   "nbconvert_exporter": "python",
   "pygments_lexer": "ipython3",
   "version": "3.10.13"
  }
 },
 "nbformat": 4,
 "nbformat_minor": 2
}
