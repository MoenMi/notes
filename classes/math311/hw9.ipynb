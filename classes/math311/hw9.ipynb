{
 "cells": [
  {
   "cell_type": "markdown",
   "metadata": {},
   "source": [
    "# Homework 9 - Polynomial Interpolations and SVD"
   ]
  },
  {
   "cell_type": "markdown",
   "metadata": {},
   "source": [
    "## Exercise 1: Polynomial Interpolation Using Vandermonde Matrix\n",
    "\n",
    "Utilize the Vandermonde matrix and polynomial interpolation to find the interpolating polynomial that passes through the given points. Additionally, plot the resulting polynomial and points for visualization.\n",
    "\n",
    "Consider the following five points: $(-2, 5), (-1, -2), (0, 1), (2, 3), (3, 0)$.\n",
    "- Use the Vandermonde matrix method to find the coefficients of the interpolating polynomial $p(x)$ that passes through the given points.\n",
    "- Plot the resulting polynomial and the given points using `matplotlib` for visualization.\n",
    "\n",
    "### Instructions\n",
    "\n",
    "- Generate the Vandermonde matrix for the given $x_i$ values using `np.vander`.\n",
    "- Solve the linear system to find the coefficients of the interpolating polynomial.\n",
    "- Use the coefficients to define the polynomial function $p(x)$.\n",
    "- Plot the function $p(x)$ over an appropriate interval that includes all given $x_i$ values.\n",
    "- Overlay the plot with the given points to show the interpolation accuracy.\n",
    "\n",
    "### Solution"
   ]
  },
  {
   "cell_type": "code",
   "execution_count": null,
   "metadata": {},
   "outputs": [
    {
     "data": {
      "text/plain": [
       "array([ 1.        ,  4.16666667, -0.25      , -1.16666667,  0.25      ])"
      ]
     },
     "execution_count": 5,
     "metadata": {},
     "output_type": "execute_result"
    }
   ],
   "source": [
    "import numpy as np\n",
    "import matplotlib.pyplot as plt\n",
    "\n",
    "x = np.array([-2, -1, 0, 2, 3])\n",
    "y = np.array([5, -2, 1, 3, 0])\n",
    "\n",
    "# Generate the Vandermonde matrix A\n",
    "A = np.vander(x, increasing=True)\n",
    "\n",
    "# Solve to find the coefficients of the polynomial\n",
    "a = np.linalg.solve(A, y)\n",
    "\n",
    "# Display the polynomial coefficients\n",
    "a"
   ]
  },
  {
   "cell_type": "markdown",
   "metadata": {},
   "source": [
    "As such, the equation for the polynomial $p(x)$ is:\n",
    "\n",
    "$$ p(x) = \\frac{1}{4}x^4 - \\frac{5}{3}x^3 - \\frac{1}{4}x^2 + \\frac{25}{6}x + 1 $$"
   ]
  },
  {
   "cell_type": "code",
   "execution_count": null,
   "metadata": {},
   "outputs": [
    {
     "data": {
      "image/png": "[encoded data removed]",
      "text/plain": [
       "<Figure size 640x480 with 1 Axes>"
      ]
     },
     "metadata": {},
     "output_type": "display_data"
    }
   ],
   "source": [
    "x_vals = np.linspace(-3, 4, 100000)\n",
    "y_vals = a[4] * x_vals**4 + a[3] * x_vals**3 + a[2] * x_vals**2 + a[1] * x_vals + a[0]\n",
    "\n",
    "plt.plot(x_vals, y_vals, 'b-')\n",
    "plt.plot(x, y, 'r.')\n",
    "plt.grid(True)\n",
    "plt.show()"
   ]
  },
  {
   "cell_type": "markdown",
   "metadata": {},
   "source": [
    "## Exercise 2: Lagrange Polynomial Interpolation\n",
    "\n",
    "Use Lagrange basis polynomials to determine the interpolating polynomial that fits the given set of points exactly.\n",
    "\n",
    "Consider the following five points: $(1, 2), (2, 3), (3, 5), (4, 7), (5, 11)$.\n",
    "- Derive the Lagrange basis polynomials $L_i(x)$ for $i = 0, \\dots, 4$.\n",
    "- Use these basis polynomials to form the interpolating polynomial $P(x)$.\n",
    "- Show the detailed calculations on paper.\n",
    "\n",
    "### Instructions\n",
    "\n",
    "- Recall that the Lagrange basis polynomial $l_i(x)$ for the $i$-th data point is defined as:\n",
    "\n",
    "  $$ l_i(x) = \\prod^4_{\\substack{j=0 \\\\ j \\neq i}} \\frac{x - x_j}{x_i - x_j}, $$\n",
    "\n",
    "  where $x_0, x_1, \\dots, x_4$ are the $x$-coordinates of the given points, and the product excludes the $i$-th term.\n",
    "\n",
    "- The interpolating polynomial $P(x)$ is then given as a linear combination of these basis polynomials:\n",
    "\n",
    "  $$ P(x) = \\sum^4_{i=0} y_i * l_i(x) $$\n",
    "\n",
    "- Perform the calculations for $l_i(x)$ for each $i$, and then compute $P(x)$."
   ]
  },
  {
   "cell_type": "markdown",
   "metadata": {},
   "source": [
    "### Solution\n",
    "\n",
    "First, we must find the values of the Lagrange basis polynomials $l_i(x)$:\n",
    "\n",
    "For $i = 0$,\n",
    "\n",
    "$$\n",
    "\\begin{align*}\n",
    "    l_0(x) &= \\prod^4_{j=1} \\frac{x - x_j}{x_0 - x_j} \\\\\n",
    "    &= \\prod^4_{j=1} \\frac{x - x_j}{1 - x_j} \\\\\n",
    "    &= \\frac{x - 2}{1 - 2} * \\frac{x - 3}{1 - 3} * \\frac{x - 4}{1 - 4} * \\frac{x - 5}{1 - 5} \\\\\n",
    "    &= (2 - x) * \\frac{3 - x}{2} * \\frac{4 - x}{3} * \\frac{5 - x}{4} \\\\\n",
    "    &= \\frac{1}{24} (2 - x)(3 - x)(4 - x)(5 - x) \\\\\n",
    "    &= \\frac{x^4}{24} - \\frac{7x^3}{12} + \\frac{71x^2}{24} - \\frac{77x}{12} + 5\n",
    "\\end{align*}\n",
    "$$\n",
    "\n",
    "For $i = 1$,\n",
    "\n",
    "$$\n",
    "\\begin{align*}\n",
    "    l_0(x) &= \\prod^4_{\\substack{j = 0 \\\\ j \\neq 1}} \\frac{x - x_j}{x_1 - x_j} \\\\\n",
    "    &= \\prod^4_{\\substack{j = 0 \\\\ j \\neq 1}} \\frac{x - x_j}{2 - x_j} \\\\\n",
    "    &= \\frac{x - 1}{2 - 1} * \\frac{x - 3}{2 - 3} * \\frac{x - 4}{2 - 4} * \\frac{x - 5}{2 - 5} \\\\\n",
    "    &= (x - 1) * (3 - x) * \\frac{4 - x}{2} * \\frac{5 - x}{3} \\\\\n",
    "    &= \\frac{1}{6} (x - 1)(3 - x)(4 - x)(5 - x) \\\\\n",
    "    &= -\\frac{x^4}{6} + \\frac{13x^3}{6} - \\frac{59x^2}{6} + \\frac{107x}{6} - 10\n",
    "\\end{align*}\n",
    "$$\n",
    "\n",
    "For $i = 2$,\n",
    "\n",
    "$$\n",
    "\\begin{align*}\n",
    "    l_0(x) &= \\prod^4_{\\substack{j = 0 \\\\ j \\neq 2}} \\frac{x - x_j}{x_2 - x_j} \\\\\n",
    "    &= \\prod^4_{\\substack{j = 0 \\\\ j \\neq 2}} \\frac{x - x_j}{3 - x_j} \\\\\n",
    "    &= \\frac{x - 1}{3 - 1} * \\frac{x - 2}{3 - 2} * \\frac{x - 4}{3 - 4} * \\frac{x - 5}{3 - 5} \\\\\n",
    "    &= \\frac{x - 1}{2} * (x - 2) * (4 - x) * \\frac{5 - x}{2} \\\\\n",
    "    &= \\frac{1}{4} (x - 1)(x - 2)(4 - x)(5 - x) \\\\\n",
    "    &= \\frac{x^4}{4} - 3x^3 + \\frac{49x^2}{4} - \\frac{39x}{2} + 10\n",
    "\\end{align*}\n",
    "$$\n",
    "\n",
    "For $i = 3$,\n",
    "\n",
    "$$\n",
    "\\begin{align*}\n",
    "    l_0(x) &= \\prod^4_{\\substack{j = 0 \\\\ j \\neq 3}} \\frac{x - x_j}{x_3 - x_j} \\\\\n",
    "    &= \\prod^4_{\\substack{j = 0 \\\\ j \\neq 3}} \\frac{x - x_j}{4 - x_j} \\\\\n",
    "    &= \\frac{x - 1}{4 - 1} * \\frac{x - 2}{4 - 2} * \\frac{x - 3}{4 - 3} * \\frac{x - 5}{4 - 5} \\\\\n",
    "    &= \\frac{x - 1}{3} * \\frac{x - 2}{2} * (x - 3) * (5 - x) \\\\\n",
    "    &= \\frac{1}{6} (x - 1)(x - 2)(x - 3)(5 - x) \\\\\n",
    "    &= -\\frac{x^4}{6} + \\frac{11x^3}{6} - \\frac{41x^2}{6} + \\frac{61x}{6} - 5\n",
    "\\end{align*}\n",
    "$$\n",
    "\n",
    "For $i = 4$,\n",
    "\n",
    "$$\n",
    "\\begin{align*}\n",
    "    l_0(x) &= \\prod^3_{j = 0} \\frac{x - x_j}{x_4 - x_j} \\\\\n",
    "    &= \\prod^3_{j = 0} \\frac{x - x_j}{5 - x_j} \\\\\n",
    "    &= \\frac{x - 1}{5 - 1} * \\frac{x - 2}{5 - 2} * \\frac{x - 3}{5 - 3} * \\frac{x - 5}{5 - 4} \\\\\n",
    "    &= \\frac{x - 1}{4} * \\frac{x - 2}{3} * \\frac{x - 3}{2} * (x - 4) \\\\\n",
    "    &= \\frac{1}{24} (x - 1)(x - 2)(x - 3)(x - 4) \\\\\n",
    "    &= \\frac{x^4}{24} - \\frac{5x^3}{12} + \\frac{35x^2}{24} - \\frac{25x}{12} + 1\n",
    "\\end{align*}\n",
    "$$\n",
    "\n",
    "Now that we've calculated each value of $l_i(x)$, we can calculate $P(x)$:\n",
    "\n",
    "$$\n",
    "\\begin{align*}\n",
    "    P(x) &= \\sum^4_{i=0} y_i * l_i(x) \\\\\n",
    "    &= 2 l_0(x) + 3 l_1(x) + 5 l_2(x) + 7 l_3(x) + 11 l_4(x) \\\\\n",
    "    &= 2(\\frac{x^4}{24} - \\frac{7x^3}{12} + \\frac{71x^2}{24} - \\frac{77x}{12} + 5) \\\\\n",
    "    &+ 3(-\\frac{x^4}{6} + \\frac{13x^3}{6} - \\frac{59x^2}{6} + \\frac{107x}{6} - 10) \\\\\n",
    "    &+ 5(\\frac{x^4}{4} - 3x^3 + \\frac{49x^2}{4} - \\frac{39x}{2} + 10) \\\\\n",
    "    &+ 7(-\\frac{x^4}{6} + \\frac{11x^3}{6} - \\frac{41x^2}{6} + \\frac{61x}{6} - 5) \\\\\n",
    "    &+ 11(\\frac{x^4}{24} - \\frac{5x^3}{12} + \\frac{35x^2}{24} - \\frac{25x}{12} + 1) \\\\\n",
    "    &= \\frac{x^4}{8} - \\frac{17x^3}{12} + \\frac{47x^2}{8} - \\frac{103x}{12} + 6\n",
    "\\end{align*}\n",
    "$$"
   ]
  },
  {
   "cell_type": "markdown",
   "metadata": {},
   "source": [
    "## Exercise 3: Newton's Polynomial Interpolation: Recursive Approach\n",
    "\n",
    "Use Newton's Interpolation in a recursive manner for finding the interpolating polynomial that fits a given set of data points.\n",
    "\n",
    "Let's consider the same five data points as before: $(1, 2), (2, 3), (3, 5), (4, 7), (5, 11)$. Use the recursive formula for Newton's interpolation to construct the interpolating polynomial for the given data points.\n",
    "- Begin with $P_1(x) = a_0 + a_1(x - x_0)$ and then determine $a_0$ and $a_1$ using the first two points.\n",
    "- Assume $P_{k-1}(x)$ is known and extend it to $P_k(x)$ by adding the new data point $(x_{k+1}, y_{k+1})$. The updated polynomial $P_k(x)$ can be expressed as:\n",
    "\n",
    "  $$ P_k(x) = P_{k-1}(x) + a_k(x - x_0)(x - x_1) \\dots (x - x_{k-1}) $$\n",
    "\n",
    "  Determine the coefficient $a_k$ and continue.\n",
    "\n",
    "- Write out the final interpolating polynomial $P_k(x)$ explicitly."
   ]
  },
  {
   "cell_type": "markdown",
   "metadata": {},
   "source": [
    "### Solution\n",
    "\n",
    "To begin, let's find the polynomial interpolation $P_1(x)$ through the first two points. Note that this polynomial is the line between these points.\n",
    "\n",
    "$$\n",
    "\\begin{align*}\n",
    "    P_1(x) &= a_0 + a_1(x - x_0) \\\\\n",
    "    &= 2 + 1 (x - 1)\n",
    "\\end{align*}\n",
    "$$\n",
    "\n",
    "Thus, $a_0 = 2$ and $a_1 = 1$.\n",
    "\n",
    "If we assume $P_{k-1}(x)$ is known, we can express $P_k(x)$ as:\n",
    "\n",
    "$$ P_k(x) = P_{k-1}(x) + a_k(x - x_0)(x - x_1) \\dots (x - x_{k-1}) $$\n",
    "\n",
    "Now, we can determine $a_k$:\n",
    "\n",
    "$$ a_k = \\frac{y_k - \\sum^{k-1}_{i=0} a_i \\prod^{i - 1}_{j = 0} (x_k - x_j)}{\\prod^{k - 1}_{j = 0} (x_k - x_j)} $$\n",
    "\n",
    "Now, we can determine $a_2$:\n",
    "\n",
    "$$\n",
    "\\begin{align*}\n",
    "    a_2 &= \\frac{5 - a_1(3 - 2)(3 - 1) - a_0(3 - 1)}{(3 - 2)(3 - 1)} \\\\\n",
    "    &= \\frac{5 - 2 - 4}{2} \\\\\n",
    "    &= -\\frac{1}{2}\n",
    "\\end{align*}\n",
    "$$\n",
    "\n",
    "And $P_2(x)$:\n",
    "\n",
    "$$\n",
    "\\begin{align*}\n",
    "    P_2(x) &= P_1(x) + a_2(x - x_1)(x - x_0) \\\\\n",
    "    &= -\\frac{1}{2}(x - 2)(x - 1) + x + 1 \\\\\n",
    "    &= -\\frac{x^2}{2} + \\frac{5x}{2} \n",
    "\\end{align*}\n",
    "$$\n",
    "\n",
    "Now, we can determine $a_3$:\n",
    "\n",
    "$$\n",
    "\\begin{align*}\n",
    "    a_3 &= \\frac{7 - a_2(4 - 3)(4 - 2)(4 - 1) - a_1(4 - 2)(4 - 1) - a_0(4 - 1)}{(4 - 3)(4 - 2)(4 - 1)} \\\\\n",
    "    &= \\frac{7 + 3 - 6 - 6}{6} \\\\\n",
    "    &= -\\frac{1}{3}\n",
    "\\end{align*}\n",
    "$$\n",
    "\n",
    "And $P_3(x)$:\n",
    "\n",
    "$$\n",
    "\\begin{align*}\n",
    "    P_3(x) &= P_2(x) + a_3(x - x_2)(x - x_1)(x - x_0) \\\\\n",
    "    &= -\\frac{1}{3}(x - 3)(x - 2)(x - 1) - \\frac{x^2}{2} + \\frac{5x}{2}  \\\\\n",
    "    &= - \\frac{x^3}{3} + \\frac{3x^2}{2} - \\frac{7x}{6} + 2\n",
    "\\end{align*}\n",
    "$$\n",
    "\n",
    "Now, we can determine $a_4$:\n",
    "\n",
    "$$\n",
    "\\begin{align*}\n",
    "    a_4 &= \\frac{11 - a_3(5 - 4)(5 - 3)(5 - 2)(5 - 1) - a_2(5 - 3)(5 - 2)(5 - 1) - a_1(5 - 2)(5 - 1) - a_0(5 - 1)}{(5 - 4)(5 - 3)(5 - 2)(5 - 1)} \\\\\n",
    "    &= \\frac{11 + 8 + 12 - 12 - 8}{24} \\\\\n",
    "    &= \\frac{11}{24}\n",
    "\\end{align*}\n",
    "$$\n",
    "\n",
    "And $P_4(x)$:\n",
    "\n",
    "$$\n",
    "\\begin{align*}\n",
    "    P_4(x) &= P_3(x) + a_4(x - x_3)(x - x_2)(x - x_1)(x - x_0) \\\\\n",
    "    &= \\frac{11}{24}(x - 4)(x - 3)(x - 2)(x - 1) - \\frac{x^3}{3} + \\frac{3x^2}{2} - \\frac{7x}{6} + 2 \\\\\n",
    "    &= \\frac{11x^4}{24} - \\frac{59x^3}{12} + \\frac{421x^2}{24} - \\frac{289x}{12} + 13\n",
    "\\end{align*}\n",
    "$$"
   ]
  },
  {
   "cell_type": "markdown",
   "metadata": {},
   "source": [
    "## Exercise 4: Manual SVD Decomposition\n",
    "\n",
    "This assignment aims to manually compute the Singular Value Decomposition (SVD) of a given $4 \\times 6$ matrix of integers, understanding the underlying mathematical process.\n",
    "\n",
    "### Tasks\n",
    "\n",
    "- Generate a random $4 \\times 6$ matrix $A$ of integers.\n",
    "- Compute $AA^T$ to find the left singular vectors and singular values.\n",
    "- Construct the matrix $U$ and $\\Sigma$ from the eigenvectors and eigenvalues, respectively.\n",
    "- Determine the right singular vectors to form the matrix $V^T$.\n",
    "- Implement a Python function that performs these steps and returns $U$, $\\Sigma$, and $V^T$.\n",
    "\n",
    "### Solution"
   ]
  },
  {
   "cell_type": "code",
   "execution_count": null,
   "metadata": {},
   "outputs": [],
   "source": [
    "def manual_svd(A) -> tuple:\n",
    "\n",
    "    AAT = np.dot(A, A.T)\n",
    "    ATA = np.dot(A.T, A)\n",
    "\n",
    "    left_eigenvalues, left_eigenvectors = np.linalg.eig(AAT)\n",
    "    sorted_idx = left_eigenvalues.argsort()[::-1]\n",
    "    left_eigenvectors = left_eigenvectors[sorted_idx]\n",
    "    # U = left_eigenvectors\n",
    "    U = np.zeros(A.shape)\n",
    "    for i in range(A.shape[0]):\n",
    "        U[:, i] = left_eigenvectors[i, :]\n",
    "\n",
    "    Sigma = np.zeros(A.shape)\n",
    "    for i in range(A.shape[0]):\n",
    "        Sigma[i, i] = np.sqrt(left_eigenvalues[i])\n",
    "\n",
    "    right_eigenvalues, right_eigenvectors = np.linalg.eig(ATA)\n",
    "    sorted_idx = right_eigenvalues.argsort()[::-1]\n",
    "    right_eigenvectors = right_eigenvectors[sorted_idx]\n",
    "    VT = np.zeros(A.shape)\n",
    "    for i in range(A.shape[0]):\n",
    "        VT[i, :] = -right_eigenvectors[:, i]\n",
    "\n",
    "    return U, Sigma, VT"
   ]
  },
  {
   "cell_type": "code",
   "execution_count": null,
   "metadata": {},
   "outputs": [
    {
     "name": "stdout",
     "output_type": "stream",
     "text": [
      "[[-0.25586542 -0.29926779  0.54920108 -0.73712268  0.          0.        ]\n",
      " [-0.44293171  0.18459037  0.66395908  0.57349476  0.          0.        ]\n",
      " [-0.42722518  0.80921514 -0.21556753 -0.34085208  0.          0.        ]\n",
      " [ 0.7455354   0.47067615  0.45942046 -0.10758145  0.          0.        ]]\n",
      "[[ 3.85875344  0.          0.          0.          0.          0.        ]\n",
      " [ 0.         10.41395696  0.          0.          0.          0.        ]\n",
      " [ 0.          0.         18.1598237   0.          0.          0.        ]\n",
      " [ 0.          0.          0.         15.90221135  0.          0.        ]]\n",
      "[[-0.63150858 -0.22381847  0.34296602  0.50658998 -0.38145714 -0.17701286]\n",
      " [-0.06166385  0.46173104  0.19154285  0.07175947  0.44161547 -0.73901266]\n",
      " [ 0.12827464 -0.14899009 -0.74324313  0.6059926   0.09539318 -0.18058331]\n",
      " [ 0.42873575  0.10348423 -0.03885146 -0.12682481 -0.76479439 -0.45052442]]\n"
     ]
    },
    {
     "name": "stderr",
     "output_type": "stream",
     "text": [
      "C:\\Users\\meat1\\AppData\\Local\\Temp\\ipykernel_29784\\3404186521.py:23: ComplexWarning: Casting complex values to real discards the imaginary part\n",
      "  VT[i, :] = -right_eigenvectors[:, i]\n"
     ]
    }
   ],
   "source": [
    "A = np.random.randint(low=-10, high=10, size=(4, 6))\n",
    "U, Sigma, VT = manual_svd(A)\n",
    "print(U)\n",
    "print(Sigma)\n",
    "print(VT)"
   ]
  },
  {
   "cell_type": "code",
   "execution_count": null,
   "metadata": {},
   "outputs": [
    {
     "ename": "ValueError",
     "evalue": "shapes (4,6) and (4,6) not aligned: 6 (dim 1) != 4 (dim 0)",
     "output_type": "error",
     "traceback": [
      "\u001b[1;31m---------------------------------------------------------------------------\u001b[0m",
      "\u001b[1;31mValueError\u001b[0m                                Traceback (most recent call last)",
      "Cell \u001b[1;32mIn[34], line 1\u001b[0m\n\u001b[1;32m----> 1\u001b[0m \u001b[38;5;28mprint\u001b[39m(np\u001b[38;5;241m.\u001b[39mdot(U, \u001b[43mnp\u001b[49m\u001b[38;5;241;43m.\u001b[39;49m\u001b[43mdot\u001b[49m\u001b[43m(\u001b[49m\u001b[43mSigma\u001b[49m\u001b[43m,\u001b[49m\u001b[43m \u001b[49m\u001b[43mVT\u001b[49m\u001b[43m)\u001b[49m))\n",
      "\u001b[1;31mValueError\u001b[0m: shapes (4,6) and (4,6) not aligned: 6 (dim 1) != 4 (dim 0)"
     ]
    }
   ],
   "source": [
    "print(np.dot(U, np.dot(Sigma, VT)))"
   ]
  },
  {
   "cell_type": "markdown",
   "metadata": {},
   "source": [
    "## Exercise 5: Low-Rank Approximation Using SVD\n",
    "\n",
    "This assignment explores the concept of low-rank approximation of matrices using Singular Value Decomposition (SVD), emphasizing the importance of singular values in capturing the essence of data.\n",
    "\n",
    "### Tasks\n",
    "\n",
    "- Generate a random $300 \\times 1000$ matrix $A$ of real numbers.\n",
    "- Compute the SVD of matrix $A$ and extract its singular values.\n",
    "- Plot the singular values of $A$ to visualize their distribution.\n",
    "- Determine the rank $k$ for the approximation, ensuring $k$ is chosen based on the graph of the singular values.\n",
    "- Determine the low-rank approximation $A_k$ of $A$.\n",
    "\n",
    "### Solution"
   ]
  },
  {
   "cell_type": "code",
   "execution_count": null,
   "metadata": {},
   "outputs": [],
   "source": [
    "A = np.random.randint(size=(300, 1000))"
   ]
  }
 ],
 "metadata": {
  "kernelspec": {
   "display_name": "math311",
   "language": "python",
   "name": "python3"
  },
  "language_info": {
   "codemirror_mode": {
    "name": "ipython",
    "version": 3
   },
   "file_extension": ".py",
   "mimetype": "text/x-python",
   "name": "python",
   "nbconvert_exporter": "python",
   "pygments_lexer": "ipython3",
   "version": "undefined.undefined.undefined"
  }
 },
 "nbformat": 4,
 "nbformat_minor": 2
}