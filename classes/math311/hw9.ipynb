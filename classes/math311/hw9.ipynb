{
 "cells": [
  {
   "cell_type": "markdown",
   "metadata": {},
   "source": [
    "# Homework 9 - Polynomial Interpolations and SVD"
   ]
  },
  {
   "cell_type": "markdown",
   "metadata": {},
   "source": [
    "## Exercise 1: Polynomial Interpolation Using Vandermonde Matrix\n",
    "\n",
    "Utilize the Vandermonde matrix and polynomial interpolation to find the interpolating polynomial that passes through the given points. Additionally, plot the resulting polynomial and points for visualization.\n",
    "\n",
    "Consider the following five points: $(-2, 5), (-1, -2), (0, 1), (2, 3), (3, 0)$.\n",
    "- Use the Vandermonde matrix method to find the coefficients of the interpolating polynomial $p(x)$ that passes through the given points.\n",
    "- Plot the resulting polynomial and the given points using `matplotlib` for visualization.\n",
    "\n",
    "### Instructions\n",
    "\n",
    "- Generate the Vandermonde matrix for the given $x_i$ values using `np.vander`.\n",
    "- Solve the linear system to find the coefficients of the interpolating polynomial.\n",
    "- Use the coefficients to define the polynomial function $p(x)$.\n",
    "- Plot the function $p(x)$ over an appropriate interval that includes all given $x_i$ values.\n",
    "- Overlay the plot with the given points to show the interpolation accuracy.\n",
    "\n",
    "### Solution"
   ]
  },
  {
   "cell_type": "code",
   "execution_count": 3,
   "metadata": {},
   "outputs": [],
   "source": [
    "import numpy as np\n",
    "import matplotlib.pyplot as plt\n",
    "\n"
   ]
  },
  {
   "cell_type": "markdown",
   "metadata": {},
   "source": [
    "## Exercise 2: Lagrange Polynomial Interpolation\n",
    "\n",
    "Use Lagrange basis polynomials to determine the interpolating polynomial that fits the given set of points exactly.\n",
    "\n",
    "Consider the following five points: $(1, 2), (2, 3), (3, 5), (4, 7), (5, 11)$.\n",
    "- Derive the Lagrange basis polynomials $L_i(x)$ for $i = 0, \\dots, 4$.\n",
    "- Use these basis polynomials to form the interpolating polynomial $P(x)$.\n",
    "- Show the detailed calculations on paper.\n",
    "\n",
    "### Instructions\n",
    "\n",
    "- Recall that the Lagrange basis polynomial $l_i(x)$ for the $i$-th data point is defined as:\n",
    "\n",
    "  $$ l_i(x) = \\prod^4_{\\substack{j=0 \\\\ j \\neq i}} \\frac{x - x_j}{x_i - x_j}, $$\n",
    "\n",
    "  where $x_0, x_1, \\dots, x_4$ are the $x$-coordinates of the given points, and the product excludes the $i$-th term.\n",
    "\n",
    "- The interpolating polynomial $P(x)$ is then given as a linear combination of these basis polynomials:\n",
    "\n",
    "  $$ P(x) = \\sum^4_{i=0} y_i * l_i(x) $$\n",
    "\n",
    "- Perform the calculations for $l_i(x)$ for each $i$, and then compute $P(x)$."
   ]
  },
  {
   "cell_type": "markdown",
   "metadata": {},
   "source": [
    "### Solution\n",
    "\n"
   ]
  },
  {
   "cell_type": "markdown",
   "metadata": {},
   "source": [
    "## Exercise 3: Newton's Polynomial Interpolation: Recursive Approach\n",
    "\n",
    "Use Newton's Interpolation in a recursive manner for finding the interpolating polynomial that fits a given set of data points.\n",
    "\n",
    "Let's consider the same five data points as before: $(1, 2), (2, 3), (3, 5), (4, 7), (5, 11)$. Use the recursive formula for Newton's interpolation to construct the interpolating polynomial for the given data points.\n",
    "- Begin with $P_1(x) = a_0 + a_1(x - x_0)$ and then determine $a_0$ and $a_1$ using the first two points.\n",
    "- Assume $P_{k-1}(x)$ is known and extend it to $P_k(x)$ by adding the new data point $(x_{k+1}, y_{k+1})$. The updated polynomial $P_k(x)$ can be expressed as:\n",
    "\n",
    "  $$ P_k(x) = P_{k-1}(x) + a_k(x - x_0)(x - x_1) \\dots (x - x_{k-1}) $$\n",
    "\n",
    "  Determine the coefficient $a_k$ and continue.\n",
    "\n",
    "- Write out the final interpolating polynomial $P_k(x)$ explicitly."
   ]
  },
  {
   "cell_type": "markdown",
   "metadata": {},
   "source": [
    "### Solution\n",
    "\n"
   ]
  },
  {
   "cell_type": "markdown",
   "metadata": {},
   "source": [
    "## Exercise 4: Manual SVD Decomposition\n",
    "\n",
    "This assignment aims to manually compute the Singular Value Decomposition (SVD) of a given $4 \\times 6$ matrix of integers, understanding the underlying mathematical process.\n",
    "\n",
    "### Tasks\n",
    "\n",
    "- Generate a random $4 \\times 6$ matrix $A$ of integers.\n",
    "- Compute $AA^T$ to find the left singular vectors and singular values.\n",
    "- Construct the matrix $U$ and $\\Sigma$ from the eigenvectors and eigenvalues, respectively.\n",
    "- Determine the right singular vectors to form the matrix $V^T$.\n",
    "- Implement a Python function that performs these steps and returns $U$, $\\Sigma$, and $V^T$.\n",
    "\n",
    "### Solution"
   ]
  },
  {
   "cell_type": "code",
   "execution_count": null,
   "metadata": {},
   "outputs": [],
   "source": [
    "def manual_svd(A) -> tuple:\n",
    "\n",
    "    return U, Sigma, VT"
   ]
  },
  {
   "cell_type": "code",
   "execution_count": null,
   "metadata": {},
   "outputs": [],
   "source": [
    "A = np.random.randint(low=-10, high=10, size=(4, 6))\n",
    "U, Sigma, VT = manual_svd(A)\n",
    "print(U)\n",
    "print(Sigma)\n",
    "print(VT)"
   ]
  },
  {
   "cell_type": "code",
   "execution_count": null,
   "metadata": {},
   "outputs": [],
   "source": [
    "print(np.dot(U, np.dot(Sigma, VT)))"
   ]
  },
  {
   "cell_type": "markdown",
   "metadata": {},
   "source": [
    "## Exercise 5: Low-Rank Approximation Using SVD\n",
    "\n",
    "This assignment explores the concept of low-rank approximation of matrices using Singular Value Decomposition (SVD), emphasizing the importance of singular values in capturing the essence of data.\n",
    "\n",
    "### Tasks\n",
    "\n",
    "- Generate a random $300 \\times 1000$ matrix $A$ of real numbers.\n",
    "- Compute the SVD of matrix $A$ and extract its singular values.\n",
    "- Plot the singular values of $A$ to visualize their distribution.\n",
    "- Determine the rank $k$ for the approximation, ensuring $k$ is chosen based on the graph of the singular values.\n",
    "- Determine the low-rank approximation $A_k$ of $A$.\n",
    "\n",
    "### Solution"
   ]
  },
  {
   "cell_type": "code",
   "execution_count": null,
   "metadata": {},
   "outputs": [],
   "source": [
    "A = np.random.randint(size=(300, 1000))"
   ]
  }
 ],
 "metadata": {
  "kernelspec": {
   "display_name": "math311",
   "language": "python",
   "name": "python3"
  },
  "language_info": {
   "codemirror_mode": {
    "name": "ipython",
    "version": 3
   },
   "file_extension": ".py",
   "mimetype": "text/x-python",
   "name": "python",
   "nbconvert_exporter": "python",
   "pygments_lexer": "ipython3",
   "version": "3.10.13"
  }
 },
 "nbformat": 4,
 "nbformat_minor": 2
}
