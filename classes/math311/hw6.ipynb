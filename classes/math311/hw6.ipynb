{
 "cells": [
  {
   "cell_type": "markdown",
   "metadata": {},
   "source": [
    "# Homework 6 - Newton-Secant-Golden Method\n",
    "\n",
    "by Michael Moen"
   ]
  },
  {
   "cell_type": "markdown",
   "metadata": {},
   "source": [
    "## Exercise 1: Newton-Raphson Method\n",
    "\n",
    "Consider the equation\n",
    "\n",
    "$$ x^3 + x - \\lambda = 0, $$\n",
    "\n",
    "where $\\lambda$ is a positive real number.\n",
    "\n",
    "### Problem (a)\n",
    "\n",
    "Determine Newton iteration function and the iterative formula to compute $x_{n+1}$ in terms of $x_n$. For instance,\n",
    "\n",
    "$$ x_{n+1} = \\frac{x_n}{2} + \\frac{5}{2x_n} $$"
   ]
  },
  {
   "cell_type": "markdown",
   "metadata": {},
   "source": [
    "### Solution (a)\n",
    "\n",
    "Let's consider $f(x)$:\n",
    "\n",
    "$$ f(x) = x^3 + x - \\lambda $$\n",
    "\n",
    "The derivative $f'(x)$ is\n",
    "\n",
    "$$ f'(x) = 3x^2 + 1. $$\n",
    "\n",
    "With this, the Newton's iteration function of $f(x)$ can be found:\n",
    "\n",
    "$$\n",
    "\\begin{align*}\n",
    "    N(x) &= x - \\frac{f(x)}{f'(x)} \\\\\n",
    "    N(x) &= x - \\frac{x^3 + x - \\lambda}{3x^2 + 1}\n",
    "\\end{align*}\n",
    "$$\n",
    "\n",
    "Therefore, we know that\n",
    "\n",
    "$$ x_{n+1} = x_n - \\frac{x_n^3 + x_n - \\lambda}{3x_n^2 + 1} $$"
   ]
  },
  {
   "cell_type": "markdown",
   "metadata": {},
   "source": [
    "### Problem (b)\n",
    "\n",
    "Write a function in Python to find the root of the equation with random $\\lambda \\in (1,15)$.\n",
    "\n",
    "### Solution (b)"
   ]
  },
  {
   "cell_type": "code",
   "execution_count": 6,
   "metadata": {},
   "outputs": [],
   "source": [
    "def newton_cubic_root(\n",
    "        lamb: float,\n",
    "        x0: float,\n",
    "        tol: float=1e-9,\n",
    "        max_iter: int=1000\n",
    "    ) -> float:\n",
    "    \"\"\"Find the root of a cubic equation using Newton's method\n",
    "\n",
    "    Parameters\n",
    "    ----------\n",
    "    lamb : float\n",
    "        the coefficient of the linear term\n",
    "    x0 : float\n",
    "        the initial guess\n",
    "    tol : float\n",
    "        the tolerance for the stopping criterion\n",
    "    max_iter : int\n",
    "        the maximum number of iterations\n",
    "    \n",
    "    Returns\n",
    "    -------\n",
    "    float\n",
    "        the root of the cubic equation\n",
    "    \"\"\"\n",
    "\n",
    "    xn = x0\n",
    "    for _ in range(max_iter):\n",
    "        x_new = xn - (xn**3 + xn - lamb) / (3 * xn**2 + 1)\n",
    "        if abs(x_new - xn) < tol:\n",
    "            return xn\n",
    "        xn = x_new\n",
    "    return xn"
   ]
  },
  {
   "cell_type": "code",
   "execution_count": 12,
   "metadata": {},
   "outputs": [
    {
     "data": {
      "text/plain": [
       "2.230085658701457"
      ]
     },
     "execution_count": 12,
     "metadata": {},
     "output_type": "execute_result"
    }
   ],
   "source": [
    "from random import uniform\n",
    "\n",
    "lamb = uniform(1, 15)\n",
    "x0 = 5\n",
    "\n",
    "newton_cubic_root(lamb, x0, tol=1e-9, max_iter=100)"
   ]
  },
  {
   "cell_type": "markdown",
   "metadata": {},
   "source": [
    "### Problem (c)\n",
    "\n",
    "Adjust your `newton_cubic_root` function to get the output as a table of 3 columns $n$, $x_n$, and $f(x_n)$.\n",
    "\n",
    "### Solution (c)"
   ]
  },
  {
   "cell_type": "code",
   "execution_count": 13,
   "metadata": {},
   "outputs": [],
   "source": [
    "def newton_cubic_root_table(\n",
    "        lamb: float,\n",
    "        x0: float,\n",
    "        tol: float=1e-9,\n",
    "        max_iter: int=1000\n",
    "    ):\n",
    "    \"\"\"Find the root of a cubic equation using Newton's method\n",
    "\n",
    "    Parameters\n",
    "    ----------\n",
    "    lamb : float\n",
    "        the coefficient of the linear term\n",
    "    x0 : float\n",
    "        the initial guess\n",
    "    tol : float\n",
    "        the tolerance for the stopping criterion\n",
    "    max_iter : int\n",
    "        the maximum number of iterations\n",
    "    \n",
    "    Returns\n",
    "    -------\n",
    "    list\n",
    "        the table of iterations\n",
    "    \"\"\"\n",
    "\n",
    "    xn = x0\n",
    "    table = []\n",
    "    for n in range(max_iter):\n",
    "        x_new = xn - (xn**3 + xn - lamb) / (3 * xn**2 + 1)\n",
    "        table.append([n, x_new, abs(x_new - xn)])\n",
    "        if abs(x_new - xn) < tol:\n",
    "            return table\n",
    "        xn = x_new\n",
    "    return table"
   ]
  },
  {
   "cell_type": "code",
   "execution_count": 18,
   "metadata": {},
   "outputs": [
    {
     "name": "stdout",
     "output_type": "stream",
     "text": [
      "╒══════════════╤═════════╤══════════════════╕\n",
      "│   Iterations │    Root │   Function Value │\n",
      "╞══════════════╪═════════╪══════════════════╡\n",
      "│            0 │ 3.46475 │      1.53525     │\n",
      "├──────────────┼─────────┼──────────────────┤\n",
      "│            1 │ 2.60732 │      0.857427    │\n",
      "├──────────────┼─────────┼──────────────────┤\n",
      "│            2 │ 2.27961 │      0.327717    │\n",
      "├──────────────┼─────────┼──────────────────┤\n",
      "│            3 │ 2.23109 │      0.0485159   │\n",
      "├──────────────┼─────────┼──────────────────┤\n",
      "│            4 │ 2.23009 │      0.00100312  │\n",
      "├──────────────┼─────────┼──────────────────┤\n",
      "│            5 │ 2.23009 │      4.22998e-07 │\n",
      "├──────────────┼─────────┼──────────────────┤\n",
      "│            6 │ 2.23009 │      7.50511e-14 │\n",
      "╘══════════════╧═════════╧══════════════════╛\n"
     ]
    }
   ],
   "source": [
    "from tabulate import tabulate\n",
    "\n",
    "headers = [\"Iterations\", \"Root\", \"Function Value\"]\n",
    "data = newton_cubic_root_table(lamb, x0, tol=1e-9, max_iter=100)\n",
    "\n",
    "print(tabulate(data, headers, tablefmt=\"fancy_grid\"))"
   ]
  },
  {
   "cell_type": "markdown",
   "metadata": {},
   "source": [
    "## Exercise 2: Secant Method\n",
    "\n",
    "Consider the same equation\n",
    "\n",
    "$$ x^3 + x - \\lambda = 0, $$\n",
    "\n",
    "where $\\lambda$ is a positive real number.\n",
    "\n",
    "### Problem (a)\n",
    "\n",
    "Write the iterative formula to determine $x_{n+1}$ in terms of $x_n$ and $x_{n-1}$."
   ]
  },
  {
   "cell_type": "markdown",
   "metadata": {},
   "source": [
    "### Solution (a)\n",
    "\n",
    "Suppose that $x_{n+1}$ is the root of the equation $f(x)$ and suppose that $f(x)$ is nearly linear about $x_{n+1}$. If we take two points $x_n$ and $x_{n-1}$ near $x_{n+1}$, then the derivative is as follows:\n",
    "\n",
    "$$ f'(x_n) = \\lim_{x \\to x_n} \\frac{f(x) - f(x_n)}{x - x_n} $$\n",
    "\n",
    "Plugging in $x_{n-1}$ for $x$ gives us\n",
    "\n",
    "$$ f'(x_n) \\approx \\frac{f(x_{n-1}) - f(x_n)}{x_{n-1} - x_n} = \\frac{f(x_n) - f(x_{n-1})}{x_n - x_{n-1}}. $$\n",
    "\n",
    "Now, let's consider the Taylor polynomial for $f(x)$ centered at $x_n$:\n",
    "\n",
    "$$ f(x) = f(x_n) + (x - x_n)f'(x_n) + \\frac{(x - x_n)^2}{2} f''(\\xi_x) $$\n",
    "\n",
    "Since we assume that $f(x)$ is approximately linear about $x_{n+1}$, we can say that $f''(\\xi_x) = 0$. Additionally, if we substitute $f'(x)$ into the equation above, we get\n",
    "\n",
    "$$\n",
    "\\begin{align*}\n",
    "0 &= f(x_n) + (x_{n+1} - x_n) \\frac{f(x_n) - f(x_{n-1})}{x_n - x_{n-1}} \\\\\n",
    "x_{n+1} &= x_n - \\frac{f(x_n)}{\\frac{f(x_n) - f(x_{n-1})}{x_n - x_{n-1}}}\n",
    "\\end{align*}\n",
    "$$\n",
    "\n",
    "Finally, we can plug in the equation $f(x)$ to get the following:\n",
    "\n",
    "$$ x_{n+1} = x_n - \\frac{x_n^3 + x_n - \\lambda}{\\frac{x_n^3 + x_n - x_{n-1}^3 - x_{n-1}}{x_n - x_{n-1}}} $$"
   ]
  },
  {
   "cell_type": "markdown",
   "metadata": {},
   "source": [
    "### Problem (b)\n",
    "\n",
    "Write a function to find the root of the equation using the secant method.\n",
    "\n",
    "### Solution (b)"
   ]
  },
  {
   "cell_type": "code",
   "execution_count": 20,
   "metadata": {},
   "outputs": [],
   "source": [
    "def fx(x: float) -> float:\n",
    "    return x**3 + x - lamb"
   ]
  },
  {
   "cell_type": "code",
   "execution_count": 21,
   "metadata": {},
   "outputs": [],
   "source": [
    "def secant_cubic_root(\n",
    "        lamb: float,\n",
    "        x0: float,\n",
    "        x1: float,\n",
    "        tol: float=1e-9,\n",
    "        max_iter: int=1000\n",
    "    ) -> float:\n",
    "    \"\"\"Find the root of a cubic equation using Newton's method\n",
    "\n",
    "    Parameters\n",
    "    ----------\n",
    "    lamb : float\n",
    "        the coefficient of the linear term\n",
    "    x0 : float\n",
    "        the first initial guess\n",
    "    x1 : float\n",
    "        the second initial guess\n",
    "    tol : float\n",
    "        the tolerance for the stopping criterion\n",
    "    max_iter : int\n",
    "        the maximum number of iterations\n",
    "    \n",
    "    Returns\n",
    "    -------\n",
    "    float\n",
    "        the root of the cubic equation\n",
    "    \"\"\"\n",
    "\n",
    "    for _ in range(max_iter):\n",
    "        x2 = x1 - (fx(x1) / ((fx(x1) - fx(x0)) / (x1 - x0)))\n",
    "        if abs(x2 - x1) < tol:\n",
    "            return x2\n",
    "        x0, x1 = x1, x2\n",
    "    return x2"
   ]
  },
  {
   "cell_type": "code",
   "execution_count": 22,
   "metadata": {},
   "outputs": [
    {
     "data": {
      "text/plain": [
       "2.2300856587013818"
      ]
     },
     "execution_count": 22,
     "metadata": {},
     "output_type": "execute_result"
    }
   ],
   "source": [
    "x0 = 1\n",
    "x1 = 2\n",
    "secant_cubic_root(lamb, x0, x1)"
   ]
  },
  {
   "cell_type": "markdown",
   "metadata": {},
   "source": [
    "### Problem (c)\n",
    "\n",
    "Adjust your `secant_cubic_root` function to get the output as a table of 3 columns $n$, $x_n$, and $f(x_n)$.\n",
    "\n",
    "### Solution (c)"
   ]
  },
  {
   "cell_type": "code",
   "execution_count": 23,
   "metadata": {},
   "outputs": [],
   "source": [
    "def secant_cubic_root_table(\n",
    "        lamb: float,\n",
    "        x0: float,\n",
    "        x1: float,\n",
    "        tol: float=1e-9,\n",
    "        max_iter: int=1000\n",
    "    ):\n",
    "    \"\"\"Find the root of a cubic equation using Newton's method\n",
    "\n",
    "    Parameters\n",
    "    ----------\n",
    "    lamb : float\n",
    "        the coefficient of the linear term\n",
    "    x0 : float\n",
    "        the first initial guess\n",
    "    x1 : float\n",
    "        the second initial guess\n",
    "    tol : float\n",
    "        the tolerance for the stopping criterion\n",
    "    max_iter : int\n",
    "        the maximum number of iterations\n",
    "    \n",
    "    Returns\n",
    "    -------\n",
    "    list\n",
    "        the table of iterations\n",
    "    \"\"\"\n",
    "    table = []\n",
    "    for n in range(max_iter):\n",
    "        x2 = x1 - (fx(x1) / ((fx(x1) - fx(x0)) / (x1 - x0)))\n",
    "        table.append([n, x2, abs(x2 - x1)])\n",
    "        if abs(x2 - x1) < tol:\n",
    "            return table\n",
    "        x0, x1 = x1, x2\n",
    "    return table"
   ]
  },
  {
   "cell_type": "code",
   "execution_count": 25,
   "metadata": {},
   "outputs": [
    {
     "name": "stdout",
     "output_type": "stream",
     "text": [
      "╒══════════════╤═════════╤══════════════════╕\n",
      "│   Iterations │    Root │   Function Value │\n",
      "╞══════════════╪═════════╪══════════════════╡\n",
      "│            0 │ 2.41512 │      0.415116    │\n",
      "├──────────────┼─────────┼──────────────────┤\n",
      "│            1 │ 2.21202 │      0.203093    │\n",
      "├──────────────┼─────────┼──────────────────┤\n",
      "│            2 │ 2.22874 │      0.0167193   │\n",
      "├──────────────┼─────────┼──────────────────┤\n",
      "│            3 │ 2.2301  │      0.00135292  │\n",
      "├──────────────┼─────────┼──────────────────┤\n",
      "│            4 │ 2.23009 │      1.02511e-05 │\n",
      "├──────────────┼─────────┼──────────────────┤\n",
      "│            5 │ 2.23009 │      5.78306e-09 │\n",
      "├──────────────┼─────────┼──────────────────┤\n",
      "│            6 │ 2.23009 │      2.4869e-14  │\n",
      "╘══════════════╧═════════╧══════════════════╛\n"
     ]
    }
   ],
   "source": [
    "from tabulate import tabulate\n",
    "\n",
    "headers = [\"Iterations\", \"Root\", \"Function Value\"]\n",
    "data = secant_cubic_root_table(lamb, 1, 2, tol=1e-9, max_iter=100)\n",
    "\n",
    "print(tabulate(data, headers, tablefmt=\"fancy_grid\"))"
   ]
  },
  {
   "cell_type": "markdown",
   "metadata": {},
   "source": [
    "## Exercise 3: Golden Section Search Method\n",
    "\n",
    "Write a function in Python to find the maximum value of the function\n",
    "\n",
    "$$ f(x) = \\lambda x - e^x $$\n",
    "\n",
    "on the interval $[0.0, 1.0]$, where $\\lambda \\in (1,2)$.\n",
    "\n",
    "The output is a nest of the following values: $n$, $a$, $b$, $c$, $d$, $f(c)$, $f(d)$, $f(0.5(a+b))$, and $b-a$.\n",
    "\n",
    "### Solution"
   ]
  },
  {
   "cell_type": "code",
   "execution_count": 5,
   "metadata": {},
   "outputs": [],
   "source": [
    "import math\n",
    "golden_ratio = (1 + math.sqrt(5)) / 2\n",
    "inv_golden_ratio = (-1 + math.sqrt(5)) / 2"
   ]
  },
  {
   "cell_type": "code",
   "execution_count": 54,
   "metadata": {},
   "outputs": [],
   "source": [
    "def golden_search_max(\n",
    "        lamb: float,\n",
    "        a: float,\n",
    "        b: float,\n",
    "        tol: float=1e-6,\n",
    "        max_iter: int=1000\n",
    "    ):\n",
    "    \"\"\"Find the root of a cubic equation using Newton's method\n",
    "\n",
    "    Parameters\n",
    "    ----------\n",
    "    lamb : float\n",
    "        the coefficient of the linear term\n",
    "    a : float\n",
    "        the lower bound of the interval\n",
    "    b : float\n",
    "        the upper bound of the interval\n",
    "    tol : float\n",
    "        the tolerance for the stopping criterion\n",
    "    max_iter : int\n",
    "        the maximum number of iterations\n",
    "    \n",
    "    Returns\n",
    "    -------\n",
    "    list\n",
    "        the table of iterations\n",
    "    \"\"\"\n",
    "    def fx(x: float) -> float:\n",
    "        return lamb * x - math.exp(x)\n",
    "\n",
    "    PHI = (5**0.5 + 1) / 2\n",
    "    data = []\n",
    "    \n",
    "    error = b - a\n",
    "    c = b - error / PHI\n",
    "    d = a + error / PHI\n",
    "\n",
    "    for n in range(max_iter):\n",
    "        error = b - a\n",
    "        fc = fx(c)\n",
    "        fd = fx(d)\n",
    "        max_value = fx((a + b) / 2)\n",
    "        data.append([n, a, b, c, d, fc, fd, max_value, error])\n",
    "        if error < tol:\n",
    "            return data\n",
    "        if fc > fd:\n",
    "            b = d\n",
    "            d = c\n",
    "            c = b - (b - a) / PHI\n",
    "        else:\n",
    "            a = c\n",
    "            c = d\n",
    "            d = a + (b - a) / PHI\n",
    "    return data"
   ]
  },
  {
   "cell_type": "code",
   "execution_count": 62,
   "metadata": {},
   "outputs": [
    {
     "name": "stdout",
     "output_type": "stream",
     "text": [
      "╒══════════════╤═══════════╤══════════╤═══════════╤══════════╤═══════════╤═══════════╤═════════════╤═════════════╕\n",
      "│   Iterations │         a │        b │         c │        d │      f(c) │      f(d) │   max value │       error │\n",
      "╞══════════════╪═══════════╪══════════╪═══════════╪══════════╪═══════════╪═══════════╪═════════════╪═════════════╡\n",
      "│            0 │ 0         │ 1        │ 0.381966  │ 0.618034 │ -1.02642  │ -1.14538  │   -1.0744   │ 1           │\n",
      "├──────────────┼───────────┼──────────┼───────────┼──────────┼───────────┼───────────┼─────────────┼─────────────┤\n",
      "│            1 │ 0         │ 0.618034 │ 0.236068  │ 0.381966 │ -0.995104 │ -1.02642  │   -1.00714  │ 0.618034    │\n",
      "├──────────────┼───────────┼──────────┼───────────┼──────────┼───────────┼───────────┼─────────────┼─────────────┤\n",
      "│            2 │ 0         │ 0.381966 │ 0.145898  │ 0.236068 │ -0.989494 │ -0.995104 │   -0.991069 │ 0.381966    │\n",
      "├──────────────┼───────────┼──────────┼───────────┼──────────┼───────────┼───────────┼─────────────┼─────────────┤\n",
      "│            3 │ 0         │ 0.236068 │ 0.0901699 │ 0.145898 │ -0.990788 │ -0.989494 │   -0.989704 │ 0.236068    │\n",
      "├──────────────┼───────────┼──────────┼───────────┼──────────┼───────────┼───────────┼─────────────┼─────────────┤\n",
      "│            4 │ 0.0901699 │ 0.236068 │ 0.145898  │ 0.18034  │ -0.989494 │ -0.990479 │   -0.989812 │ 0.145898    │\n",
      "├──────────────┼───────────┼──────────┼───────────┼──────────┼───────────┼───────────┼─────────────┼─────────────┤\n",
      "│            5 │ 0.0901699 │ 0.18034  │ 0.124612  │ 0.145898 │ -0.989575 │ -0.989494 │   -0.98947  │ 0.0901699   │\n",
      "├──────────────┼───────────┼──────────┼───────────┼──────────┼───────────┼───────────┼─────────────┼─────────────┤\n",
      "│            6 │ 0.124612  │ 0.18034  │ 0.145898  │ 0.159054 │ -0.989494 │ -0.989706 │   -0.989575 │ 0.0557281   │\n",
      "├──────────────┼───────────┼──────────┼───────────┼──────────┼───────────┼───────────┼─────────────┼─────────────┤\n",
      "│            7 │ 0.124612  │ 0.159054 │ 0.137767  │ 0.145898 │ -0.989464 │ -0.989494 │   -0.989469 │ 0.0344419   │\n",
      "├──────────────┼───────────┼──────────┼───────────┼──────────┼───────────┼───────────┼─────────────┼─────────────┤\n",
      "│            8 │ 0.124612  │ 0.145898 │ 0.132742  │ 0.137767 │ -0.989483 │ -0.989464 │   -0.98947  │ 0.0212862   │\n",
      "├──────────────┼───────────┼──────────┼───────────┼──────────┼───────────┼───────────┼─────────────┼─────────────┤\n",
      "│            9 │ 0.132742  │ 0.145898 │ 0.137767  │ 0.140873 │ -0.989464 │ -0.989466 │   -0.989464 │ 0.0131556   │\n",
      "├──────────────┼───────────┼──────────┼───────────┼──────────┼───────────┼───────────┼─────────────┼─────────────┤\n",
      "│           10 │ 0.132742  │ 0.140873 │ 0.135848  │ 0.137767 │ -0.989468 │ -0.989464 │   -0.989465 │ 0.00813062  │\n",
      "├──────────────┼───────────┼──────────┼───────────┼──────────┼───────────┼───────────┼─────────────┼─────────────┤\n",
      "│           11 │ 0.135848  │ 0.140873 │ 0.137767  │ 0.138954 │ -0.989464 │ -0.989463 │   -0.989463 │ 0.005025    │\n",
      "├──────────────┼───────────┼──────────┼───────────┼──────────┼───────────┼───────────┼─────────────┼─────────────┤\n",
      "│           12 │ 0.137767  │ 0.140873 │ 0.138954  │ 0.139687 │ -0.989463 │ -0.989464 │   -0.989464 │ 0.00310562  │\n",
      "├──────────────┼───────────┼──────────┼───────────┼──────────┼───────────┼───────────┼─────────────┼─────────────┤\n",
      "│           13 │ 0.137767  │ 0.139687 │ 0.138501  │ 0.138954 │ -0.989463 │ -0.989463 │   -0.989463 │ 0.00191938  │\n",
      "├──────────────┼───────────┼──────────┼───────────┼──────────┼───────────┼───────────┼─────────────┼─────────────┤\n",
      "│           14 │ 0.137767  │ 0.138954 │ 0.138221  │ 0.138501 │ -0.989463 │ -0.989463 │   -0.989463 │ 0.00118624  │\n",
      "├──────────────┼───────────┼──────────┼───────────┼──────────┼───────────┼───────────┼─────────────┼─────────────┤\n",
      "│           15 │ 0.138221  │ 0.138954 │ 0.138501  │ 0.138674 │ -0.989463 │ -0.989463 │   -0.989463 │ 0.000733137 │\n",
      "├──────────────┼───────────┼──────────┼───────────┼──────────┼───────────┼───────────┼─────────────┼─────────────┤\n",
      "│           16 │ 0.138221  │ 0.138674 │ 0.138394  │ 0.138501 │ -0.989463 │ -0.989463 │   -0.989463 │ 0.000453104 │\n",
      "├──────────────┼───────────┼──────────┼───────────┼──────────┼───────────┼───────────┼─────────────┼─────────────┤\n",
      "│           17 │ 0.138394  │ 0.138674 │ 0.138501  │ 0.138567 │ -0.989463 │ -0.989463 │   -0.989463 │ 0.000280034 │\n",
      "├──────────────┼───────────┼──────────┼───────────┼──────────┼───────────┼───────────┼─────────────┼─────────────┤\n",
      "│           18 │ 0.138501  │ 0.138674 │ 0.138567  │ 0.138608 │ -0.989463 │ -0.989463 │   -0.989463 │ 0.00017307  │\n",
      "├──────────────┼───────────┼──────────┼───────────┼──────────┼───────────┼───────────┼─────────────┼─────────────┤\n",
      "│           19 │ 0.138501  │ 0.138608 │ 0.138541  │ 0.138567 │ -0.989463 │ -0.989463 │   -0.989463 │ 0.000106963 │\n",
      "├──────────────┼───────────┼──────────┼───────────┼──────────┼───────────┼───────────┼─────────────┼─────────────┤\n",
      "│           20 │ 0.138541  │ 0.138608 │ 0.138567  │ 0.138582 │ -0.989463 │ -0.989463 │   -0.989463 │ 6.6107e-05  │\n",
      "├──────────────┼───────────┼──────────┼───────────┼──────────┼───────────┼───────────┼─────────────┼─────────────┤\n",
      "│           21 │ 0.138567  │ 0.138608 │ 0.138582  │ 0.138592 │ -0.989463 │ -0.989463 │   -0.989463 │ 4.08563e-05 │\n",
      "├──────────────┼───────────┼──────────┼───────────┼──────────┼───────────┼───────────┼─────────────┼─────────────┤\n",
      "│           22 │ 0.138567  │ 0.138592 │ 0.138576  │ 0.138582 │ -0.989463 │ -0.989463 │   -0.989463 │ 2.52506e-05 │\n",
      "├──────────────┼───────────┼──────────┼───────────┼──────────┼───────────┼───────────┼─────────────┼─────────────┤\n",
      "│           23 │ 0.138567  │ 0.138582 │ 0.138573  │ 0.138576 │ -0.989463 │ -0.989463 │   -0.989463 │ 1.56057e-05 │\n",
      "├──────────────┼───────────┼──────────┼───────────┼──────────┼───────────┼───────────┼─────────────┼─────────────┤\n",
      "│           24 │ 0.138573  │ 0.138582 │ 0.138576  │ 0.138579 │ -0.989463 │ -0.989463 │   -0.989463 │ 9.64488e-06 │\n",
      "├──────────────┼───────────┼──────────┼───────────┼──────────┼───────────┼───────────┼─────────────┼─────────────┤\n",
      "│           25 │ 0.138573  │ 0.138579 │ 0.138575  │ 0.138576 │ -0.989463 │ -0.989463 │   -0.989463 │ 5.96086e-06 │\n",
      "├──────────────┼───────────┼──────────┼───────────┼──────────┼───────────┼───────────┼─────────────┼─────────────┤\n",
      "│           26 │ 0.138575  │ 0.138579 │ 0.138576  │ 0.138577 │ -0.989463 │ -0.989463 │   -0.989463 │ 3.68401e-06 │\n",
      "├──────────────┼───────────┼──────────┼───────────┼──────────┼───────────┼───────────┼─────────────┼─────────────┤\n",
      "│           27 │ 0.138575  │ 0.138577 │ 0.138576  │ 0.138576 │ -0.989463 │ -0.989463 │   -0.989463 │ 2.27685e-06 │\n",
      "├──────────────┼───────────┼──────────┼───────────┼──────────┼───────────┼───────────┼─────────────┼─────────────┤\n",
      "│           28 │ 0.138576  │ 0.138577 │ 0.138576  │ 0.138577 │ -0.989463 │ -0.989463 │   -0.989463 │ 1.40717e-06 │\n",
      "├──────────────┼───────────┼──────────┼───────────┼──────────┼───────────┼───────────┼─────────────┼─────────────┤\n",
      "│           29 │ 0.138576  │ 0.138577 │ 0.138577  │ 0.138577 │ -0.989463 │ -0.989463 │   -0.989463 │ 8.69678e-07 │\n",
      "╘══════════════╧═══════════╧══════════╧═══════════╧══════════╧═══════════╧═══════════╧═════════════╧═════════════╛\n"
     ]
    }
   ],
   "source": [
    "lamb = uniform(1, 2)\n",
    "data = golden_search_max(lamb, a=0, b=1, tol=1e-6, max_iter=1000)\n",
    "headers = [\"Iterations\", \"a\", \"b\", \"c\", \"d\", \"f(c)\", \"f(d)\", \"max value\", \"error\"]\n",
    "print(tabulate(data, headers, tablefmt=\"fancy_grid\"))"
   ]
  },
  {
   "cell_type": "markdown",
   "metadata": {},
   "source": [
    "In iteration 0, $a$ and $b$ are set to 0 and 1, since those are the bounds of the region where we are looking for the max. To determine which bound to change for the next iteration, we calculate $f(c)$ and $f(d)$. Since $f(c) > f(d)$, we lower the upper bound $b$ by setting it equal to $d$.\n",
    "\n",
    "In iteration 1, $f(c) > f(d)$, so we lower the upper bound $b$ by setting it equal to $d$.\n",
    "\n",
    "In iteration 2, $f(c) > f(d)$, so we lower the upper bound $b$ by setting it equal to $d$.\n",
    "\n",
    "In iteration 3, $f(c) < f(d)$, so we raise the lower bound $a$ by setting it equal to $c$.\n",
    "\n",
    "In iteration 4, $f(c) > f(d)$, so we lower the upper bound $b$ by setting it equal to $d$.\n",
    "\n",
    "Note that for each iteration, the max value is calculated by evaluating the function at the midpoint of the interval $[a,b]$. Similarly, the error of each iteration is just the size of the interval (i.e. $b-a$)."
   ]
  }
 ],
 "metadata": {
  "kernelspec": {
   "display_name": "math311",
   "language": "python",
   "name": "python3"
  },
  "language_info": {
   "codemirror_mode": {
    "name": "ipython",
    "version": 3
   },
   "file_extension": ".py",
   "mimetype": "text/x-python",
   "name": "python",
   "nbconvert_exporter": "python",
   "pygments_lexer": "ipython3",
   "version": "3.10.13"
  }
 },
 "nbformat": 4,
 "nbformat_minor": 2
}
