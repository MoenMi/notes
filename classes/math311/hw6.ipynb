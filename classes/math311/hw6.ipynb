{
 "cells": [
  {
   "cell_type": "markdown",
   "metadata": {},
   "source": [
    "# Homework 6 - Newton-Secant-Golden Method\n",
    "\n",
    "by Michael Moen"
   ]
  },
  {
   "cell_type": "markdown",
   "metadata": {},
   "source": [
    "## Exercise 1: Newton-Raphson Method\n",
    "\n",
    "Consider the equation\n",
    "\n",
    "$$ x^3 + x - \\lambda = 0, $$\n",
    "\n",
    "where $\\lambda$ is a positive real number.\n",
    "\n",
    "### Problem (a)\n",
    "\n",
    "Determine Newton iteration function and the iterative formula to compute $x_{n+1}$ in terms of $x_n$. For instance,\n",
    "\n",
    "$$ x_{n+1} = \\frac{x_n}{2} + \\frac{5}{2x_n} $$"
   ]
  },
  {
   "cell_type": "markdown",
   "metadata": {},
   "source": [
    "### Solution (a)\n",
    "\n"
   ]
  },
  {
   "cell_type": "markdown",
   "metadata": {},
   "source": [
    "### Problem (b)\n",
    "\n",
    "Write a function in Python to find the root of the equation with random $\\lambda \\in (1,15)$.\n",
    "\n",
    "### Solution (b)"
   ]
  },
  {
   "cell_type": "code",
   "execution_count": null,
   "metadata": {},
   "outputs": [],
   "source": [
    "def newton_cubic_root(lamb: float, x0: float, tol: float=1e-9, max_iter: int=1000):\n",
    "    \"\"\"Find the root of a cubic equation using Newton's method\n",
    "\n",
    "    Parameters\n",
    "    ----------\n",
    "    lamb : float\n",
    "        the coefficient of the linear term\n",
    "    x0 : float\n",
    "        the initial guess\n",
    "    tol : float\n",
    "        the tolerance for the stopping criterion\n",
    "    max_iter : int\n",
    "        the maximum number of iterations\n",
    "    \n",
    "    Returns\n",
    "    -------\n",
    "    sympy expression(s)\n",
    "        the roots of the cubic equation\n",
    "    \"\"\"\n",
    "\n"
   ]
  },
  {
   "cell_type": "code",
   "execution_count": null,
   "metadata": {},
   "outputs": [],
   "source": [
    "from random import uniform\n",
    "\n",
    "lamb = uniform(1, 15)\n",
    "x0 = 5\n",
    "\n",
    "newton_cubic_root(lamb, x0, tol=1e-9, max_iter=100)"
   ]
  },
  {
   "cell_type": "markdown",
   "metadata": {},
   "source": [
    "### Problem (c)\n",
    "\n",
    "Adjust your `newton_cubic_root` function to get the output as a table of 3 columns $n$, $x_n$, and $f(x_n)$.\n",
    "\n",
    "### Solution (c)"
   ]
  },
  {
   "cell_type": "code",
   "execution_count": null,
   "metadata": {},
   "outputs": [],
   "source": [
    "def newton_cubic_root_table(lamb: float, x0: float, tol: float=1e-9, max_iter: int=1000):\n",
    "    \"\"\"Find the root of a cubic equation using Newton's method\n",
    "\n",
    "    Parameters\n",
    "    ----------\n",
    "    lamb : float\n",
    "        the coefficient of the linear term\n",
    "    x0 : float\n",
    "        the initial guess\n",
    "    tol : float\n",
    "        the tolerance for the stopping criterion\n",
    "    max_iter : int\n",
    "        the maximum number of iterations\n",
    "    \n",
    "    Returns\n",
    "    -------\n",
    "    sympy expression(s)\n",
    "        the roots of the cubic equation\n",
    "    \"\"\"\n",
    "\n"
   ]
  },
  {
   "cell_type": "code",
   "execution_count": null,
   "metadata": {},
   "outputs": [],
   "source": [
    "from tabulate import tabulate\n",
    "\n",
    "headers = [\"Iterations\", \"Root\", \"Function Value\"]\n",
    "data = newton_cubic_root_table(lamb, 1, tol=1e-9, max_iter=100)\n",
    "\n",
    "print(tabulate(data, headers, table_fmt=\"fancy_grid\"))"
   ]
  },
  {
   "cell_type": "markdown",
   "metadata": {},
   "source": [
    "## Exercise 2: Secant Method\n",
    "\n",
    "Consider the same equation\n",
    "\n",
    "$$ x^3 + x - \\lambda = 0, $$\n",
    "\n",
    "where $\\lambda$ is a positive real number.\n",
    "\n",
    "### Problem (a)\n",
    "\n",
    "Write the iterative formula to determine $x_{n+1}$ in terms of $x_n$ and $x_{n-1}$."
   ]
  },
  {
   "cell_type": "markdown",
   "metadata": {},
   "source": [
    "### Solution (a)\n",
    "\n"
   ]
  },
  {
   "cell_type": "markdown",
   "metadata": {},
   "source": [
    "### Problem (b)\n",
    "\n",
    "Write a function to find the root of the equation using the secant method.\n",
    "\n",
    "### Solution (b)"
   ]
  },
  {
   "cell_type": "code",
   "execution_count": null,
   "metadata": {},
   "outputs": [],
   "source": [
    "def secant_cubic_root(lamb: float, x0: float, x1: float, tol: float=1e-9, max_iter: int=1000):\n",
    "    \"\"\"Find the root of a cubic equation using Newton's method\n",
    "\n",
    "    Parameters\n",
    "    ----------\n",
    "    lamb : float\n",
    "        the coefficient of the linear term\n",
    "    x0 : float\n",
    "        the first initial guess\n",
    "    x1 : float\n",
    "        the second initial guess\n",
    "    tol : float\n",
    "        the tolerance for the stopping criterion\n",
    "    max_iter : int\n",
    "        the maximum number of iterations\n",
    "    \n",
    "    Returns\n",
    "    -------\n",
    "    sympy expression(s)\n",
    "        the roots of the cubic equation\n",
    "    \"\"\"\n",
    "\n"
   ]
  },
  {
   "cell_type": "code",
   "execution_count": null,
   "metadata": {},
   "outputs": [],
   "source": [
    "lamb = uniform(1, 15)\n",
    "x0 = \n",
    "x1 = \n",
    "secant_cubic_root(lamb, x0, x1)"
   ]
  },
  {
   "cell_type": "markdown",
   "metadata": {},
   "source": [
    "### Problem (c)\n",
    "\n",
    "Adjust your `secant_cubic_root` function to get the output as a table of 3 columns $n$, $x_n$, and $f(x_n)$.\n",
    "\n",
    "### Solution (c)"
   ]
  },
  {
   "cell_type": "code",
   "execution_count": null,
   "metadata": {},
   "outputs": [],
   "source": [
    "def secant_cubic_root_table(lamb: float, x0: float, x1: float, tol: float=1e-9, max_iter: int=1000):\n",
    "    \"\"\"Find the root of a cubic equation using Newton's method\n",
    "\n",
    "    Parameters\n",
    "    ----------\n",
    "    lamb : float\n",
    "        the coefficient of the linear term\n",
    "    x0 : float\n",
    "        the first initial guess\n",
    "    x1 : float\n",
    "        the second initial guess\n",
    "    tol : float\n",
    "        the tolerance for the stopping criterion\n",
    "    max_iter : int\n",
    "        the maximum number of iterations\n",
    "    \n",
    "    Returns\n",
    "    -------\n",
    "    sympy expression(s)\n",
    "        the roots of the cubic equation\n",
    "    \"\"\"\n",
    "\n"
   ]
  },
  {
   "cell_type": "code",
   "execution_count": null,
   "metadata": {},
   "outputs": [],
   "source": [
    "from tabulate import tabulate\n",
    "\n",
    "headers = [\"Iterations\", \"Root\", \"Function Value\"]\n",
    "data = secant_cubic_root_table(lamb, 1, tol=1e-9, max_iter=100)\n",
    "\n",
    "print(tabulate(data, headers, table_fmt=\"fancy_grid\"))"
   ]
  },
  {
   "cell_type": "markdown",
   "metadata": {},
   "source": [
    "## Exercise 3: Golden Section Search Method\n",
    "\n",
    "Write a function in Python to find the maximum value of the function\n",
    "\n",
    "$$ f(x) = \\lambda x - e^x $$\n",
    "\n",
    "on the interval $[0.0, 1.0]$, where $\\lambda \\in (1,2)$.\n",
    "\n",
    "The output is a nest of the following values: $n$, $a$, $b$, $c$, $d$, $f(c)$, $f(d)$, $f(0.5(a+b))$, and $b-a$.\n",
    "\n",
    "### Solution"
   ]
  },
  {
   "cell_type": "code",
   "execution_count": 5,
   "metadata": {},
   "outputs": [],
   "source": [
    "import math\n",
    "golden_ratio = (1 + math.sqrt(5)) / 2\n",
    "inv_golden_ratio = (-1 + math.sqrt(5)) / 2"
   ]
  },
  {
   "cell_type": "code",
   "execution_count": null,
   "metadata": {},
   "outputs": [],
   "source": [
    "def golden_search_max(lamb: float, a: float, b: float, tol: float=1e-6, max_iter: int=1000):\n",
    "    \"\"\"Find the root of a cubic equation using Newton's method\n",
    "\n",
    "    Parameters\n",
    "    ----------\n",
    "    lamb : float\n",
    "        the coefficient of the linear term\n",
    "    a : float\n",
    "        the lower bound of the interval\n",
    "    b : float\n",
    "        the upper bound of the interval\n",
    "    tol : float\n",
    "        the tolerance for the stopping criterion\n",
    "    max_iter : int\n",
    "        the maximum number of iterations\n",
    "    \n",
    "    Returns\n",
    "    -------\n",
    "    sympy expression(s)\n",
    "        the roots of the cubic equation\n",
    "    \"\"\"\n",
    "    def fx(x):\n",
    "        return lamb * x - math.exp(x)\n",
    "    \n",
    "    # this function returns a nest list.\n",
    "    data = []\n",
    "\n",
    "\n",
    "    return data"
   ]
  },
  {
   "cell_type": "code",
   "execution_count": null,
   "metadata": {},
   "outputs": [],
   "source": [
    "lamb = uniform(1, 2)\n",
    "data = golden_search_max(lamb, a=0, b=1, tol=1e-6, max_iter=1000)"
   ]
  },
  {
   "cell_type": "code",
   "execution_count": null,
   "metadata": {},
   "outputs": [],
   "source": [
    "# Example usage:\n",
    "headers = [\"Iterations\", \"a\", \"b\", \"c\", \"d\", \"f(c)\", \"f(d)\", \"max value\", \"error\"]\n",
    "print(tabulate(data, headers, tablefmt=\"fancy_grid\"))"
   ]
  }
 ],
 "metadata": {
  "kernelspec": {
   "display_name": "math311",
   "language": "python",
   "name": "python3"
  },
  "language_info": {
   "codemirror_mode": {
    "name": "ipython",
    "version": 3
   },
   "file_extension": ".py",
   "mimetype": "text/x-python",
   "name": "python",
   "nbconvert_exporter": "python",
   "pygments_lexer": "ipython3",
   "version": "3.10.13"
  }
 },
 "nbformat": 4,
 "nbformat_minor": 2
}
