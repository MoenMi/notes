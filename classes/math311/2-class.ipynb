{
 "cells": [
  {
   "cell_type": "markdown",
   "metadata": {},
   "source": [
    "# 2 - Floating Point Numbers and Arithmetic"
   ]
  },
  {
   "cell_type": "markdown",
   "metadata": {},
   "source": [
    "## 1 - Scientific Notation\n",
    "\n",
    "In scientific notation, numbers are represented by a **mantissa** and a power of 10. For example, $2024$ can be represented by $2.024 * 10^3$, where $2.024$ is the mantissa."
   ]
  },
  {
   "cell_type": "markdown",
   "metadata": {},
   "source": [
    "## 2 - Binary Representation of Real Numbers\n",
    "\n",
    "For any positive integer $n$, its representation in base 2 is denoted by\n",
    "\n",
    "$$ (a_k a_{k-1} \\dots a_0)_2 $$\n",
    "\n",
    "provided that $a_k 2^k + a_{k-1} 2^{k-1} + \\dots + a_0 = n$.\n",
    "\n",
    "A positive real number $x$ has a finite binary representation (fixed-point) denoted by:\n",
    "\n",
    "$$ (a_k a_{k-1} \\dots a_0 . b_1 \\dots b_m)_2 $$\n",
    "\n",
    "if\n",
    "\n",
    "$$ x = \\sum^k_{i=0} a_i 2^i + \\sum^m_{j=1} b_j 2^{-j} $$\n",
    "\n",
    "**Theorem 1**:\n",
    "\n",
    "Any real number $x \\in [1,2)$ has a binary representation of infinite or infinitely many digits of the form\n",
    "\n",
    "$$ x = (1.b_1b_2\\dots b_n \\dots)_2 $$\n",
    "\n",
    "where $b_i$ is either $0$ or $1$.\n",
    "\n",
    "**Proof**:\n",
    "\n",
    "For $x \\in [1,2)$, we can see that $0 \\leq x-1 < 1$. This implies that $0 \\leq 2(x-1) < 2$. Let $b_1 = \\lfloor 2(x-1) \\rfloor$ be the integer part of the number $2(x-1)$. We obtain $b_1 \\in {0,1}$. By the definition of the integer part, we have\n",
    "\n",
    "$$ 0 \\leq 2(x-1) - b_1 < 1 $$\n",
    "\n",
    "and hence\n",
    "\n",
    "$$ 0 \\leq 2(2(x-1) - b_1) = 2^2 (x-1-\\frac{b_1}{2}) < 2 $$\n",
    "\n",
    "Now define $b_2 = \\lfloor 2^2 (x-1-\\frac{b_1}{2}) \\rfloor$, then we have a similar condition $b_2 \\in {0,1}$ and\n",
    "\n",
    "$$ 0 \\leq 2^2 (x-1-\\frac{b_1}{2}) - b_2 < 1 $$\n",
    "\n",
    "By induction, we can define\n",
    "\n",
    "$$ b_{n+1} = \\lfloor 2^{n+1} (x - 1 - \\sum^n_{i=1} b_i 2^{-i}) \\rfloor $$\n",
    "\n",
    "where $b_{n+1} \\in {0,1}$ and obtain a similar estimate\n",
    "\n",
    "$$ 0 \\leq 2^{n+1} (x - 1 - \\sum^n_{i=1} b_i 2^{-i}) - b_{n+1} < 1 $$\n",
    "\n",
    "By the comparison test and the geometric series, the series $1 + \\sum^\\infty_{i=0} b_i 2^{-i}$ is convergent to a finite number, and particularly, in this case, it converges to $x$. Thus,\n",
    "\n",
    "$$ x = 1 + \\sum^\\infty_{i=1} b_i 2^{-i} = (1.b_1 b_2 \\dots)_2 $$\n",
    "\n",
    "**Theorem 2**:\n",
    "\n",
    "For any positive real number $y$, there exist an integer exponent $n$ and binary digits $b_1, b_2, \\dots \\in {0,1}$ such that\n",
    "\n",
    "$$ y = 2^n(1+\\sum^\\infty_{i=1} b_i 2^{-i}) $$\n",
    "\n",
    "**Proof**:\n",
    "\n",
    "Let $y$ be the given positive real number. We can find an integer $n$ such that $y \\in [2^n, 2^{n+1})$. Set $x=\\frac{y}{2^n}$ then $x \\in [1,2)$. From Theorem 1, there exist $b_1, b_2, \\dots \\in {0,1}$ such that\n",
    "\n",
    "$$ x = 1 + \\sum^\\infty_{i=1} b_i 2^{-i} $$\n",
    "\n",
    "Now we have\n",
    "\n",
    "$$ y = 2^nx = 2^n(1 + \\sum^\\infty_{i=1} b_i 2^{-i}) $$"
   ]
  },
  {
   "cell_type": "markdown",
   "metadata": {},
   "source": [
    "## 3 - Floating Point Representation\n",
    "\n",
    "A floating point number with $t$ digits (prescision) in base 2 of a real non-zero number $x$ has the form\n",
    "\n",
    "$$ x = \\pm 2^p \\times (1.b_1 b_2 \\dots b_{t-1})_2 = \\pm 2^p (1 + \\sum^{t-1}_{i=1} b_i 2^{-i}) $$\n",
    "\n",
    "where $p \\in \\mathbb{Z}$ and $b_i \\in {0,1}$. The part after the decimal is called the mantissa and $p$ is the exponent.\n",
    "\n",
    "Given a value of $t$ and integers $L, U$ define\n",
    "\n",
    "$$ \\mathcal{F} = \\{x \\in \\mathbb{R} : x=0 \\text{ or } x \\text{ of the form (1) with } L \\leq p \\leq U \\} $$\n",
    "\n",
    "This is a space of floating point numbers with $t$ digits in a fixed range of exponents from $L$ to $U$. The set $\\mathcal{F}$ is finite, which allows us to represent any number by a designed-size block of memory in a computer. There are two standards that are implemented in hardware:\n",
    "- Single-precision (float): 32 bits, $t = 23$, $L=-126$, $U=127$\n",
    "- Double-precision (double): 64 bits, $t=53$, $L=-1022$, $U=1023$  "
   ]
  },
  {
   "cell_type": "markdown",
   "metadata": {},
   "source": [
    "## 4 - IEEE Double Precision Floating Point Numbers\n",
    "\n"
   ]
  },
  {
   "cell_type": "markdown",
   "metadata": {},
   "source": [
    "## 7 - Error Analysis\n",
    "\n",
    "- We often cannot exactly evaluate functions\n",
    "- Problems often do not have analytic solutions\n",
    "- We need to understand the inherent error (round off or truncation) in storage of numbers by computers\n",
    "- We need to quantify how close our approximate solution is to the actual solution"
   ]
  },
  {
   "cell_type": "markdown",
   "metadata": {},
   "source": [
    "## 8 - Types of Error\n",
    "\n"
   ]
  },
  {
   "cell_type": "markdown",
   "metadata": {},
   "source": [
    "## 9 - Floating Point Arithmetic\n",
    "\n",
    "Let $*$ be a binary operation ($+,-,\\times,\\div$) and $\\circledast$ denote its floating point analogue. Recall $\\mathcal{F}$ is the space of floating point numbers (64 bit double precision). For any $x,y \\in \\mathcal{F}$, we define\n",
    "\n",
    "$$ x \\circledast y = \\text{fl}(x*y) $$\n",
    "\n"
   ]
  }
 ],
 "metadata": {
  "language_info": {
   "name": "python"
  }
 },
 "nbformat": 4,
 "nbformat_minor": 2
}
