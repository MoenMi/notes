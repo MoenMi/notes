{
 "cells": [
  {
   "cell_type": "markdown",
   "metadata": {},
   "source": [
    "# Homework 3 - Lists and Loops\n",
    "\n",
    "by Michael Moen"
   ]
  },
  {
   "cell_type": "markdown",
   "metadata": {},
   "source": [
    "## Exercise 1: Generate Equally Spaced Points\n",
    "\n",
    "Let $a,b$ be given real numbers and $n$ be a positive integer. Generate $n+1$ equally spaced points in $[a,b]$. Store the result in a list."
   ]
  },
  {
   "cell_type": "markdown",
   "metadata": {},
   "source": [
    "### Problem (a)\n",
    "\n",
    "Suppose that we want to obtain a list, $[x_0, x_1, \\dots, x_n]$, of equally spaced points in $[a,b]$, write math equations to compute $x_i$ in terms of $a,b,i, \\text{ and } n$, here $x_0 = a$ and $x_n = b$."
   ]
  },
  {
   "cell_type": "markdown",
   "metadata": {},
   "source": [
    "#### Solution\n",
    "\n",
    "$$ x_i = a + i * \\frac{b-a}{n} $$"
   ]
  },
  {
   "cell_type": "markdown",
   "metadata": {},
   "source": [
    "### Problem (b)\n",
    "\n",
    "Write a function in Python to generate the above list and test your function with some cases."
   ]
  },
  {
   "cell_type": "markdown",
   "metadata": {},
   "source": [
    "#### Solution"
   ]
  },
  {
   "cell_type": "code",
   "execution_count": null,
   "metadata": {},
   "outputs": [],
   "source": [
    "def gen_points(a: float, b: float, n: int) -> list:\n",
    "    \"\"\"Generate a list of n+1 equally spaced points on [a,b]\n",
    "\n",
    "    Parameters\n",
    "    ----------\n",
    "    a : float\n",
    "        the lower bound of the desired range of points\n",
    "    b : float\n",
    "        the upper bound of the desired range of points\n",
    "    n : int\n",
    "        determines the number and spacing of points on [a,b]\n",
    "    \n",
    "    Returns\n",
    "    -------\n",
    "    list\n",
    "        the list of n+1 equally spaced points on [a,b]\n",
    "    \"\"\"\n",
    "\n",
    "    increment_size = (b - a) / n\n",
    "\n",
    "    return [a + i * increment_size for i in range(n+1)]"
   ]
  },
  {
   "cell_type": "code",
   "execution_count": null,
   "metadata": {},
   "outputs": [
    {
     "name": "stdout",
     "output_type": "stream",
     "text": [
      "[1.0, 1.08, 1.16, 1.24, 1.32, 1.4, 1.48, 1.56, 1.6400000000000001, 1.72, 1.8, 1.88, 1.96, 2.04, 2.12, 2.2, 2.2800000000000002, 2.3600000000000003, 2.44, 2.52, 2.6, 2.6799999999999997, 2.76, 2.84, 2.92, 3.0, 3.08, 3.16, 3.24, 3.32, 3.4, 3.48, 3.56, 3.64, 3.72, 3.8000000000000003, 3.88, 3.96, 4.04, 4.12, 4.2, 4.28, 4.359999999999999, 4.4399999999999995, 4.52, 4.6, 4.68, 4.76, 4.84, 4.92, 5.0]\n"
     ]
    }
   ],
   "source": [
    "a = 1\n",
    "b = 5\n",
    "n = 50\n",
    "arr = gen_points(a, b, n)\n",
    "print(arr)"
   ]
  },
  {
   "cell_type": "code",
   "execution_count": null,
   "metadata": {},
   "outputs": [
    {
     "name": "stdout",
     "output_type": "stream",
     "text": [
      "[0.0, 0.01, 0.02, 0.03, 0.04, 0.05, 0.06, 0.07, 0.08, 0.09, 0.1]\n"
     ]
    }
   ],
   "source": [
    "a = 0\n",
    "b = 0.1\n",
    "n = 10\n",
    "arr = gen_points(a, b, n)\n",
    "print(arr)"
   ]
  },
  {
   "cell_type": "code",
   "execution_count": null,
   "metadata": {},
   "outputs": [
    {
     "name": "stdout",
     "output_type": "stream",
     "text": [
      "[-8192.0, -6144.0, -4096.0, -2048.0, 0.0, 2048.0, 4096.0, 6144.0, 8192.0]\n"
     ]
    }
   ],
   "source": [
    "a = -8192\n",
    "b = 8192\n",
    "n = 8\n",
    "arr = gen_points(a, b, n)\n",
    "print(arr)"
   ]
  },
  {
   "cell_type": "markdown",
   "metadata": {},
   "source": [
    "## Exercise 2: $k$-Moment\n",
    "\n",
    "Given a list of real numbers $a = [a_0, \\dots, a_{n-1}]$, write a function to compute the $k$-moment of the given data by using the following formula:\n",
    "\n",
    "$$ \\nu_k = \\frac{\\sum^{n-1}_{i=0} (a_i - \\bar{a})^k}{n-1}, $$\n",
    "\n",
    "here $\\bar{a} = \\frac{a_0 + \\dots + a_{n-1}}{n}$ is the average of the list.\n",
    "\n",
    "#### Solution"
   ]
  },
  {
   "cell_type": "code",
   "execution_count": null,
   "metadata": {},
   "outputs": [],
   "source": [
    "def kth_moment(arr: list, k: int) -> float:\n",
    "    \"\"\"Calculate the kth moment of a list of points arr\n",
    "\n",
    "    Parameters\n",
    "    ----------\n",
    "    arr : list\n",
    "        the list of points\n",
    "    k : int\n",
    "        the moment of the points to be calculated\n",
    "    \n",
    "    Returns\n",
    "    -------\n",
    "    float\n",
    "        the kth moment of points in arr\n",
    "    \"\"\"\n",
    "\n",
    "    n = len(arr)\n",
    "    total = 0\n",
    "    average = sum(arr) / n\n",
    "\n",
    "    for a_i in arr:\n",
    "        total += (a_i - average)**k\n",
    "\n",
    "    return total / (n - 1)"
   ]
  },
  {
   "cell_type": "markdown",
   "metadata": {},
   "source": [
    "Run some test cases:"
   ]
  },
  {
   "cell_type": "code",
   "execution_count": null,
   "metadata": {},
   "outputs": [
    {
     "name": "stdout",
     "output_type": "stream",
     "text": [
      "3.5885996755560615e-16\n"
     ]
    }
   ],
   "source": [
    "from random import randint\n",
    "\n",
    "k = 1\n",
    "n = 100\n",
    "arr = [randint(5, 10) for _ in range(n)]\n",
    "kth_arr = kth_moment(arr, k)\n",
    "print(kth_arr)"
   ]
  },
  {
   "cell_type": "code",
   "execution_count": null,
   "metadata": {},
   "outputs": [
    {
     "name": "stdout",
     "output_type": "stream",
     "text": [
      "3.201111111111112\n"
     ]
    }
   ],
   "source": [
    "k = 2\n",
    "n = 100\n",
    "arr = [randint(5, 10) for _ in range(n)]\n",
    "kth_arr = kth_moment(arr, k)\n",
    "print(kth_arr)"
   ]
  },
  {
   "cell_type": "code",
   "execution_count": null,
   "metadata": {},
   "outputs": [
    {
     "name": "stdout",
     "output_type": "stream",
     "text": [
      "0.6009212121212095\n"
     ]
    }
   ],
   "source": [
    "k = 3\n",
    "n = 100\n",
    "arr = [randint(5, 10) for _ in range(n)]\n",
    "kth_arr = kth_moment(arr, k)\n",
    "print(kth_arr)"
   ]
  },
  {
   "cell_type": "code",
   "execution_count": null,
   "metadata": {},
   "outputs": [
    {
     "name": "stdout",
     "output_type": "stream",
     "text": [
      "15.365995525252517\n"
     ]
    }
   ],
   "source": [
    "k = 4\n",
    "n = 100\n",
    "arr = [randint(5, 10) for _ in range(n)]\n",
    "kth_arr = kth_moment(arr, k)\n",
    "print(kth_arr)"
   ]
  },
  {
   "cell_type": "markdown",
   "metadata": {},
   "source": [
    "## Exercise 3: Compute the Logarithm\n",
    "\n",
    "Let $x$ be a given real number and $x \\geq 1$. Write a function to generate a list of $n$ elements $a = [a_1, \\dots, a_n]$, where\n",
    "\n",
    "$$ a_i = \\frac{1}{i} \\left( \\frac{x}{x+1} \\right)^i $$\n",
    "\n",
    "#### Solution"
   ]
  },
  {
   "cell_type": "code",
   "execution_count": null,
   "metadata": {},
   "outputs": [],
   "source": [
    "def gen_log_list(x: float, n: int) -> list:\n",
    "    \"\"\"Generate a list of elements given the equation above\n",
    "\n",
    "    Parameters\n",
    "    ----------\n",
    "    x : float\n",
    "        the input value x of the equation above\n",
    "    n : int\n",
    "        the number of elements in the list\n",
    "    \n",
    "    Returns\n",
    "    -------\n",
    "    list\n",
    "        the list of elements generated from the equation\n",
    "    \"\"\"\n",
    "\n",
    "    return [(1 / i) * (x / (x + 1))**i for i in range(1, n+1)]"
   ]
  },
  {
   "cell_type": "code",
   "execution_count": null,
   "metadata": {},
   "outputs": [
    {
     "name": "stdout",
     "output_type": "stream",
     "text": [
      "[0.6, 0.18, 0.07199999999999998, 0.0324, 0.015551999999999996, 0.007775999999999998, 0.003999085714285713, 0.0020995199999999993, 0.0011197439999999996, 0.0006046617599999998, 0.0003298155054545453, 0.0001813985279999999, 0.0001004668770461538, 5.5974402925714254e-05, 3.134566563839998e-05, 1.763193692159999e-05, 9.956858496903523e-06, 5.642219814911996e-06, 3.2071565263710293e-06, 1.8280792200314867e-06, 1.0446166971608495e-06, 5.982804720103047e-07, 3.4336096654504435e-07, 1.974325557634005e-07, 1.1372115211971871e-07, 6.560835699214541e-08, 3.7907050706572894e-08, 2.1931936480231457e-08, 1.2705397685099603e-08, 7.369130657357771e-09, 4.2788500591109635e-09, 2.4870815968582474e-09, 1.4470292927175256e-09, 8.42681764582559e-10, 4.911630856424058e-10, 2.8651179995807004e-10, 1.6726094267822468e-10, 9.771560335412073e-11, 5.712604503779365e-11, 3.341873634710929e-11, 1.9562187130015193e-11, 1.145785246186604e-11, 6.714834466023818e-12, 3.937334755077602e-12, 2.3099030563121933e-12, 1.3558126634875916e-12, 7.961793513246282e-13, 4.67755368903219e-13, 2.749256045798512e-13, 1.6165625549295253e-13, 9.509191499585442e-14, 5.5957934593714326e-14, 3.294127470422428e-14, 1.9398750659154296e-14, 1.1427627661029076e-14, 6.734137728820706e-15, 3.9695969769890475e-15, 2.3406933898797488e-15, 1.3806123723358516e-15, 8.145612996781525e-16, 4.807247014494015e-16, 2.8378264633948534e-16, 1.6756689593379134e-16, 9.896919791089551e-17, 5.84679569196675e-17, 3.454924727071261e-17, 2.042015211821223e-17, 1.2071913458119583e-17, 7.138174914366362e-18, 4.221720592210962e-18, 2.497355843279724e-18, 1.4776022072738366e-18, 8.744166486880787e-19, 5.175601244937547e-19, 3.0639559370030277e-19, 1.8141844363833712e-19, 1.0743741597283342e-19, 6.363600792237056e-20, 3.7698293300847365e-20, 2.2336238780752068e-20, 1.3236289647853074e-20, 7.844922888849505e-21, 4.650243447366213e-21, 2.756930043795683e-21, 1.6346973436153226e-21, 9.694135409811798e-22, 5.749625139612514e-22, 3.410573094179241e-22, 2.0233512289063358e-22, 1.2005217291510928e-22, 7.12397509606143e-23, 4.2279243504886305e-23, 2.5094776789997034e-23, 1.489668664767909e-23, 8.84392765188527e-24, 5.251082043306878e-24, 3.1181683061286204e-24, 1.8518101573131193e-24, 1.099863002525368e-24, 6.533186235000685e-25]\n"
     ]
    }
   ],
   "source": [
    "x = 1.5\n",
    "n = 100\n",
    "arr = gen_log_list(x, n)\n",
    "print(arr)"
   ]
  },
  {
   "cell_type": "code",
   "execution_count": null,
   "metadata": {},
   "outputs": [
    {
     "data": {
      "text/plain": [
       "0.9162907318741554"
      ]
     },
     "execution_count": 13,
     "metadata": {},
     "output_type": "execute_result"
    }
   ],
   "source": [
    "s = sum(arr)\n",
    "s"
   ]
  },
  {
   "cell_type": "code",
   "execution_count": null,
   "metadata": {},
   "outputs": [
    {
     "name": "stdout",
     "output_type": "stream",
     "text": [
      "[]\n"
     ]
    }
   ],
   "source": [
    "x = 1.5\n",
    "n = 0\n",
    "arr = gen_log_list(x, n)\n",
    "print(arr)"
   ]
  },
  {
   "cell_type": "code",
   "execution_count": null,
   "metadata": {},
   "outputs": [
    {
     "data": {
      "text/plain": [
       "2.179066945019864"
      ]
     },
     "execution_count": 28,
     "metadata": {},
     "output_type": "execute_result"
    }
   ],
   "source": [
    "x = 10\n",
    "n = 10\n",
    "arr = gen_log_list(x, n)\n",
    "sum(arr)"
   ]
  }
 ],
 "metadata": {
  "kernelspec": {
   "display_name": "math311",
   "language": "python",
   "name": "python3"
  },
  "language_info": {
   "codemirror_mode": {
    "name": "ipython",
    "version": 3
   },
   "file_extension": ".py",
   "mimetype": "text/x-python",
   "name": "python",
   "nbconvert_exporter": "python",
   "pygments_lexer": "ipython3",
   "version": "3.10.13"
  }
 },
 "nbformat": 4,
 "nbformat_minor": 2
}