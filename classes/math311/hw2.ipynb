{
 "cells": [
  {
   "cell_type": "markdown",
   "metadata": {},
   "source": [
    "# Homework 2 - Floating Point Numbers\n",
    "\n",
    "by Michael Moen"
   ]
  },
  {
   "cell_type": "markdown",
   "metadata": {},
   "source": [
    "## Exercise 1\n",
    "\n",
    "Let $x, y, z \\in \\mathcal{F}$ be floating point double-precision numbers. Then there exist $\\delta_1$ and $\\delta_2$ such that\n",
    "\n",
    "$$ x \\oplus y = (x + y)(1 + \\delta_1) $$\n",
    "\n",
    "and\n",
    "\n",
    "$$ x \\oplus y \\oplus z = ((x \\oplus y) + z)(1 + \\delta_2) $$"
   ]
  },
  {
   "cell_type": "markdown",
   "metadata": {},
   "source": [
    "### Problem 1.1\n",
    "\n",
    "Show that\n",
    "\n",
    "$$ |x \\oplus y \\oplus z - (x + y + z)| \\leq |\\delta_1|(|x| + |y|) + |\\delta_2|(|x| + |y| + |z|) + |\\delta_1| |\\delta_2| (|x| + |y|) $$"
   ]
  },
  {
   "cell_type": "markdown",
   "metadata": {},
   "source": [
    "#### Solution\n",
    "\n",
    "$$\n",
    "\\begin{align*}\n",
    "    x \\oplus y \\oplus z &= ((x \\oplus y) + z)(1 + \\delta_2) \\\\\n",
    "    x \\oplus y \\oplus z &= ((x + y)(1 + \\delta_1) + z)(1 + \\delta_2) \\\\\n",
    "    x \\oplus y \\oplus z &= (x + y + z + x\\delta_1 + y\\delta_1)(1 + \\delta_2) \\\\\n",
    "    x \\oplus y \\oplus z &= x + y + z + x\\delta_1 + y\\delta_1 + x\\delta_2 + y\\delta_2 + z\\delta_2 + x\\delta_1\\delta_2 + y\\delta_1\\delta_2 \\\\\n",
    "    x \\oplus y \\oplus z - (x + y + z) &= x + y + z + x\\delta_1 + y\\delta_1 + x\\delta_2 + y\\delta_2 + z\\delta_2 + x\\delta_1\\delta_2 + y\\delta_1\\delta_2 - (x + y + z) \\\\\n",
    "    x \\oplus y \\oplus z - (x + y + z) &= x\\delta_1 + y\\delta_1 + x\\delta_2 + y\\delta_2 + z\\delta_2 + x\\delta_1\\delta_2 + y\\delta_1\\delta_2 \\\\\n",
    "    x \\oplus y \\oplus z - (x + y + z) &= \\delta_1(x + y) + \\delta_2(x + y + z) + \\delta_1\\delta_2(x + y) \\\\\n",
    "    | x \\oplus y \\oplus z - (x + y + z) | &\\leq |\\delta_1|(|x| + |y|) + |\\delta_2|(|x| + |y| + |z|) + |\\delta_1||\\delta_2|(|x| + |y|)\n",
    "\\end{align*}\n",
    "$$"
   ]
  },
  {
   "cell_type": "markdown",
   "metadata": {},
   "source": [
    "### Problem 1.2\n",
    "\n",
    "Suppose further that $x, y, z > 0$. Estimate the relative error of the arithmetic operations $x \\oplus y \\oplus z$ in terms of the machine epsilon. Hint: show that\n",
    "\n",
    "$$ \\frac{|x \\oplus y \\oplus z - (x + y + z)|}{|x + y + z|} \\leq |\\delta_1| + |\\delta_2| + |\\delta_1| |\\delta_2| $$\n",
    "\n",
    "and notice that $\\delta_1 \\delta_2 = \\mathcal{O}(\\epsilon^2) \\approx 0$."
   ]
  },
  {
   "cell_type": "markdown",
   "metadata": {},
   "source": [
    "#### Solution\n",
    "\n",
    "$$\n",
    "\\begin{align*}\n",
    "    | x \\oplus y \\oplus z - (x + y + z) | &\\leq |\\delta_1|(|x| + |y|) + |\\delta_2|(|x| + |y| + |z|) + |\\delta_1||\\delta_2|(|x| + |y|) \\\\\n",
    "    \\frac{| x \\oplus y \\oplus z - (x + y + z) |}{| x + y + z |} &\\leq \\frac{|\\delta_1|(|x| + |y|) + |\\delta_2|(|x| + |y| + |z|) + |\\delta_1||\\delta_2|(|x| + |y|)}{| x + y + z |} \\\\\n",
    "\\end{align*}\n",
    "$$"
   ]
  },
  {
   "cell_type": "markdown",
   "metadata": {},
   "source": [
    "## Exercise 2\n",
    "\n",
    "Given the function $f(x) = \\frac{\\sqrt{x + 9} - 3}{x}$."
   ]
  },
  {
   "cell_type": "markdown",
   "metadata": {},
   "source": [
    "### Problem 2.1\n",
    "\n",
    "Reformulate the function to avoid the catastrophic cancellation when $x \\approx 0$."
   ]
  },
  {
   "cell_type": "markdown",
   "metadata": {},
   "source": [
    "#### Solution\n",
    "\n",
    "$$\n",
    "\\begin{align*}\n",
    "    f(x) &= \\frac{\\sqrt{x + 9} - 3}{x} \\\\\n",
    "    f(x) &= \\frac{(\\sqrt{x + 9} - 3) (\\sqrt{x + 9} + 3)}{x (\\sqrt{x + 9} + 3)} \\\\\n",
    "    f(x) &= \\frac{x + 9 - 9}{x (\\sqrt{x + 9} + 3)} \\\\\n",
    "    f(x) &= \\frac{1}{\\sqrt{x + 9} + 3}\n",
    "\\end{align*}\n",
    "$$"
   ]
  },
  {
   "cell_type": "markdown",
   "metadata": {},
   "source": [
    "### Problem 2.2\n",
    "\n",
    "Write the function in Python to calculate the value of the function (with new formula) at the following values of $x$:\n",
    "\n",
    "$$ x = 0.1, x = 0.01, \\dots, x = 10^{-8} $$\n",
    "\n",
    "Hint: Use an f-string to print out the values of the function: `print(f\"{fx:0.16f}\")`"
   ]
  },
  {
   "cell_type": "markdown",
   "metadata": {},
   "source": [
    "#### Solution"
   ]
  },
  {
   "cell_type": "code",
   "execution_count": null,
   "metadata": {},
   "outputs": [
    {
     "name": "stdout",
     "output_type": "stream",
     "text": [
      "0.1662062579967122\n",
      "0.1666203960726876\n",
      "0.1666620372942208\n",
      "0.1666662037062757\n",
      "0.1666666203703961\n",
      "0.1666666620370373\n",
      "0.1666666662037037\n",
      "0.1666666666203704\n"
     ]
    }
   ],
   "source": [
    "import math\n",
    "\n",
    "def sqrt_function(x: float) -> float:\n",
    "    \"\"\"Calculate the output of the function f(x)\n",
    "\n",
    "    Parameters\n",
    "    ----------\n",
    "    x : float\n",
    "        the independent variable of the function\n",
    "    \n",
    "    Returns\n",
    "    -------\n",
    "    float\n",
    "        the output of the function f(x)\n",
    "    \n",
    "    \"\"\"\n",
    "    return 1 / (math.sqrt(x + 9) + 3)\n",
    "\n",
    "for i in range(1, 9):\n",
    "    fx = sqrt_function(10**(-1 * i))\n",
    "    print(f'{fx:0.16f}')"
   ]
  },
  {
   "cell_type": "markdown",
   "metadata": {},
   "source": [
    "## Exercise 3\n",
    "\n",
    "Consider the function\n",
    "\n",
    "$$ f(x) = \\frac{e^x - cos(2x)}{x} $$"
   ]
  },
  {
   "cell_type": "markdown",
   "metadata": {},
   "source": [
    "### Problem 3.1\n",
    "\n",
    "Write the truncated Taylor series for $e^x - cos(2x)$ with Lagrange remainder so that $f(x)$ can be calculated without loss of significance for $x$ close to $0$."
   ]
  },
  {
   "cell_type": "markdown",
   "metadata": {},
   "source": [
    "#### Solution\n",
    "\n",
    "$$\n",
    "\\begin{align*}\n",
    "    e^x - cos(2x) &\\approx f(0) + f'(0)(x-0) + \\frac{f^{(2)}(0)}{2!}(x-0)^2 + \\frac{f^{(3)}(0)}{3!}(x-0)^3 + \\frac{f^{(4)}(0)}{4!}(x-0)^4 \\\\\n",
    "    &\\approx e^0 - cos(0) + (e^0 + 2sin(0))x + \\frac{e^0 + 4cos(0)}{2}x^2 + \\frac{e^0 - 8sin(0)}{6}x^3 + \\frac{e^0 - 16cos(0)}{24}x^4 \\\\\n",
    "    &\\approx 1 - cos(0) + (1 + 2sin(0))x + \\frac{1 + 4cos(0)}{2}x^2 + \\frac{1 - 4sin(0)}{6}x^3 + \\frac{1 - 16cos(0)}{24}x^4 \\\\\n",
    "    &\\approx 1 - 1 + (1 + 2(0))x + \\frac{1 + 4(1)}{2}x^2 + \\frac{1 - 4(0)}{6}x^3 + \\frac{1 - 16(1)}{24}x^4 \\\\\n",
    "    &\\approx x + \\frac{5}{2}x^2 + \\frac{1}{6}x^3 + \\frac{5}{8}x^4 \\\\\n",
    "\\end{align*}\n",
    "$$"
   ]
  },
  {
   "cell_type": "markdown",
   "metadata": {},
   "source": [
    "### Problem 3.2\n",
    "\n",
    "When $x = 0.001$, determine the number of terms in the series needed to have the absolute error less than $10^{-8}$."
   ]
  },
  {
   "cell_type": "markdown",
   "metadata": {},
   "source": [
    "#### Solution\n",
    "\n",
    "$$\n",
    "\\begin{align*}\n",
    "    R_n(x) &= \\frac{f^{(n+1)}(c)}{(n+1)!} (x-a)^{n+1} \\\\\n",
    "    R_n(x) &= \\frac{f^{(n+1)}(c)}{(n+1)!} x^{n+1}\n",
    "\\end{align*}\n",
    "$$\n",
    "\n",
    "Now, we must solve for $f^{(n+1)}(x)$:\n",
    "\n",
    "$$\n",
    "\\begin{align*}\n",
    "    f(x) &= e^x - cos(2x) \\\\\n",
    "    f^{(n+1)}(x) &= e^x - 2^{n+1} \\\\\n",
    "    f^{(n+1)}(x) &= e^{0.001} - 2^{n+1}\n",
    "\\end{align*}\n",
    "$$"
   ]
  },
  {
   "cell_type": "markdown",
   "metadata": {},
   "source": [
    "### Problem 3.3\n",
    "\n",
    "Write a Python function to calculate the value of $f(x)$ at $x = 0.001$ up to $8$ significant digits."
   ]
  },
  {
   "cell_type": "markdown",
   "metadata": {},
   "source": [
    "#### Solution"
   ]
  },
  {
   "cell_type": "code",
   "execution_count": null,
   "metadata": {},
   "outputs": [
    {
     "data": {
      "text/latex": [
       "$\\displaystyle 1.00250016604175$"
      ],
      "text/plain": [
       "1.00250016604175"
      ]
     },
     "execution_count": 48,
     "metadata": {},
     "output_type": "execute_result"
    }
   ],
   "source": [
    "from sympy import symbols, series, exp, cos\n",
    "\n",
    "def exp_cos_function(x):\n",
    "    \"\"\"Calculate the output of the function f(x)\n",
    "\n",
    "    Parameters\n",
    "    ----------\n",
    "    x : float\n",
    "        the independent variable of the function\n",
    "    \n",
    "    Returns\n",
    "    -------\n",
    "    float\n",
    "        the output of the function f(x)\n",
    "    \n",
    "    \"\"\"\n",
    "\n",
    "    fx = (exp(x) - cos(2*x)) / x\n",
    "    taylor_expansion = fx.series(x, 0, 5)\n",
    "    \n",
    "    return taylor_expansion\n",
    "\n",
    "exp_cos_function(0.001)"
   ]
  }
 ],
 "metadata": {
  "kernelspec": {
   "display_name": "Python 3",
   "language": "python",
   "name": "python3"
  },
  "language_info": {
   "codemirror_mode": {
    "name": "ipython",
    "version": 3
   },
   "file_extension": ".py",
   "mimetype": "text/x-python",
   "name": "python",
   "nbconvert_exporter": "python",
   "pygments_lexer": "ipython3",
   "version": "3.10.13"
  }
 },
 "nbformat": 4,
 "nbformat_minor": 2
}