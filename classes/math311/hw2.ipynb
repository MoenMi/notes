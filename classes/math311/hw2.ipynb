{
 "cells": [
  {
   "cell_type": "markdown",
   "metadata": {},
   "source": [
    "# Homework 2\n",
    "\n",
    "by Michael Moen"
   ]
  },
  {
   "cell_type": "markdown",
   "metadata": {},
   "source": [
    "## Exercise 1\n",
    "\n",
    "Let $x, y, z \\in \\mathbb{F}$ be floating point double-precision numbers. Then there exist $\\delta_1$ and $\\delta_2$ such that\n",
    "\n",
    "$$ x \\oplus y = (x + y)(1 + \\delta_1) $$\n",
    "\n",
    "and\n",
    "\n",
    "$$ x \\oplus y \\oplus z = ((x + y)(1 + \\delta_1) + z)(1 + \\delta_2) $$"
   ]
  },
  {
   "cell_type": "markdown",
   "metadata": {},
   "source": [
    "### Problem 1\n",
    "\n",
    "Show that\n",
    "\n",
    "$$ |x \\oplus y \\oplus z - (x + y + z)| \\leq |\\delta_1|(|x| + |y| + |z|) + |\\delta_2|(|y| + |z|) + |\\delta_1| |\\delta_2| (|x| + |y|) $$"
   ]
  },
  {
   "cell_type": "markdown",
   "metadata": {},
   "source": [
    "#### Solution\n",
    "\n"
   ]
  },
  {
   "cell_type": "markdown",
   "metadata": {},
   "source": [
    "### Problem 2\n",
    "\n",
    "Suppose Further that $x, y, z > 0$. Estimate the relative error of the arithmetic operations $x \\oplus y \\oplus z$ in terms of the machine epsilon. Hint: show that\n",
    "\n",
    "$$ \\frac{|x \\oplus y \\oplus z - (x + y + z)|}{|x + y + z|} \\leq |\\delta_1| + |\\delta_2| + |\\delta_1| |\\delta_2| $$\n",
    "\n",
    "and notice that $\\delta_1 \\delta_2 = \\mathcal{O}(\\epsilon^2) \\approx 0$."
   ]
  }
 ],
 "metadata": {
  "language_info": {
   "name": "python"
  }
 },
 "nbformat": 4,
 "nbformat_minor": 2
}
