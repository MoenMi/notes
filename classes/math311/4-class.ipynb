{
 "cells": [
  {
   "cell_type": "markdown",
   "metadata": {},
   "source": [
    "# 4 - Numerical Integrations"
   ]
  },
  {
   "cell_type": "markdown",
   "metadata": {},
   "source": [
    "## 4.1 - Riemann Sums\n",
    "\n",
    "$$ \\int_a^b f(x) dx = \\lim_{n \\to \\infty} \\sum^n_{i=1} [f(x_i^*) \\Delta x_i], $$\n",
    "\n",
    "where $x_i^*$ are sample points in $[a,b]$ with $x_0 = a$, $x_n = b$, and $\\Delta x_i = x_i - x_{i-1}$.\n",
    "\n",
    "For example, we can compute the following integral using a Riemann sum:\n",
    "\n",
    "$$ \\int_0^{\\pi/2} \\sin(2x)dx $$"
   ]
  },
  {
   "cell_type": "code",
   "execution_count": null,
   "metadata": {},
   "outputs": [],
   "source": [
    "import math\n",
    "def fx(x: float) -> float:\n",
    "    return math.sin(2*x)"
   ]
  },
  {
   "cell_type": "code",
   "execution_count": null,
   "metadata": {},
   "outputs": [],
   "source": [
    "def riemann_sum(fx, a: float, b: float, n: int) -> float:\n",
    "    dx = (b - a) / n\n",
    "    sum = 0\n",
    "    for i in range(n):\n",
    "        sum += fx(a + i * dx)\n",
    "    return dx * sum"
   ]
  },
  {
   "cell_type": "code",
   "execution_count": null,
   "metadata": {},
   "outputs": [
    {
     "data": {
      "text/plain": [
       "0.9999991775328312"
      ]
     },
     "execution_count": 4,
     "metadata": {},
     "output_type": "execute_result"
    }
   ],
   "source": [
    "approx_value = riemann_sum(fx, 0, math.pi / 2, 1000)\n",
    "approx_value"
   ]
  },
  {
   "cell_type": "markdown",
   "metadata": {},
   "source": [
    "To obtain the exact value of this integral, we can use the `sympy` library:"
   ]
  },
  {
   "cell_type": "code",
   "execution_count": null,
   "metadata": {},
   "outputs": [
    {
     "data": {
      "text/latex": [
       "$\\displaystyle 1.0$"
      ],
      "text/plain": [
       "1.00000000000000"
      ]
     },
     "execution_count": 5,
     "metadata": {},
     "output_type": "execute_result"
    }
   ],
   "source": [
    "from sympy import symbols, sin, integrate\n",
    "\n",
    "x = symbols('x')\n",
    "exact_value = integrate(sin(2*x), (x, 0, math.pi / 2))\n",
    "exact_value"
   ]
  },
  {
   "cell_type": "markdown",
   "metadata": {},
   "source": [
    "To calculate the exact error:"
   ]
  },
  {
   "cell_type": "code",
   "execution_count": null,
   "metadata": {},
   "outputs": [
    {
     "data": {
      "text/latex": [
       "$\\displaystyle 8.22467168815066 \\cdot 10^{-7}$"
      ],
      "text/plain": [
       "8.22467168815066e-7"
      ]
     },
     "execution_count": 6,
     "metadata": {},
     "output_type": "execute_result"
    }
   ],
   "source": [
    "abs_err = exact_value - approx_value\n",
    "abs_err"
   ]
  },
  {
   "cell_type": "markdown",
   "metadata": {},
   "source": [
    "## 4.2 - Trapezoidal Rule\n",
    "\n",
    "The Trapezoidal Rule approximates the integral as follows:\n",
    "\n",
    "$$ \\int_a^b = f(x) dx \\approx (\\Delta x) \\sum^n_{i=1} \\frac{f(x_{i-1} + f(x_i))}{2} $$"
   ]
  },
  {
   "cell_type": "code",
   "execution_count": null,
   "metadata": {},
   "outputs": [],
   "source": [
    "def trapezoidal_rule(fx, a: float, b: float, n: int) -> float:\n",
    "    dx = (b - a) / n\n",
    "    sum = 0\n",
    "    for i in range(1, n):\n",
    "        sum += (fx(a + i * dx) + fx(a + (i-1) * dx)) / 2\n",
    "    return dx * sum"
   ]
  },
  {
   "cell_type": "code",
   "execution_count": null,
   "metadata": {},
   "outputs": [
    {
     "data": {
      "text/plain": [
       "0.9999967101357902"
      ]
     },
     "execution_count": 9,
     "metadata": {},
     "output_type": "execute_result"
    }
   ],
   "source": [
    "trap_approx = trapezoidal_rule(fx, 0, math.pi / 2, 1000)\n",
    "trap_approx"
   ]
  },
  {
   "cell_type": "markdown",
   "metadata": {},
   "source": [
    "### Error Bounds for Trapezoidal Rules\n",
    "\n",
    "Let $T_n = (\\Delta x) \\sum^n_{i=1} \\frac{f(x_{i-1} + f(x_i))}{2} $ be the trapezoidal approximation for the integral, then the absolute error is\n",
    "\n",
    "$$ E_n = \\left| \\int_a^b f(x)dx - (\\Delta x) \\sum^n_{i=1} \\frac{f(x_{i-1} + f(x_i))}{2} \\right| $$\n",
    "\n",
    "From Calculus II, we know that\n",
    "\n",
    "$$ E_n \\leq \\frac{M(b-a)^3}{12n^2} $$\n",
    "\n",
    "where $M$ is the maximum value of $f''(x)$ on $[a,b]$."
   ]
  },
  {
   "cell_type": "markdown",
   "metadata": {},
   "source": [
    "## 4.3 - Simpson's Rules\n",
    "\n",
    "The Simpson's approximation formula is given as follows:\n",
    "\n",
    "$$ \\int_a^b f(x)dx \\approx \\frac{\\Delta x}{3} \\left[ f(x_0) + 4\\left( \\sum^{n-1}_{i=1, i \\text{ odd}} f(x_i) \\right) + 2\\left( \\sum^{n-2}_{i=2, i \\text{ even}} f(x_i) \\right) + f(x_n) \\right] $$"
   ]
  },
  {
   "cell_type": "code",
   "execution_count": null,
   "metadata": {},
   "outputs": [],
   "source": [
    "def simpson_approx(fx, a: float, b: float, n: int) -> float:\n",
    "    \"\"\"Approximate the integral of the function fx from\n",
    "    a to b using Simpson's rules with n subintervals\n",
    "\n",
    "    Parameters\n",
    "    ----------\n",
    "    fx : sympy function\n",
    "        the function of the integrand\n",
    "    a : float\n",
    "        the lower limit of integration\n",
    "    b : float\n",
    "        the upper limit of integration\n",
    "    n : int\n",
    "        the number of subintervals\n",
    "    \n",
    "    Returns\n",
    "    -------\n",
    "    float\n",
    "        the approximate value of the integral\n",
    "    \"\"\"\n",
    "    x = symbols('x')\n",
    "    dx = (b - a) / n\n",
    "    odd_sum = even_sum = 0\n",
    "\n",
    "    # Odd sum\n",
    "    for i in range(1, n, 2):\n",
    "        odd_sum += fx.subs(x, a + i * dx)\n",
    "\n",
    "    # Even sum\n",
    "    for i in range(2, n-1, 2):\n",
    "        even_sum += fx.subs(x, a + i * dx)\n",
    "\n",
    "    fa = fx.subs(x, a)\n",
    "    fb = fx.subs(x, b)\n",
    "\n",
    "    return (dx / 3) * (fa + 4*odd_sum + 2*even_sum + fb)"
   ]
  },
  {
   "cell_type": "code",
   "execution_count": null,
   "metadata": {},
   "outputs": [
    {
     "data": {
      "text/latex": [
       "$\\displaystyle 1.00000000000054$"
      ],
      "text/plain": [
       "1.00000000000054"
      ]
     },
     "execution_count": 17,
     "metadata": {},
     "output_type": "execute_result"
    }
   ],
   "source": [
    "x = symbols('x')\n",
    "f = sin(2*x)\n",
    "simpson_approx(f, 0, math.pi / 2, 1000)"
   ]
  },
  {
   "cell_type": "markdown",
   "metadata": {},
   "source": [
    "### Error Bounds for Simpson's Rules\n",
    "\n",
    "Let $S_n = \\frac{\\Delta x}{3} \\left[ f(x_0) + 4\\left( \\sum^{n-1}_{i=1, i \\text{ odd}} f(x_i) \\right) + 2\\left( \\sum^{n-2}_{i=2, i \\text{ even}} f(x_i) \\right) + f(x_n) \\right]$, then the approximate error is\n",
    "\n",
    "$$ E_n = \\left| \\int_a^b f(x) dx - \\frac{\\Delta x}{3} \\left[ f(x_0) + 4\\left( \\sum^{n-1}_{i=1, i \\text{ odd}} f(x_i) \\right) + 2\\left( \\sum^{n-2}_{i=2, i \\text{ even}} f(x_i) \\right) + f(x_n) \\right] \\right| $$\n",
    "\n",
    "From Calculus II, we know that\n",
    "\n",
    "$$ E_n \\leq \\frac{M(b-a)^5}{180n^4}, $$\n",
    "\n",
    "where $M$ is the maximum value of $f^{(4)}(x)$ on $[a,b]$."
   ]
  },
  {
   "cell_type": "code",
   "execution_count": null,
   "metadata": {},
   "outputs": [
    {
     "data": {
      "text/latex": [
       "$\\displaystyle 16 \\sin{\\left(2 x \\right)}$"
      ],
      "text/plain": [
       "16*sin(2*x)"
      ]
     },
     "execution_count": 18,
     "metadata": {},
     "output_type": "execute_result"
    }
   ],
   "source": [
    "from sympy import diff\n",
    "\n",
    "x = symbols('x')\n",
    "# Take 4th derivative of sin(2x) w.r.t. x\n",
    "diff(sin(2*x), x, 4)"
   ]
  }
 ],
 "metadata": {
  "kernelspec": {
   "display_name": "math311",
   "language": "python",
   "name": "python3"
  },
  "language_info": {
   "codemirror_mode": {
    "name": "ipython",
    "version": 3
   },
   "file_extension": ".py",
   "mimetype": "text/x-python",
   "name": "python",
   "nbconvert_exporter": "python",
   "pygments_lexer": "ipython3",
   "version": "3.10.13"
  }
 },
 "nbformat": 4,
 "nbformat_minor": 2
}