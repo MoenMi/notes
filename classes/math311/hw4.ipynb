{
 "cells": [
  {
   "cell_type": "markdown",
   "metadata": {},
   "source": [
    "# Homework 4 - Numerical Integrations\n",
    "\n",
    "by Michael Moen"
   ]
  },
  {
   "cell_type": "markdown",
   "metadata": {},
   "source": [
    "## Exercise 1 - Trapezoidal Rules for Numerical Integrations\n",
    "\n",
    "Consider the integral\n",
    "\n",
    "$$ \\int_a^b e^{-5x^2} dx $$"
   ]
  },
  {
   "cell_type": "markdown",
   "metadata": {},
   "source": [
    "### Problem (a)\n",
    "\n",
    "Write the formula to approximate the above integral using the trapezoidal rules with $n$ subintervals.\n",
    "\n",
    "$$ \\int_a^b e^{-5x^2} dx \\approx ? $$"
   ]
  },
  {
   "cell_type": "markdown",
   "metadata": {},
   "source": [
    "### Solution\n",
    "\n",
    "$$ \\int_a^b e^{-5x^2} dx \\approx \\frac{b-a}{n} \\sum^n_{i=1} \\frac{e^{-5x_{i-1}^2} + e^{-5x_i^2}}{2}, $$\n",
    "\n",
    "where $x_i = a + i * \\frac{b-a}{n}$"
   ]
  },
  {
   "cell_type": "markdown",
   "metadata": {},
   "source": [
    "### Problem (b)\n",
    "\n",
    "Write a function in Python to calculate this approximation with $n$ iterations."
   ]
  },
  {
   "cell_type": "markdown",
   "metadata": {},
   "source": [
    "### Solution"
   ]
  },
  {
   "cell_type": "code",
   "execution_count": null,
   "metadata": {},
   "outputs": [],
   "source": [
    "import math\n",
    "\n",
    "def fx(x: float) -> float:\n",
    "    \"\"\"Calculate the value of the function we are integrating\n",
    "\n",
    "    Parameters\n",
    "    ----------\n",
    "    x : float\n",
    "        the independent variable of the function f(x)\n",
    "    \n",
    "    Returns\n",
    "    -------\n",
    "    float\n",
    "        the output of the function f(x)\n",
    "    \"\"\"\n",
    "    return math.exp(-5 * x**2)"
   ]
  },
  {
   "cell_type": "code",
   "execution_count": null,
   "metadata": {},
   "outputs": [],
   "source": [
    "def trapz_approx(fx, a: float, b: float, n: int) -> float:\n",
    "    \"\"\"Approximate the integral of the function fx from\n",
    "    a to b using the trapezoidal rule with n subintervals\n",
    "\n",
    "    Parameters\n",
    "    ----------\n",
    "    fx : function\n",
    "        the function of the integrand\n",
    "    a : float\n",
    "        the lower limit of integration\n",
    "    b : float\n",
    "        the upper limit of integration\n",
    "    n : int\n",
    "        the number of subintervals\n",
    "    \n",
    "    Returns\n",
    "    -------\n",
    "    float\n",
    "        the approximate value of the integral\n",
    "    \"\"\"\n",
    "    area = 0\n",
    "    width = (b - a) / n\n",
    "    for i in range(1, n+1):\n",
    "        xi = a + i * width\n",
    "        xi_1 = a + (i - 1) * width\n",
    "        area += (fx(xi) + fx(xi_1)) / 2\n",
    "    return area * width"
   ]
  },
  {
   "cell_type": "code",
   "execution_count": null,
   "metadata": {},
   "outputs": [
    {
     "data": {
      "text/plain": [
       "0.3963327295482415"
      ]
     },
     "execution_count": 5,
     "metadata": {},
     "output_type": "execute_result"
    }
   ],
   "source": [
    "a = 0\n",
    "b = 2\n",
    "n = 10\n",
    "int_val = trapz_approx(fx, a, b, n)\n",
    "int_val"
   ]
  },
  {
   "cell_type": "code",
   "execution_count": null,
   "metadata": {},
   "outputs": [
    {
     "name": "stdout",
     "output_type": "stream",
     "text": [
      "n = 1       area = 0.26549402663680444\n",
      "n = 2       area = 0.28088368339248443\n",
      "n = 3       area = 0.2836209513290063\n",
      "n = 4       area = 0.2845714935172232\n",
      "n = 5       area = 0.2850101692876117\n",
      "n = 10      area = 0.285593813518195\n",
      "n = 100     area = 0.2857861028178006\n",
      "n = 1000    area = 0.28578802492870886\n",
      "n = 10000   area = 0.28578804414973974\n"
     ]
    }
   ],
   "source": [
    "a = -0.1\n",
    "b = 0.2\n",
    "for n in [1, 2, 3, 4, 5, 10, 100, 1000, 10000]:\n",
    "    int_val = trapz_approx(fx, a, b, n)\n",
    "    print(f\"n = {n:<7} area = {int_val}\")"
   ]
  },
  {
   "cell_type": "markdown",
   "metadata": {},
   "source": [
    "### Problem (c)\n",
    "\n",
    "Use the trapezoidal rules and determine the number of iterations to obtain the accuracy of the approximation up to 5 significant digits. Notice that the error can be estimated by\n",
    "\n",
    "$$ E_n \\leq \\frac{M(b-a)^3}{12n^2}, $$\n",
    "\n",
    "where $M$ is the maximum value of the second derivative $f''(x)$ on $[a,b]$."
   ]
  },
  {
   "cell_type": "markdown",
   "metadata": {},
   "source": [
    "### Solution\n",
    "\n",
    "To begin, let's find $f''(x)$:\n",
    "\n",
    "$$ \n",
    "\\begin{align*}\n",
    "    f(x) &= e^{-5x^2} \\\\\n",
    "    f'(x) &= -10xe^{-5x^2} \\\\\n",
    "    f''(x) &= -10e^{-5x^2} + 100x^2e^{-5x^2}\n",
    "\\end{align*}\n",
    "$$\n",
    "\n",
    "We know that the maximum value of $M$ on the interval $[a,b]$ will occur either on the bounds ($a$ or $b$) or a critical point. To find these critical points, we must first find $f^{(3)}(x)$:\n",
    "\n",
    "$$ f^{(3)}(x) = 300xe^{-5x^2} - 1000x^3e^{-5x^2} = 100xe^{-5x^2}(3 - 10x^2) $$\n",
    "\n",
    "Solving for $x$ when $f^{(3)}(x) = 0$ yields the critical points. Since $100xe^{-5x^2}$ is $0$ only when $x=0$, we can solve for the other critical points:\n",
    "\n",
    "$$\n",
    "\\begin{align*}\n",
    "    3 - 10x^2 &= 0 \\\\\n",
    "    x^2 &= 0.3 \\\\\n",
    "    x &= \\pm \\sqrt{0.3} \n",
    "\\end{align*}\n",
    "$$\n",
    "\n",
    "To determine which of these critical points are maximums, we must find $f^{(4)}(x)$:\n",
    "\n",
    "$$ f^{(4)}(x) = 300e^{-5x^2} - 6000x^2e^{-5x^2} + 10000x^4e^{-5x^2} = 100e^{-5x^2}(3 - 60x^2 + 100x^4) $$\n",
    "\n",
    "Now, we can use the second derivative test to classify these critical points:\n",
    "\n",
    "$$ f^{(4)}(0) = 100e^{-5(0)^2}(3 - 60(0)^2 + 100(0)^4) = 300 $$\n",
    "\n",
    "Since $f^{(4)}(0) > 0$, $0$ is a local minimum.\n",
    "\n",
    "$$ f^{(4)}(\\sqrt{0.3}) = 100e^{-5(\\sqrt{0.3})^2}(3 - 60(\\sqrt{0.3})^2 + 100(\\sqrt{0.3})^4) \\approx -133.88 $$\n",
    "\n",
    "Since $f^{(4)}(\\sqrt{0.3}) < 0$, $\\sqrt{0.3}$ is a local maximum.\n",
    "\n",
    "$$ f^{(4)}(-\\sqrt{0.3}) = 100e^{-5(-\\sqrt{0.3})^2}(3 - 60(-\\sqrt{0.3})^2 + 100(-\\sqrt{0.3})^4) \\approx -133.88 $$\n",
    "\n",
    "Since $f^{(4)}(-\\sqrt{0.3}) < 0$, $-\\sqrt{0.3}$ is a local maximum.\n",
    "\n",
    "Evaluating $f''(x)$ at the $-\\sqrt{0.3}$ and $\\sqrt{0.3}$ yields the following:\n",
    "\n",
    "$$ f''(-\\sqrt{0.3}) = -10e^{-5(-\\sqrt{0.3})^2} + 100(-\\sqrt{0.3})^2e^{-5(-\\sqrt{0.3})^2} = -10e^{-1.5} + 30e^{-1.5} = 20e^{-1.5} \\approx 4.46 $$\n",
    "\n",
    "Similarly, we can evaluate the maximum at $\\sqrt{0.3}$:\n",
    "\n",
    "$$ f''(\\sqrt{0.3}) = -10e^{-5(\\sqrt{0.3})^2} + 100(\\sqrt{0.3})^2e^{-5(\\sqrt{0.3})^2} = -10e^{-1.5} + 30e^{-1.5} = 20e^{-1.5} \\approx 4.46 $$\n",
    "\n",
    "Therefore, we can see that $M$ can be calculated as such:\n",
    "\n",
    "$$\n",
    "M = \n",
    "\\begin{cases}\n",
    "    20e^{-1.5}, & \\text{if } \\sqrt{0.3} \\text{ or }  -\\sqrt{0.3} \\in [a,b] \\\\\n",
    "    \\text{max}\\{f''(a), f''(b)\\}, & \\text{otherwise}\n",
    "\\end{cases}\n",
    "$$\n",
    "\n",
    "To find the number of iterations needed for 5 significant digits, we can solve for $n$ given $a$ and $b$:\n",
    "\n",
    "$$\n",
    "\\begin{align*}\n",
    "    0.5 \\times 10^{-5} &= \\frac{M(b-a)^3}{12n^2} \\\\\n",
    "    n^2 &= \\frac{M(b-a)^3}{12(0.5 \\times 10^{-5})} \\\\\n",
    "    n &= \\sqrt{\\frac{M(b-a)^3}{6 \\times 10^{-5}}}\n",
    "\\end{align*}\n",
    "$$"
   ]
  },
  {
   "cell_type": "code",
   "execution_count": null,
   "metadata": {},
   "outputs": [
    {
     "name": "stdout",
     "output_type": "stream",
     "text": [
      "0.3963327296599239\n"
     ]
    }
   ],
   "source": [
    "import math\n",
    "\n",
    "a = 0\n",
    "b = 2\n",
    "\n",
    "if a <= 0.3**0.5 <= b or a <= -(0.3)**0.5 <= b:\n",
    "    m = 20 * math.exp(-1.5)\n",
    "else:\n",
    "    fa = -10 * math.exp(-5 * a**2) + 100 * a**2 * math.exp(-5 * a**2)\n",
    "    fb = -10 * math.exp(-5 * b**2) + 100 * b**2 * math.exp(-5 * b**2)\n",
    "    m = max(fa, fb)\n",
    "\n",
    "n = int(((m * (b - a)**3) / (6 * 10**-5))**0.5)\n",
    "\n",
    "new_approx = trapz_approx(fx, a, b, n)\n",
    "print(f'{new_approx:0.16f}')"
   ]
  },
  {
   "cell_type": "markdown",
   "metadata": {},
   "source": [
    "## Exercise 2 - Simpson's Rules for Numerical Integrations\n",
    "\n",
    "Consider the integral\n",
    "\n",
    "$$ \\int_0^\\pi \\text{sin}(e^x) dx $$"
   ]
  },
  {
   "cell_type": "markdown",
   "metadata": {},
   "source": [
    "### Problem (a)\n",
    "\n",
    "Determine the number of iterations $n$ to obtain the accuracy of the Simpson's approximation up to 5 significant digits. Notice the error can be estimated by\n",
    "\n",
    "$$ E_n \\leq \\frac{M(b-a)^5}{180n^4}, $$\n",
    "\n",
    "where $M$ is the maximum value of the 4th derivative $f^{(4)}(x)$ on $[a,b]$."
   ]
  },
  {
   "cell_type": "markdown",
   "metadata": {},
   "source": [
    "### Solution\n",
    "\n",
    "We can rewrite the error equation to calculate $n$:\n",
    "\n",
    "$$\n",
    "\\begin{align*}\n",
    "    0.5 \\times 10^{-5} &= \\frac{M(b-a)^5}{180n^4} \\\\\n",
    "    n^4 &= \\frac{M(b-a)^5}{180(0.5 \\times 10^{-5})} \\\\\n",
    "    n &= \\left[\\frac{M(b-a)^5}{180(0.5 \\times 10^{-5})}\\right]^\\frac{1}{4}\n",
    "\\end{align*}\n",
    "$$"
   ]
  },
  {
   "cell_type": "code",
   "execution_count": null,
   "metadata": {},
   "outputs": [],
   "source": [
    "from sympy import symbols\n",
    "\n",
    "def simpson_approx(fx, a: float, b: float, n: int) -> float:\n",
    "    \"\"\"Approximate the integral of the function fx from\n",
    "    a to b using Simpson's rules with n subintervals\n",
    "\n",
    "    Parameters\n",
    "    ----------\n",
    "    fx : sympy function\n",
    "        the function of the integrand\n",
    "    a : float\n",
    "        the lower limit of integration\n",
    "    b : float\n",
    "        the upper limit of integration\n",
    "    n : int\n",
    "        the number of subintervals\n",
    "    \n",
    "    Returns\n",
    "    -------\n",
    "    float\n",
    "        the approximate value of the integral\n",
    "    \"\"\"\n",
    "    x = symbols('x')\n",
    "    width = (b - a) / n\n",
    "    odd_sum = even_sum = 0\n",
    "\n",
    "    # Odd sum\n",
    "    for i in range(1, n, 2):\n",
    "        odd_sum += fx.subs(x, a + i * width)\n",
    "\n",
    "    # Even sum\n",
    "    for i in range(2, n-1, 2):\n",
    "        even_sum += fx.subs(x, a + i * width)\n",
    "\n",
    "    return (width / 3) * (fx.subs(x, a) + 4 * odd_sum + 2 * even_sum + fx.subs(x, b))"
   ]
  },
  {
   "cell_type": "code",
   "execution_count": null,
   "metadata": {},
   "outputs": [
    {
     "name": "stdout",
     "output_type": "stream",
     "text": [
      "0.6440047893515440\n"
     ]
    }
   ],
   "source": [
    "import math\n",
    "from sympy import symbols, diff, sin, exp\n",
    "\n",
    "x = symbols('x')\n",
    "sin_exp = sin(exp(x))\n",
    "a, b = 0, math.pi\n",
    "\n",
    "# Calculate M\n",
    "f_4 = diff(sin_exp, x, 4)\n",
    "f_4a = float(abs(f_4.subs(x, a)))\n",
    "f_4b = float(abs(f_4.subs(x, b)))\n",
    "m = max(f_4a, f_4b)\n",
    "\n",
    "n = int(((m * (b - a)**5) / (180 * 0.5 * 10**-5))**0.25)\n",
    "if n % 2 == 1:\n",
    "    n += 1\n",
    "\n",
    "int_val = simpson_approx(sin_exp, a, b, n)\n",
    "print(f\"{int_val:0.16f}\")"
   ]
  }
 ],
 "metadata": {
  "kernelspec": {
   "display_name": "math311",
   "language": "python",
   "name": "python3"
  },
  "language_info": {
   "codemirror_mode": {
    "name": "ipython",
    "version": 3
   },
   "file_extension": ".py",
   "mimetype": "text/x-python",
   "name": "python",
   "nbconvert_exporter": "python",
   "pygments_lexer": "ipython3",
   "version": "3.10.13"
  }
 },
 "nbformat": 4,
 "nbformat_minor": 2
}