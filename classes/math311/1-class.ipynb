{
 "cells": [
  {
   "cell_type": "markdown",
   "metadata": {},
   "source": [
    "# 1 - Intro to Python"
   ]
  },
  {
   "cell_type": "markdown",
   "metadata": {},
   "source": [
    "## 2 - Pseudocode\n",
    "\n",
    "At its core, pseudocode is the ability to represent 6 programming constructs:\n",
    "- `SEQUENCE` represents linear tasks performed sequentially\n",
    "- `WHILE` is a loop with a condition at its beginning\n",
    "- `REPEAT-UNTIL` is a loop with a condition at the bottom\n",
    "- `FOR` is another way of looping\n",
    "- `IF-THEN-ELSE` is a conditional statement changing the flow of an algorithm\n",
    "- `CASE` is the generalization form of `IF-THEN-ELSE`\n",
    "\n",
    "To write pseudocode, follow this process:\n",
    "1. Always capitalize the initial word (often one of the 6 main constructs)\n",
    "2. Make only one statement per line\n",
    "3. Indent to show hierarchy, improve readability, and show nested constructs\n",
    "4. Always end multi-line sections an `END` keyword (`ENDIF`, `ENDWHILE`, etc.)\n",
    "5. Keep your statements programming language independent\n",
    "6. Use the naming domain of the problem, not that of the implementation (e.g. \"Append the last name to the first name\" rather than \"name = first + last\")\n",
    "7. Keep it simple, precise, and readable\n",
    "\n",
    "```\n",
    "BEGIN\n",
    "    READ time (t)\n",
    "    READ initial velocity (v0)\n",
    "    READ gravity acceleration (g = 9.81)\n",
    "\n",
    "    COMPUTE height as -0.5 * g * t^2 + v0 * t\n",
    "\n",
    "    DISPLAY height\n",
    "END\n",
    "```"
   ]
  },
  {
   "cell_type": "markdown",
   "metadata": {},
   "source": [
    "## 3 - PEP 8 Style Guide for Python Code"
   ]
  },
  {
   "cell_type": "code",
   "execution_count": 2,
   "metadata": {},
   "outputs": [
    {
     "name": "stdout",
     "output_type": "stream",
     "text": [
      "['False', 'None', 'True', 'and', 'as', 'assert', 'async', 'await', 'break', 'class', 'continue', 'def', 'del', 'elif', 'else', 'except', 'finally', 'for', 'from', 'global', 'if', 'import', 'in', 'is', 'lambda', 'nonlocal', 'not', 'or', 'pass', 'raise', 'return', 'try', 'while', 'with', 'yield']\n"
     ]
    }
   ],
   "source": [
    "import keyword\n",
    "\n",
    "print(keyword.kwlist)"
   ]
  },
  {
   "cell_type": "markdown",
   "metadata": {},
   "source": [
    "The following naming conventions are generally followed:\n",
    "- lowercase_with_underscores for variable names\n",
    "- UPPERCASE_WITH_UNDERSCORES for constants\n",
    "- CaptitalizedWords for class names"
   ]
  }
 ],
 "metadata": {
  "kernelspec": {
   "display_name": "math311",
   "language": "python",
   "name": "python3"
  },
  "language_info": {
   "codemirror_mode": {
    "name": "ipython",
    "version": 3
   },
   "file_extension": ".py",
   "mimetype": "text/x-python",
   "name": "python",
   "nbconvert_exporter": "python",
   "pygments_lexer": "ipython3",
   "version": "3.10.13"
  }
 },
 "nbformat": 4,
 "nbformat_minor": 2
}
