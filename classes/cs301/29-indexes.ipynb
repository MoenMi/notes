{
 "cells": [
  {
   "cell_type": "markdown",
   "metadata": {},
   "source": [
    "# 29 - Indexes"
   ]
  },
  {
   "cell_type": "markdown",
   "metadata": {},
   "source": [
    "## Physical Database Design\n",
    "\n",
    "- Primary file organization\n",
    "    - Unsorted\n",
    "    - Sorted\n",
    "    - Hashed\n",
    "- Auxiliary access structures (Indexes)\n",
    "    - Single-level indexes\n",
    "    - Multilevel indexes (B+ trees)\n",
    "    - Hash indexes\n",
    "    - Bitmap indexes\n",
    "\n",
    "A **page** in a database can contain one or more rows of the database. Pages from a table can be stored anywhere on a disk, meaning that they may be scattered on the disk or right next to each other. In order to retrieve this data, we must access the hard disk."
   ]
  },
  {
   "cell_type": "markdown",
   "metadata": {},
   "source": [
    "## Index Basics\n",
    "\n",
    "### Why Use an Index?\n",
    "\n",
    "What if you want to retrieve a record where key = some value? Instead of reading the entire file until the value is found, it would be nice if we had a pointer to that employee, record, and document.\n",
    "\n",
    "Indexes are also useful when performing joins in the relational model.\n",
    "\n",
    "Indexes allow us to improve performance by minimizing the amount of data read and the number of disk accesses.\n",
    "\n",
    "### What Is an Index?\n",
    "\n",
    "An **index** is itself an ordered file. The index file is physically ordered on disk by the key field. The index file has records of fixed length, containing a key field Ki and a pointer to the data Pi: <Ki, Pi>."
   ]
  },
  {
   "cell_type": "markdown",
   "metadata": {},
   "source": [
    "## Single Level Index Files\n",
    "\n",
    "### Primary Index\n",
    "\n",
    "**Primary indexes** have the index on the ordering key field of an ordered file of records.\n",
    "\n",
    "Ki represents the value of the primary key for the first record in a block.\n",
    "\n",
    "Pi represents the physical address of a block (or page).\n",
    "\n",
    "<br>\n",
    "\n",
    "```{image} images/29-1.png\n",
    ":width: 400px\n",
    ":align: center\n",
    "```\n",
    "\n",
    "### Clustering Index\n",
    "\n",
    "**Clustering indexes** index on the ordering field that is not a key field.\n",
    "\n",
    "<br>\n",
    "\n",
    "```{image} images/29-2.png\n",
    ":width: 400px\n",
    ":align: center\n",
    "```\n",
    "\n",
    "### Secondary Index\n",
    "\n",
    "<br>\n",
    "\n",
    "```{image} images/29-3.png\n",
    ":width: 400px\n",
    ":align: center\n",
    "```"
   ]
  },
  {
   "cell_type": "markdown",
   "metadata": {},
   "source": []
  }
 ],
 "metadata": {
  "language_info": {
   "name": "python"
  }
 },
 "nbformat": 4,
 "nbformat_minor": 2
}