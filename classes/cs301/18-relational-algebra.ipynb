{
 "cells": [
  {
   "cell_type": "markdown",
   "metadata": {},
   "source": [
    "# 18 - Relational Algebra"
   ]
  },
  {
   "cell_type": "markdown",
   "metadata": {},
   "source": [
    "## Overview\n",
    "\n",
    "**Relational algebra** defines the basic set of operations for the relational model.\n",
    "- The result of an operation is a *new relation*, which may have been formed from one or more *input* relations"
   ]
  },
  {
   "cell_type": "markdown",
   "metadata": {},
   "source": [
    "## Database Schema for Company\n",
    "\n",
    "```{image} images/company_database_schema.png\n",
    ":width: 450px\n",
    ":align: center\n",
    "```\n",
    "<br>\n",
    "```{image} images/company_database_state.png\n",
    ":width: 450px\n",
    ":align: center\n",
    "```"
   ]
  },
  {
   "cell_type": "markdown",
   "metadata": {},
   "source": [
    "## Unary Relational Operations"
   ]
  },
  {
   "cell_type": "markdown",
   "metadata": {},
   "source": [
    "### SELECT\n",
    "\n",
    "The **SELECT** operation &sigma; is used to select a *subset* of the tuples from a relation based on a **selection condition**.\n",
    "- The selection condition acts as a **filter**, getting rid of all tuples that don't meet the condition\n",
    "\n",
    "In general, the SELECT operation is denoted by &sigma;<sub>&lt;selection condition&gt;</sub>(R)\n",
    "\n",
    "#### Examples\n",
    "\n",
    "- Select the EMPLOYEE tuples whose department number is 4:\n",
    "\n",
    "<center>&sigma;<sub>Dno=4</sub>(EMPLOYEE)</center>\n",
    "\n",
    "- Select the employee tuples whose salary is greater than $30,000:\n",
    "\n",
    "<center>&sigma;<sub>Salary>30000</sub>(EMPLOYEE)</center>\n",
    "\n",
    "#### Properties\n",
    "\n",
    "- The SELECT operation &sigma;<sub>&lt;selection condition&gt;</sub> produces a relation S that has the same schema (attributes) as R.\n",
    "\n",
    "- SELECT is commutative:\n",
    "\n",
    "<center>&sigma;<sub>&lt;cond1&gt;</sub>(&sigma;<sub>&lt;cond2&gt;</sub>(R)) = &sigma;<sub>&lt;cond2&gt;</sub>(&sigma;<sub>&lt;cond1&gt;</sub>(R))</center>\n",
    "\n",
    "- A cascade of SELECT operations may be replaced by a single selection with a conjunction of all the conditions:\n",
    "\n",
    "<center>&sigma;<sub>&lt;cond1&gt;</sub>(&sigma;<sub>&lt;cond2&gt;</sub>(&sigma;<sub>&lt;cond3&gt;</sub>(R))) = &sigma;<sub>&lt;cond1&gt; AND &lt;cond2&gt; AND &lt;cond3&gt;</sub>(R)</center>"
   ]
  },
  {
   "cell_type": "markdown",
   "metadata": {},
   "source": [
    "### PROJECT\n",
    "\n",
    "The PROJECT operation &pi; keeps columns (attributes) from a relation and discards the other columns.\n",
    "\n",
    "In general, the PROJECT operation is denoted by &pi;<sub>&lt;attribute list&gt;</sub>(R)\n",
    "\n",
    "The PROJECT operation removes any duplicates, since it must return a set of tuples.\n",
    "\n",
    "#### Examples\n",
    "\n",
    "- List each employee’s first and last name and salary:\n",
    "\n",
    "<center>&pi;<sub>Fname,Lname,Salary</sub>(EMPLOYEE)</center>\n",
    "\n",
    "#### Properties\n",
    "\n",
    "- The number of tuples in the result of a projection is less than or equal to the number in the original relation.\n",
    "\n",
    "- PROJECT is not commutative"
   ]
  },
  {
   "cell_type": "markdown",
   "metadata": {},
   "source": [
    "### RENAME\n",
    "\n",
    "The **RENAME** operator &rho; is used rename the attributes and/or name of a relation.\n",
    "\n",
    "The RENAME operation can take any of the following forms:\n",
    "\n",
    "- &rho;<sub>S(B1,B2,...,Bn)</sub>(R) changes the relation name to S and the attribute names to B1, B2, ... Bn.\n",
    "\n",
    "- &rho;<sub>S</sub>(R) changes the relation name to S.\n",
    "\n",
    "- &rho;<sub>(B1,B2,...,Bn)</sub>(R) changes the attribute names to B1, B2, ... Bn"
   ]
  },
  {
   "cell_type": "markdown",
   "metadata": {},
   "source": [
    "### Relational Algebra Expressions with Multiple Operations\n",
    "\n",
    "Suppose we want to apply several relational algebra operations consecutively. We have 2 options:\n",
    "- Write as a single expression by nesting the operations\n",
    "- Apply one condition at a time using **intermediate result relation**\n",
    "\n",
    "#### Example\n",
    "\n",
    "Retrieve the first name, last name, and salary of all employees who work in department number 5:\n",
    "\n",
    "- Using nested operations:\n",
    "\n",
    "<center>&pi;<sub>Fname,Lname,Salary</sub>(&sigma;<sub>Dno=5</sub>(EMPLOYEE))</center>\n",
    "\n",
    "- Using intermediate relations:\n",
    "\n",
    "<center>DEP5_EMPS &leftarrow; &sigma;<sub>Dno=5</sub>(EMPLOYEE)</center>\n",
    "<center>RESULT &leftarrow; &pi;<sub>Fname,Lname,Salary</sub>(DEP5_EMPS)</center>"
   ]
  },
  {
   "cell_type": "markdown",
   "metadata": {},
   "source": [
    "## Relational Algebra Operations from Set Theory"
   ]
  },
  {
   "cell_type": "markdown",
   "metadata": {},
   "source": [
    "### UNION\n",
    "\n",
    "The UNION operator &cup; returns a relation that includes all tuples that are in either of its two operands. Duplicate tuples are eliminated. The two operands must have the same number of attributes and have compatible domains.\n",
    "\n",
    "#### Example\n",
    "\n",
    "Retrieve the social security numbers of all employees who either work in department 5 (RESULT1 below) or directly supervise an employee who works in department 5 (RESULT2 below):\n",
    "\n",
    "<center>DEP5_EMPS &leftarrow; &sigma;<sub>Dno=5</sub>(EMPLOYEE)</center>\n",
    "\n",
    "<center>RESULT1 &leftarrow; &pi;<sub>Ssn</sub>(DEP5_EMPS)</center>\n",
    "\n",
    "<center>RESULT2 &leftarrow; &pi;<sub>Superssn</sub>(EP5_EMPS)</center>\n",
    "\n",
    "<center>RESULT &leftarrow; RESULT1 &cup; RESULT2</center>\n",
    "<br>\n",
    "\n",
    "```{image} images/figure8-3.jpg\n",
    ":width: 500px\n",
    ":align: center\n",
    "```"
   ]
  },
  {
   "cell_type": "markdown",
   "metadata": {},
   "source": [
    "### INTERSECTION\n",
    "\n",
    "The INTERSECTION operation &cap; returns all tuples that are in both operand relations."
   ]
  },
  {
   "cell_type": "markdown",
   "metadata": {},
   "source": [
    "### SET DIFFERENCE\n",
    "\n",
    "The SET DIFFERENCE (or MINUS or EXCEPT) operation - returns all tuples that are in the first operand but not the second."
   ]
  },
  {
   "cell_type": "markdown",
   "metadata": {},
   "source": [
    "### CARTESIAN PRODUCT\n",
    "\n",
    "The CARTESIAN (or CROSS) PRODUCT operation x combines tuples from two relations in a combinatorial fashion.\n",
    "\n",
    "The resulting relation has n + m attributes: R(A1, A2, ..., An) x S(B1, B2, ..., Bn) = Q(A1, A2, ..., An, B1, B2, ..., Bn)\n",
    "\n",
    "The operands do not have to be type compatible."
   ]
  },
  {
   "cell_type": "markdown",
   "metadata": {},
   "source": [
    "### Type Compatibility for Set Operations\n",
    "\n",
    "R1(A1, A2, ..., An) and R2(B1, B2, ..., Bn) are **type compatible** if:\n",
    "- They have the same number of attributes and\n",
    "- The domains of the corresponding attributes are type compatible (same domains)\n",
    "\n",
    "Type compatibility is required for UNION &cup;, INTERSECTION &cap;, and SET DIFFERENCE -.\n",
    "\n",
    "By convention, the relation resulting from R&cup;S has the attributes of R."
   ]
  }
 ],
 "metadata": {
  "language_info": {
   "name": "python"
  }
 },
 "nbformat": 4,
 "nbformat_minor": 2
}
