{
 "cells": [
  {
   "cell_type": "markdown",
   "metadata": {},
   "source": [
    "# 25 - NoSQL Databases"
   ]
  },
  {
   "cell_type": "markdown",
   "metadata": {},
   "source": [
    "## Key-Value Stores\n",
    "\n",
    "- Key-value stores focus on high performance, availability, and scalability\n",
    "    - Can store structured, semi-structured, and unstructured data\n",
    "- **Key**: unique identifier associated with a data item\n",
    "    - Used for fast retrieval\n",
    "- **Value**: the data item itself\n",
    "    - Can be string or array of bytes\n",
    "    - Application interprets the structure\n",
    "- No query language\n",
    "\n",
    "### DynamoDB\n",
    "\n",
    "- DynamoDB is an AWS service\n",
    "- **Table** holds a collection of self-describing items\n",
    "- **Item** consists of attribute-value pairs\n",
    "    - **Attribute** values can be single or multi-valued\n",
    "- **Primary key** used to locate items within a table\n",
    "    - Can be a single attribute or pair of attributes\n",
    "\n",
    "### Voldemort\n",
    "\n",
    "- Voldemort is an open-source key-value system similar to DynamoDB\n",
    "- Features\n",
    "    - Simple basic operations (get, put, delete)\n",
    "    - High-level formatted data values\n",
    "    - Consistent hashing for distributing (key, value) pairs\n",
    "    - Consistency and versioning\n",
    "        - Concurrent writes allowed\n",
    "        - Each write associated with a vector clock\n",
    "\n",
    "### Consistent Hashing\n",
    "\n",
    "**Consistent hashing** is a distributed hashing scheme that operates independently of the number of servers or objects in a distributed hash table."
   ]
  },
  {
   "cell_type": "markdown",
   "metadata": {},
   "source": [
    "## Graph Databases\n",
    "\n",
    "In a **graph database**, data is stored as a collection of verticies (nodes) and edges. It is possible to store data on both edges and verticies.\n",
    "\n",
    "### Neo4j\n",
    "\n",
    "**Neo4j** is an open-source graph database system.\n",
    "- Nodes can have zero, one, or several labels (types)\n",
    "- Both nodes and relationships can have properties\n",
    "- Each relationship has a start node, end node, and relationship type\n",
    "- Properties specified using a map (key-value) pattern\n",
    "- Somewhat similar to ER/EER concepts\n",
    "\n",
    "Creating Nodes in Neo4j\n",
    "- CREATE command\n",
    "- Part of high-level declarative query language Cypher\n",
    "- Node label can be specified when a node is created\n",
    "- Properties are enclosed in curly brackets\n",
    "\n",
    "#### Examples\n",
    "\n",
    "Creating nodes\n",
    "- `CREATE (e1:EMPLOYEE, {Empid:'1', Lname:'Smith', Fname:'John', Minit:'B'})`\n",
    "- `CREATE (e1:EMPLOYEE, {Empid:'2', Lname:'Wong', Fname:'Franklin', Minit:'B'})`\n",
    "- `CREATE (e1:EMPLOYEE, {Empid:'3', Lname:'Zelaya', Fname:'Alicia', Minit:'B'})`\n",
    "- `CREATE (e1:EMPLOYEE, {Empid:'4', Lname:'Wallace', Fname:'Jennifer', Minit:'S'})`\n",
    "\n",
    "Creating relationships\n",
    "- `CREATE (e1)-[:WorksFor]->(d1)`\n",
    "- `CREATE (e3)-[:WorksFor]->(d2)`\n",
    "- `CREATE (d1)-[:Manager]->(e2)`\n",
    "- `CREATE (d2)-[:Manager]->(e4)`"
   ]
  }
 ],
 "metadata": {
  "language_info": {
   "name": "python"
  }
 },
 "nbformat": 4,
 "nbformat_minor": 2
}