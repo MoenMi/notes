{
 "cells": [
  {
   "cell_type": "markdown",
   "metadata": {},
   "source": [
    "# 26 - MongoDB"
   ]
  },
  {
   "cell_type": "markdown",
   "metadata": {},
   "source": [
    "## Document Stores\n",
    "\n",
    "**Documents** encapsulate and encode data in some standard formats or encodings. These encodings include:\n",
    "- JSON and XML\n",
    "- Binary forms like BSON, PDF, and Microsoft Office documents\n",
    "\n",
    "Documents are good for storing semi-structured data, but only okay structured and unstructured data.\n",
    "\n",
    "Document stores are similar to key-value stores, but provide more functionality. They recognize the structure of the objects stored in the database, and these objects are grouped into collections. Document stores have simple query mechanisms to search collections for attribute values.\n",
    "\n",
    "### Structure of Document Stores\n",
    "\n",
    "- **Collections** correspond to tables in RDBS\n",
    "- **Documents** correspond to rows in RDBS\n",
    "- **Field** corresponds to attributes in RDBS\n",
    "    - However, not all documents in a collection have the same attributes\n",
    "- Documents are addressed in a database via a unique key\n",
    "- Allows beyond the simple key-value lookup (think nested lists and dictionaries in JSON)\n",
    "- APIs and query languages allow retrieval of documents based on their fields"
   ]
  },
  {
   "cell_type": "markdown",
   "metadata": {},
   "source": [
    "## MongoDB Overview\n",
    "\n",
    "MongoDB is the product of a company. Its name comes from huMONGOus."
   ]
  }
 ],
 "metadata": {
  "language_info": {
   "name": "python"
  }
 },
 "nbformat": 4,
 "nbformat_minor": 2
}
