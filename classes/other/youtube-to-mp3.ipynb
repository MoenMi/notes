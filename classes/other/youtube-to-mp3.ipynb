{
 "cells": [
  {
   "cell_type": "code",
   "execution_count": 10,
   "metadata": {},
   "outputs": [],
   "source": [
    "import youtube_dl\n",
    "\n",
    "def download_yt_as_mp3(url: str, filename: str):\n",
    "\n",
    "    video_info = youtube_dl.YoutubeDL().extract_info(url=url, download=False)\n",
    "    options = {\n",
    "        'format': 'bestaudio/best',\n",
    "        'preferredcodec': 'mp3',\n",
    "        'keepVideo': False,\n",
    "        'outtmpl': filename\n",
    "    }\n",
    "\n",
    "    with youtube_dl.YoutubeDL(options) as ydl:\n",
    "        ydl.download([video_info['webpage_url']])"
   ]
  },
  {
   "cell_type": "code",
   "execution_count": 11,
   "metadata": {},
   "outputs": [
    {
     "name": "stdout",
     "output_type": "stream",
     "text": [
      "[youtube:tab] Downloading playlist PLsy_JGu0HX6SPhWBmL2EQf0CwxIngDMuA - add --no-playlist to just download video ru2vcBvSDok\n",
      "[youtube:tab] PLsy_JGu0HX6SPhWBmL2EQf0CwxIngDMuA: Downloading webpage\n",
      "[youtube] ru2vcBvSDok: Downloading webpage\n",
      "[youtube] ru2vcBvSDok: Downloading webpage\n",
      "[download] Destination: millstone.mp3\n",
      "[download] 100% of 4.04MiB in 01:12                 \n"
     ]
    }
   ],
   "source": [
    "url = 'https://www.youtube.com/watch?v=ru2vcBvSDok&list=PLsy_JGu0HX6SPhWBmL2EQf0CwxIngDMuA'\n",
    "filename = 'millstone.mp3'\n",
    "\n",
    "download_yt_as_mp3(url, filename)"
   ]
  }
 ],
 "metadata": {
  "kernelspec": {
   "display_name": "notes_env",
   "language": "python",
   "name": "python3"
  },
  "language_info": {
   "codemirror_mode": {
    "name": "ipython",
    "version": 3
   },
   "file_extension": ".py",
   "mimetype": "text/x-python",
   "name": "python",
   "nbconvert_exporter": "python",
   "pygments_lexer": "ipython3",
   "version": "3.12.0"
  }
 },
 "nbformat": 4,
 "nbformat_minor": 2
}
