{
 "cells": [
  {
   "cell_type": "markdown",
   "metadata": {},
   "source": [
    "# Congress\\.gov API in Python\n",
    "\n",
    "by Sebastian Shirk\n",
    "\n",
    "**Congress\\.gov:** https://www.congress.gov\n",
    "\n",
    "**API Documentation:** https://api.congress.gov\n",
    "\n",
    "**API GitHub:** https://github.com/LibraryOfCongress/api.congress.gov/\n",
    "\n",
    "**Reuse Policy and More Info:** https://www.loc.gov/legal\n",
    "\n",
    "*These recipe examples were tested on August 6, 2024.*"
   ]
  },
  {
   "cell_type": "markdown",
   "metadata": {},
   "source": [
    "## Setup\n",
    "\n",
    "### Import Libraries"
   ]
  },
  {
   "cell_type": "code",
   "execution_count": 12,
   "metadata": {},
   "outputs": [],
   "source": [
    "import requests\n",
    "import time\n",
    "from pprint import pprint"
   ]
  },
  {
   "cell_type": "markdown",
   "metadata": {},
   "source": [
    "### API Key\n",
    "\n",
    "For this API you need an API key. You can get one by signing up for free at https://api.data.gov/signup/.<br>\\\n",
    "Save your API key in a file called `api_key.py` and import your key. We will also use a `BASE_URL` constant for the API."
   ]
  },
  {
   "cell_type": "code",
   "execution_count": 2,
   "metadata": {},
   "outputs": [],
   "source": [
    "from api_key import API_KEY\n",
    "BASE_URL = 'https://api.congress.gov/v3/'"
   ]
  },
  {
   "cell_type": "markdown",
   "metadata": {},
   "source": [
    "## 1. Retrieving Bill Data\n",
    "\n",
    "### Get Recent Bills\n",
    "\n",
    "Get a list of recent bills as well as their provided information. "
   ]
  },
  {
   "cell_type": "code",
   "execution_count": 6,
   "metadata": {},
   "outputs": [
    {
     "name": "stdout",
     "output_type": "stream",
     "text": [
      "Recent Bills:\n",
      "Title: DETECT Fentanyl and Xylazine Act of 2024\n",
      "Text: Placed on the Union Calendar, Calendar No. 531.\n",
      "Origin Chamber: House\n",
      "Action Date: 2024-08-23\n",
      "Update Date: 2024-08-24\n",
      "Number: 8663\n",
      "Bill Type: HR\n",
      "\n",
      "Title: Decoupling from Foreign Adversarial Battery Dependence Act\n",
      "Text: Placed on the Union Calendar, Calendar No. 530.\n",
      "Origin Chamber: House\n",
      "Action Date: 2024-08-23\n",
      "Update Date: 2024-08-24\n",
      "Number: 8631\n",
      "Bill Type: HR\n",
      "\n"
     ]
    }
   ],
   "source": [
    "def get_recent_bills(limit=2):\n",
    "    endpoint = f'bill?api_key={API_KEY}&format=json&limit={limit}'\n",
    "    response = requests.get(BASE_URL + endpoint)\n",
    "    if response.status_code == 200:\n",
    "        bills = response.json()['bills']\n",
    "        for bill in bills:\n",
    "            print(f\"Title: {bill['title']}\")\n",
    "            print(f\"Text: {bill['latestAction']['text']}\")\n",
    "            print(f\"Origin Chamber: {bill['originChamber']}\")\n",
    "            print(f\"Action Date: {bill['latestAction']['actionDate']}\")\n",
    "            print(f\"Update Date: {bill['updateDate']}\")\n",
    "            print(f\"Number: {bill['number']}\")\n",
    "            print(f\"Bill Type: {bill['type']}\")\n",
    "            print()\n",
    "    else:\n",
    "        print(\"Failed to fetch recent bills.\")\n",
    "\n",
    "print(\"Recent Bills:\")\n",
    "# get_recent_bills(limit=num)\n",
    "# limit is optional, default is 2 with a max of 250\n",
    "get_recent_bills()"
   ]
  },
  {
   "cell_type": "markdown",
   "metadata": {},
   "source": [
    "### Get Number of Bills in a Specified Time Frame\n",
    "\n",
    "Gather the number of bills that were introduced in a specified time frame as well as how many became public law.\n",
    "\n",
    "This may take a while to run when spanning over certain months, so be prepared to wait if you run this block."
   ]
  },
  {
   "cell_type": "code",
   "execution_count": 8,
   "metadata": {},
   "outputs": [
    {
     "name": "stdout",
     "output_type": "stream",
     "text": [
      "Fetching bills for 2023-2-01T00%3A00%3A00Z to 2023-2-28T23%3A59%3A59Z\n",
      "Total bills: 106\n",
      "Passed bills: 68\n"
     ]
    }
   ],
   "source": [
    "def get_bills(start_date, end_date, offset=0):\n",
    "    endpoint = f'bill?api_key={API_KEY}&format=json&fromDateTime={start_date}&toDateTime={end_date}&limit=250&offset={offset}'\n",
    "    response = requests.get(BASE_URL + endpoint)\n",
    "    if response.status_code == 200:\n",
    "        return response.json().get('bills', [])\n",
    "    else:\n",
    "        print(f\"Failed to fetch bills. Status code: {response.status_code}\")\n",
    "        return []\n",
    "\n",
    "def fetch_all_bills(start_date, end_date):\n",
    "    all_bills = []\n",
    "    offset = 0 \n",
    "    max_requests = 10000\n",
    "    request_count = 0\n",
    "    \n",
    "    while request_count < max_requests:\n",
    "        bills = get_bills(start_date, end_date, offset)\n",
    "        year = start_date.split('-')[0]\n",
    "        month = start_date.split('-')[1]\n",
    "        if not bills:\n",
    "            break\n",
    "\n",
    "        filtered_bills = []\n",
    "        for bill in bills:\n",
    "            action_date = bill.get('updateDate', {})\n",
    "            if (year not in action_date):\n",
    "                continue\n",
    "            elif not bill['latestAction']['text'].lower().startswith('became public law'):\n",
    "                filtered_bills.append(bill)\n",
    "                continue\n",
    "            else:\n",
    "                filtered_bills.append(bill)\n",
    "        \n",
    "        all_bills.extend(filtered_bills)\n",
    "        \n",
    "        if len(bills) < 250:\n",
    "            break\n",
    "        \n",
    "        offset += 250\n",
    "        request_count += 1\n",
    "        print(f\"Offset: {offset}, Total Bills Collected: {len(all_bills)}, Total Bills Passed: {sum(1 for bill in all_bills if 'latestAction' in bill and bill['latestAction']['text'].lower().startswith('became public law'))}\")\n",
    "        time.sleep(1)\n",
    "    \n",
    "    if request_count >= max_requests:\n",
    "        print(f\"Reached the maximum number of requests ({max_requests}). Stopping further requests.\")\n",
    "    \n",
    "    return all_bills\n",
    "\n",
    "def count_bills(bills_data):\n",
    "    total_bills = len(bills_data)\n",
    "    passed_bills = sum(1 for bill in bills_data if 'latestAction' in bill and bill['latestAction']['text'].lower().startswith('became public law'))\n",
    "    return total_bills, passed_bills\n",
    "\n",
    "start_date = \"2023-2-01T00%3A00%3A00Z\"\n",
    "end_date = \"2023-2-28T23%3A59%3A59Z\"\n",
    "print(f\"Fetching bills for {start_date} to {end_date}\")\n",
    "bills_data = fetch_all_bills(start_date, end_date)\n",
    "total_bills, passed_bills = count_bills(bills_data)\n",
    "print(f\"Total bills: {total_bills}\")\n",
    "print(f\"Passed bills: {passed_bills}\")"
   ]
  },
  {
   "cell_type": "markdown",
   "metadata": {},
   "source": [
    "### Get Summaries of Recent Bills\n",
    "\n",
    "Get all information on given bills as well as their summaries. Summaries are given in HTML format."
   ]
  },
  {
   "cell_type": "code",
   "execution_count": 27,
   "metadata": {
    "tags": [
     "output_scroll"
    ]
   },
   "outputs": [
    {
     "name": "stdout",
     "output_type": "stream",
     "text": [
      "Action Date: 2023-06-06\n",
      "{'congress': 118,\n",
      " 'number': '3837',\n",
      " 'originChamber': 'House',\n",
      " 'originChamberCode': 'H',\n",
      " 'title': 'Improving Public Health Preparedness Act',\n",
      " 'type': 'HR',\n",
      " 'updateDateIncludingText': '2024-08-26T20:29:27Z',\n",
      " 'url': 'https://api.congress.gov/v3/bill/118/hr/3837?format=json'}\n"
     ]
    },
    {
     "data": {
      "text/html": [
       "<html><body><p><b>Improving Public Health Preparedness Act</b></p> <p>This bill expressly transfers to the Office of the Assistant Secretary for Preparedness and Response (ASPR) the responsibility for administering the Strategic National Stockpile and related activities. (The Strategic National Stockpile consists of drugs, vaccines, medical products, and other supplies that may be deployed to respond to public health emergencies.)</p> <p>Current law requires the Department of Health and Human Services to administer the stockpile in collaboration with ASPR and the Centers for Disease Control and Prevention. However, ASPR assumed general responsibility for overseeing the stockpile in 2018.</p></body></html>"
      ],
      "text/plain": [
       "<IPython.core.display.HTML object>"
      ]
     },
     "metadata": {},
     "output_type": "display_data"
    },
    {
     "name": "stdout",
     "output_type": "stream",
     "text": [
      "Action Date: 2023-06-06\n",
      "{'congress': 118,\n",
      " 'number': '470',\n",
      " 'originChamber': 'House',\n",
      " 'originChamberCode': 'H',\n",
      " 'title': 'Impeaching Alejandro Nicholas Mayorkas, Secretary of Homeland '\n",
      "          'Security, for high crimes and misdemeanors.',\n",
      " 'type': 'HRES',\n",
      " 'updateDateIncludingText': '2024-08-26T20:18:13Z',\n",
      " 'url': 'https://api.congress.gov/v3/bill/118/hres/470?format=json'}\n"
     ]
    },
    {
     "data": {
      "text/html": [
       "<html><body><p>This resolution impeaches Secretary of Homeland Security Mayorkas for high crimes and misdemeanors for ceasing construction of a border wall and for other activities relating to immigration and the southern border.</p></body></html>"
      ],
      "text/plain": [
       "<IPython.core.display.HTML object>"
      ]
     },
     "metadata": {},
     "output_type": "display_data"
    }
   ],
   "source": [
    "from IPython.display import HTML\n",
    "\n",
    "def get_recent_summaries(limit=2):\n",
    "    endpoint = f'summaries?api_key={API_KEY}&format=json&limit={limit}'\n",
    "    response = requests.get(BASE_URL + endpoint)\n",
    "    if response.status_code == 200:\n",
    "        summaries = response.json()['summaries']\n",
    "        for summary in summaries:\n",
    "            print(f\"Action Date: {summary['actionDate']}\")\n",
    "            pprint(summary['bill'])\n",
    "            display(HTML(summary['text']))\n",
    "    else:\n",
    "        print(\"Failed to fetch recent summaries.\")\n",
    "\n",
    "# get_recent_summaries(limit=num)\n",
    "# limit is optional, default is 2 with a max of 250\n",
    "get_recent_summaries()"
   ]
  },
  {
   "cell_type": "markdown",
   "metadata": {},
   "source": [
    "### Get Recent Amemdments\n",
    "\n",
    "Get a list of recent amendments as well as their provided information."
   ]
  },
  {
   "cell_type": "code",
   "execution_count": 10,
   "metadata": {},
   "outputs": [
    {
     "name": "stdout",
     "output_type": "stream",
     "text": [
      "Recent Amendments:\n",
      "Action Date: 2024-08-01\n",
      "Text: Amendment SA 3224 agreed to in Senate by Unanimous Consent.\n",
      "Purpose: In the nature of a substitute.\n",
      "Number: 3224\n",
      "Type: SAMDT\n",
      "\n"
     ]
    }
   ],
   "source": [
    "def get_recent_amendments(limit=5):\n",
    "    endpoint = f'amendment?api_key={API_KEY}&format=json&limit={limit}'\n",
    "    response = requests.get(BASE_URL + endpoint)\n",
    "    if response.status_code == 200:\n",
    "        amendments = response.json()['amendments']\n",
    "        for amendment in amendments:\n",
    "            if 'latestAction' not in amendment:\n",
    "                continue\n",
    "            print(f\"Action Date: {amendment['latestAction']['actionDate']}\")\n",
    "            print(f\"Text: {amendment['latestAction']['text']}\")\n",
    "            if 'purpose' in amendment:\n",
    "                print(f\"Purpose: {amendment['purpose']}\")\n",
    "            print(f\"Number: {amendment['number']}\")\n",
    "            print(f\"Type: {amendment['type']}\")\n",
    "            print()\n",
    "    else:\n",
    "        print(\"Failed to fetch recent amendments.\")\n",
    "\n",
    "print(\"Recent Amendments:\")\n",
    "# get_recent_amendments(limit=num)\n",
    "# limit is optional, default is 5 with a max of 250\n",
    "get_recent_amendments()"
   ]
  },
  {
   "cell_type": "markdown",
   "metadata": {},
   "source": [
    "## 2. Retrieving Treaty Data\n",
    "\n",
    "### Get Recent Treaties\n",
    "\n",
    "Get a list of recent treaties as well as their provided information.\n",
    "\n",
    "Use the \"Number\" to get more information on a specific treaty in the next cell."
   ]
  },
  {
   "cell_type": "code",
   "execution_count": 59,
   "metadata": {},
   "outputs": [
    {
     "name": "stdout",
     "output_type": "stream",
     "text": [
      "Recent Treaties:\n",
      "Topic: None\n",
      "Transmitted Date: None\n",
      "Update Date: 2024-04-17T14:13:22Z\n",
      "Congress Received: 117\n",
      "Congress Considered: None\n",
      "Number: 7\n",
      "\n",
      "\n",
      "Topic: Extradition\n",
      "Transmitted Date: 2017-01-17T00:00:00Z\n",
      "Update Date: 2024-03-08T09:49:30Z\n",
      "Congress Received: 115\n",
      "Congress Considered: 115\n",
      "Number: 1\n",
      "\n",
      "\n"
     ]
    }
   ],
   "source": [
    "def get_recent_treaties(limit=2):\n",
    "    endpoint = f'treaty?api_key={API_KEY}&format=json&limit={limit}'\n",
    "    response = requests.get(BASE_URL + endpoint)\n",
    "    if response.status_code == 200:\n",
    "        treaties = response.json()['treaties']\n",
    "        for treaty in treaties:\n",
    "            print(f\"Topic: {treaty['topic']}\")\n",
    "            print(f\"Transmitted Date: {treaty['transmittedDate']}\")\n",
    "            print(f\"Update Date: {treaty['updateDate']}\")\n",
    "            print(f\"Congress Received: {treaty['congressReceived']}\")\n",
    "            print(f\"Congress Considered: {treaty['congressConsidered']}\")\n",
    "            print(f\"Number: {treaty['number']}\")\n",
    "            print()\n",
    "    else:\n",
    "        print(\"Failed to fetch recent treaties.\")\n",
    "\n",
    "print(\"Recent Treaties:\")\n",
    "# get_recent_treaties(limit=num)\n",
    "# limit is optional, default is 2 with a max of 250\n",
    "get_recent_treaties()"
   ]
  },
  {
   "cell_type": "markdown",
   "metadata": {},
   "source": [
    "### Get Detailed Information on Treaties\n",
    "\n",
    "Get detailed information on a specific treaty by using the \"Number\" from the previous cell.\n",
    "\n",
    "Requires a specific treaty number and a specific congress number."
   ]
  },
  {
   "cell_type": "code",
   "execution_count": 65,
   "metadata": {},
   "outputs": [
    {
     "name": "stdout",
     "output_type": "stream",
     "text": [
      "Treaty Details:\n",
      "Congress: 117\n",
      "Treaty Number: 1\n",
      "Topic: International Law and Organization\n",
      "Index Terms: [{'name': '117-1'}, {'name': 'Kigali'}, {'name': 'Kigali Amendment'}, {'name': 'Montreal'}, {'name': 'Montreal Protocol'}, {'name': 'amendment'}, {'name': 'ozone'}]\n",
      "Number: 1\n",
      "Resolution Text: <p>As approved by the Senate:</p><br><p> </p><br><p>Resolved (two-thirds of the Senators present concurring therein), </p><br><p></p><br><p>SECTION 1. SENATE ADVICE AND CONSENT SUBJECT TO DECLARATIONS AND A CONDITION </p><br><br><p>\tThe Senate advises and consents to the ratification of the Amendment to the Montreal Protocol on Substances that Deplete the Ozone Layer (the “Montreal Protocol”), adopted at Kigali on October 15, 2016, by the Twenty-Eighth Meeting of the Parties to the Montreal Protocol (“The Kigali Amendment”) (Treaty Doc. 117-1), subject to the declarations of section 2 and the condition of section 3. </p><br><p></p><br><p>SECTION 2. DECLARATIONS</p><br><p></p><br><p>\tThe advice and consent of the Senate under section 1 is subject to the following declarations: </p><br><p>\t\t(1) The Kigali amendment is not self-executing.</p><br><p>(2) The People’s Republic of China is not a developing country, and the United Nations and other intergovernmental organizations should not treat the People’s Republic of China as such.</p><br><p></p><br><p>SEC. 3. CONDITION.</p><br><p></p><br><p>The advice and consent of the Senate under section 1 is subject to the following condition: Prior to the Thirty-Fifth Meeting of the Parties to the Montreal Protocol, the Secretary of State shall transmit to the Secretariat of the Vienna Convention for the Protection of the Ozone Layer a proposal to amend Decision I/12E, “Clarification of terms and definitions: developing countries,” made at the First Meeting of the Parties, to remove the People’s Republic of China.</p><br><br><br>\n",
      "Title: {'title': 'Amendment to the Montreal Protocol on Substances that Deplete the Ozone Layer (the \"Montreal Protocol\"), adopted at Kigali on October 15, 2016, by the Twenty-Eighth Meeting of the Parties to the Montreal Protocol (the \"Kigali Amendment\").', 'titleType': 'Treaty - Formal Title'}\n",
      "Transmitted Date: 2021-11-16T00:00:00Z\n",
      "Update Date: 2024-03-07T04:01:16Z\n",
      "\n",
      "\n",
      "Congress: 117\n",
      "Treaty Number: 2\n",
      "Topic: Extradition and Criminal Assistance\n",
      "Index Terms: [{'name': 'Albania'}, {'name': 'Extradition'}]\n",
      "Number: 2\n",
      "Resolution Text: \n",
      "Title: {'title': 'Extradition Treaty Between the Government of the United States of America and the Government of the Republic of Albania', 'titleType': 'Treaty - Formal Title'}\n",
      "Transmitted Date: 2022-04-07T00:00:00Z\n",
      "Update Date: 2023-03-07T12:19:25Z\n",
      "\n",
      "\n",
      "Congress: 117\n",
      "Treaty Number: 3\n",
      "Topic: International Law and Organization\n",
      "Index Terms: [{'name': 'Accession'}, {'name': 'Kingdom of Sweden'}, {'name': 'North Atlantic Treaty of 1949'}, {'name': 'Protocols'}, {'name': 'Republic of Finland'}, {'name': 'T.Doc.117-3'}]\n",
      "Number: 3\n",
      "Resolution Text: <!DOCTYPE html><html xmlns=\"http://www.w3.org/1999/xhtml\" lang=\"en\"><head><meta name=\"meta:creation-date\" content=\"2022/08/03 18:28:08\" /><meta name=\"dc:title\" content=\"[117] TreatyRes. 6 for TreatyDoc. 117 - 3\" /><meta name=\"Creation-Date\" content=\"2022/08/03 18:28:08\" /><meta name=\"dcterms:created\" content=\"2022/08/03 18:28:08\" /><meta name=\"Content-Type\" content=\"application/rtf\" /><title>[117] TreatyRes. 6 for TreatyDoc. 117 - 3</title></head><body><p>As approved by the Senate: </p><p><i>Resolved (two-thirds of the Senators present concurring therein),</i></p><p></p><p><b>SECTION 1. SENATE ADVICE AND CONSENT SUBJECT TO DECLARATIONS AND CONDITIONS.</b></p><p></p><p>The Senate advises and consents to the ratification of the Protocols to the North Atlantic Treaty of 1949 on the Accession of the Republic of Finland and the Kingdom of Sweden, which were signed on July 5, 2022, by the United States of America and other parties to the North Atlantic Treaty of 1949 (Treaty Doc. 117-3), subject to the declarations of section 2 and the condition of section 3.</p><p><b>SEC. 2. DECLARATIONS.</b></p><p></p><p>The advice and consent of the Senate under section 1 is subject to the following declarations:</p><p>(1)\tReaffirmation That United States Membership in NATO Remains a Vital National Security Interest of the United States.- The Senate declares that-</p><p>(A)\tfor more than 70 years the North Atlantic Treaty Organization (NATO) has served as the preeminent organization to defend the countries in the North Atlantic area against all external threats;</p><p>(B)\tthrough common action, the established democracies of North America and Europe that were joined in NATO persevered and prevailed in the task of ensuring the survival of democratic government in Europe and North America throughout the Cold War;</p><p>(C)\tNATO enhances the security of the United States by embedding European states in a process of cooperative security planning and by ensuring an ongoing and direct leadership role for the United States in European security affairs;</p><p>(D)\tthe responsibility and financial burden of defending the democracies of Europe and North America can be more equitably shared through an alliance in which specific obligations and force goals are met by its members;</p><p>(E)\tthe security and prosperity of the United States is enhanced by NATO's collective defense against aggression that may threaten the security of NATO members; and</p><p>(F)\tUnited States membership in NATO remains a vital national security interest of the United States.</p><p>(2)\tStrategic Rationale for NATO Enlargement.- The Senate declares that-</p><p>(A)\tthe United States and its NATO allies face continued threats to their stability and territorial integrity;</p><p>(B)\tan attack against Finland or Sweden, or the destabilization of either arising from external subversion, would threaten the stability of Europe and jeopardize United States national security interests;</p><p>(C)\tFinland and Sweden, having established democratic governments and having demonstrated a willingness to meet the requirements of membership, including those necessary to contribute to the defense of all NATO members, are in a position to further the principles of the North Atlantic Treaty and to contribute to the security of the North Atlantic area; and</p><p>(D)\textending NATO membership to Finland and Sweden will strengthen NATO, enhance stability in Europe, and advance the interests of the United States and its NATO allies.</p><p>(3)\tSupport for NATO's Open Door Policy.- The policy of the United States is to support NATO's Open Door Policy that allows any European country to express its desire to join NATO and demonstrate its ability to meet the obligations of NATO membership.</p><p>(4)\tFuture Consideration of Candidates for Membership in NATO.-</p><p>(A)\tSenate Finding.-The Senate finds that the United States will not support the accession to the North Atlantic Treaty of, or the invitation to begin accession talks with, any European state (other than Finland and Sweden), unless-</p><p>(i)\tthe President consults with the Senate consistent with Article II, section 2, clause 2 of the Constitution of the United States (relating to the advice and consent of the Senate to the making of treaties); and</p><p>(ii)\tthe prospective NATO member can fulfill all of the obligations and responsibilities of membership, and the inclusion of such state in NATO would serve the overall political and strategic interests of NATO and the United States.</p><p>(B)\tRequirement for Consensus and Ratification.-The Senate declares that no action or agreement other than a consensus decision by the full membership of NATO, approved by the national procedures of each NATO member, including, in the case of the United States, the requirements of Article II, section 2, clause 2 of the Constitution of the United States (relating to the advice and consent of the Senate to the making of treaties), will constitute a commitment to collective defense and consultations pursuant to Articles 4 and 5 of the North Atlantic Treaty.</p><p>(5)\tInfluence of Non-NATO Members on NATO Decisions.- The Senate declares that any country that is not a member of NATO shall have no impact on decisions related to NATO enlargement.</p><p>(6)\tSupport for 2014 Wales Summit Defense Spending Benchmark.--The Senate declares that all NATO members should spend a minimum of 2 percent of their Gross Domestic Product (GDP) on defense and 20 percent of their defense budgets on major equipment, including research and development, by 2024, as outlined in the 2014 Wales Summit Declaration.</p><p><b>SEC. 3. CONDITION.</b></p><p></p><p>The advice and consent of the Senate under section 1 is subject to the following conditions</p><p>(1)\tPresidential Certification.-Prior to the deposit of the instrument of ratification, the President shall certify to the Senate as follows:</p><p>(A)\tThe inclusion of Finland and Sweden in NATO will not have the effect of increasing the overall percentage share of the United States in the common budgets of NATO.</p><p>(B)\tThe inclusion of Finland and Sweden in NATO does not detract from the ability of the United States to meet or to fund its military requirements outside the North Atlantic area.</p><p><b>SEC. 4. DEFINITIONS.</b></p><p></p><p>In this resolution:</p><p>(1)\tNATO Members.-The term &ldquo;NATO members&rdquo; means all countries that are parties to the North Atlantic Treaty.</p><p>(2)\tNon-NATO Members.-The term &ldquo;non-NATO members&rdquo; means all countries that are not parties to the North Atlantic Treaty.</p><p>(3)\tNorth Atlantic Area.-The term &ldquo;North Atlantic Area&rdquo; means the area covered by Article 6 of the North Atlantic Treaty, as applied by the North Atlantic Council.</p><p>(4)\tNorth Atlantic Treaty.-The term &ldquo;North Atlantic Treaty&rdquo; means the North Atlantic Treaty, signed at Washington April 4, 1949 (63 Stat. 2241; TIAS 1964), as amended.</p><p>(5)\tUnited States Instrument of Ratification.-The term &ldquo;United States instrument of ratification&rdquo; means the instrument of ratification of the United States of the Protocols to the</p><p>North Atlantic Treaty of 1949 on the Accession of the Republic of Finland and the Kingdom of Sweden.</p></body></html>\n",
      "Title: {'title': 'Protocols to the North Atlantic Treaty of 1949 on the Accession of the Republic of Finland and the Kingdom of Sweden', 'titleType': 'Treaty - Formal Title'}\n",
      "Transmitted Date: 2022-07-11T00:00:00Z\n",
      "Update Date: 2023-03-07T12:19:24Z\n",
      "\n",
      "\n",
      "No more treaties found for Congress 117.\n",
      "\n",
      "\n",
      "Congress: 118\n",
      "Treaty Number: 1\n",
      "Topic: Maritime Boundaries and Claims\n",
      "Index Terms: [{'name': 'Cuba'}, {'name': 'Maritime Boundaries'}, {'name': 'Mexico'}, {'name': 'TD 118-1'}, {'name': 'Treaty Doc. 118-1'}]\n",
      "Number: 1\n",
      "Resolution Text: None\n",
      "Title: {'title': 'The Treaty between the United States of America and the Republic of Cuba on the Delimitation of the Continental Shelf in the Eastern Gulf of Mexico beyond 200 Nautical Miles, and the Treaty between the Government of the United States of America and the Government of the United Mexican States on the Delimitation of the Maritime Boundary in the Eastern Gulf of Mexico, both of which were signed at Washington on January 18, 2017', 'titleType': 'Treaty - Formal Title'}\n",
      "Transmitted Date: 2023-12-18T00:00:00Z\n",
      "Update Date: 2023-12-19T04:01:18Z\n",
      "\n",
      "\n",
      "No more treaties found for Congress 118.\n",
      "\n",
      "\n"
     ]
    }
   ],
   "source": [
    "def get_treaty_details(congress_numbers):\n",
    "    treaty_number = 1\n",
    "    for congress in congress_numbers:\n",
    "        while True:\n",
    "            endpoint = f'treaty/{congress}/{treaty_number}?api_key={API_KEY}&format=json'\n",
    "            response = requests.get(BASE_URL + endpoint)\n",
    "            if response.status_code == 200:\n",
    "                treaty = response.json()['treaty']\n",
    "                print(f\"Congress: {congress}\")\n",
    "                print(f\"Treaty Number: {treaty_number}\")\n",
    "                print(f\"Topic: {treaty['topic']}\")\n",
    "                print(f\"Index Terms: {treaty['indexTerms']}\")\n",
    "                print(f\"Number: {treaty['number']}\")\n",
    "                print(f\"Resolution Text: {treaty['resolutionText']}\")\n",
    "                print(f\"Title: {treaty['titles'][0]}\")\n",
    "                print(f\"Transmitted Date: {treaty['transmittedDate']}\")\n",
    "                print(f\"Update Date: {treaty['updateDate']}\")\n",
    "                print()\n",
    "                treaty_number += 1\n",
    "            else:\n",
    "                print(f\"No more treaties found for Congress {congress}.\")\n",
    "                print(\"\\n\")\n",
    "                break\n",
    "        treaty_number = 1\n",
    "\n",
    "print(\"Treaty Details:\")\n",
    "get_treaty_details(['117', '118'])"
   ]
  },
  {
   "cell_type": "markdown",
   "metadata": {},
   "source": [
    "## 3. Retrieving Data on Members of Congress\n",
    "\n",
    "### Get Members of Congress\n",
    "\n",
    "Get a list of members of congress as well as their provided information."
   ]
  },
  {
   "cell_type": "code",
   "execution_count": 51,
   "metadata": {},
   "outputs": [
    {
     "name": "stdout",
     "output_type": "stream",
     "text": [
      "Members of Congress:\n",
      "Name: Lopez, Greg\n",
      "Party: Republican\n",
      "State: Colorado\n",
      "District: 4\n",
      "Terms: {'item': [{'chamber': 'House of Representatives', 'startYear': 2024}]}\n",
      "Bioguide ID: L000604\n",
      "\n",
      "\n"
     ]
    }
   ],
   "source": [
    "def get_members_of_congress(limit=2):\n",
    "    endpoint = f'member/?api_key={API_KEY}&format=json&limit={limit}'\n",
    "    response = requests.get(BASE_URL + endpoint)\n",
    "    if response.status_code == 200:\n",
    "        members = response.json()['members']\n",
    "        for member in members:\n",
    "            print(f\"Name: {member['name']}\")\n",
    "            print(f\"Party: {member['partyName']}\")\n",
    "            print(f\"State: {member['state']}\")\n",
    "            print(f\"District: {member['district']}\")\n",
    "            print(f\"Terms: {member['terms']}\")\n",
    "            print(f\"Bioguide ID: {member['bioguideId']}\")\n",
    "            print()\n",
    "    else:\n",
    "        print(\"Failed to fetch members of Congress.\")\n",
    "\n",
    "print(\"Members of Congress:\")\n",
    "# get_members_of_congress(limit=num)\n",
    "# limit is optional, default is 2 with a max of 250\n",
    "get_members_of_congress()"
   ]
  },
  {
   "cell_type": "markdown",
   "metadata": {},
   "source": [
    "### Get Members of Congress by State\n",
    "\n",
    "Get a list of members of congress by state as well as their provided information.\n",
    "\n",
    "Requires a specific state abbreviation and a \"True\" or \"False\" to determine whether to get current or all members of that state."
   ]
  },
  {
   "cell_type": "code",
   "execution_count": 52,
   "metadata": {},
   "outputs": [
    {
     "name": "stdout",
     "output_type": "stream",
     "text": [
      "Members of Congress:\n",
      "Name: Strong, Dale W.\n",
      "Party: Republican\n",
      "State: Alabama\n",
      "District: 5\n",
      "Terms: {'item': [{'chamber': 'House of Representatives', 'startYear': 2023}]}\n",
      "Bioguide ID: S001220\n",
      "\n",
      "\n",
      "Name: Carl, Jerry L.\n",
      "Party: Republican\n",
      "State: Alabama\n",
      "District: 1\n",
      "Terms: {'item': [{'chamber': 'House of Representatives', 'startYear': 2021}]}\n",
      "Bioguide ID: C001054\n",
      "\n",
      "\n",
      "Name: Moore, Barry\n",
      "Party: Republican\n",
      "State: Alabama\n",
      "District: 2\n",
      "Terms: {'item': [{'chamber': 'House of Representatives', 'startYear': 2021}]}\n",
      "Bioguide ID: M001212\n",
      "\n",
      "\n",
      "Name: Palmer, Gary J.\n",
      "Party: Republican\n",
      "State: Alabama\n",
      "District: 6\n",
      "Terms: {'item': [{'chamber': 'House of Representatives', 'startYear': 2015}]}\n",
      "Bioguide ID: P000609\n",
      "\n",
      "\n",
      "Name: Sewell, Terri A.\n",
      "Party: Democratic\n",
      "State: Alabama\n",
      "District: 7\n",
      "Terms: {'item': [{'chamber': 'House of Representatives', 'startYear': 2011}]}\n",
      "Bioguide ID: S001185\n",
      "\n",
      "\n",
      "Name: Aderholt, Robert B.\n",
      "Party: Republican\n",
      "State: Alabama\n",
      "District: 4\n",
      "Terms: {'item': [{'chamber': 'House of Representatives', 'startYear': 1997}]}\n",
      "Bioguide ID: A000055\n",
      "\n",
      "\n",
      "Name: Rogers, Mike D.\n",
      "Party: Republican\n",
      "State: Alabama\n",
      "District: 3\n",
      "Terms: {'item': [{'chamber': 'House of Representatives', 'startYear': 2003}]}\n",
      "Bioguide ID: R000575\n",
      "\n",
      "\n",
      "Name: Britt, Katie Boyd\n",
      "Party: Republican\n",
      "State: Alabama\n",
      "District: N/A\n",
      "Terms: {'item': [{'chamber': 'Senate', 'startYear': 2023}]}\n",
      "Bioguide ID: B001319\n",
      "\n",
      "\n",
      "Name: Tuberville, Tommy\n",
      "Party: Republican\n",
      "State: Alabama\n",
      "District: N/A\n",
      "Terms: {'item': [{'chamber': 'Senate', 'startYear': 2021}]}\n",
      "Bioguide ID: T000278\n",
      "\n",
      "\n"
     ]
    }
   ],
   "source": [
    "def get_members_of_congress(state, current, limit=250):\n",
    "    endpoint = f'member/{state}?api_key={API_KEY}&format=json&limit={limit}'\n",
    "    response = requests.get(BASE_URL + endpoint)\n",
    "    if response.status_code == 200:\n",
    "        members = response.json()['members']\n",
    "        for member in members:\n",
    "            if current and 'endYear' in member['terms']['item'][0]:\n",
    "                continue    \n",
    "            print(f\"Name: {member['name']}\")\n",
    "            print(f\"Party: {member['partyName']}\")\n",
    "            print(f\"State: {member['state']}\")\n",
    "            if 'district' in member:\n",
    "                print(f\"District: {member['district']}\")\n",
    "            else:\n",
    "                print(f\"District: N/A\")\n",
    "            print(f\"Terms: {member['terms']}\")\n",
    "            print(f\"Bioguide ID: {member['bioguideId']}\")\n",
    "            print()\n",
    "    else:\n",
    "        print(\"Failed to fetch members of Congress.\")\n",
    "\n",
    "print(\"Members of Congress:\")\n",
    "# get_members_of_congress('StateCode', bool, limit=num)\n",
    "# bool = True for current members, False for former and current members\n",
    "# limit is optional, default is 250 to get all members\n",
    "get_members_of_congress('AL', True)"
   ]
  },
  {
   "cell_type": "markdown",
   "metadata": {},
   "source": [
    "### Get Legislation Sponsored and Cosponsored by a Member of Congress\n",
    "\n",
    "Get a list of legislation sponsored and cosponsored by a member of congress as well as their provided information.\n",
    "\n",
    "Requires a specific congress number, a state abbreviation, and a specific member's bioguide ID."
   ]
  },
  {
   "cell_type": "code",
   "execution_count": 53,
   "metadata": {},
   "outputs": [
    {
     "name": "stdout",
     "output_type": "stream",
     "text": [
      "Members by State and District:\n",
      "Name: Aderholt, Robert B.\n",
      "Party: Republican\n",
      "State: Alabama\n",
      "District: 4\n",
      "Bioguide ID: A000055\n",
      "\n",
      "\n",
      "Legislation by Member:\n",
      "Sponsored\n",
      "Title: To require on-time delivery of periodicals to unlock additional rate authority, and for other purposes.\n",
      "Action Date: 2024-07-22\n",
      "Latest Action: Referred to the House Committee on Oversight and Accountability.\n",
      "Number: 9078\n",
      "\n",
      "\n",
      "Sponsored\n",
      "Title: Departments of Labor, Health and Human Services, and Education, and Related Agencies Appropriations Act, 2025\n",
      "Action Date: 2024-07-12\n",
      "Latest Action: Placed on the Union Calendar, Calendar No. 485.\n",
      "Number: 9029\n",
      "\n",
      "\n",
      "Cosponsored\n",
      "Title: Promotion and Expansion of Private Employee Ownership Act of 2023\n",
      "Action Date: 2023-07-26\n",
      "Latest Action: Referred to the Committee on Ways and Means, and in addition to the Committees on Small Business, and Education and the Workforce, for a period to be subsequently determined by the Speaker, in each case for consideration of such provisions as fall within the jurisdiction of the committee concerned.\n",
      "Number: 4896\n",
      "\n",
      "\n",
      "Cosponsored\n",
      "Title: Interdiction of Fentanyl in Postal Mail at Federal Prisons Act\n",
      "Action Date: 2023-08-25\n",
      "Latest Action: Referred to the House Committee on the Judiciary.\n",
      "Number: 5266\n",
      "\n",
      "\n",
      "\n",
      "\n",
      "Name: Sewell, Terri A.\n",
      "Party: Democratic\n",
      "State: Alabama\n",
      "District: 7\n",
      "Bioguide ID: S001185\n",
      "\n",
      "\n",
      "Legislation by Member:\n",
      "Sponsored\n",
      "Title: LIFT Act\n",
      "Action Date: 2024-05-14\n",
      "Latest Action: Referred to the House Committee on Ways and Means.\n",
      "Number: 8396\n",
      "\n",
      "\n",
      "Sponsored\n",
      "Title: To designate the facility of the United States Postal Service located at 306 Pickens Street in Marion, Alabama, as the \"Albert Turner, Sr. Post Office Building\".\n",
      "Action Date: 2024-06-04\n",
      "Latest Action: Received in the Senate and Read twice and referred to the Committee on Homeland Security and Governmental Affairs.\n",
      "Number: 7893\n",
      "\n",
      "\n",
      "Cosponsored\n",
      "Title: To provide for a coordinated national research program to examine the nature, causes, consequences, and prevention of violence and unintended injury and death relating to gun ownership, use, and trafficking, and for other purposes.\n",
      "Action Date: 2024-08-02\n",
      "Latest Action: Referred to the Committee on the Judiciary, and in addition to the Committees on Science, Space, and Technology, and Energy and Commerce, for a period to be subsequently determined by the Speaker, in each case for consideration of such provisions as fall within the jurisdiction of the committee concerned.\n",
      "Number: 9253\n",
      "\n",
      "\n",
      "Cosponsored\n",
      "Title: To amend the Internal Revenue Code of 1986 to extend the biodiesel fuels credit and the biodiesel mixture credit.\n",
      "Action Date: 2024-07-18\n",
      "Latest Action: Referred to the House Committee on Ways and Means.\n",
      "Number: 9060\n",
      "\n",
      "\n",
      "\n",
      "\n"
     ]
    }
   ],
   "source": [
    "def get_members_by_state_and_district(congress, state, district, limit=2):\n",
    "    bioguide_id = ''\n",
    "    endpoint = f'member/congress/{congress}/{state}/{district}?api_key={API_KEY}&format=json&limit={limit}'\n",
    "    response = requests.get(BASE_URL + endpoint)\n",
    "    if response.status_code == 200:\n",
    "        members = response.json()['members']\n",
    "        for member in members:\n",
    "            print(f\"Name: {member['name']}\")\n",
    "            print(f\"Party: {member['partyName']}\")\n",
    "            print(f\"State: {member['state']}\")\n",
    "            print(f\"District: {member['district']}\")\n",
    "            print(f\"Bioguide ID: {member['bioguideId']}\")\n",
    "            bioguide_id = member['bioguideId']\n",
    "            print(\"\\n\")\n",
    "    else:\n",
    "        print(\"Failed to fetch members by state and district.\")\n",
    "\n",
    "    endpoint = f'member/{bioguide_id}/sponsored-legislation?api_key={API_KEY}&format=json&limit={limit}'\n",
    "    response = requests.get(BASE_URL + endpoint)\n",
    "    if response.status_code == 200:\n",
    "        bills = response.json()['sponsoredLegislation']\n",
    "        print(\"Legislation by Member:\")\n",
    "        for bill in bills:\n",
    "            print(\"Sponsored\")\n",
    "            print(f\"Title: {bill['title']}\")\n",
    "            print(f\"Action Date: {bill['latestAction']['actionDate']}\")\n",
    "            print(f\"Latest Action: {bill['latestAction']['text']}\")\n",
    "            print(f\"Number: {bill['number']}\")\n",
    "            print(\"\\n\")\n",
    "    else:\n",
    "        print(\"Failed to fetch legislation by member.\")\n",
    "\n",
    "    endpoint = f'member/{bioguide_id}/cosponsored-legislation?api_key={API_KEY}&format=json&limit={limit}'\n",
    "    response = requests.get(BASE_URL + endpoint)\n",
    "    if response.status_code == 200:\n",
    "        bills = response.json()['cosponsoredLegislation']\n",
    "        for bill in bills:\n",
    "            print(\"Cosponsored\")\n",
    "            print(f\"Title: {bill['title']}\")\n",
    "            print(f\"Action Date: {bill['latestAction']['actionDate']}\")\n",
    "            print(f\"Latest Action: {bill['latestAction']['text']}\")\n",
    "            print(f\"Number: {bill['number']}\")\n",
    "            print(\"\\n\")\n",
    "    else:\n",
    "        print(\"Failed to fetch cosponsored legislation by member.\")\n",
    "    print()\n",
    "\n",
    "print(\"Members by State and District:\")\n",
    "# get_members_by_state_and_district('CongressNumber', 'StateCode', 'DistrictNumber', limit=num)\n",
    "# limit is optional, default is 2 with a max of 250\n",
    "get_members_by_state_and_district('118', 'AL', '4')\n",
    "get_members_by_state_and_district('118', 'AL', '7')"
   ]
  }
 ],
 "metadata": {
  "kernelspec": {
   "display_name": ".venv",
   "language": "python",
   "name": "python3"
  },
  "language_info": {
   "codemirror_mode": {
    "name": "ipython",
    "version": 3
   },
   "file_extension": ".py",
   "mimetype": "text/x-python",
   "name": "python",
   "nbconvert_exporter": "python",
   "pygments_lexer": "ipython3",
   "version": "3.12.1"
  }
 },
 "nbformat": 4,
 "nbformat_minor": 2
}
