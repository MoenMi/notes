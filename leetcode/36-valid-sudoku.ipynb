{
 "cells": [
  {
   "cell_type": "markdown",
   "metadata": {},
   "source": [
    "# 36 - Valid Sudoku\n",
    "\n",
    "Determine if a `9 x 9` Sudoku board is valid. Only the filled cells need to be validated according to the following rules:\n",
    "\n",
    "1. Each row must contain the digits `1-9` without repetition.\n",
    "2. Each column must contain the digits `1-9` without repetition.\n",
    "3. Each of the nine `3 x 3` sub-boxes of the grid must contain the digits `1-9` without repetition.\n",
    "\n",
    "Note:\n",
    "- A Sudoku board (partially filled) could be valid but is not necessarily solvable.\n",
    "- Only the filled cells need to be validated according to the mentioned rules."
   ]
  },
  {
   "cell_type": "markdown",
   "metadata": {},
   "source": [
    "## Python\n",
    "\n",
    "### Attempt 1"
   ]
  },
  {
   "cell_type": "code",
   "execution_count": 1,
   "metadata": {},
   "outputs": [],
   "source": [
    "from typing import List\n",
    "\n",
    "# Runs in 79 ms, beating 97.78% of solutions\n",
    "class Solution:\n",
    "    def isValidSudoku(self, board: List[List[str]]) -> bool:\n",
    "        numDigits = 0\n",
    "        # Store points as (row, num)\n",
    "        rowPairs = set()\n",
    "        # Store points as (col, num)\n",
    "        colPairs = set()\n",
    "        # Store points as (sq, num)\n",
    "        sqPairs = set()\n",
    "        for rowNum, row in enumerate(board):\n",
    "            for colNum, cell in enumerate(row):\n",
    "                if cell in ['1', '2', '3', '4', '5', '6', '7', '8', '9']:\n",
    "                    numDigits += 1\n",
    "                    rowPairs.add((rowNum + 1, int(cell)))\n",
    "                    colPairs.add((colNum + 1, int(cell)))\n",
    "                    if rowNum in [0, 1, 2]:\n",
    "                        if colNum in [0, 1, 2]:\n",
    "                            sqNum = 1\n",
    "                        if colNum in [3, 4, 5]:\n",
    "                            sqNum = 2\n",
    "                        if colNum in [6, 7, 8]:\n",
    "                            sqNum = 3\n",
    "                    elif rowNum in [3, 4, 5]:\n",
    "                        if colNum in [0, 1, 2]:\n",
    "                            sqNum = 4\n",
    "                        if colNum in [3, 4, 5]:\n",
    "                            sqNum = 5\n",
    "                        if colNum in [6, 7, 8]:\n",
    "                            sqNum = 6\n",
    "                    elif rowNum in [6, 7, 8]:\n",
    "                        if colNum in [0, 1, 2]:\n",
    "                            sqNum = 7\n",
    "                        if colNum in [3, 4, 5]:\n",
    "                            sqNum = 8\n",
    "                        if colNum in [6, 7, 8]:\n",
    "                            sqNum = 9\n",
    "                    sqPairs.add((sqNum, int(cell)))\n",
    "        return numDigits == len(rowPairs) == len(colPairs) == len(sqPairs)"
   ]
  },
  {
   "cell_type": "markdown",
   "metadata": {},
   "source": [
    "### Testing"
   ]
  },
  {
   "cell_type": "code",
   "execution_count": 2,
   "metadata": {},
   "outputs": [
    {
     "data": {
      "text/plain": [
       "True"
      ]
     },
     "execution_count": 2,
     "metadata": {},
     "output_type": "execute_result"
    }
   ],
   "source": [
    "sol = Solution()\n",
    "sol.isValidSudoku([[\"5\",\"3\",\".\",\".\",\"7\",\".\",\".\",\".\",\".\"],[\"6\",\".\",\".\",\"1\",\"9\",\"5\",\".\",\".\",\".\"],[\".\",\"9\",\"8\",\".\",\".\",\".\",\".\",\"6\",\".\"],[\"8\",\".\",\".\",\".\",\"6\",\".\",\".\",\".\",\"3\"],[\"4\",\".\",\".\",\"8\",\".\",\"3\",\".\",\".\",\"1\"],[\"7\",\".\",\".\",\".\",\"2\",\".\",\".\",\".\",\"6\"],[\".\",\"6\",\".\",\".\",\".\",\".\",\"2\",\"8\",\".\"],[\".\",\".\",\".\",\"4\",\"1\",\"9\",\".\",\".\",\"5\"],[\".\",\".\",\".\",\".\",\"8\",\".\",\".\",\"7\",\"9\"]])"
   ]
  },
  {
   "cell_type": "code",
   "execution_count": 3,
   "metadata": {},
   "outputs": [
    {
     "data": {
      "text/plain": [
       "False"
      ]
     },
     "execution_count": 3,
     "metadata": {},
     "output_type": "execute_result"
    }
   ],
   "source": [
    "sol = Solution()\n",
    "sol.isValidSudoku([[\"8\",\"3\",\".\",\".\",\"7\",\".\",\".\",\".\",\".\"],[\"6\",\".\",\".\",\"1\",\"9\",\"5\",\".\",\".\",\".\"],[\".\",\"9\",\"8\",\".\",\".\",\".\",\".\",\"6\",\".\"],[\"8\",\".\",\".\",\".\",\"6\",\".\",\".\",\".\",\"3\"],[\"4\",\".\",\".\",\"8\",\".\",\"3\",\".\",\".\",\"1\"],[\"7\",\".\",\".\",\".\",\"2\",\".\",\".\",\".\",\"6\"],[\".\",\"6\",\".\",\".\",\".\",\".\",\"2\",\"8\",\".\"],[\".\",\".\",\".\",\"4\",\"1\",\"9\",\".\",\".\",\"5\"],[\".\",\".\",\".\",\".\",\"8\",\".\",\".\",\"7\",\"9\"]])"
   ]
  }
 ],
 "metadata": {
  "kernelspec": {
   "display_name": "notes_env",
   "language": "python",
   "name": "python3"
  },
  "language_info": {
   "codemirror_mode": {
    "name": "ipython",
    "version": 3
   },
   "file_extension": ".py",
   "mimetype": "text/x-python",
   "name": "python",
   "nbconvert_exporter": "python",
   "pygments_lexer": "ipython3",
   "version": "3.12.0"
  }
 },
 "nbformat": 4,
 "nbformat_minor": 2
}
