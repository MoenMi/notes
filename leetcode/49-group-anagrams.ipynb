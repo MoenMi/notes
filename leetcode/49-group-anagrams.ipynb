{
 "cells": [
  {
   "cell_type": "markdown",
   "metadata": {},
   "source": [
    "# 49 - Group Anagrams\n",
    "\n",
    "Given an array of strings `strs`, group the anagrams together. You can return the answer in any order.\n",
    "\n",
    "An Anagram is a word or phrase formed by rearranging the letters of a different word or phrase, typically using all the original letters exactly once."
   ]
  },
  {
   "cell_type": "markdown",
   "metadata": {},
   "source": [
    "## Python\n",
    "\n",
    "### Attempt 1"
   ]
  },
  {
   "cell_type": "code",
   "execution_count": 3,
   "metadata": {},
   "outputs": [],
   "source": [
    "from typing import List\n",
    "\n",
    "# Runs in 522 ms, needs to be faster\n",
    "class Solution:\n",
    "    def groupAnagrams(self, strs: List[str]) -> List[List[str]]:\n",
    "        anagram_groups = []\n",
    "        sorted_chars = []\n",
    "        for str in strs:\n",
    "            sorted_char = sorted(str)\n",
    "            if sorted_char in sorted_chars:\n",
    "                anagram_groups[sorted_chars.index(sorted_char)].append(str)\n",
    "            else:\n",
    "                anagram_groups.append([str])\n",
    "                sorted_chars.append(sorted_char)\n",
    "        return anagram_groups"
   ]
  },
  {
   "cell_type": "markdown",
   "metadata": {},
   "source": [
    "### Attempt 2"
   ]
  },
  {
   "cell_type": "code",
   "execution_count": 10,
   "metadata": {},
   "outputs": [],
   "source": [
    "# Runs in 746 ms, this is even slower\n",
    "class Solution:\n",
    "    def groupAnagrams(self, strs: List[str]) -> List[List[str]]:\n",
    "        anagram_groups = []\n",
    "        hashsets = []\n",
    "        for str in strs:\n",
    "            hashset = {}\n",
    "            for ch in str:\n",
    "                hashset[ch] = 1 + hashset.get(ch, 0)\n",
    "            if hashset in hashsets:\n",
    "                anagram_groups[hashsets.index(hashset)].append(str)\n",
    "            else:\n",
    "                anagram_groups.append([str])\n",
    "                hashsets.append(hashset)\n",
    "        return anagram_groups"
   ]
  },
  {
   "cell_type": "markdown",
   "metadata": {},
   "source": [
    "### Attempt 3\n",
    "\n",
    "Building on Attempt 1, use a `dict` to simplify the data structures involved, increasing the speed."
   ]
  },
  {
   "cell_type": "code",
   "execution_count": 28,
   "metadata": {},
   "outputs": [],
   "source": [
    "# Runs in 78 ms, beating 95.08% of users\n",
    "class Solution:\n",
    "    def groupAnagrams(self, strs: List[str]) -> List[List[str]]:\n",
    "        anagram_groups = {}\n",
    "        for str in strs:\n",
    "            sorted_char = ''.join(sorted(str))\n",
    "            if sorted_char in anagram_groups:\n",
    "                anagram_groups[sorted_char].append(str)\n",
    "            else:\n",
    "                anagram_groups[sorted_char] = [str]\n",
    "        return anagram_groups.values()"
   ]
  },
  {
   "cell_type": "markdown",
   "metadata": {},
   "source": [
    "### Testing"
   ]
  },
  {
   "cell_type": "code",
   "execution_count": 29,
   "metadata": {},
   "outputs": [
    {
     "data": {
      "text/plain": [
       "dict_values([['eat', 'tea', 'ate'], ['tan', 'nat'], ['bat']])"
      ]
     },
     "execution_count": 29,
     "metadata": {},
     "output_type": "execute_result"
    }
   ],
   "source": [
    "sol = Solution()\n",
    "sol.groupAnagrams([\"eat\",\"tea\",\"tan\",\"ate\",\"nat\",\"bat\"])"
   ]
  },
  {
   "cell_type": "code",
   "execution_count": 16,
   "metadata": {},
   "outputs": [
    {
     "data": {
      "text/plain": [
       "[['']]"
      ]
     },
     "execution_count": 16,
     "metadata": {},
     "output_type": "execute_result"
    }
   ],
   "source": [
    "sol = Solution()\n",
    "sol.groupAnagrams([\"\"])"
   ]
  },
  {
   "cell_type": "code",
   "execution_count": 17,
   "metadata": {},
   "outputs": [
    {
     "data": {
      "text/plain": [
       "[['a']]"
      ]
     },
     "execution_count": 17,
     "metadata": {},
     "output_type": "execute_result"
    }
   ],
   "source": [
    "sol = Solution()\n",
    "sol.groupAnagrams([\"a\"])"
   ]
  }
 ],
 "metadata": {
  "kernelspec": {
   "display_name": "notes_env",
   "language": "python",
   "name": "python3"
  },
  "language_info": {
   "codemirror_mode": {
    "name": "ipython",
    "version": 3
   },
   "file_extension": ".py",
   "mimetype": "text/x-python",
   "name": "python",
   "nbconvert_exporter": "python",
   "pygments_lexer": "ipython3",
   "version": "3.12.0"
  }
 },
 "nbformat": 4,
 "nbformat_minor": 2
}
