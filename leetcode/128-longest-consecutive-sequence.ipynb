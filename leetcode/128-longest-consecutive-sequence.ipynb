{
 "cells": [
  {
   "cell_type": "markdown",
   "metadata": {},
   "source": [
    "# 128 - Longest Consecutive Sequence\n",
    "\n",
    "Given an unsorted array of integers `nums`, return the length of the longest consecutive elements sequence.\n",
    "\n",
    "You must write an algorithm that runs in $O(n)$ time."
   ]
  },
  {
   "cell_type": "markdown",
   "metadata": {},
   "source": [
    "## Python\n",
    "\n",
    "### Attempt 1"
   ]
  },
  {
   "cell_type": "code",
   "execution_count": 3,
   "metadata": {},
   "outputs": [],
   "source": [
    "from typing import List\n",
    "\n",
    "class Solution:\n",
    "    def longestConsecutive(self, nums: List[int]) -> int:\n",
    "        if len(nums) < 2:\n",
    "            return len(nums)\n",
    "        num_set = {}\n",
    "        max_len = 0\n",
    "        for num in nums:\n",
    "            # Look at previous entry to determine len of sequence\n",
    "            if num-1 in num_set:\n",
    "                num_set[num] = num_set[num-1] + 1\n",
    "            else:\n",
    "                num_set[num] = 1\n",
    "            \n",
    "            # Update future elements in sequence\n",
    "            counter = num + 1\n",
    "            while counter in num_set:\n",
    "                num_set[counter] = num_set[counter-1] + 1\n",
    "                if num_set[counter] > max_len:\n",
    "                    max_len = num_set[counter]\n",
    "                counter += 1\n",
    "            \n",
    "            # Check if num is the end of the max sequence\n",
    "            if num_set[num] > max_len:\n",
    "                max_len = num_set[num]\n",
    "        return max_len"
   ]
  },
  {
   "cell_type": "markdown",
   "metadata": {},
   "source": [
    "### Attempt 2"
   ]
  },
  {
   "cell_type": "code",
   "execution_count": 6,
   "metadata": {},
   "outputs": [],
   "source": [
    "from typing import List\n",
    "\n",
    "class Solution:\n",
    "    def longestConsecutive(self, nums: List[int]) -> int:\n",
    "        num_set = set(nums)\n",
    "        longest_sequence = 0\n",
    "        \n",
    "        for num in num_set:\n",
    "            if (num - 1) not in num_set:\n",
    "                length = 1\n",
    "                while (num + length) in num_set:\n",
    "                    length += 1\n",
    "                longest_sequence = max(length, longest_sequence)\n",
    "        return longest_sequence"
   ]
  },
  {
   "cell_type": "markdown",
   "metadata": {},
   "source": [
    "### Testing"
   ]
  },
  {
   "cell_type": "code",
   "execution_count": 7,
   "metadata": {},
   "outputs": [
    {
     "data": {
      "text/plain": [
       "4"
      ]
     },
     "execution_count": 7,
     "metadata": {},
     "output_type": "execute_result"
    }
   ],
   "source": [
    "sol = Solution()\n",
    "sol.longestConsecutive([100, 4, 200, 1, 3, 2])"
   ]
  },
  {
   "cell_type": "code",
   "execution_count": 8,
   "metadata": {},
   "outputs": [
    {
     "data": {
      "text/plain": [
       "9"
      ]
     },
     "execution_count": 8,
     "metadata": {},
     "output_type": "execute_result"
    }
   ],
   "source": [
    "sol = Solution()\n",
    "sol.longestConsecutive([0, 3, 7, 2, 5, 8, 4, 6, 0, 1])"
   ]
  }
 ],
 "metadata": {
  "kernelspec": {
   "display_name": "notes_env",
   "language": "python",
   "name": "python3"
  },
  "language_info": {
   "codemirror_mode": {
    "name": "ipython",
    "version": 3
   },
   "file_extension": ".py",
   "mimetype": "text/x-python",
   "name": "python",
   "nbconvert_exporter": "python",
   "pygments_lexer": "ipython3",
   "version": "3.12.0"
  }
 },
 "nbformat": 4,
 "nbformat_minor": 2
}
