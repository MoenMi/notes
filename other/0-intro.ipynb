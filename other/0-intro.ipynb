{
 "cells": [
  {
   "cell_type": "markdown",
   "id": "52b2d8c6",
   "metadata": {},
   "source": [
    "# 0 - Pre-reqs\n",
    "\n",
    "See https://fastapi.tiangolo.com/learn/"
   ]
  },
  {
   "cell_type": "markdown",
   "id": "5012cd37",
   "metadata": {},
   "source": [
    "## Python Types"
   ]
  },
  {
   "cell_type": "code",
   "execution_count": 4,
   "id": "d0cc3618",
   "metadata": {},
   "outputs": [
    {
     "name": "stdout",
     "output_type": "stream",
     "text": [
      "John Doe\n"
     ]
    }
   ],
   "source": [
    "def get_full_name(first_name, last_name):\n",
    "    full_name = first_name.title() + \" \" + last_name.title()\n",
    "    return full_name\n",
    "\n",
    "print(get_full_name(\"john\", \"doe\"))"
   ]
  },
  {
   "cell_type": "code",
   "execution_count": 2,
   "id": "6238d3c2",
   "metadata": {},
   "outputs": [
    {
     "name": "stdout",
     "output_type": "stream",
     "text": [
      "John Doe\n"
     ]
    }
   ],
   "source": [
    "def get_full_name(first_name: str, last_name: str):\n",
    "    full_name = first_name.title() + \" \" + last_name.title()\n",
    "    return full_name\n",
    "\n",
    "\n",
    "print(get_full_name(\"john\", \"doe\"))"
   ]
  },
  {
   "cell_type": "code",
   "execution_count": 6,
   "id": "5a205b94",
   "metadata": {},
   "outputs": [
    {
     "name": "stdout",
     "output_type": "stream",
     "text": [
      "a\n",
      "b\n",
      "c\n"
     ]
    }
   ],
   "source": [
    "def process_items(items: list[str]):\n",
    "    for item in items:\n",
    "        print(item)\n",
    "\n",
    "process_items(['a', 'b', 'c'])"
   ]
  },
  {
   "cell_type": "code",
   "execution_count": 7,
   "id": "bf3d56fb",
   "metadata": {},
   "outputs": [
    {
     "name": "stdout",
     "output_type": "stream",
     "text": [
      "Banana\n",
      "1.23\n",
      "Bread\n",
      "2.23\n"
     ]
    }
   ],
   "source": [
    "def process_items(prices: dict[str, float]):\n",
    "    for item_name, item_price in prices.items():\n",
    "        print(item_name)\n",
    "        print(item_price)\n",
    "\n",
    "process_items({\n",
    "    'Banana': 1.23,\n",
    "    'Bread': 2.23\n",
    "})"
   ]
  },
  {
   "cell_type": "markdown",
   "id": "31d8958d",
   "metadata": {},
   "source": [
    "### Union\n",
    "\n",
    "`Union` from `typing` allows you to use one of a list of types."
   ]
  },
  {
   "cell_type": "code",
   "execution_count": 8,
   "id": "72f4eb97",
   "metadata": {},
   "outputs": [
    {
     "name": "stdout",
     "output_type": "stream",
     "text": [
      "Hello\n",
      "42\n"
     ]
    }
   ],
   "source": [
    "from typing import Union\n",
    "\n",
    "def process_item(item: Union[int, str]):\n",
    "    print(item)\n",
    "\n",
    "process_item('Hello')\n",
    "process_item(42)"
   ]
  },
  {
   "cell_type": "markdown",
   "id": "b337c0f1",
   "metadata": {},
   "source": [
    "As of Python 3.10, you can also do the following:"
   ]
  },
  {
   "cell_type": "code",
   "execution_count": 11,
   "id": "4114e6d8",
   "metadata": {},
   "outputs": [
    {
     "name": "stdout",
     "output_type": "stream",
     "text": [
      "Hello\n",
      "42\n"
     ]
    }
   ],
   "source": [
    "def process_item(item: int | str):\n",
    "    print(item)\n",
    "\n",
    "process_item('Hello')\n",
    "process_item(42)"
   ]
  },
  {
   "cell_type": "markdown",
   "id": "88415137",
   "metadata": {},
   "source": [
    "### Optional\n",
    "\n",
    "`Optional` from `typing` allows the type to also be `None`."
   ]
  },
  {
   "cell_type": "code",
   "execution_count": 9,
   "id": "d4bebd2b",
   "metadata": {},
   "outputs": [
    {
     "name": "stdout",
     "output_type": "stream",
     "text": [
      "Hey Michael!\n",
      "Hello World\n"
     ]
    }
   ],
   "source": [
    "from typing import Optional\n",
    "\n",
    "def say_hi(name: Optional[str] = None):\n",
    "    if name is not None:\n",
    "        print(f\"Hey {name}!\")\n",
    "    else:\n",
    "        print(\"Hello World\")\n",
    "\n",
    "say_hi('Michael')\n",
    "say_hi()"
   ]
  },
  {
   "cell_type": "markdown",
   "id": "ad8726ed",
   "metadata": {},
   "source": [
    "As of Python 3.10, you can also do the following:"
   ]
  },
  {
   "cell_type": "code",
   "execution_count": 10,
   "id": "93b88610",
   "metadata": {},
   "outputs": [
    {
     "name": "stdout",
     "output_type": "stream",
     "text": [
      "Hey Michael!\n",
      "Hello World\n"
     ]
    }
   ],
   "source": [
    "def say_hi(name: str | None = None):\n",
    "    if name is not None:\n",
    "        print(f\"Hey {name}!\")\n",
    "    else:\n",
    "        print(\"Hello World\")\n",
    "\n",
    "say_hi('Michael')\n",
    "say_hi()"
   ]
  },
  {
   "cell_type": "markdown",
   "id": "a4460f0b",
   "metadata": {},
   "source": [
    "### Pydantic\n",
    "\n",
    "`pydantic` is a Python library to perform data validation."
   ]
  },
  {
   "cell_type": "code",
   "execution_count": null,
   "id": "c9f9cfe5",
   "metadata": {},
   "outputs": [
    {
     "name": "stdout",
     "output_type": "stream",
     "text": [
      "id=123 name='John Doe' signup_ts=datetime.datetime(2017, 6, 1, 12, 22) friends=[1, 2, 3]\n",
      "123\n"
     ]
    }
   ],
   "source": [
    "from datetime import datetime\n",
    "from pydantic import BaseModel\n",
    "\n",
    "class User(BaseModel):\n",
    "    id: int\n",
    "    name: str = \"John Doe\"\n",
    "    signup_ts: datetime | None = None\n",
    "    friends: list[int] = []\n",
    "\n",
    "external_data = {\n",
    "    \"id\": \"123\",\n",
    "    \"signup_ts\": \"2017-06-01 12:22\",\n",
    "    \"friends\": [1, \"2\", b\"3\"],\n",
    "}\n",
    "\n",
    "# Note that ** unpacks the dictionary into a list of keyword arguments\n",
    "user = User(**external_data)\n",
    "\n",
    "print(user)\n",
    "# > User id=123 name='John Doe' signup_ts=datetime.datetime(2017, 6, 1, 12, 22) friends=[1, 2, 3]\n",
    "\n",
    "print(user.id)\n",
    "# > 123"
   ]
  },
  {
   "cell_type": "markdown",
   "id": "bda9131c",
   "metadata": {},
   "source": [
    "### Annotated\n",
    "\n",
    "This allows you to include metadata in your type hints. "
   ]
  },
  {
   "cell_type": "code",
   "execution_count": 15,
   "id": "02b8493f",
   "metadata": {},
   "outputs": [
    {
     "data": {
      "text/plain": [
       "'Hello Michael'"
      ]
     },
     "execution_count": 15,
     "metadata": {},
     "output_type": "execute_result"
    }
   ],
   "source": [
    "from typing import Annotated\n",
    "\n",
    "def say_hello(name: Annotated[str, \"this is just metadata\"]) -> str:\n",
    "    return f\"Hello {name}\"\n",
    "\n",
    "say_hello('Michael')"
   ]
  },
  {
   "cell_type": "markdown",
   "id": "6e41de57",
   "metadata": {},
   "source": [
    "## Concurrency and `async` / `await`\n",
    "\n",
    "if you are using third party libraries that tell you to call them with `await`, then declare your path operation function with `async def`:"
   ]
  },
  {
   "cell_type": "code",
   "execution_count": null,
   "id": "1ad656ca",
   "metadata": {},
   "outputs": [],
   "source": [
    "@app.get('/')\n",
    "async def read_results():\n",
    "    results = await some_library()\n",
    "    return results"
   ]
  },
  {
   "cell_type": "markdown",
   "id": "b0e6e3cd",
   "metadata": {},
   "source": [
    "Note that you can only use `await` inside functions created with `async def`. `async` basically gives Python permission to stop a function and go do something else.\n",
    "\n",
    "Note that `async` functions can only be run inside of other `async` functions. FastAPI handles this, so there isn't too much to worry about when using it."
   ]
  }
 ],
 "metadata": {
  "kernelspec": {
   "display_name": "fastapi_env",
   "language": "python",
   "name": "python3"
  },
  "language_info": {
   "codemirror_mode": {
    "name": "ipython",
    "version": 3
   },
   "file_extension": ".py",
   "mimetype": "text/x-python",
   "name": "python",
   "nbconvert_exporter": "python",
   "pygments_lexer": "ipython3",
   "version": "3.13.3"
  }
 },
 "nbformat": 4,
 "nbformat_minor": 5
}
