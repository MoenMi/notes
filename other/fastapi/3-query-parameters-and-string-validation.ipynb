{
 "cells": [
  {
   "cell_type": "markdown",
   "id": "ce5ed8d8",
   "metadata": {},
   "source": [
    "# 3 - Query Parameters and String Validation\n",
    "\n",
    "FastAPI allows us to declare additional information and validation about parameters."
   ]
  },
  {
   "cell_type": "code",
   "execution_count": null,
   "id": "08dbcc31",
   "metadata": {},
   "outputs": [],
   "source": [
    "from typing import Annotated\n",
    "from fastapi import FastAPI, Query\n",
    "\n",
    "app = FastAPI()\n",
    "\n",
    "@app.get(\"/items/\")\n",
    "async def read_items(q: Annotated[str | None, Query(max_length=50)] = None):\n",
    "    results = {\"items\": [{\"item_id\": \"Foo\"}, {\"item_id\": \"Bar\"}]}\n",
    "    if q:\n",
    "        results.update({\"q\": q})\n",
    "    return results"
   ]
  },
  {
   "cell_type": "code",
   "execution_count": 5,
   "id": "86acf464",
   "metadata": {},
   "outputs": [
    {
     "data": {
      "text/plain": [
       "{'detail': [{'type': 'string_too_long',\n",
       "   'loc': ['query', 'q'],\n",
       "   'msg': 'String should have at most 50 characters',\n",
       "   'input': '1111 2222 3333 4444 5555 6666 7777 8888 9999 0000 1',\n",
       "   'ctx': {'max_length': 50}}]}"
      ]
     },
     "execution_count": 5,
     "metadata": {},
     "output_type": "execute_result"
    }
   ],
   "source": [
    "import requests\n",
    "\n",
    "url = 'http://127.0.0.1:8000'\n",
    "params = {\n",
    "    'q': '1111 2222 3333 4444 5555 6666 7777 8888 9999 0000 1'\n",
    "}\n",
    "requests.get(url + '/items', params=params).json()"
   ]
  },
  {
   "cell_type": "markdown",
   "id": "0f7ffd05",
   "metadata": {},
   "source": [
    "We can add more validations:"
   ]
  },
  {
   "cell_type": "code",
   "execution_count": null,
   "id": "3de9f87d",
   "metadata": {},
   "outputs": [],
   "source": [
    "from typing import Annotated\n",
    "from fastapi import FastAPI, Query\n",
    "\n",
    "app = FastAPI()\n",
    "\n",
    "@app.get(\"/items/\")\n",
    "async def read_items(q: Annotated[str | None, Query(min_length=3, max_length=50)] = None):\n",
    "    results = {\"items\": [{\"item_id\": \"Foo\"}, {\"item_id\": \"Bar\"}]}\n",
    "    if q:\n",
    "        results.update({\"q\": q})\n",
    "    return results"
   ]
  },
  {
   "cell_type": "code",
   "execution_count": 6,
   "id": "ca8d8991",
   "metadata": {},
   "outputs": [
    {
     "data": {
      "text/plain": [
       "{'detail': [{'type': 'string_too_short',\n",
       "   'loc': ['query', 'q'],\n",
       "   'msg': 'String should have at least 3 characters',\n",
       "   'input': '12',\n",
       "   'ctx': {'min_length': 3}}]}"
      ]
     },
     "execution_count": 6,
     "metadata": {},
     "output_type": "execute_result"
    }
   ],
   "source": [
    "params = {\n",
    "    'q': '12'\n",
    "}\n",
    "requests.get(url + '/items', params=params).json()"
   ]
  },
  {
   "cell_type": "markdown",
   "id": "7b2fc623",
   "metadata": {},
   "source": [
    "## Using Regular Expressions\n",
    "\n",
    "The regex below has the following construction:\n",
    "- `^` means that the expression starts with the following characters\n",
    "- `$` means that there are no more characters after the preceding expression\n",
    "\n",
    "In other words, the regex limits the query to be exactly `fixedquery`."
   ]
  },
  {
   "cell_type": "code",
   "execution_count": null,
   "id": "ac3e5864",
   "metadata": {},
   "outputs": [],
   "source": [
    "@app.get(\"/items/\")\n",
    "async def read_items(\n",
    "    q: Annotated[\n",
    "        str | None, Query(min_length=3, max_length=50, pattern=\"^fixedquery$\")\n",
    "    ] = None,\n",
    "):\n",
    "    results = {\"items\": [{\"item_id\": \"Foo\"}, {\"item_id\": \"Bar\"}]}\n",
    "    if q:\n",
    "        results.update({\"q\": q})\n",
    "    return results"
   ]
  },
  {
   "cell_type": "code",
   "execution_count": 8,
   "id": "31605be3",
   "metadata": {},
   "outputs": [
    {
     "data": {
      "text/plain": [
       "{'detail': [{'type': 'string_pattern_mismatch',\n",
       "   'loc': ['query', 'q'],\n",
       "   'msg': \"String should match pattern '^fixedquery$'\",\n",
       "   'input': 'fixquery',\n",
       "   'ctx': {'pattern': '^fixedquery$'}}]}"
      ]
     },
     "execution_count": 8,
     "metadata": {},
     "output_type": "execute_result"
    }
   ],
   "source": [
    "params = {\n",
    "    'q': 'fixquery'\n",
    "}\n",
    "requests.get(url + '/items', params=params).json()"
   ]
  },
  {
   "cell_type": "code",
   "execution_count": 10,
   "id": "b8565852",
   "metadata": {},
   "outputs": [
    {
     "data": {
      "text/plain": [
       "{'items': [{'item_id': 'Foo'}, {'item_id': 'Bar'}], 'q': 'fixedquery'}"
      ]
     },
     "execution_count": 10,
     "metadata": {},
     "output_type": "execute_result"
    }
   ],
   "source": [
    "params = {\n",
    "    'q': 'fixedquery'\n",
    "}\n",
    "requests.get(url + '/items', params=params).json()"
   ]
  },
  {
   "cell_type": "markdown",
   "id": "e6dc10db",
   "metadata": {},
   "source": [
    "## Multiple Values\n",
    "\n",
    "We can use `list[]` to receive a list of items."
   ]
  },
  {
   "cell_type": "code",
   "execution_count": null,
   "id": "daa77c94",
   "metadata": {},
   "outputs": [],
   "source": [
    "@app.get(\"/multiple_items/\")\n",
    "async def read_multiple_items(q: Annotated[list[str] | None, Query()] = None):\n",
    "    query_items = {\"q\": q}\n",
    "    return query_items"
   ]
  },
  {
   "cell_type": "code",
   "execution_count": 11,
   "id": "d3f92e7f",
   "metadata": {},
   "outputs": [
    {
     "data": {
      "text/plain": [
       "{'q': ['1', '2', '3']}"
      ]
     },
     "execution_count": 11,
     "metadata": {},
     "output_type": "execute_result"
    }
   ],
   "source": [
    "params = {\n",
    "    'q': [1, 2, 3]\n",
    "}\n",
    "requests.get(url + '/multiple_items', params=params).json()"
   ]
  },
  {
   "cell_type": "markdown",
   "id": "587d5aa2",
   "metadata": {},
   "source": [
    "Note that this is equivalent to this:"
   ]
  },
  {
   "cell_type": "code",
   "execution_count": 12,
   "id": "10f2a5ea",
   "metadata": {},
   "outputs": [
    {
     "data": {
      "text/plain": [
       "{'q': ['1', '2', '3']}"
      ]
     },
     "execution_count": 12,
     "metadata": {},
     "output_type": "execute_result"
    }
   ],
   "source": [
    "requests.get(url + '/multiple_items?q=1&q=2&q=3').json()"
   ]
  },
  {
   "cell_type": "markdown",
   "id": "eef28144",
   "metadata": {},
   "source": [
    "## Adding More Metadata\n",
    "\n",
    "We can include more metadata using `title` and `description` that will be used when generating the Swagger docs."
   ]
  },
  {
   "cell_type": "code",
   "execution_count": null,
   "id": "6b234f61",
   "metadata": {},
   "outputs": [],
   "source": [
    "@app.get(\"/items2/\")\n",
    "async def read_items2(\n",
    "    q: Annotated[\n",
    "        str | None,\n",
    "        Query(\n",
    "            title=\"Query string\",\n",
    "            description=\"Query string for the items to search in the database that have a good match\",\n",
    "            min_length=3,\n",
    "        ),\n",
    "    ] = None,\n",
    "):\n",
    "    results = {\"items\": [{\"item_id\": \"Foo\"}, {\"item_id\": \"Bar\"}]}\n",
    "    if q:\n",
    "        results.update({\"q\": q})\n",
    "    return results"
   ]
  },
  {
   "cell_type": "markdown",
   "id": "9c453089",
   "metadata": {},
   "source": [
    "## Alias Parameters\n",
    "\n",
    "Suppose we want a parameter to be `item-query`, but `item-query` is not a valid Python variable name. We can do this by declaring an alias:"
   ]
  },
  {
   "cell_type": "code",
   "execution_count": null,
   "id": "04e3cbad",
   "metadata": {},
   "outputs": [],
   "source": [
    "@app.get(\"/items3/\")\n",
    "async def read_items(q: Annotated[str | None, Query(alias=\"item-query\")] = None):\n",
    "    results = {\"items3\": [{\"item_id\": \"Foo\"}, {\"item_id\": \"Bar\"}]}\n",
    "    if q:\n",
    "        results.update({\"q\": q})\n",
    "    return results"
   ]
  },
  {
   "cell_type": "code",
   "execution_count": 14,
   "id": "113ca3e6",
   "metadata": {},
   "outputs": [
    {
     "data": {
      "text/plain": [
       "{'items': [{'item_id': 'Foo'}, {'item_id': 'Bar'}], 'q': 'asd5'}"
      ]
     },
     "execution_count": 14,
     "metadata": {},
     "output_type": "execute_result"
    }
   ],
   "source": [
    "params = {\n",
    "    'item-query': 'asd5'\n",
    "}\n",
    "requests.get(url + '/items3', params=params).json()"
   ]
  },
  {
   "cell_type": "markdown",
   "id": "92a93b79",
   "metadata": {},
   "source": [
    "## Deprecating Parameters\n",
    "\n",
    "If we want to allow a parameter, but signal to clients that it is being deprecated, we can set `deprecated=True`. Note that this will only affect the Swagger Docs."
   ]
  },
  {
   "cell_type": "code",
   "execution_count": null,
   "id": "00828c17",
   "metadata": {},
   "outputs": [],
   "source": [
    "@app.get(\"/items4/\")\n",
    "async def read_items4(\n",
    "    q: Annotated[\n",
    "        str | None,\n",
    "        Query(\n",
    "            alias=\"item-query\",\n",
    "            title=\"Query string\",\n",
    "            description=\"Query string for the items to search in the database that have a good match\",\n",
    "            min_length=3,\n",
    "            max_length=50,\n",
    "            pattern=\"^fixedquery$\",\n",
    "            deprecated=True,\n",
    "        ),\n",
    "    ] = None,\n",
    "):\n",
    "    results = {\"items\": [{\"item_id\": \"Foo\"}, {\"item_id\": \"Bar\"}]}\n",
    "    if q:\n",
    "        results.update({\"q\": q})\n",
    "    return results"
   ]
  },
  {
   "cell_type": "code",
   "execution_count": 20,
   "id": "fa25889e",
   "metadata": {},
   "outputs": [
    {
     "data": {
      "text/plain": [
       "{'items': [{'item_id': 'Foo'}, {'item_id': 'Bar'}], 'q': 'fixedquery'}"
      ]
     },
     "execution_count": 20,
     "metadata": {},
     "output_type": "execute_result"
    }
   ],
   "source": [
    "params = {\n",
    "    'item-query': 'fixedquery'\n",
    "}\n",
    "requests.get(url + '/items4', params=params).json()"
   ]
  },
  {
   "cell_type": "markdown",
   "id": "7beda46a",
   "metadata": {},
   "source": [
    "Note that you can also set `include_in_schema=False` to hide a parameter from the Swagger UI."
   ]
  },
  {
   "cell_type": "markdown",
   "id": "c339636d",
   "metadata": {},
   "source": [
    "## Custom Validation\n",
    "\n",
    "We can write coustom validation methods using Pydantic's `AfterValidator` inside of `Annotated`."
   ]
  },
  {
   "cell_type": "code",
   "execution_count": null,
   "id": "03aa6259",
   "metadata": {},
   "outputs": [],
   "source": [
    "import random\n",
    "from pydantic import AfterValidator\n",
    "\n",
    "data = {\n",
    "    \"isbn-9781529046137\": \"The Hitchhiker's Guide to the Galaxy\",\n",
    "    \"imdb-tt0371724\": \"The Hitchhiker's Guide to the Galaxy\",\n",
    "    \"isbn-9781439512982\": \"Isaac Asimov: The Complete Stories, Vol. 2\"\n",
    "}\n",
    "\n",
    "def check_valid_id(id: str):\n",
    "    if not id.startswith((\"isbn-\", \"imdb-\")):\n",
    "        raise ValueError('Invalid ID format, it must start with \"isbn-\" or \"imdb-\"')\n",
    "    return id\n",
    "\n",
    "@app.get(\"/items5/\")\n",
    "async def read_items5(\n",
    "    id: Annotated[str | None, AfterValidator(check_valid_id)] = None,\n",
    "):\n",
    "    if id:\n",
    "        item = data.get(id)\n",
    "    else:\n",
    "        id, item = random.choice(list(data.items()))\n",
    "    return {\"id\": id, \"name\": item}"
   ]
  },
  {
   "cell_type": "code",
   "execution_count": 34,
   "id": "27b809df",
   "metadata": {},
   "outputs": [
    {
     "data": {
      "text/plain": [
       "{'id': 'isbn-9781529046137', 'name': \"The Hitchhiker's Guide to the Galaxy\"}"
      ]
     },
     "execution_count": 34,
     "metadata": {},
     "output_type": "execute_result"
    }
   ],
   "source": [
    "params = {\n",
    "    'id': 'isbn-9781529046137'\n",
    "}\n",
    "requests.get(url + '/items5', params=params).json()"
   ]
  }
 ],
 "metadata": {
  "kernelspec": {
   "display_name": "fastapi_env",
   "language": "python",
   "name": "python3"
  },
  "language_info": {
   "codemirror_mode": {
    "name": "ipython",
    "version": 3
   },
   "file_extension": ".py",
   "mimetype": "text/x-python",
   "name": "python",
   "nbconvert_exporter": "python",
   "pygments_lexer": "ipython3",
   "version": "3.13.3"
  }
 },
 "nbformat": 4,
 "nbformat_minor": 5
}
