{
 "cells": [
  {
   "cell_type": "markdown",
   "id": "a9a37bc7",
   "metadata": {},
   "source": [
    "# 2 - Request Body\n",
    "\n",
    "To declare a request body, we use Pydantic models."
   ]
  },
  {
   "cell_type": "markdown",
   "id": "e7fb3eea",
   "metadata": {},
   "source": [
    "## Data Model Setup"
   ]
  },
  {
   "cell_type": "code",
   "execution_count": null,
   "id": "afab7819",
   "metadata": {},
   "outputs": [],
   "source": [
    "from pydantic import BaseModel\n",
    "\n",
    "class Item(BaseModel):\n",
    "    name: str\n",
    "    description: str | None = None\n",
    "    price: float\n",
    "    tax: float | None = None\n",
    "\n",
    "@app.post(\"/items/\")\n",
    "async def create_item(item: Item):\n",
    "    return item"
   ]
  },
  {
   "cell_type": "markdown",
   "id": "a9ef43b6",
   "metadata": {},
   "source": [
    "You can pass data in with a POST request using the `json` parameter for the payload:"
   ]
  },
  {
   "cell_type": "code",
   "execution_count": 6,
   "id": "efd6a54d",
   "metadata": {},
   "outputs": [
    {
     "data": {
      "text/plain": [
       "{'name': 'Towel', 'description': None, 'price': 8.76, 'tax': None}"
      ]
     },
     "execution_count": 6,
     "metadata": {},
     "output_type": "execute_result"
    }
   ],
   "source": [
    "import requests\n",
    "url = 'http://127.0.0.1:8000'\n",
    "\n",
    "payload = {\n",
    "    'name': 'Towel',\n",
    "    'price': 8.76\n",
    "}\n",
    "requests.post(url + '/items', json=payload).json()"
   ]
  },
  {
   "cell_type": "markdown",
   "id": "3bd5a532",
   "metadata": {},
   "source": [
    "## Using the Model"
   ]
  },
  {
   "cell_type": "code",
   "execution_count": null,
   "id": "6d027f99",
   "metadata": {},
   "outputs": [],
   "source": [
    "@app.post(\"/items/\")\n",
    "async def create_item(item: Item):\n",
    "    item_dict = item.dict()\n",
    "    if item.tax is not None:\n",
    "        price_with_tax = item.price + item.tax\n",
    "        item_dict.update({\"price_with_tax\": price_with_tax})\n",
    "    return item_dict"
   ]
  },
  {
   "cell_type": "code",
   "execution_count": 13,
   "id": "3c8ba820",
   "metadata": {},
   "outputs": [
    {
     "data": {
      "text/plain": [
       "{'name': 'Towel',\n",
       " 'description': 'A towel',\n",
       " 'price': 8.76,\n",
       " 'tax': 1.15,\n",
       " 'price_with_tax': 9.91}"
      ]
     },
     "execution_count": 13,
     "metadata": {},
     "output_type": "execute_result"
    }
   ],
   "source": [
    "payload = {\n",
    "    'name': 'Towel',\n",
    "    'description': 'A towel',\n",
    "    'price': 8.76,\n",
    "    'tax': 1.15\n",
    "}\n",
    "requests.post(url + '/items', json=payload).json()"
   ]
  }
 ],
 "metadata": {
  "kernelspec": {
   "display_name": "fastapi_env",
   "language": "python",
   "name": "python3"
  },
  "language_info": {
   "codemirror_mode": {
    "name": "ipython",
    "version": 3
   },
   "file_extension": ".py",
   "mimetype": "text/x-python",
   "name": "python",
   "nbconvert_exporter": "python",
   "pygments_lexer": "ipython3",
   "version": "3.13.3"
  }
 },
 "nbformat": 4,
 "nbformat_minor": 5
}
