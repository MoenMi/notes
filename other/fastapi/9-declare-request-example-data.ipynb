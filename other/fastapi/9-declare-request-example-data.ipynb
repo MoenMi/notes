{
 "cells": [
  {
   "cell_type": "markdown",
   "id": "e24af321",
   "metadata": {},
   "source": [
    "# 9 - Declare Request Example Data"
   ]
  },
  {
   "cell_type": "code",
   "execution_count": null,
   "id": "b8af3bec",
   "metadata": {},
   "outputs": [],
   "source": [
    "class Item3(BaseModel):\n",
    "    name: str\n",
    "    description: str | None = None\n",
    "    price: float\n",
    "    tax: float | None = None\n",
    "\n",
    "    model_config = {\n",
    "        \"json_schema_extra\": {\n",
    "            \"examples\": [\n",
    "                {\n",
    "                    \"name\": \"Foo\",\n",
    "                    \"description\": \"A very nice Item\",\n",
    "                    \"price\": 35.4,\n",
    "                    \"tax\": 3.2,\n",
    "                }\n",
    "            ]\n",
    "        }\n",
    "    }\n",
    "\n",
    "@app.put(\"/items12/{item_id}\")\n",
    "async def update_item(item_id: int, item: Item3):\n",
    "    results = {\"item_id\": item_id, \"item\": item}\n",
    "    return results"
   ]
  },
  {
   "cell_type": "markdown",
   "id": "c88c3679",
   "metadata": {},
   "source": [
    "The data in `model_config` will be added as an example in the OpenAPI and Swagger documentation."
   ]
  },
  {
   "cell_type": "code",
   "execution_count": null,
   "id": "ef0a4ad3",
   "metadata": {},
   "outputs": [],
   "source": [
    "class Item3(BaseModel):\n",
    "    name: str = Field(examples=[\"Pikachu\", \"Axew\"])\n",
    "    description: str | None = Field(default=None, examples=[\"The 25th Pokemon in the Pokedex.\"])\n",
    "    price: float = Field(examples=[35.4])\n",
    "    tax: float | None = Field(default=None, examples=[3.2])"
   ]
  },
  {
   "cell_type": "markdown",
   "id": "d68f4922",
   "metadata": {},
   "source": [
    "The `examples` attribute can also be used to add examples to the schema when using `Field`, `Path`, `Query`, `Body`, `Header`, `Form`, `File`, and `Cookie`."
   ]
  }
 ],
 "metadata": {
  "kernelspec": {
   "display_name": "fastapi_env",
   "language": "python",
   "name": "python3"
  },
  "language_info": {
   "name": "python",
   "version": "3.13.3"
  }
 },
 "nbformat": 4,
 "nbformat_minor": 5
}
