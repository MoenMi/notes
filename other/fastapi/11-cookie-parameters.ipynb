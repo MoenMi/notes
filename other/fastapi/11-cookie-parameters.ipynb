{
 "cells": [
  {
   "cell_type": "markdown",
   "id": "d15fd1a5",
   "metadata": {},
   "source": [
    "# 11 - Cookie Parameters"
   ]
  },
  {
   "cell_type": "code",
   "execution_count": null,
   "id": "473263a5",
   "metadata": {},
   "outputs": [],
   "source": [
    "from typing import Annotated\n",
    "\n",
    "from fastapi import Cookie, FastAPI\n",
    "\n",
    "app = FastAPI()\n",
    "\n",
    "\n",
    "@app.get(\"/items/\")\n",
    "async def read_items(ads_id: Annotated[str | None, Cookie()] = None):\n",
    "    return {\"ads_id\": ads_id}"
   ]
  }
 ],
 "metadata": {
  "kernelspec": {
   "display_name": "fastapi_env",
   "language": "python",
   "name": "python3"
  },
  "language_info": {
   "name": "python",
   "version": "3.13.3"
  }
 },
 "nbformat": 4,
 "nbformat_minor": 5
}
