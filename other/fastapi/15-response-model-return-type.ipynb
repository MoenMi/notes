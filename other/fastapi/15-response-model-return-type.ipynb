{
 "cells": [
  {
   "cell_type": "markdown",
   "id": "14eb65d3",
   "metadata": {},
   "source": [
    "# 15 - Response Model: Return Type"
   ]
  },
  {
   "cell_type": "code",
   "execution_count": null,
   "id": "badb7d05",
   "metadata": {},
   "outputs": [],
   "source": [
    "class Item(BaseModel):\n",
    "    name: str\n",
    "    description: str | None = None\n",
    "    price: float\n",
    "    tax: float | None = None\n",
    "    tags: list[str] = []\n",
    "\n",
    "@app.post(\"/items/\")\n",
    "async def create_item(item: Item) -> Item:\n",
    "    return item\n",
    "\n",
    "@app.get(\"/items/\")\n",
    "async def read_items() -> list[Item]:\n",
    "    return [\n",
    "        Item(name=\"Portal Gun\", price=42.0),\n",
    "        Item(name=\"Plumbus\", price=32.0),\n",
    "    ]"
   ]
  },
  {
   "cell_type": "code",
   "execution_count": 1,
   "id": "75522b1e",
   "metadata": {},
   "outputs": [],
   "source": [
    "import requests\n",
    "url = 'http://127.0.0.1:8000'"
   ]
  },
  {
   "cell_type": "code",
   "execution_count": 3,
   "id": "111271cc",
   "metadata": {},
   "outputs": [
    {
     "data": {
      "text/plain": [
       "{'name': 'Wireless Mouse',\n",
       " 'description': None,\n",
       " 'price': 12.0,\n",
       " 'tax': None,\n",
       " 'tags': ['wireless', 'usb', 'black']}"
      ]
     },
     "execution_count": 3,
     "metadata": {},
     "output_type": "execute_result"
    }
   ],
   "source": [
    "data = {\n",
    "    'name': 'Wireless Mouse',\n",
    "    'price': 12.0,\n",
    "    'tags': ['wireless', 'usb', 'black']\n",
    "}\n",
    "requests.post(url + '/items14', json=data).json()"
   ]
  },
  {
   "cell_type": "code",
   "execution_count": 5,
   "id": "abdc3b5c",
   "metadata": {},
   "outputs": [
    {
     "data": {
      "text/plain": [
       "[{'name': 'Portal Gun',\n",
       "  'description': None,\n",
       "  'price': 42.0,\n",
       "  'tax': None,\n",
       "  'tags': []},\n",
       " {'name': 'Plumbus',\n",
       "  'description': None,\n",
       "  'price': 32.0,\n",
       "  'tax': None,\n",
       "  'tags': []}]"
      ]
     },
     "execution_count": 5,
     "metadata": {},
     "output_type": "execute_result"
    }
   ],
   "source": [
    "requests.get(url + '/items14').json()"
   ]
  },
  {
   "cell_type": "markdown",
   "id": "5b9ecb9b",
   "metadata": {},
   "source": [
    "## The `response_model` Parameter\n",
    "\n",
    "The `response_model` parameter is a parameter of the decorator method that specifies the return type while allowing other data to be returned by the endpoint."
   ]
  },
  {
   "cell_type": "code",
   "execution_count": null,
   "id": "90473f00",
   "metadata": {},
   "outputs": [],
   "source": [
    "from typing import Any\n",
    "\n",
    "class Item(BaseModel):\n",
    "    name: str\n",
    "    description: str | None = None\n",
    "    price: float\n",
    "    tax: float | None = None\n",
    "    tags: list[str] = []\n",
    "\n",
    "@app.post(\"/items/\", response_model=Item)\n",
    "async def create_item(item: Item) -> Any:\n",
    "    return item\n",
    "\n",
    "@app.get(\"/items/\", response_model=list[Item])\n",
    "async def read_items() -> Any:\n",
    "    return [\n",
    "        {\"name\": \"Portal Gun\", \"price\": 42.0},\n",
    "        {\"name\": \"Plumbus\", \"price\": 32.0},\n",
    "    ]"
   ]
  },
  {
   "cell_type": "code",
   "execution_count": 6,
   "id": "49c0509e",
   "metadata": {},
   "outputs": [
    {
     "data": {
      "text/plain": [
       "{'name': 'Wireless Mouse',\n",
       " 'description': None,\n",
       " 'price': 12.0,\n",
       " 'tax': None,\n",
       " 'tags': ['wireless', 'usb', 'black']}"
      ]
     },
     "execution_count": 6,
     "metadata": {},
     "output_type": "execute_result"
    }
   ],
   "source": [
    "data = {\n",
    "    'name': 'Wireless Mouse',\n",
    "    'price': 12.0,\n",
    "    'tags': ['wireless', 'usb', 'black']\n",
    "}\n",
    "requests.post(url + '/items15', json=data).json()"
   ]
  },
  {
   "cell_type": "code",
   "execution_count": 7,
   "id": "e86ccd1c",
   "metadata": {},
   "outputs": [
    {
     "data": {
      "text/plain": [
       "[{'name': 'Portal Gun',\n",
       "  'description': None,\n",
       "  'price': 42.0,\n",
       "  'tax': None,\n",
       "  'tags': []},\n",
       " {'name': 'Plumbus',\n",
       "  'description': None,\n",
       "  'price': 32.0,\n",
       "  'tax': None,\n",
       "  'tags': []}]"
      ]
     },
     "execution_count": 7,
     "metadata": {},
     "output_type": "execute_result"
    }
   ],
   "source": [
    "requests.get(url + '/items15').json()"
   ]
  },
  {
   "cell_type": "markdown",
   "id": "43ab7b8a",
   "metadata": {},
   "source": [
    "### Automatically Filtering Data from the Output Using `response_model`"
   ]
  },
  {
   "cell_type": "code",
   "execution_count": null,
   "id": "7b5211e1",
   "metadata": {},
   "outputs": [],
   "source": [
    "class UserIn(BaseModel):\n",
    "    username: str\n",
    "    password: str\n",
    "    full_name: str | None = None\n",
    "\n",
    "class UserOut(BaseModel):\n",
    "    username: str\n",
    "    full_name: str | None = None\n",
    "\n",
    "@app.post(\"/user/\", response_model=UserOut)\n",
    "async def create_user(user: UserIn) -> Any:\n",
    "    return user"
   ]
  },
  {
   "cell_type": "code",
   "execution_count": 10,
   "id": "0328898c",
   "metadata": {},
   "outputs": [
    {
     "data": {
      "text/plain": [
       "{'username': 'GottaKetchumAll', 'full_name': 'Ash Ketchum'}"
      ]
     },
     "execution_count": 10,
     "metadata": {},
     "output_type": "execute_result"
    }
   ],
   "source": [
    "data = {\n",
    "    'username': 'GottaKetchumAll',\n",
    "    'password': 'PikaPika25',\n",
    "    'full_name': 'Ash Ketchum'\n",
    "}\n",
    "requests.post(url + '/user', json=data).json()"
   ]
  }
 ],
 "metadata": {
  "kernelspec": {
   "display_name": "fastapi_env",
   "language": "python",
   "name": "python3"
  },
  "language_info": {
   "codemirror_mode": {
    "name": "ipython",
    "version": 3
   },
   "file_extension": ".py",
   "mimetype": "text/x-python",
   "name": "python",
   "nbconvert_exporter": "python",
   "pygments_lexer": "ipython3",
   "version": "3.13.3"
  }
 },
 "nbformat": 4,
 "nbformat_minor": 5
}
