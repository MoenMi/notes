{
 "cells": [
  {
   "cell_type": "markdown",
   "id": "4087541f",
   "metadata": {},
   "source": [
    "# 1 - First Steps\n",
    "\n",
    "First, we define `main.py`:"
   ]
  },
  {
   "cell_type": "code",
   "execution_count": null,
   "id": "27e4b079",
   "metadata": {},
   "outputs": [],
   "source": [
    "from fastapi import FastAPI\n",
    "\n",
    "app = FastAPI()\n",
    "\n",
    "@app.get(\"/\")\n",
    "async def root():\n",
    "    return {\"message\": \"Hello World\"}"
   ]
  },
  {
   "cell_type": "markdown",
   "id": "f349e165",
   "metadata": {},
   "source": [
    "Then, we can launch the FastAPI server with the command below:"
   ]
  },
  {
   "cell_type": "code",
   "execution_count": null,
   "id": "c09eefae",
   "metadata": {},
   "outputs": [],
   "source": [
    "# fastapi dev main.py"
   ]
  },
  {
   "cell_type": "markdown",
   "id": "a09af5f7",
   "metadata": {},
   "source": [
    "When you run a FastAPI server locally, it will be at http://127.0.0.1:8000 by default.\n",
    "\n",
    "Additionally, Swagger docs will be available at http://127.0.0.1:8000/docs and ReDoc docs will be available at http://127.0.0.1:8000/redoc."
   ]
  },
  {
   "cell_type": "markdown",
   "id": "b2d75c40",
   "metadata": {},
   "source": [
    "## Path Parameters"
   ]
  },
  {
   "cell_type": "code",
   "execution_count": null,
   "id": "a85878ed",
   "metadata": {},
   "outputs": [],
   "source": [
    "@app.get(\"/items/{item_id}\")\n",
    "async def read_item(item_id):\n",
    "    return {\"item_id\": item_id}"
   ]
  },
  {
   "cell_type": "code",
   "execution_count": 7,
   "id": "8b5b990d",
   "metadata": {},
   "outputs": [
    {
     "name": "stdout",
     "output_type": "stream",
     "text": [
      "{'item_id': 'pikachu'}\n"
     ]
    }
   ],
   "source": [
    "import requests\n",
    "\n",
    "print(requests.get('http://127.0.0.1:8000/items/pikachu').json())"
   ]
  }
 ],
 "metadata": {
  "kernelspec": {
   "display_name": "fastapi_env",
   "language": "python",
   "name": "python3"
  },
  "language_info": {
   "codemirror_mode": {
    "name": "ipython",
    "version": 3
   },
   "file_extension": ".py",
   "mimetype": "text/x-python",
   "name": "python",
   "nbconvert_exporter": "python",
   "pygments_lexer": "ipython3",
   "version": "3.13.3"
  }
 },
 "nbformat": 4,
 "nbformat_minor": 5
}
