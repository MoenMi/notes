{
 "cells": [
  {
   "cell_type": "markdown",
   "id": "4087541f",
   "metadata": {},
   "source": [
    "# 1 - First Steps\n",
    "\n",
    "First, we define `main.py`:"
   ]
  },
  {
   "cell_type": "code",
   "execution_count": 1,
   "id": "27e4b079",
   "metadata": {},
   "outputs": [],
   "source": [
    "from fastapi import FastAPI\n",
    "\n",
    "app = FastAPI()\n",
    "\n",
    "@app.get(\"/\")\n",
    "async def root():\n",
    "    return {\"message\": \"Hello World\"}"
   ]
  },
  {
   "cell_type": "markdown",
   "id": "f349e165",
   "metadata": {},
   "source": [
    "Then, we can launch the FastAPI server with the command below:"
   ]
  },
  {
   "cell_type": "code",
   "execution_count": null,
   "id": "c09eefae",
   "metadata": {},
   "outputs": [],
   "source": [
    "# fastapi dev main.py"
   ]
  },
  {
   "cell_type": "markdown",
   "id": "a09af5f7",
   "metadata": {},
   "source": [
    "When you run a FastAPI server locally, it will be at http://127.0.0.1:8000 by default.\n",
    "\n",
    "Additionally, Swagger docs will be available at http://127.0.0.1:8000/docs and ReDoc docs will be available at http://127.0.0.1:8000/redoc."
   ]
  },
  {
   "cell_type": "markdown",
   "id": "b2d75c40",
   "metadata": {},
   "source": [
    "## Path Parameters\n",
    "\n",
    "You can declare path parameters or variables with the same syntax used by Python f-strings:"
   ]
  },
  {
   "cell_type": "code",
   "execution_count": null,
   "id": "a85878ed",
   "metadata": {},
   "outputs": [],
   "source": [
    "@app.get(\"/items/{item_id}\")\n",
    "async def read_item(item_id):\n",
    "    return {\"item_id\": item_id}"
   ]
  },
  {
   "cell_type": "code",
   "execution_count": 1,
   "id": "8b5b990d",
   "metadata": {},
   "outputs": [
    {
     "data": {
      "text/plain": [
       "{'detail': [{'type': 'int_parsing',\n",
       "   'loc': ['path', 'item_id'],\n",
       "   'msg': 'Input should be a valid integer, unable to parse string as an integer',\n",
       "   'input': 'pikachu'}]}"
      ]
     },
     "execution_count": 1,
     "metadata": {},
     "output_type": "execute_result"
    }
   ],
   "source": [
    "import requests\n",
    "\n",
    "url = 'http://127.0.0.1:8000'\n",
    "requests.get(url + '/items/pikachu').json()"
   ]
  },
  {
   "cell_type": "markdown",
   "id": "1809fae1",
   "metadata": {},
   "source": [
    "You can also declare the type of the type of a path parameter in a function:"
   ]
  },
  {
   "cell_type": "code",
   "execution_count": null,
   "id": "9502f47a",
   "metadata": {},
   "outputs": [],
   "source": [
    "@app.get(\"/items/{item_id}\")\n",
    "async def read_item(item_id: int):\n",
    "    return {\"item_id\": item_id}"
   ]
  },
  {
   "cell_type": "code",
   "execution_count": 9,
   "id": "b00f7904",
   "metadata": {},
   "outputs": [
    {
     "data": {
      "text/plain": [
       "{'item_id': 1790}"
      ]
     },
     "execution_count": 9,
     "metadata": {},
     "output_type": "execute_result"
    }
   ],
   "source": [
    "requests.get(url + '/items/1790').json()"
   ]
  },
  {
   "cell_type": "code",
   "execution_count": 11,
   "id": "d70f4d35",
   "metadata": {},
   "outputs": [
    {
     "data": {
      "text/plain": [
       "<Response [422]>"
      ]
     },
     "execution_count": 11,
     "metadata": {},
     "output_type": "execute_result"
    }
   ],
   "source": [
    "requests.get(url + '/items/pikachu')"
   ]
  },
  {
   "cell_type": "markdown",
   "id": "48216fbc",
   "metadata": {},
   "source": [
    "If a path could be resolved by two different path operations (e.g. `/users/michael` and `/users/{username}`), then whichever one appears first in the code is what will be used."
   ]
  },
  {
   "cell_type": "markdown",
   "id": "2f897b37",
   "metadata": {},
   "source": [
    "### Predefined Values in Path Parameters\n",
    "\n",
    "Python's `Enum` class can be used to allow us to have a path parameter with predefined values. These possible values will appear in the Swagger docs."
   ]
  },
  {
   "cell_type": "code",
   "execution_count": null,
   "id": "c9833ec1",
   "metadata": {},
   "outputs": [],
   "source": [
    "from enum import Enum\n",
    "\n",
    "class ModelName(str, Enum):\n",
    "    alexnet = \"alexnet\"\n",
    "    resnet = \"resnet\"\n",
    "    lenet = \"lenet\"\n",
    "\n",
    "@app.get(\"/models/{model_name}\")\n",
    "async def get_model(model_name: ModelName):\n",
    "    if model_name is ModelName.alexnet:\n",
    "        return {\"model_name\": model_name, \"message\": \"Deep Learning FTW!\"}\n",
    "\n",
    "    if model_name.value == \"lenet\":\n",
    "        return {\"model_name\": model_name, \"message\": \"LeCNN all the images\"}\n",
    "\n",
    "    return {\"model_name\": model_name, \"message\": \"Have some residuals\"}"
   ]
  },
  {
   "cell_type": "code",
   "execution_count": 4,
   "id": "73cb6732",
   "metadata": {},
   "outputs": [
    {
     "data": {
      "text/plain": [
       "{'model_name': 'lenet', 'message': 'LeCNN all the images'}"
      ]
     },
     "execution_count": 4,
     "metadata": {},
     "output_type": "execute_result"
    }
   ],
   "source": [
    "requests.get(url + '/models/lenet').json()"
   ]
  },
  {
   "cell_type": "markdown",
   "id": "cd750eea",
   "metadata": {},
   "source": [
    "### Path Parameters Containing Paths"
   ]
  },
  {
   "cell_type": "code",
   "execution_count": null,
   "id": "cdfa6a66",
   "metadata": {},
   "outputs": [],
   "source": [
    "@app.get(\"/files/{file_path:path}\")\n",
    "async def read_file(file_path: str):\n",
    "    return {\"file_path\": file_path}"
   ]
  },
  {
   "cell_type": "code",
   "execution_count": 19,
   "id": "a3af6b91",
   "metadata": {},
   "outputs": [
    {
     "data": {
      "text/plain": [
       "{'file_path': '/michael/hello.txt'}"
      ]
     },
     "execution_count": 19,
     "metadata": {},
     "output_type": "execute_result"
    }
   ],
   "source": [
    "requests.get(url + '/files//michael/hello.txt').json()"
   ]
  },
  {
   "cell_type": "markdown",
   "id": "f9efc394",
   "metadata": {},
   "source": [
    "## Query Parameters\n",
    "\n",
    "When you declare other function parameters that are not path parameters, they are automatically interpreted as query parameters."
   ]
  },
  {
   "cell_type": "code",
   "execution_count": null,
   "id": "e54e020e",
   "metadata": {},
   "outputs": [],
   "source": [
    "fake_items_db = [{\"item_name\": \"Foo\"}, {\"item_name\": \"Bar\"}, {\"item_name\": \"Baz\"}]\n",
    "\n",
    "@app.get(\"/items/\")\n",
    "async def read_item(skip: int = 0, limit: int = 10):\n",
    "    return fake_items_db[skip : skip + limit]"
   ]
  },
  {
   "cell_type": "code",
   "execution_count": 25,
   "id": "fef18fe9",
   "metadata": {},
   "outputs": [
    {
     "data": {
      "text/plain": [
       "[{'item_name': 'Bar'}]"
      ]
     },
     "execution_count": 25,
     "metadata": {},
     "output_type": "execute_result"
    }
   ],
   "source": [
    "requests.get(url + '/items?skip=1&limit=1').json()"
   ]
  },
  {
   "cell_type": "markdown",
   "id": "bbfb9e78",
   "metadata": {},
   "source": [
    "We can also use `None` to declare optional parameters:"
   ]
  },
  {
   "cell_type": "code",
   "execution_count": null,
   "id": "11d9c8f1",
   "metadata": {},
   "outputs": [],
   "source": [
    "@app.get(\"/items/{item_id}\")\n",
    "async def read_item(item_id: str, q: str | None = None):\n",
    "    if q:\n",
    "        return {\"item_id\": item_id, \"q\": q}\n",
    "    return {\"item_id\": item_id}"
   ]
  },
  {
   "cell_type": "code",
   "execution_count": 26,
   "id": "1424b00b",
   "metadata": {},
   "outputs": [
    {
     "data": {
      "text/plain": [
       "{'item_id': 'pikachu', 'q': 'blastoise'}"
      ]
     },
     "execution_count": 26,
     "metadata": {},
     "output_type": "execute_result"
    }
   ],
   "source": [
    "requests.get(url + '/items/pikachu?q=blastoise').json()"
   ]
  },
  {
   "cell_type": "markdown",
   "id": "41ead64d",
   "metadata": {},
   "source": [
    "### Type Conversion\n",
    "\n",
    "You can use `1`, `True`, `true`, `on`, or `yes` for True, and `0`, `False`, `false`, `off`, or `no` for False."
   ]
  },
  {
   "cell_type": "code",
   "execution_count": null,
   "id": "080f0a84",
   "metadata": {},
   "outputs": [],
   "source": [
    "@app.get(\"/items/{item_id}\")\n",
    "async def read_item(item_id: str, q: str | None = None, short: bool = False):\n",
    "    item = {\"item_id\": item_id}\n",
    "    if q:\n",
    "        item.update({\"q\": q})\n",
    "    if not short:\n",
    "        item.update(\n",
    "            {\"description\": \"This is an amazing item that has a long description\"}\n",
    "        )\n",
    "    return item"
   ]
  },
  {
   "cell_type": "code",
   "execution_count": 29,
   "id": "b9cd458b",
   "metadata": {},
   "outputs": [
    {
     "data": {
      "text/plain": [
       "{'item_id': 'pikachu',\n",
       " 'q': 'blastoise',\n",
       " 'description': 'This is an amazing item that has a long description'}"
      ]
     },
     "execution_count": 29,
     "metadata": {},
     "output_type": "execute_result"
    }
   ],
   "source": [
    "requests.get(url + '/items/pikachu?q=blastoise&short=False').json()"
   ]
  },
  {
   "cell_type": "code",
   "execution_count": null,
   "id": "fea14ff0",
   "metadata": {},
   "outputs": [
    {
     "data": {
      "text/plain": [
       "{'item_id': 'pikachu',\n",
       " 'q': 'blastoise',\n",
       " 'description': 'This is an amazing item that has a long description'}"
      ]
     },
     "execution_count": 30,
     "metadata": {},
     "output_type": "execute_result"
    }
   ],
   "source": [
    "params = {\n",
    "    'q': 'blastoise',\n",
    "    'short': False\n",
    "}\n",
    "requests.get(url + '/items/pikachu', params=params).json()"
   ]
  },
  {
   "cell_type": "markdown",
   "id": "3af5ae71",
   "metadata": {},
   "source": [
    "To ensure that a parameter is required, don't provide a default value."
   ]
  }
 ],
 "metadata": {
  "kernelspec": {
   "display_name": "fastapi_env",
   "language": "python",
   "name": "python3"
  },
  "language_info": {
   "codemirror_mode": {
    "name": "ipython",
    "version": 3
   },
   "file_extension": ".py",
   "mimetype": "text/x-python",
   "name": "python",
   "nbconvert_exporter": "python",
   "pygments_lexer": "ipython3",
   "version": "3.13.3"
  }
 },
 "nbformat": 4,
 "nbformat_minor": 5
}
