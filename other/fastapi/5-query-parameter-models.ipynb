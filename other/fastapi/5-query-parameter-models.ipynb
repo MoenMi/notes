{
 "cells": [
  {
   "cell_type": "markdown",
   "id": "f3c16786",
   "metadata": {},
   "source": [
    "# 5 - Query Parameter Models"
   ]
  },
  {
   "cell_type": "code",
   "execution_count": null,
   "id": "8c49a620",
   "metadata": {},
   "outputs": [],
   "source": [
    "from typing import Annotated, Literal\n",
    "from fastapi import FastAPI, Query\n",
    "from pydantic import BaseModel, Field\n",
    "\n",
    "class FilterParams(BaseModel):\n",
    "    limit: int = Field(100, gt=0, le=100)\n",
    "    offset: int = Field(0, ge=0)\n",
    "    order_by: Literal[\"created_at\", \"updated_at\"] = \"created_at\"\n",
    "    tags: list[str] = []\n",
    "\n",
    "\n",
    "@app.get(\"/items8/\")\n",
    "async def read_items(filter_query: Annotated[FilterParams, Query()]):\n",
    "    return filter_query"
   ]
  },
  {
   "cell_type": "code",
   "execution_count": 1,
   "id": "ff55d235",
   "metadata": {},
   "outputs": [],
   "source": [
    "import requests\n",
    "url = 'http://127.0.0.1:8000'"
   ]
  },
  {
   "cell_type": "code",
   "execution_count": 3,
   "id": "c0d4387a",
   "metadata": {},
   "outputs": [
    {
     "data": {
      "text/plain": [
       "{'limit': 100, 'offset': 0, 'order_by': 'created_at', 'tags': []}"
      ]
     },
     "execution_count": 3,
     "metadata": {},
     "output_type": "execute_result"
    }
   ],
   "source": [
    "params = {\n",
    "    \n",
    "}\n",
    "requests.get(url + '/items8', params=params).json()"
   ]
  },
  {
   "cell_type": "markdown",
   "id": "941b82c5",
   "metadata": {},
   "source": [
    "## Forbid Extra Query Parameters\n",
    "\n",
    "You can use Pydantic's model configuration to restrict the query parameters you receive:"
   ]
  },
  {
   "cell_type": "code",
   "execution_count": null,
   "id": "c50d346c",
   "metadata": {},
   "outputs": [],
   "source": [
    "class FilterParams(BaseModel):\n",
    "    model_config = {\"extra\": \"forbid\"}\n",
    "    limit: int = Field(100, gt=0, le=100)\n",
    "    offset: int = Field(0, ge=0)\n",
    "    order_by: Literal[\"created_at\", \"updated_at\"] = \"created_at\"\n",
    "    tags: list[str] = []"
   ]
  },
  {
   "cell_type": "markdown",
   "id": "d5eae70b",
   "metadata": {},
   "source": [
    "This will return an error if a user tries to request an extra parameter in the query."
   ]
  }
 ],
 "metadata": {
  "kernelspec": {
   "display_name": "fastapi_env",
   "language": "python",
   "name": "python3"
  },
  "language_info": {
   "codemirror_mode": {
    "name": "ipython",
    "version": 3
   },
   "file_extension": ".py",
   "mimetype": "text/x-python",
   "name": "python",
   "nbconvert_exporter": "python",
   "pygments_lexer": "ipython3",
   "version": "3.13.3"
  }
 },
 "nbformat": 4,
 "nbformat_minor": 5
}
