{
 "cells": [
  {
   "cell_type": "markdown",
   "id": "925891f4",
   "metadata": {},
   "source": [
    "# 7 - Body: Fields\n",
    "\n",
    "You can declare validation and metadata inside of Pydantic models using `Field`."
   ]
  },
  {
   "cell_type": "code",
   "execution_count": null,
   "id": "5d780bf7",
   "metadata": {},
   "outputs": [],
   "source": [
    "from pydantic import BaseModel, Field\n",
    "\n",
    "class Item(BaseModel):\n",
    "    name: str\n",
    "    description: str | None = Field(\n",
    "        default=None, title=\"The description of the item\", max_length=300\n",
    "    )\n",
    "    price: float = Field(gt=0, description=\"The price must be greater than zero\")\n",
    "    tax: float | None = None\n",
    "\n",
    "@app.put(\"/items11/{item_id}\")\n",
    "async def update_item(item_id: int, item: Annotated[Item, Body(embed=True)]):\n",
    "    results = {\"item_id\": item_id, \"item\": item}\n",
    "    return results"
   ]
  },
  {
   "cell_type": "code",
   "execution_count": 1,
   "id": "536e7aae",
   "metadata": {},
   "outputs": [],
   "source": [
    "import requests\n",
    "url = 'http://127.0.0.1:8000'"
   ]
  },
  {
   "cell_type": "code",
   "execution_count": 4,
   "id": "3829aef2",
   "metadata": {},
   "outputs": [
    {
     "data": {
      "text/plain": [
       "{'item_id': 123,\n",
       " 'item': {'name': 'Pokeball',\n",
       "  'description': 'A capsule used for capturing Pokemon.',\n",
       "  'price': 1.5,\n",
       "  'tax': 0.5}}"
      ]
     },
     "execution_count": 4,
     "metadata": {},
     "output_type": "execute_result"
    }
   ],
   "source": [
    "json_data = {\n",
    "    'item': {\n",
    "        'name': 'Pokeball',\n",
    "        'description': 'A capsule used for capturing Pokemon.',\n",
    "        'price': 1.50,\n",
    "        'tax': 0.50\n",
    "    }\n",
    "}\n",
    "requests.put(url + '/items11/123', json=json_data).json()"
   ]
  }
 ],
 "metadata": {
  "kernelspec": {
   "display_name": "fastapi_env",
   "language": "python",
   "name": "python3"
  },
  "language_info": {
   "codemirror_mode": {
    "name": "ipython",
    "version": 3
   },
   "file_extension": ".py",
   "mimetype": "text/x-python",
   "name": "python",
   "nbconvert_exporter": "python",
   "pygments_lexer": "ipython3",
   "version": "3.13.3"
  }
 },
 "nbformat": 4,
 "nbformat_minor": 5
}
