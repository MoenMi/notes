{
 "cells": [
  {
   "cell_type": "markdown",
   "id": "2f77715d",
   "metadata": {},
   "source": [
    "# 6 - Body: Multiple Parameters\n",
    "\n",
    "Instead of expecting a JSON body with attributes, you can also declare an endpoint to expect multiple JSON bodies:"
   ]
  },
  {
   "cell_type": "code",
   "execution_count": null,
   "id": "7244b8ce",
   "metadata": {},
   "outputs": [],
   "source": [
    "from fastapi import FastAPI\n",
    "from pydantic import BaseModel\n",
    "\n",
    "class Item(BaseModel):\n",
    "    name: str\n",
    "    description: str | None = None\n",
    "    price: float\n",
    "    tax: float | None = None\n",
    "\n",
    "class User(BaseModel):\n",
    "    username: str\n",
    "    full_name: str | None = None\n",
    "\n",
    "@app.put(\"/items9/{item_id}\")\n",
    "async def update_item(item_id: int, item: Item, user: User):\n",
    "    results = {\"item_id\": item_id, \"item\": item, \"user\": user}\n",
    "    return results"
   ]
  },
  {
   "cell_type": "code",
   "execution_count": 2,
   "id": "4c7e1bca",
   "metadata": {},
   "outputs": [],
   "source": [
    "import requests\n",
    "url = 'http://127.0.0.1:8000'"
   ]
  },
  {
   "cell_type": "code",
   "execution_count": 16,
   "id": "8ad104ee",
   "metadata": {},
   "outputs": [
    {
     "data": {
      "text/plain": [
       "{'item_id': 100,\n",
       " 'item': {'name': 'Pokeball',\n",
       "  'description': 'Used to catch wild Pokemon',\n",
       "  'price': 1.5,\n",
       "  'tax': 0.5},\n",
       " 'user': {'username': 'GottaKetchumAll', 'full_name': 'Ash Ketchum'}}"
      ]
     },
     "execution_count": 16,
     "metadata": {},
     "output_type": "execute_result"
    }
   ],
   "source": [
    "item_data = {\n",
    "    'name': 'Pokeball',\n",
    "    'description': 'Used to catch wild Pokemon',\n",
    "    'price': 1.50,\n",
    "    'tax': 0.50\n",
    "}\n",
    "user_data = {\n",
    "    'username': 'GottaKetchumAll',\n",
    "    'full_name': 'Ash Ketchum'\n",
    "}\n",
    "json_data = {\n",
    "    'item': item_data,\n",
    "    'user': user_data\n",
    "}\n",
    "requests.put(url + '/items9/100', json=json_data).json()"
   ]
  },
  {
   "cell_type": "markdown",
   "id": "025a63a3",
   "metadata": {},
   "source": [
    "## Singular Values in Body\n",
    "\n",
    "In the same way that we have `Query` and `Path` to define extra data for query and path parameters, we have `Body` to define data for body parameters."
   ]
  },
  {
   "cell_type": "code",
   "execution_count": null,
   "id": "894ee9e6",
   "metadata": {},
   "outputs": [],
   "source": [
    "from fastapi import Body\n",
    "\n",
    "@app.put(\"/items10/{item_id}\")\n",
    "async def update_item(\n",
    "    item_id: int, item: Item, user: User, importance: Annotated[int, Body()]\n",
    "):\n",
    "    results = {\"item_id\": item_id, \"item\": item, \"user\": user, \"importance\": importance}\n",
    "    return results"
   ]
  },
  {
   "cell_type": "code",
   "execution_count": null,
   "id": "22ad093c",
   "metadata": {},
   "outputs": [
    {
     "data": {
      "text/plain": [
       "{'item_id': 100,\n",
       " 'item': {'name': 'Pokeball',\n",
       "  'description': 'Used to catch wild Pokemon',\n",
       "  'price': 1.5,\n",
       "  'tax': 0.5},\n",
       " 'user': {'username': 'GottaKetchumAll', 'full_name': 'Ash Ketchum'},\n",
       " 'importance': 5}"
      ]
     },
     "execution_count": 18,
     "metadata": {},
     "output_type": "execute_result"
    }
   ],
   "source": [
    "json_data = {\n",
    "    'item': item_data,\n",
    "    'user': user_data,\n",
    "    'importance': 5\n",
    "}\n",
    "requests.put(url + '/items10/100', json=json_data).json()"
   ]
  }
 ],
 "metadata": {
  "kernelspec": {
   "display_name": "fastapi_env",
   "language": "python",
   "name": "python3"
  },
  "language_info": {
   "codemirror_mode": {
    "name": "ipython",
    "version": 3
   },
   "file_extension": ".py",
   "mimetype": "text/x-python",
   "name": "python",
   "nbconvert_exporter": "python",
   "pygments_lexer": "ipython3",
   "version": "3.13.3"
  }
 },
 "nbformat": 4,
 "nbformat_minor": 5
}
