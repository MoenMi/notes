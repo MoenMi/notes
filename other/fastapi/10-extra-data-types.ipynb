{
 "cells": [
  {
   "cell_type": "markdown",
   "id": "960eba41",
   "metadata": {},
   "source": [
    "# 10 - Extra Data Types\n",
    "\n",
    "Other data types include:\n",
    "- `UUID`: Universally Unique Identifier\n",
    "- `datetime.datetime`\n",
    "- `datetime.date`\n",
    "- `datetime.time`\n",
    "- `frozenset`: In requests, a list will be read and coverted to a set; in responses, the set will be converted to a list.\n",
    "- `bytes`: Treated as a string in requests and responses.\n",
    "- `Decimal`"
   ]
  }
 ],
 "metadata": {
  "kernelspec": {
   "display_name": "fastapi_env",
   "language": "python",
   "name": "python3"
  },
  "language_info": {
   "name": "python",
   "version": "3.13.3"
  }
 },
 "nbformat": 4,
 "nbformat_minor": 5
}
