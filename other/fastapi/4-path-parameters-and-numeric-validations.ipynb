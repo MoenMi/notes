{
 "cells": [
  {
   "cell_type": "markdown",
   "id": "1f7c8bbf",
   "metadata": {},
   "source": [
    "# 4 - Path Parameters and Numeric Validations\n",
    "\n",
    "In the same way that we can declare validations and metadata for query parameters with `Query`, we can declare validations and metadata with `Path`."
   ]
  },
  {
   "cell_type": "code",
   "execution_count": null,
   "id": "885a53ae",
   "metadata": {},
   "outputs": [],
   "source": [
    "from typing import Annotated\n",
    "from fastapi import FastAPI, Path, Query\n",
    "\n",
    "app = FastAPI()\n",
    "\n",
    "@app.get(\"/items6/{item_id}\")\n",
    "async def read_items(\n",
    "    item_id: Annotated[int, Path(title=\"The ID of the item to get\")],\n",
    "    q: Annotated[str | None, Query(alias=\"item-query\")] = None,\n",
    "):\n",
    "    results = {\"item_id\": item_id}\n",
    "    if q:\n",
    "        results.update({\"q\": q})\n",
    "    return results"
   ]
  },
  {
   "cell_type": "code",
   "execution_count": 1,
   "id": "8d98f519",
   "metadata": {},
   "outputs": [],
   "source": [
    "import requests\n",
    "url = 'http://127.0.0.1:8000'"
   ]
  },
  {
   "cell_type": "code",
   "execution_count": 5,
   "id": "34841ade",
   "metadata": {},
   "outputs": [
    {
     "data": {
      "text/plain": [
       "{'item_id': 895, 'q': 'chu'}"
      ]
     },
     "execution_count": 5,
     "metadata": {},
     "output_type": "execute_result"
    }
   ],
   "source": [
    "params = {\n",
    "    'item-query': 'chu'\n",
    "}\n",
    "requests.get(url + '/items6/895', params=params).json()"
   ]
  },
  {
   "cell_type": "markdown",
   "id": "ecd5ca3d",
   "metadata": {},
   "source": [
    "## Number Validations\n",
    "\n",
    "With `Query` and `Path`, we can declare number restraints:\n",
    "\n",
    "- `gt`: Greater than\n",
    "- `lt`: Less than\n",
    "- `ge`: Greater than or equal to\n",
    "- `le`: Less than or equal to"
   ]
  },
  {
   "cell_type": "code",
   "execution_count": null,
   "id": "3620e109",
   "metadata": {},
   "outputs": [],
   "source": [
    "@app.get(\"/items7/{item_id}\")\n",
    "async def read_items(\n",
    "    item_id: Annotated[int, Path(title=\"The ID of the item to get\", ge=1, lt=10000)], q: str\n",
    "):\n",
    "    results = {\"item_id\": item_id}\n",
    "    if q:\n",
    "        results.update({\"q\": q})\n",
    "    return results"
   ]
  },
  {
   "cell_type": "code",
   "execution_count": 11,
   "id": "a1b79c3c",
   "metadata": {},
   "outputs": [
    {
     "data": {
      "text/plain": [
       "{'item_id': 995, 'q': 'pikachu'}"
      ]
     },
     "execution_count": 11,
     "metadata": {},
     "output_type": "execute_result"
    }
   ],
   "source": [
    "params = {\n",
    "    'q': 'pikachu'\n",
    "}\n",
    "requests.get(url + '/items7/995', params=params).json()"
   ]
  }
 ],
 "metadata": {
  "kernelspec": {
   "display_name": "fastapi_env",
   "language": "python",
   "name": "python3"
  },
  "language_info": {
   "codemirror_mode": {
    "name": "ipython",
    "version": 3
   },
   "file_extension": ".py",
   "mimetype": "text/x-python",
   "name": "python",
   "nbconvert_exporter": "python",
   "pygments_lexer": "ipython3",
   "version": "3.13.3"
  }
 },
 "nbformat": 4,
 "nbformat_minor": 5
}
