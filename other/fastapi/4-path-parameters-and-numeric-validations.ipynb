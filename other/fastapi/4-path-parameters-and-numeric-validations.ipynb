{
 "cells": [
  {
   "cell_type": "markdown",
   "id": "1f7c8bbf",
   "metadata": {},
   "source": [
    "# 4 - Path Parameters and Numeric Validations\n",
    "\n",
    "In the same way that we can declare validations and metadata for query parameters with `Query`, we can declare validations and metadata with `Path`."
   ]
  },
  {
   "cell_type": "code",
   "execution_count": null,
   "id": "885a53ae",
   "metadata": {},
   "outputs": [],
   "source": [
    "from typing import Annotated\n",
    "from fastapi import FastAPI, Path, Query\n",
    "\n",
    "app = FastAPI()\n",
    "\n",
    "@app.get(\"/items/{item_id}\")\n",
    "async def read_items(\n",
    "    item_id: Annotated[int, Path(title=\"The ID of the item to get\")],\n",
    "    q: Annotated[str | None, Query(alias=\"item-query\")] = None,\n",
    "):\n",
    "    results = {\"item_id\": item_id}\n",
    "    if q:\n",
    "        results.update({\"q\": q})\n",
    "    return results"
   ]
  }
 ],
 "metadata": {
  "kernelspec": {
   "display_name": "fastapi_env",
   "language": "python",
   "name": "python3"
  },
  "language_info": {
   "name": "python",
   "version": "3.13.3"
  }
 },
 "nbformat": 4,
 "nbformat_minor": 5
}
