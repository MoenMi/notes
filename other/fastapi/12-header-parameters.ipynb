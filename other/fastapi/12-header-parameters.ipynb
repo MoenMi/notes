{
 "cells": [
  {
   "cell_type": "markdown",
   "id": "d76834fb",
   "metadata": {},
   "source": [
    "# 12 - Header Parameters\n",
    "\n",
    "Use `Header` from FastAPI to work with HTTP headers."
   ]
  },
  {
   "cell_type": "code",
   "execution_count": null,
   "id": "9b5370e6",
   "metadata": {},
   "outputs": [],
   "source": [
    "from fastapi import FastAPI, Header\n",
    "\n",
    "@app.get(\"/items13/\")\n",
    "async def read_items(user_agent: Annotated[str | None, Header()] = None):\n",
    "    return {\"User-Agent\": user_agent}"
   ]
  },
  {
   "cell_type": "markdown",
   "id": "31251dc5",
   "metadata": {},
   "source": [
    "Note that the hyphen in `User-Agent` is converted to an underscore when it is converted to a variable `user_agent`."
   ]
  },
  {
   "cell_type": "code",
   "execution_count": 1,
   "id": "2cb89c69",
   "metadata": {},
   "outputs": [],
   "source": [
    "import requests\n",
    "url = 'http://127.0.0.1:8000'"
   ]
  },
  {
   "cell_type": "code",
   "execution_count": 3,
   "id": "f8e537a3",
   "metadata": {},
   "outputs": [
    {
     "data": {
      "text/plain": [
       "{'User-Agent': 'Michael Moen'}"
      ]
     },
     "execution_count": 3,
     "metadata": {},
     "output_type": "execute_result"
    }
   ],
   "source": [
    "requests.get(url + '/items13', headers={'User-Agent': 'Michael Moen'}).json()"
   ]
  }
 ],
 "metadata": {
  "kernelspec": {
   "display_name": "fastapi_env",
   "language": "python",
   "name": "python3"
  },
  "language_info": {
   "codemirror_mode": {
    "name": "ipython",
    "version": 3
   },
   "file_extension": ".py",
   "mimetype": "text/x-python",
   "name": "python",
   "nbconvert_exporter": "python",
   "pygments_lexer": "ipython3",
   "version": "3.13.3"
  }
 },
 "nbformat": 4,
 "nbformat_minor": 5
}
