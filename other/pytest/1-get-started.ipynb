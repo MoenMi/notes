{
 "cells": [
  {
   "cell_type": "markdown",
   "id": "b5b14250",
   "metadata": {},
   "source": [
    "# 1 - Getting Started\n",
    "\n",
    "https://docs.pytest.org/en/stable/getting-started.html\n",
    "\n",
    "Within the file `test_sample.py`, we create the function `func` and the test `test_answer`:"
   ]
  },
  {
   "cell_type": "code",
   "execution_count": null,
   "id": "e49e41d8",
   "metadata": {},
   "outputs": [],
   "source": [
    "def func(x):\n",
    "    return x + 1\n",
    "\n",
    "def test_wrong_answer():\n",
    "    assert func(3) == 5\n",
    "\n",
    "def test_right_answer():\n",
    "    assert func(3) == 4"
   ]
  },
  {
   "cell_type": "markdown",
   "id": "4953d896",
   "metadata": {},
   "source": [
    "When we run `pytest` in the directory, all files in the form `test_*.py` or `*_test.py` are run."
   ]
  },
  {
   "cell_type": "code",
   "execution_count": 2,
   "id": "99226830",
   "metadata": {},
   "outputs": [
    {
     "name": "stdout",
     "output_type": "stream",
     "text": [
      "\u001b[1m============================= test session starts =============================\u001b[0m\n",
      "platform win32 -- Python 3.13.3, pytest-8.4.0, pluggy-1.6.0\n",
      "rootdir: c:\\Users\\michael.moen\\OneDrive - Veterans United Home Loans\\Documents\\notes\\other\\pytest\n",
      "collected 2 items\n",
      "\n",
      "test_sample.py \u001b[31mF\u001b[0m\u001b[32m.\u001b[0m\u001b[31m                                                        [100%]\u001b[0m\n",
      "\n",
      "================================== FAILURES ===================================\n",
      "\u001b[31m\u001b[1m______________________________ test_wrong_answer ______________________________\u001b[0m\n",
      "\n",
      "    \u001b[0m\u001b[94mdef\u001b[39;49;00m\u001b[90m \u001b[39;49;00m\u001b[92mtest_wrong_answer\u001b[39;49;00m():\u001b[90m\u001b[39;49;00m\n",
      ">       \u001b[94massert\u001b[39;49;00m func(\u001b[94m3\u001b[39;49;00m) == \u001b[94m5\u001b[39;49;00m\u001b[90m\u001b[39;49;00m\n",
      "\u001b[1m\u001b[31mE       assert 4 == 5\u001b[0m\n",
      "\u001b[1m\u001b[31mE        +  where 4 = func(3)\u001b[0m\n",
      "\n",
      "\u001b[1m\u001b[31mtest_sample.py\u001b[0m:5: AssertionError\n",
      "\u001b[36m\u001b[1m=========================== short test summary info ===========================\u001b[0m\n",
      "\u001b[31mFAILED\u001b[0m test_sample.py::\u001b[1mtest_wrong_answer\u001b[0m - assert 4 == 5\n",
      "\u001b[31m========================= \u001b[31m\u001b[1m1 failed\u001b[0m, \u001b[32m1 passed\u001b[0m\u001b[31m in 0.07s\u001b[0m\u001b[31m =========================\u001b[0m\n"
     ]
    }
   ],
   "source": [
    "!pytest"
   ]
  },
  {
   "cell_type": "markdown",
   "id": "fe3beacd",
   "metadata": {},
   "source": [
    "## Assert that a Certain Exception is Raised\n",
    "\n",
    "In `test_sysexit.py`, we put the following:"
   ]
  },
  {
   "cell_type": "code",
   "execution_count": null,
   "id": "ef18f62f",
   "metadata": {},
   "outputs": [],
   "source": [
    "import pytest\n",
    "\n",
    "def f():\n",
    "    raise SystemExit(1)\n",
    "\n",
    "def test_mytest():\n",
    "    with pytest.raises(SystemExit):\n",
    "        f()"
   ]
  },
  {
   "cell_type": "markdown",
   "id": "81b119e7",
   "metadata": {},
   "source": [
    "The `raises()` function asserts that some code raises an exception."
   ]
  },
  {
   "cell_type": "code",
   "execution_count": 3,
   "id": "71ff4de4",
   "metadata": {},
   "outputs": [
    {
     "name": "stdout",
     "output_type": "stream",
     "text": [
      "\u001b[1m============================= test session starts =============================\u001b[0m\n",
      "platform win32 -- Python 3.13.3, pytest-8.4.0, pluggy-1.6.0\n",
      "rootdir: c:\\Users\\michael.moen\\OneDrive - Veterans United Home Loans\\Documents\\notes\\other\\pytest\n",
      "collected 3 items\n",
      "\n",
      "test_sample.py \u001b[31mF\u001b[0m\u001b[32m.\u001b[0m\u001b[31m                                                        [ 66%]\u001b[0m\n",
      "test_sysexit.py \u001b[32m.\u001b[0m\u001b[31m                                                        [100%]\u001b[0m\n",
      "\n",
      "================================== FAILURES ===================================\n",
      "\u001b[31m\u001b[1m______________________________ test_wrong_answer ______________________________\u001b[0m\n",
      "\n",
      "    \u001b[0m\u001b[94mdef\u001b[39;49;00m\u001b[90m \u001b[39;49;00m\u001b[92mtest_wrong_answer\u001b[39;49;00m():\u001b[90m\u001b[39;49;00m\n",
      ">       \u001b[94massert\u001b[39;49;00m func(\u001b[94m3\u001b[39;49;00m) == \u001b[94m5\u001b[39;49;00m\u001b[90m\u001b[39;49;00m\n",
      "\u001b[1m\u001b[31mE       assert 4 == 5\u001b[0m\n",
      "\u001b[1m\u001b[31mE        +  where 4 = func(3)\u001b[0m\n",
      "\n",
      "\u001b[1m\u001b[31mtest_sample.py\u001b[0m:5: AssertionError\n",
      "\u001b[36m\u001b[1m=========================== short test summary info ===========================\u001b[0m\n",
      "\u001b[31mFAILED\u001b[0m test_sample.py::\u001b[1mtest_wrong_answer\u001b[0m - assert 4 == 5\n",
      "\u001b[31m========================= \u001b[31m\u001b[1m1 failed\u001b[0m, \u001b[32m2 passed\u001b[0m\u001b[31m in 0.10s\u001b[0m\u001b[31m =========================\u001b[0m\n"
     ]
    }
   ],
   "source": [
    "!pytest"
   ]
  },
  {
   "cell_type": "markdown",
   "id": "dbc8e687",
   "metadata": {},
   "source": [
    "We can use `-q` to have the output be more brief:"
   ]
  },
  {
   "cell_type": "code",
   "execution_count": 4,
   "id": "b260d20c",
   "metadata": {},
   "outputs": [
    {
     "name": "stdout",
     "output_type": "stream",
     "text": [
      "\u001b[31mF\u001b[0m\u001b[32m.\u001b[0m\u001b[32m.\u001b[0m\u001b[31m                                                                      [100%]\u001b[0m\n",
      "================================== FAILURES ===================================\n",
      "\u001b[31m\u001b[1m______________________________ test_wrong_answer ______________________________\u001b[0m\n",
      "\n",
      "    \u001b[0m\u001b[94mdef\u001b[39;49;00m\u001b[90m \u001b[39;49;00m\u001b[92mtest_wrong_answer\u001b[39;49;00m():\u001b[90m\u001b[39;49;00m\n",
      ">       \u001b[94massert\u001b[39;49;00m func(\u001b[94m3\u001b[39;49;00m) == \u001b[94m5\u001b[39;49;00m\u001b[90m\u001b[39;49;00m\n",
      "\u001b[1m\u001b[31mE       assert 4 == 5\u001b[0m\n",
      "\u001b[1m\u001b[31mE        +  where 4 = func(3)\u001b[0m\n",
      "\n",
      "\u001b[1m\u001b[31mtest_sample.py\u001b[0m:5: AssertionError\n",
      "\u001b[36m\u001b[1m=========================== short test summary info ===========================\u001b[0m\n",
      "\u001b[31mFAILED\u001b[0m test_sample.py::\u001b[1mtest_wrong_answer\u001b[0m - assert 4 == 5\n",
      "\u001b[31m\u001b[31m\u001b[1m1 failed\u001b[0m, \u001b[32m2 passed\u001b[0m\u001b[31m in 0.07s\u001b[0m\u001b[0m\n"
     ]
    }
   ],
   "source": [
    "!pytest -q"
   ]
  },
  {
   "cell_type": "markdown",
   "id": "64919753",
   "metadata": {},
   "source": [
    "## Group Multiple Tests in a Class\n",
    "\n",
    "We can group tests into a class and run them. Note that any test classes must be prefixed with `Test`. We create `test_class.py`:"
   ]
  },
  {
   "cell_type": "code",
   "execution_count": null,
   "id": "2da758a2",
   "metadata": {},
   "outputs": [],
   "source": [
    "class TestClass:\n",
    "    def test_one(self):\n",
    "        x = \"this\"\n",
    "        assert \"h\" in x\n",
    "\n",
    "    def test_two(self):\n",
    "        x = \"hello\"\n",
    "        assert hasattr(x, \"check\")"
   ]
  },
  {
   "cell_type": "code",
   "execution_count": 5,
   "id": "7b24a3a7",
   "metadata": {},
   "outputs": [
    {
     "name": "stdout",
     "output_type": "stream",
     "text": [
      "\u001b[32m.\u001b[0m\u001b[31mF\u001b[0m\u001b[31m                                                                       [100%]\u001b[0m\n",
      "================================== FAILURES ===================================\n",
      "\u001b[31m\u001b[1m_____________________________ TestClass.test_two ______________________________\u001b[0m\n",
      "\n",
      "self = <test_class.TestClass object at 0x0000025574830050>\n",
      "\n",
      "    \u001b[0m\u001b[94mdef\u001b[39;49;00m\u001b[90m \u001b[39;49;00m\u001b[92mtest_two\u001b[39;49;00m(\u001b[96mself\u001b[39;49;00m):\u001b[90m\u001b[39;49;00m\n",
      "        x = \u001b[33m\"\u001b[39;49;00m\u001b[33mhello\u001b[39;49;00m\u001b[33m\"\u001b[39;49;00m\u001b[90m\u001b[39;49;00m\n",
      ">       \u001b[94massert\u001b[39;49;00m \u001b[96mhasattr\u001b[39;49;00m(x, \u001b[33m\"\u001b[39;49;00m\u001b[33mcheck\u001b[39;49;00m\u001b[33m\"\u001b[39;49;00m)\u001b[90m\u001b[39;49;00m\n",
      "\u001b[1m\u001b[31mE       AssertionError: assert False\u001b[0m\n",
      "\u001b[1m\u001b[31mE        +  where False = hasattr('hello', 'check')\u001b[0m\n",
      "\n",
      "\u001b[1m\u001b[31mtest_class.py\u001b[0m:8: AssertionError\n",
      "\u001b[36m\u001b[1m=========================== short test summary info ===========================\u001b[0m\n",
      "\u001b[31mFAILED\u001b[0m test_class.py::\u001b[1mTestClass::test_two\u001b[0m - AssertionError: assert False\n",
      "\u001b[31m\u001b[31m\u001b[1m1 failed\u001b[0m, \u001b[32m1 passed\u001b[0m\u001b[31m in 0.08s\u001b[0m\u001b[0m\n"
     ]
    }
   ],
   "source": [
    "!pytest -q test_class.py"
   ]
  },
  {
   "cell_type": "markdown",
   "id": "85fc3596",
   "metadata": {},
   "source": [
    "Note that each test has its own instance of the class."
   ]
  },
  {
   "cell_type": "markdown",
   "id": "637f7cc6",
   "metadata": {},
   "source": [
    "## Request a Unique Temporary Directory for Functional Test"
   ]
  },
  {
   "cell_type": "code",
   "execution_count": null,
   "id": "001dfa64",
   "metadata": {},
   "outputs": [],
   "source": [
    "def test_needsfiles(tmp_path):\n",
    "    print(tmp_path)\n",
    "    assert 0"
   ]
  },
  {
   "cell_type": "code",
   "execution_count": 10,
   "id": "c69e4048",
   "metadata": {},
   "outputs": [
    {
     "name": "stdout",
     "output_type": "stream",
     "text": [
      "\u001b[31mF\u001b[0m\u001b[31m                                                                        [100%]\u001b[0m\n",
      "================================== FAILURES ===================================\n",
      "\u001b[31m\u001b[1m_______________________________ test_needsfiles _______________________________\u001b[0m\n",
      "\n",
      "tmp_path = WindowsPath('C:/Users/michael.moen/AppData/Local/Temp/pytest-of-Michael.Moen/pytest-4/test_needsfiles0')\n",
      "\n",
      "    \u001b[0m\u001b[94mdef\u001b[39;49;00m\u001b[90m \u001b[39;49;00m\u001b[92mtest_needsfiles\u001b[39;49;00m(tmp_path):\u001b[90m\u001b[39;49;00m\n",
      "        \u001b[96mprint\u001b[39;49;00m(tmp_path)\u001b[90m\u001b[39;49;00m\n",
      ">       \u001b[94massert\u001b[39;49;00m \u001b[94m0\u001b[39;49;00m\u001b[90m\u001b[39;49;00m\n",
      "\u001b[1m\u001b[31mE       assert 0\u001b[0m\n",
      "\n",
      "\u001b[1m\u001b[31mtest_tmp_path.py\u001b[0m:3: AssertionError\n",
      "---------------------------- Captured stdout call -----------------------------\n",
      "C:\\Users\\michael.moen\\AppData\\Local\\Temp\\pytest-of-Michael.Moen\\pytest-4\\test_needsfiles0\n",
      "\u001b[36m\u001b[1m=========================== short test summary info ===========================\u001b[0m\n",
      "\u001b[31mFAILED\u001b[0m test_tmp_path.py::\u001b[1mtest_needsfiles\u001b[0m - assert 0\n",
      "\u001b[31m\u001b[31m\u001b[1m1 failed\u001b[0m\u001b[31m in 0.06s\u001b[0m\u001b[0m\n"
     ]
    }
   ],
   "source": [
    "!pytest -q test_tmp_path.py"
   ]
  },
  {
   "cell_type": "code",
   "execution_count": 12,
   "id": "1428f00b",
   "metadata": {},
   "outputs": [
    {
     "name": "stdout",
     "output_type": "stream",
     "text": [
      "\u001b[1m============================= test session starts =============================\u001b[0m\n",
      "platform win32 -- Python 3.13.3, pytest-8.4.0, pluggy-1.6.0\n",
      "rootdir: c:\\Users\\michael.moen\\OneDrive - Veterans United Home Loans\\Documents\\notes\\other\\pytest\n",
      "collected 6 items\n",
      "\n",
      "test_class.py \u001b[32m.\u001b[0m\u001b[31mF\u001b[0m\u001b[31m                                                         [ 33%]\u001b[0m\n",
      "test_sample.py \u001b[31mF\u001b[0m\u001b[32m.\u001b[0m\u001b[31m                                                        [ 66%]\u001b[0m\n",
      "test_sysexit.py \u001b[32m.\u001b[0m\u001b[31m                                                        [ 83%]\u001b[0m\n",
      "test_tmp_path.py \u001b[31mF\u001b[0m\u001b[31m                                                       [100%]\u001b[0m\n",
      "\n",
      "================================== FAILURES ===================================\n",
      "\u001b[31m\u001b[1m_____________________________ TestClass.test_two ______________________________\u001b[0m\n",
      "\n",
      "self = <test_class.TestClass object at 0x00000228FF660050>\n",
      "\n",
      "    \u001b[0m\u001b[94mdef\u001b[39;49;00m\u001b[90m \u001b[39;49;00m\u001b[92mtest_two\u001b[39;49;00m(\u001b[96mself\u001b[39;49;00m):\u001b[90m\u001b[39;49;00m\n",
      "        x = \u001b[33m\"\u001b[39;49;00m\u001b[33mhello\u001b[39;49;00m\u001b[33m\"\u001b[39;49;00m\u001b[90m\u001b[39;49;00m\n",
      ">       \u001b[94massert\u001b[39;49;00m \u001b[96mhasattr\u001b[39;49;00m(x, \u001b[33m\"\u001b[39;49;00m\u001b[33mcheck\u001b[39;49;00m\u001b[33m\"\u001b[39;49;00m)\u001b[90m\u001b[39;49;00m\n",
      "\u001b[1m\u001b[31mE       AssertionError: assert False\u001b[0m\n",
      "\u001b[1m\u001b[31mE        +  where False = hasattr('hello', 'check')\u001b[0m\n",
      "\n",
      "\u001b[1m\u001b[31mtest_class.py\u001b[0m:8: AssertionError\n",
      "\u001b[31m\u001b[1m______________________________ test_wrong_answer ______________________________\u001b[0m\n",
      "\n",
      "    \u001b[0m\u001b[94mdef\u001b[39;49;00m\u001b[90m \u001b[39;49;00m\u001b[92mtest_wrong_answer\u001b[39;49;00m():\u001b[90m\u001b[39;49;00m\n",
      ">       \u001b[94massert\u001b[39;49;00m func(\u001b[94m3\u001b[39;49;00m) == \u001b[94m5\u001b[39;49;00m\u001b[90m\u001b[39;49;00m\n",
      "\u001b[1m\u001b[31mE       assert 4 == 5\u001b[0m\n",
      "\u001b[1m\u001b[31mE        +  where 4 = func(3)\u001b[0m\n",
      "\n",
      "\u001b[1m\u001b[31mtest_sample.py\u001b[0m:5: AssertionError\n",
      "\u001b[31m\u001b[1m_______________________________ test_needsfiles _______________________________\u001b[0m\n",
      "\n",
      "tmp_path = WindowsPath('C:/Users/michael.moen/AppData/Local/Temp/pytest-of-Michael.Moen/pytest-5/test_needsfiles0')\n",
      "\n",
      "    \u001b[0m\u001b[94mdef\u001b[39;49;00m\u001b[90m \u001b[39;49;00m\u001b[92mtest_needsfiles\u001b[39;49;00m(tmp_path):\u001b[90m\u001b[39;49;00m\n",
      "        \u001b[96mprint\u001b[39;49;00m(tmp_path)\u001b[90m\u001b[39;49;00m\n",
      ">       \u001b[94massert\u001b[39;49;00m \u001b[94m0\u001b[39;49;00m\u001b[90m\u001b[39;49;00m\n",
      "\u001b[1m\u001b[31mE       assert 0\u001b[0m\n",
      "\n",
      "\u001b[1m\u001b[31mtest_tmp_path.py\u001b[0m:3: AssertionError\n",
      "---------------------------- Captured stdout call -----------------------------\n",
      "C:\\Users\\michael.moen\\AppData\\Local\\Temp\\pytest-of-Michael.Moen\\pytest-5\\test_needsfiles0\n",
      "\u001b[36m\u001b[1m=========================== short test summary info ===========================\u001b[0m\n",
      "\u001b[31mFAILED\u001b[0m test_class.py::\u001b[1mTestClass::test_two\u001b[0m - AssertionError: assert False\n",
      "\u001b[31mFAILED\u001b[0m test_sample.py::\u001b[1mtest_wrong_answer\u001b[0m - assert 4 == 5\n",
      "\u001b[31mFAILED\u001b[0m test_tmp_path.py::\u001b[1mtest_needsfiles\u001b[0m - assert 0\n",
      "\u001b[31m========================= \u001b[31m\u001b[1m3 failed\u001b[0m, \u001b[32m3 passed\u001b[0m\u001b[31m in 0.15s\u001b[0m\u001b[31m =========================\u001b[0m\n"
     ]
    }
   ],
   "source": [
    "!pytest"
   ]
  }
 ],
 "metadata": {
  "kernelspec": {
   "display_name": "pytest_env",
   "language": "python",
   "name": "python3"
  },
  "language_info": {
   "codemirror_mode": {
    "name": "ipython",
    "version": 3
   },
   "file_extension": ".py",
   "mimetype": "text/x-python",
   "name": "python",
   "nbconvert_exporter": "python",
   "pygments_lexer": "ipython3",
   "version": "3.13.3"
  }
 },
 "nbformat": 4,
 "nbformat_minor": 5
}
