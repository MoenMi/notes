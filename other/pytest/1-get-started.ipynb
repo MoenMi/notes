{
 "cells": [
  {
   "cell_type": "markdown",
   "id": "b5b14250",
   "metadata": {},
   "source": [
    "# 1 - Getting Started\n",
    "\n",
    "https://docs.pytest.org/en/stable/getting-started.html"
   ]
  },
  {
   "cell_type": "code",
   "execution_count": null,
   "id": "e49e41d8",
   "metadata": {
    "vscode": {
     "languageId": "plaintext"
    }
   },
   "outputs": [],
   "source": []
  }
 ],
 "metadata": {
  "language_info": {
   "name": "python"
  }
 },
 "nbformat": 4,
 "nbformat_minor": 5
}
