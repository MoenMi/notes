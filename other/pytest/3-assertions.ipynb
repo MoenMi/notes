{
 "cells": [
  {
   "cell_type": "markdown",
   "id": "be01675d",
   "metadata": {},
   "source": [
    "# 3 - Asssertions\n",
    "\n",
    "`assert` can be used to check whether a function returns a specific value. If the assertion fails, we see the return value of the function call.\n",
    "\n",
    "You can also include a message to print if the assert fails:"
   ]
  },
  {
   "cell_type": "code",
   "execution_count": null,
   "id": "8c51018d",
   "metadata": {},
   "outputs": [],
   "source": [
    "def is_even(x: int) -> bool:\n",
    "    \"\"\"Note, this actually returns the opposite of what we want\"\"\"\n",
    "    return x % 2 == 1\n",
    "\n",
    "def test_is_even():\n",
    "    assert f(4) == True, \"value was odd, should be even\""
   ]
  },
  {
   "cell_type": "code",
   "execution_count": 4,
   "id": "53c2af50",
   "metadata": {},
   "outputs": [
    {
     "name": "stdout",
     "output_type": "stream",
     "text": [
      "\u001b[31mF\u001b[0m\u001b[31m                                                                        [100%]\u001b[0m\n",
      "================================== FAILURES ===================================\n",
      "\u001b[31m\u001b[1m________________________________ test_is_even _________________________________\u001b[0m\n",
      "\n",
      "    \u001b[0m\u001b[94mdef\u001b[39;49;00m\u001b[90m \u001b[39;49;00m\u001b[92mtest_is_even\u001b[39;49;00m():\u001b[90m\u001b[39;49;00m\n",
      ">       \u001b[94massert\u001b[39;49;00m is_even(\u001b[94m4\u001b[39;49;00m) == \u001b[94mTrue\u001b[39;49;00m, \u001b[33m\"\u001b[39;49;00m\u001b[33mvalue was odd, should be even\u001b[39;49;00m\u001b[33m\"\u001b[39;49;00m\u001b[90m\u001b[39;49;00m\n",
      "\u001b[1m\u001b[31mE       AssertionError: value was odd, should be even\u001b[0m\n",
      "\u001b[1m\u001b[31mE       assert False == True\u001b[0m\n",
      "\u001b[1m\u001b[31mE        +  where False = is_even(4)\u001b[0m\n",
      "\n",
      "\u001b[1m\u001b[31mtest_sample.py\u001b[0m:15: AssertionError\n",
      "\u001b[36m\u001b[1m=========================== short test summary info ===========================\u001b[0m\n",
      "\u001b[31mFAILED\u001b[0m test_sample.py::\u001b[1mtest_is_even\u001b[0m - AssertionError: value was odd, should be even\n",
      "\u001b[31m\u001b[31m\u001b[1m1 failed\u001b[0m\u001b[31m in 0.07s\u001b[0m\u001b[0m\n"
     ]
    }
   ],
   "source": [
    "!pytest -q test_sample.py::test_is_even"
   ]
  },
  {
   "cell_type": "code",
   "execution_count": 6,
   "id": "4a11b1d9",
   "metadata": {},
   "outputs": [
    {
     "name": "stdout",
     "output_type": "stream",
     "text": [
      "\u001b[32m.\u001b[0m\u001b[32m                                                                        [100%]\u001b[0m\n",
      "\u001b[32m\u001b[32m\u001b[1m1 passed\u001b[0m\u001b[32m in 0.01s\u001b[0m\u001b[0m\n"
     ]
    }
   ],
   "source": [
    "!pytest -q test_sample.py::test_is_actually_even"
   ]
  },
  {
   "cell_type": "markdown",
   "id": "2e0f6691",
   "metadata": {},
   "source": [
    "## Assertions about expected exceptions\n",
    "\n",
    "We use `pytest.raises()` to detect exceptions that we expect to throw:"
   ]
  },
  {
   "cell_type": "code",
   "execution_count": null,
   "id": "504e118f",
   "metadata": {},
   "outputs": [],
   "source": [
    "import pytest\n",
    "\n",
    "def test_zero_division():\n",
    "    with pytest.raises(ZeroDivisionError):\n",
    "        1 / 0"
   ]
  },
  {
   "cell_type": "code",
   "execution_count": 9,
   "id": "eb720d6e",
   "metadata": {},
   "outputs": [
    {
     "name": "stdout",
     "output_type": "stream",
     "text": [
      "\u001b[32m.\u001b[0m\u001b[32m                                                                        [100%]\u001b[0m\n",
      "\u001b[32m\u001b[32m\u001b[1m1 passed\u001b[0m\u001b[32m in 0.01s\u001b[0m\u001b[0m\n"
     ]
    }
   ],
   "source": [
    "!pytest -q test_sample.py::test_zero_division"
   ]
  },
  {
   "cell_type": "markdown",
   "id": "6b69f06b",
   "metadata": {},
   "source": [
    "You can also access actual exception info:"
   ]
  },
  {
   "cell_type": "code",
   "execution_count": null,
   "id": "58f44600",
   "metadata": {},
   "outputs": [],
   "source": [
    "def test_recursion_depth():\n",
    "    with pytest.raises(RuntimeError) as excinfo:\n",
    "\n",
    "        def f():\n",
    "            f()\n",
    "\n",
    "        f()\n",
    "    assert \"maximum recursion\" in str(excinfo.value)"
   ]
  },
  {
   "cell_type": "code",
   "execution_count": 10,
   "id": "bcdeab80",
   "metadata": {},
   "outputs": [
    {
     "name": "stdout",
     "output_type": "stream",
     "text": [
      "\u001b[32m.\u001b[0m\u001b[32m                                                                        [100%]\u001b[0m\n",
      "\u001b[32m\u001b[32m\u001b[1m1 passed\u001b[0m\u001b[32m in 0.01s\u001b[0m\u001b[0m\n"
     ]
    }
   ],
   "source": [
    "!pytest -q test_sample.py::test_recursion_depth"
   ]
  },
  {
   "cell_type": "markdown",
   "id": "8f5d7d04",
   "metadata": {},
   "source": [
    "## Assertions about expected exception groups\n",
    "\n",
    "When expecting a `BaseExceptionGroup` or `ExceptionGroup` you can use `pytest.RaisesGroup`:"
   ]
  },
  {
   "cell_type": "code",
   "execution_count": null,
   "id": "ea7366b0",
   "metadata": {},
   "outputs": [],
   "source": [
    "def test_exception_in_group():\n",
    "    with pytest.RaisesGroup(ValueError):\n",
    "        raise ExceptionGroup(\"group msg\", [ValueError(\"value msg\")])\n",
    "    with pytest.RaisesGroup(ValueError, TypeError):\n",
    "        raise ExceptionGroup(\"msg\", [ValueError(\"foo\"), TypeError(\"bar\")])"
   ]
  }
 ],
 "metadata": {
  "kernelspec": {
   "display_name": "pytest_env",
   "language": "python",
   "name": "python3"
  },
  "language_info": {
   "codemirror_mode": {
    "name": "ipython",
    "version": 3
   },
   "file_extension": ".py",
   "mimetype": "text/x-python",
   "name": "python",
   "nbconvert_exporter": "python",
   "pygments_lexer": "ipython3",
   "version": "3.13.3"
  }
 },
 "nbformat": 4,
 "nbformat_minor": 5
}
