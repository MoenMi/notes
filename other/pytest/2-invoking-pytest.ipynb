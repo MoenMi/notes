{
 "cells": [
  {
   "cell_type": "markdown",
   "id": "0c563e34",
   "metadata": {},
   "source": [
    "# 2 - Invoking pytest"
   ]
  },
  {
   "cell_type": "markdown",
   "id": "cb06e59e",
   "metadata": {},
   "source": [
    "## Specifying which tests to run\n",
    "\n",
    "To run tests in a module:\n",
    "\n",
    "```shell\n",
    "pytest test_mod.py\n",
    "```\n",
    "\n",
    "To run tests in a directory:\n",
    "\n",
    "```shell\n",
    "pytest testing/\n",
    "```\n",
    "\n",
    "To run tests by keyword expression:\n",
    "\n",
    "```shell\n",
    "pytest -k \"MyClass and not method\"\n",
    "```\n",
    "\n",
    "The above command will run all modules that contain \"MyClass\" except those that contain \"method\".\n",
    "\n",
    "To run tests by collection arguments:\n",
    "\n",
    "```shell\n",
    "# Run a specific test in a module\n",
    "pytest tests/test_mod.py::test_func\n",
    "\n",
    "# Run all tests in a class\n",
    "pytest tests/test_mod.py::TestClass\n",
    "\n",
    "# Run a specific method in a class\n",
    "pytest tests/test_mod.py::TestClass::test_method\n",
    "\n",
    "# Specify parameters for a test\n",
    "pytest tests/test_mod.py::test_func[x1,y2]\n",
    "```\n",
    "\n",
    "To run tests by marker expressions:\n",
    "\n",
    "```shell\n",
    "# Run tests with @pytest.mark.slow decorator\n",
    "pytest -m slow\n",
    "\n",
    "# Run tests with @pytest.mark.slow(phase=1) decorator\n",
    "pytest -m \"slow(phase=1)\"\n",
    "```"
   ]
  },
  {
   "cell_type": "markdown",
   "id": "c9de62e2",
   "metadata": {},
   "source": [
    "## Getting help on version, option names, environment variables\n",
    "\n",
    "```shell\n",
    "pytest --version   # shows where pytest was imported from\n",
    "pytest --fixtures  # show available builtin function arguments\n",
    "pytest -h | --help # show help on command line and config file options\n",
    "```"
   ]
  },
  {
   "cell_type": "markdown",
   "id": "24a81a45",
   "metadata": {},
   "source": [
    "## Calling pytest from Python code\n",
    "\n",
    "You can invoke pytest from Python code directly:"
   ]
  },
  {
   "cell_type": "code",
   "execution_count": null,
   "id": "a353d095",
   "metadata": {},
   "outputs": [],
   "source": [
    "retcode = pytest.main([\"-x\", \"mytestdir\"])"
   ]
  }
 ],
 "metadata": {
  "kernelspec": {
   "display_name": "pytest_env",
   "language": "python",
   "name": "python3"
  },
  "language_info": {
   "name": "python",
   "version": "3.13.3"
  }
 },
 "nbformat": 4,
 "nbformat_minor": 5
}
